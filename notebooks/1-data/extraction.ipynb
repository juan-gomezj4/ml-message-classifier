{
 "cells": [
  {
   "cell_type": "markdown",
   "metadata": {},
   "source": [
    "## Title\n",
    "Data Raw Extraction \n",
    "\n",
    "### By:\n",
    "Juan Gómez\n",
    "\n",
    "### Date:\n",
    "2025-05-16\n",
    "\n",
    "### Description:\n",
    "\n",
    "This notebook loads and joins data from the Yelp dataset to build the training structure.\n",
    "It extracts data for user, reviews and business metadata to create a clean dataset for message classification."
   ]
  },
  {
   "cell_type": "markdown",
   "metadata": {},
   "source": [
    "# Data load"
   ]
  },
  {
   "cell_type": "markdown",
   "metadata": {
    "id": "qebHeCuIv-N5"
   },
   "source": [
    "## 1. Imports and configuration\n"
   ]
  },
  {
   "cell_type": "code",
   "execution_count": 1,
   "metadata": {},
   "outputs": [],
   "source": [
    "from pathlib import Path\n",
    "\n",
    "BASE_DIR = Path.cwd().resolve().parents[1]"
   ]
  },
  {
   "cell_type": "code",
   "execution_count": 2,
   "metadata": {},
   "outputs": [],
   "source": [
    "import pandas as pd"
   ]
  },
  {
   "cell_type": "code",
   "execution_count": 3,
   "metadata": {},
   "outputs": [],
   "source": [
    "pd.set_option(\"display.max_columns\", None)"
   ]
  },
  {
   "cell_type": "markdown",
   "metadata": {},
   "source": [
    "## 2. Load dataset"
   ]
  },
  {
   "cell_type": "markdown",
   "metadata": {},
   "source": [
    "### Business"
   ]
  },
  {
   "cell_type": "code",
   "execution_count": 4,
   "metadata": {},
   "outputs": [],
   "source": [
    "df_business = pd.read_json(BASE_DIR / \"data/01_raw/yelp_academic_dataset_business.json\", lines=True)"
   ]
  },
  {
   "cell_type": "markdown",
   "metadata": {},
   "source": [
    "### User"
   ]
  },
  {
   "cell_type": "code",
   "execution_count": 5,
   "metadata": {},
   "outputs": [],
   "source": [
    "df_user = pd.concat(\n",
    "    [\n",
    "        chunk[chunk[\"review_count\"] > 0]\n",
    "        for chunk in pd.read_json(\n",
    "            BASE_DIR / \"data/01_raw/yelp_academic_dataset_user.json\",\n",
    "            lines=True,\n",
    "            chunksize=100000\n",
    "        )\n",
    "    ],\n",
    "    ignore_index=True\n",
    ")"
   ]
  },
  {
   "cell_type": "markdown",
   "metadata": {},
   "source": [
    "### Review"
   ]
  },
  {
   "cell_type": "code",
   "execution_count": 6,
   "metadata": {},
   "outputs": [],
   "source": [
    "df_review = pd.concat(\n",
    "    [\n",
    "        chunk[(chunk[\"text\"].str.strip() != \"\") & (chunk[\"useful\"] > 0)]\n",
    "        for chunk in pd.read_json(\n",
    "            BASE_DIR / \"data/01_raw/yelp_academic_dataset_review.json\",\n",
    "            lines=True,\n",
    "            chunksize=100000\n",
    "        )\n",
    "    ],\n",
    "    ignore_index=True\n",
    ")"
   ]
  },
  {
   "cell_type": "code",
   "execution_count": 7,
   "metadata": {},
   "outputs": [],
   "source": [
    "df_review2 = df_review.sort_values(\"date\", ascending=False).head(1500000)"
   ]
  },
  {
   "cell_type": "markdown",
   "metadata": {},
   "source": [
    "## 3. Enrich reviews with user data"
   ]
  },
  {
   "cell_type": "code",
   "execution_count": 21,
   "metadata": {},
   "outputs": [],
   "source": [
    "df_review3 = df_review2.merge(\n",
    "    df_user,\n",
    "    on=[\"user_id\"],\n",
    "    how=\"left\",\n",
    "    suffixes=(\"\", \"_user\")\n",
    ")"
   ]
  },
  {
   "cell_type": "markdown",
   "metadata": {},
   "source": [
    "## 4. Enrich reviews with business data"
   ]
  },
  {
   "cell_type": "code",
   "execution_count": 31,
   "metadata": {},
   "outputs": [],
   "source": [
    "df_review4 = df_review3.merge(\n",
    "    df_business,\n",
    "    on=[\"business_id\"],\n",
    "    how=\"left\",\n",
    "    suffixes=(\"\", \"_user\")\n",
    ")"
   ]
  },
  {
   "cell_type": "markdown",
   "metadata": {},
   "source": [
    "## 5. Save reviews data raw"
   ]
  },
  {
   "cell_type": "code",
   "execution_count": 42,
   "metadata": {},
   "outputs": [],
   "source": [
    "df_review4.to_parquet(\n",
    "    BASE_DIR / \"data/01_raw/data_message_classifier_raw.parquet\",\n",
    "    index=False\n",
    ")"
   ]
  }
 ],
 "metadata": {
  "colab": {
   "provenance": [],
   "toc_visible": true
  },
  "kernelspec": {
   "display_name": "Python 3.11 (ml-message-classifier)",
   "language": "python",
   "name": "ml-message-classifier"
  },
  "language_info": {
   "codemirror_mode": {
    "name": "ipython",
    "version": 3
   },
   "file_extension": ".py",
   "mimetype": "text/x-python",
   "name": "python",
   "nbconvert_exporter": "python",
   "pygments_lexer": "ipython3",
   "version": "3.11.12"
  }
 },
 "nbformat": 4,
 "nbformat_minor": 4
}
