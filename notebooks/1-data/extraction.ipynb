{
 "cells": [
  {
   "cell_type": "markdown",
   "metadata": {},
   "source": [
    "## Title\n",
    "Data Raw Extraction \n",
    "\n",
    "### By:\n",
    "Juan Gómez\n",
    "\n",
    "### Date:\n",
    "2025-05-16\n",
    "\n",
    "### Description:\n",
    "\n",
    "This notebook loads and joins data from the Yelp dataset to build the training structure.\n",
    "It extracts data for user, reviews and business metadata to create a clean dataset for message classification."
   ]
  },
  {
   "cell_type": "markdown",
   "metadata": {},
   "source": [
    "# Data load"
   ]
  },
  {
   "cell_type": "markdown",
   "metadata": {
    "id": "qebHeCuIv-N5"
   },
   "source": [
    "## Imports and configuration"
   ]
  },
  {
   "cell_type": "code",
   "execution_count": 1,
   "metadata": {},
   "outputs": [],
   "source": [
    "from pathlib import Path\n",
    "\n",
    "BASE_DIR = Path.cwd().resolve().parents[1]"
   ]
  },
  {
   "cell_type": "code",
   "execution_count": 2,
   "metadata": {},
   "outputs": [],
   "source": [
    "import pandas as pd"
   ]
  },
  {
   "cell_type": "code",
   "execution_count": 3,
   "metadata": {},
   "outputs": [],
   "source": [
    "pd.set_option(\"display.max_columns\", None)"
   ]
  },
  {
   "cell_type": "markdown",
   "metadata": {},
   "source": [
    "## Load dataset"
   ]
  },
  {
   "cell_type": "markdown",
   "metadata": {},
   "source": [
    "### Business"
   ]
  },
  {
   "cell_type": "code",
   "execution_count": 4,
   "metadata": {},
   "outputs": [],
   "source": [
    "# df_business = pd.read_json(BASE_DIR / \"data/01_raw/yelp_academic_dataset_business.json\", lines=True)"
   ]
  },
  {
   "cell_type": "markdown",
   "metadata": {},
   "source": [
    "### User"
   ]
  },
  {
   "cell_type": "code",
   "execution_count": 5,
   "metadata": {},
   "outputs": [],
   "source": [
    "# df_user = pd.concat(\n",
    "#     [\n",
    "#         chunk[chunk[\"review_count\"] > 0]\n",
    "#         for chunk in pd.read_json(\n",
    "#             BASE_DIR / \"data/01_raw/yelp_academic_dataset_user.json\",\n",
    "#             lines=True,\n",
    "#             chunksize=100000,\n",
    "#         )\n",
    "#     ],\n",
    "#     ignore_index=True,\n",
    "# )"
   ]
  },
  {
   "cell_type": "markdown",
   "metadata": {},
   "source": [
    "### Review"
   ]
  },
  {
   "cell_type": "code",
   "execution_count": 6,
   "metadata": {},
   "outputs": [],
   "source": [
    "# df_review = pd.concat(\n",
    "#     [\n",
    "#         chunk[(chunk[\"text\"].str.strip() != \"\") & (chunk[\"useful\"] > 0)]\n",
    "#         for chunk in pd.read_json(\n",
    "#             BASE_DIR / \"data/01_raw/yelp_academic_dataset_review.json\",\n",
    "#             lines=True,\n",
    "#             chunksize=100000,\n",
    "#         )\n",
    "#     ],\n",
    "#     ignore_index=True,\n",
    "# )"
   ]
  },
  {
   "cell_type": "code",
   "execution_count": 7,
   "metadata": {},
   "outputs": [],
   "source": [
    "# df_review2 = df_review.sort_values(\"date\", ascending=False).head(1000100)"
   ]
  },
  {
   "cell_type": "markdown",
   "metadata": {},
   "source": [
    "## Enrich reviews with user data"
   ]
  },
  {
   "cell_type": "code",
   "execution_count": 8,
   "metadata": {},
   "outputs": [],
   "source": [
    "# df_review3 = df_review2.merge(df_user, on=[\"user_id\"], how=\"left\", suffixes=(\"\", \"_user\"))"
   ]
  },
  {
   "cell_type": "markdown",
   "metadata": {},
   "source": [
    "## Enrich reviews with business data"
   ]
  },
  {
   "cell_type": "code",
   "execution_count": 9,
   "metadata": {},
   "outputs": [],
   "source": [
    "# df_review4 = df_review3.merge(df_business, on=[\"business_id\"], how=\"left\", suffixes=(\"\", \"_user\"))"
   ]
  },
  {
   "cell_type": "markdown",
   "metadata": {},
   "source": [
    "## Save reviews data raw"
   ]
  },
  {
   "cell_type": "code",
   "execution_count": 10,
   "metadata": {},
   "outputs": [],
   "source": [
    "# df_review4.to_parquet(BASE_DIR / \"data/02_intermediate/data_message_classifier_interm.parquet\", index=False)"
   ]
  },
  {
   "cell_type": "markdown",
   "metadata": {},
   "source": [
    "# Test Data Extract"
   ]
  },
  {
   "cell_type": "code",
   "execution_count": 11,
   "metadata": {},
   "outputs": [
    {
     "name": "stdout",
     "output_type": "stream",
     "text": [
      "/Users/agomezj/Desktop/Juan-G/ml-message-classifier\n"
     ]
    }
   ],
   "source": [
    "import os\n",
    "\n",
    "os.chdir(\"/Users/agomezj/Desktop/Juan-G/ml-message-classifier/\")\n",
    "print(os.getcwd())"
   ]
  },
  {
   "cell_type": "code",
   "execution_count": 12,
   "metadata": {},
   "outputs": [],
   "source": [
    "from src.pipelines.feature_pipeline.feature_pipeline import feature_pipeline"
   ]
  },
  {
   "cell_type": "code",
   "execution_count": 13,
   "metadata": {},
   "outputs": [
    {
     "name": "stderr",
     "output_type": "stream",
     "text": [
      "\u001b[32m2025-05-20 11:06:47.417\u001b[0m | \u001b[1mINFO    \u001b[0m | \u001b[36msrc.data.extract\u001b[0m:\u001b[36m_load_user\u001b[0m:\u001b[36m92\u001b[0m - \u001b[1mLoading user data from /Users/agomezj/Desktop/Juan-G/ml-message-classifier/data/01_raw/yelp_academic_dataset_user.json\u001b[0m\n",
      "\u001b[32m2025-05-20 11:07:09.743\u001b[0m | \u001b[1mINFO    \u001b[0m | \u001b[36msrc.data.extract\u001b[0m:\u001b[36m_load_review\u001b[0m:\u001b[36m111\u001b[0m - \u001b[1mLoading review data from /Users/agomezj/Desktop/Juan-G/ml-message-classifier/data/01_raw/yelp_academic_dataset_review.json\u001b[0m\n",
      "\u001b[32m2025-05-20 11:07:52.765\u001b[0m | \u001b[1mINFO    \u001b[0m | \u001b[36msrc.data.extract\u001b[0m:\u001b[36m_load_business\u001b[0m:\u001b[36m130\u001b[0m - \u001b[1mLoading business data from /Users/agomezj/Desktop/Juan-G/ml-message-classifier/data/01_raw/yelp_academic_dataset_business.json\u001b[0m\n",
      "\u001b[32m2025-05-20 11:07:58.721\u001b[0m | \u001b[1mINFO    \u001b[0m | \u001b[36msrc.data.extract\u001b[0m:\u001b[36m_merge_all\u001b[0m:\u001b[36m151\u001b[0m - \u001b[1mMerging review, user, and business data\u001b[0m\n",
      "\u001b[32m2025-05-20 11:08:55.716\u001b[0m | \u001b[1mINFO    \u001b[0m | \u001b[36msrc.data.extract\u001b[0m:\u001b[36m_save_if_needed\u001b[0m:\u001b[36m81\u001b[0m - \u001b[1mSaving merged data to /Users/agomezj/Desktop/Juan-G/ml-message-classifier/data/01_raw/review_user_business_extract.parquet\u001b[0m\n"
     ]
    }
   ],
   "source": [
    "extract = feature_pipeline.named_steps[\"extract\"].fit_transform(None)"
   ]
  }
 ],
 "metadata": {
  "colab": {
   "provenance": [],
   "toc_visible": true
  },
  "kernelspec": {
   "display_name": "Python 3.11 (ml-message-classifier)",
   "language": "python",
   "name": "ml-message-classifier"
  },
  "language_info": {
   "codemirror_mode": {
    "name": "ipython",
    "version": 3
   },
   "file_extension": ".py",
   "mimetype": "text/x-python",
   "name": "python",
   "nbconvert_exporter": "python",
   "pygments_lexer": "ipython3",
   "version": "3.11.12"
  }
 },
 "nbformat": 4,
 "nbformat_minor": 4
}
