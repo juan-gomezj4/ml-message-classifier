{
 "cells": [
  {
   "cell_type": "markdown",
   "metadata": {},
   "source": [
    "## Title\n",
    "Data Raw Exploration\n",
    "\n",
    "### By:\n",
    "Juan Gómez\n",
    "\n",
    "### Date:\n",
    "2024-05-16\n",
    "\n",
    "### Description:\n",
    "\n",
    "This notebook explores the raw Yelp Open Dataset. It shows basic statistics, checks missing values, and looks at trends in popularity, genres, and ratings. The goal is to understand the data before building a recommendation system.\n"
   ]
  },
  {
   "cell_type": "markdown",
   "metadata": {
    "pycharm": {
     "name": "#%% md\n"
    }
   },
   "source": [
    "## Import  libraries"
   ]
  },
  {
   "cell_type": "code",
   "execution_count": 1,
   "metadata": {
    "collapsed": false,
    "jupyter": {
     "outputs_hidden": false
    },
    "pycharm": {
     "name": "#%%\n"
    }
   },
   "outputs": [],
   "source": [
    "from pathlib import Path\n",
    "\n",
    "import pandas as pd\n",
    "import pyarrow as pa"
   ]
  },
  {
   "cell_type": "markdown",
   "metadata": {
    "pycharm": {
     "name": "#%% md\n"
    }
   },
   "source": [
    "## Load data"
   ]
  },
  {
   "cell_type": "code",
   "execution_count": 2,
   "metadata": {},
   "outputs": [],
   "source": [
    "pd.set_option(\"display.max_columns\", None)\n",
    "BASE_DIR = Path.cwd().resolve().parents[1]"
   ]
  },
  {
   "cell_type": "code",
   "execution_count": 3,
   "metadata": {
    "collapsed": false,
    "jupyter": {
     "outputs_hidden": false
    },
    "pycharm": {
     "name": "#%%\n"
    }
   },
   "outputs": [],
   "source": [
    "df = pd.read_parquet(BASE_DIR / \"data/01_raw/data_message_classifier_raw.parquet\")"
   ]
  },
  {
   "cell_type": "markdown",
   "metadata": {},
   "source": [
    "## Exploration"
   ]
  },
  {
   "cell_type": "code",
   "execution_count": 4,
   "metadata": {
    "pycharm": {
     "name": "#%%\n"
    },
    "scrolled": true
   },
   "outputs": [
    {
     "name": "stdout",
     "output_type": "stream",
     "text": [
      "<class 'pandas.core.frame.DataFrame'>\n",
      "RangeIndex: 1500000 entries, 0 to 1499999\n",
      "Data columns (total 43 columns):\n",
      " #   Column              Non-Null Count    Dtype         \n",
      "---  ------              --------------    -----         \n",
      " 0   review_id           1500000 non-null  object        \n",
      " 1   user_id             1500000 non-null  object        \n",
      " 2   business_id         1500000 non-null  object        \n",
      " 3   stars               1500000 non-null  int64         \n",
      " 4   useful              1500000 non-null  int64         \n",
      " 5   funny               1500000 non-null  int64         \n",
      " 6   cool                1500000 non-null  int64         \n",
      " 7   text                1500000 non-null  object        \n",
      " 8   date                1500000 non-null  datetime64[ns]\n",
      " 9   name                1499992 non-null  object        \n",
      " 10  review_count        1499992 non-null  float64       \n",
      " 11  yelping_since       1499992 non-null  object        \n",
      " 12  useful_user         1499992 non-null  float64       \n",
      " 13  funny_user          1499992 non-null  float64       \n",
      " 14  cool_user           1499992 non-null  float64       \n",
      " 15  elite               1499992 non-null  object        \n",
      " 16  friends             1499992 non-null  object        \n",
      " 17  fans                1499992 non-null  float64       \n",
      " 18  average_stars       1499992 non-null  float64       \n",
      " 19  compliment_hot      1499992 non-null  float64       \n",
      " 20  compliment_more     1499992 non-null  float64       \n",
      " 21  compliment_profile  1499992 non-null  float64       \n",
      " 22  compliment_cute     1499992 non-null  float64       \n",
      " 23  compliment_list     1499992 non-null  float64       \n",
      " 24  compliment_note     1499992 non-null  float64       \n",
      " 25  compliment_plain    1499992 non-null  float64       \n",
      " 26  compliment_cool     1499992 non-null  float64       \n",
      " 27  compliment_funny    1499992 non-null  float64       \n",
      " 28  compliment_writer   1499992 non-null  float64       \n",
      " 29  compliment_photos   1499992 non-null  float64       \n",
      " 30  name_user           1500000 non-null  object        \n",
      " 31  address             1500000 non-null  object        \n",
      " 32  city                1500000 non-null  object        \n",
      " 33  state               1500000 non-null  object        \n",
      " 34  postal_code         1500000 non-null  object        \n",
      " 35  latitude            1500000 non-null  float64       \n",
      " 36  longitude           1500000 non-null  float64       \n",
      " 37  stars_user          1500000 non-null  float64       \n",
      " 38  review_count_user   1500000 non-null  int64         \n",
      " 39  is_open             1500000 non-null  int64         \n",
      " 40  attributes          1447264 non-null  object        \n",
      " 41  categories          1499791 non-null  object        \n",
      " 42  hours               1423302 non-null  object        \n",
      "dtypes: datetime64[ns](1), float64(20), int64(6), object(16)\n",
      "memory usage: 492.1+ MB\n"
     ]
    }
   ],
   "source": [
    "df.info()"
   ]
  },
  {
   "cell_type": "code",
   "execution_count": 5,
   "metadata": {
    "scrolled": true
   },
   "outputs": [
    {
     "data": {
      "text/html": [
       "<div>\n",
       "<style scoped>\n",
       "    .dataframe tbody tr th:only-of-type {\n",
       "        vertical-align: middle;\n",
       "    }\n",
       "\n",
       "    .dataframe tbody tr th {\n",
       "        vertical-align: top;\n",
       "    }\n",
       "\n",
       "    .dataframe thead th {\n",
       "        text-align: right;\n",
       "    }\n",
       "</style>\n",
       "<table border=\"1\" class=\"dataframe\">\n",
       "  <thead>\n",
       "    <tr style=\"text-align: right;\">\n",
       "      <th></th>\n",
       "      <th>review_id</th>\n",
       "      <th>user_id</th>\n",
       "      <th>business_id</th>\n",
       "      <th>stars</th>\n",
       "      <th>useful</th>\n",
       "      <th>funny</th>\n",
       "      <th>cool</th>\n",
       "      <th>text</th>\n",
       "      <th>date</th>\n",
       "      <th>name</th>\n",
       "      <th>review_count</th>\n",
       "      <th>yelping_since</th>\n",
       "      <th>useful_user</th>\n",
       "      <th>funny_user</th>\n",
       "      <th>cool_user</th>\n",
       "      <th>elite</th>\n",
       "      <th>friends</th>\n",
       "      <th>fans</th>\n",
       "      <th>average_stars</th>\n",
       "      <th>compliment_hot</th>\n",
       "      <th>compliment_more</th>\n",
       "      <th>compliment_profile</th>\n",
       "      <th>compliment_cute</th>\n",
       "      <th>compliment_list</th>\n",
       "      <th>compliment_note</th>\n",
       "      <th>compliment_plain</th>\n",
       "      <th>compliment_cool</th>\n",
       "      <th>compliment_funny</th>\n",
       "      <th>compliment_writer</th>\n",
       "      <th>compliment_photos</th>\n",
       "      <th>name_user</th>\n",
       "      <th>address</th>\n",
       "      <th>city</th>\n",
       "      <th>state</th>\n",
       "      <th>postal_code</th>\n",
       "      <th>latitude</th>\n",
       "      <th>longitude</th>\n",
       "      <th>stars_user</th>\n",
       "      <th>review_count_user</th>\n",
       "      <th>is_open</th>\n",
       "      <th>attributes</th>\n",
       "      <th>categories</th>\n",
       "      <th>hours</th>\n",
       "    </tr>\n",
       "  </thead>\n",
       "  <tbody>\n",
       "    <tr>\n",
       "      <th>366812</th>\n",
       "      <td>TSBzGFRb8b1AzvsKXDpbrw</td>\n",
       "      <td>IhOCb1dkQqEfHwq0rqO49A</td>\n",
       "      <td>iT1SHRDcql3SGws9XQRscQ</td>\n",
       "      <td>5</td>\n",
       "      <td>2</td>\n",
       "      <td>0</td>\n",
       "      <td>1</td>\n",
       "      <td>Awesome food, burgers, shakes, fries, onion ri...</td>\n",
       "      <td>2020-05-09 05:58:12</td>\n",
       "      <td>Kimberly</td>\n",
       "      <td>12.0</td>\n",
       "      <td>2010-09-21 23:34:25</td>\n",
       "      <td>27.0</td>\n",
       "      <td>1.0</td>\n",
       "      <td>7.0</td>\n",
       "      <td></td>\n",
       "      <td>m3iBx8_CwNUaT4W9wLYgcQ</td>\n",
       "      <td>1.0</td>\n",
       "      <td>4.07</td>\n",
       "      <td>0.0</td>\n",
       "      <td>0.0</td>\n",
       "      <td>0.0</td>\n",
       "      <td>0.0</td>\n",
       "      <td>0.0</td>\n",
       "      <td>0.0</td>\n",
       "      <td>0.0</td>\n",
       "      <td>0.0</td>\n",
       "      <td>0.0</td>\n",
       "      <td>0.0</td>\n",
       "      <td>0.0</td>\n",
       "      <td>m2o Burgers &amp; Salads</td>\n",
       "      <td>50 East Wynnewood Rd</td>\n",
       "      <td>Wynnewood</td>\n",
       "      <td>PA</td>\n",
       "      <td>19096</td>\n",
       "      <td>40.001728</td>\n",
       "      <td>-75.274230</td>\n",
       "      <td>4.0</td>\n",
       "      <td>52</td>\n",
       "      <td>1</td>\n",
       "      <td>{'AcceptsInsurance': None, 'AgesAllowed': None...</td>\n",
       "      <td>Food, American (Traditional), Juice Bars &amp; Smo...</td>\n",
       "      <td>{'Friday': '10:30-21:0', 'Monday': '10:30-20:3...</td>\n",
       "    </tr>\n",
       "    <tr>\n",
       "      <th>347106</th>\n",
       "      <td>m6UrPFbJq4sRd1pfv-dLlA</td>\n",
       "      <td>ZtpYa8lboH-dhqgTTFepjQ</td>\n",
       "      <td>K3bPWU8daszLmjFs8UU1Gw</td>\n",
       "      <td>5</td>\n",
       "      <td>2</td>\n",
       "      <td>0</td>\n",
       "      <td>1</td>\n",
       "      <td>I can't say enough good things about Dr Bachma...</td>\n",
       "      <td>2020-06-18 01:15:46</td>\n",
       "      <td>Lisa</td>\n",
       "      <td>10.0</td>\n",
       "      <td>2020-06-18 01:15:43</td>\n",
       "      <td>5.0</td>\n",
       "      <td>1.0</td>\n",
       "      <td>3.0</td>\n",
       "      <td></td>\n",
       "      <td>None</td>\n",
       "      <td>0.0</td>\n",
       "      <td>5.00</td>\n",
       "      <td>0.0</td>\n",
       "      <td>0.0</td>\n",
       "      <td>0.0</td>\n",
       "      <td>0.0</td>\n",
       "      <td>0.0</td>\n",
       "      <td>1.0</td>\n",
       "      <td>0.0</td>\n",
       "      <td>0.0</td>\n",
       "      <td>0.0</td>\n",
       "      <td>0.0</td>\n",
       "      <td>0.0</td>\n",
       "      <td>Southern Arizona Veterinary Specialty &amp; Emerge...</td>\n",
       "      <td>7474 E Broadway Blvd</td>\n",
       "      <td>Tucson</td>\n",
       "      <td>AZ</td>\n",
       "      <td>85710</td>\n",
       "      <td>32.220468</td>\n",
       "      <td>-110.832847</td>\n",
       "      <td>3.0</td>\n",
       "      <td>93</td>\n",
       "      <td>1</td>\n",
       "      <td>None</td>\n",
       "      <td>Pets, Veterinarians, Pet Services</td>\n",
       "      <td>{'Friday': '0:0-0:0', 'Monday': '0:0-0:0', 'Sa...</td>\n",
       "    </tr>\n",
       "    <tr>\n",
       "      <th>2754</th>\n",
       "      <td>5qGfK5xJw_avEIm6b8rBvg</td>\n",
       "      <td>qX7x9pHODJgxO7nVaJGmHg</td>\n",
       "      <td>4S_yN5o0EvXvV6GNvesTKw</td>\n",
       "      <td>1</td>\n",
       "      <td>2</td>\n",
       "      <td>0</td>\n",
       "      <td>0</td>\n",
       "      <td>I have been patronizing SMK for several years ...</td>\n",
       "      <td>2022-01-12 17:11:29</td>\n",
       "      <td>Karen</td>\n",
       "      <td>54.0</td>\n",
       "      <td>2012-03-31 20:24:24</td>\n",
       "      <td>97.0</td>\n",
       "      <td>10.0</td>\n",
       "      <td>11.0</td>\n",
       "      <td></td>\n",
       "      <td>z13nBemqirFGm6RkAC8E8Q, 4WgDsHXPSZ7hgapcGmXyvQ...</td>\n",
       "      <td>3.0</td>\n",
       "      <td>2.81</td>\n",
       "      <td>0.0</td>\n",
       "      <td>0.0</td>\n",
       "      <td>0.0</td>\n",
       "      <td>0.0</td>\n",
       "      <td>0.0</td>\n",
       "      <td>3.0</td>\n",
       "      <td>2.0</td>\n",
       "      <td>0.0</td>\n",
       "      <td>0.0</td>\n",
       "      <td>0.0</td>\n",
       "      <td>1.0</td>\n",
       "      <td>Sister Muhammad's Kitchen</td>\n",
       "      <td>4441 Germantown Ave</td>\n",
       "      <td>Philadelphia</td>\n",
       "      <td>PA</td>\n",
       "      <td>19140</td>\n",
       "      <td>40.022826</td>\n",
       "      <td>-75.159091</td>\n",
       "      <td>4.0</td>\n",
       "      <td>126</td>\n",
       "      <td>1</td>\n",
       "      <td>{'AcceptsInsurance': None, 'AgesAllowed': None...</td>\n",
       "      <td>Restaurants, Halal, American (Traditional), Ba...</td>\n",
       "      <td>{'Friday': '11:0-22:0', 'Monday': '11:0-20:0',...</td>\n",
       "    </tr>\n",
       "    <tr>\n",
       "      <th>1496427</th>\n",
       "      <td>1TIxrcpxt4fVEgB9H2LyFw</td>\n",
       "      <td>vimEpZnvi38O0Vz5uaNj4g</td>\n",
       "      <td>Tmrk0JnFMKYAn-JIh6vavg</td>\n",
       "      <td>4</td>\n",
       "      <td>2</td>\n",
       "      <td>1</td>\n",
       "      <td>1</td>\n",
       "      <td>I really loved this little gift shop!  They ha...</td>\n",
       "      <td>2017-01-17 19:41:56</td>\n",
       "      <td>Christy</td>\n",
       "      <td>565.0</td>\n",
       "      <td>2011-07-25 15:05:55</td>\n",
       "      <td>1607.0</td>\n",
       "      <td>554.0</td>\n",
       "      <td>862.0</td>\n",
       "      <td>2011,2012,2013,2014,2015,2016</td>\n",
       "      <td>mmSvRe11vbz3XTXw5bFJJg, Gi_tb58OsPo4H7dzUsMDUw...</td>\n",
       "      <td>65.0</td>\n",
       "      <td>3.98</td>\n",
       "      <td>95.0</td>\n",
       "      <td>9.0</td>\n",
       "      <td>5.0</td>\n",
       "      <td>6.0</td>\n",
       "      <td>6.0</td>\n",
       "      <td>94.0</td>\n",
       "      <td>327.0</td>\n",
       "      <td>157.0</td>\n",
       "      <td>157.0</td>\n",
       "      <td>75.0</td>\n",
       "      <td>34.0</td>\n",
       "      <td>Living Rainbow Gift Shop</td>\n",
       "      <td>12789 Sabino Canyon Pkwy</td>\n",
       "      <td>Mount Lemmon</td>\n",
       "      <td>AZ</td>\n",
       "      <td>85619</td>\n",
       "      <td>32.441630</td>\n",
       "      <td>-110.759783</td>\n",
       "      <td>4.5</td>\n",
       "      <td>13</td>\n",
       "      <td>1</td>\n",
       "      <td>{'AcceptsInsurance': None, 'AgesAllowed': None...</td>\n",
       "      <td>Flowers &amp; Gifts, Shopping</td>\n",
       "      <td>{'Friday': '10:30-16:30', 'Monday': '10:30-16:...</td>\n",
       "    </tr>\n",
       "    <tr>\n",
       "      <th>505733</th>\n",
       "      <td>j3MIKqKcJ89r1xBgYoNJeQ</td>\n",
       "      <td>KrUd3js8E5bVeMAzkiWWFQ</td>\n",
       "      <td>uKEabBQrn0gLzvTppOrKIA</td>\n",
       "      <td>5</td>\n",
       "      <td>2</td>\n",
       "      <td>0</td>\n",
       "      <td>1</td>\n",
       "      <td>I'll come back every time for a homemade torti...</td>\n",
       "      <td>2019-10-29 12:52:45</td>\n",
       "      <td>Elena</td>\n",
       "      <td>146.0</td>\n",
       "      <td>2012-06-28 21:23:07</td>\n",
       "      <td>292.0</td>\n",
       "      <td>37.0</td>\n",
       "      <td>197.0</td>\n",
       "      <td>2018,2019,20,20,2021</td>\n",
       "      <td>IAfZTyOQygEpsjq3YbRH8A, l2MKXwFHu-_gwi-jo_itSQ...</td>\n",
       "      <td>7.0</td>\n",
       "      <td>4.44</td>\n",
       "      <td>2.0</td>\n",
       "      <td>2.0</td>\n",
       "      <td>1.0</td>\n",
       "      <td>0.0</td>\n",
       "      <td>0.0</td>\n",
       "      <td>6.0</td>\n",
       "      <td>10.0</td>\n",
       "      <td>16.0</td>\n",
       "      <td>16.0</td>\n",
       "      <td>8.0</td>\n",
       "      <td>13.0</td>\n",
       "      <td>Casita Taqueria</td>\n",
       "      <td>2701 4th St</td>\n",
       "      <td>Saint Petersburg</td>\n",
       "      <td>FL</td>\n",
       "      <td>33704</td>\n",
       "      <td>27.796976</td>\n",
       "      <td>-82.638168</td>\n",
       "      <td>4.5</td>\n",
       "      <td>207</td>\n",
       "      <td>1</td>\n",
       "      <td>{'AcceptsInsurance': None, 'AgesAllowed': None...</td>\n",
       "      <td>Mexican, Restaurants</td>\n",
       "      <td>{'Friday': '11:0-22:0', 'Monday': '11:0-21:0',...</td>\n",
       "    </tr>\n",
       "  </tbody>\n",
       "</table>\n",
       "</div>"
      ],
      "text/plain": [
       "                      review_id                 user_id  \\\n",
       "366812   TSBzGFRb8b1AzvsKXDpbrw  IhOCb1dkQqEfHwq0rqO49A   \n",
       "347106   m6UrPFbJq4sRd1pfv-dLlA  ZtpYa8lboH-dhqgTTFepjQ   \n",
       "2754     5qGfK5xJw_avEIm6b8rBvg  qX7x9pHODJgxO7nVaJGmHg   \n",
       "1496427  1TIxrcpxt4fVEgB9H2LyFw  vimEpZnvi38O0Vz5uaNj4g   \n",
       "505733   j3MIKqKcJ89r1xBgYoNJeQ  KrUd3js8E5bVeMAzkiWWFQ   \n",
       "\n",
       "                    business_id  stars  useful  funny  cool  \\\n",
       "366812   iT1SHRDcql3SGws9XQRscQ      5       2      0     1   \n",
       "347106   K3bPWU8daszLmjFs8UU1Gw      5       2      0     1   \n",
       "2754     4S_yN5o0EvXvV6GNvesTKw      1       2      0     0   \n",
       "1496427  Tmrk0JnFMKYAn-JIh6vavg      4       2      1     1   \n",
       "505733   uKEabBQrn0gLzvTppOrKIA      5       2      0     1   \n",
       "\n",
       "                                                      text  \\\n",
       "366812   Awesome food, burgers, shakes, fries, onion ri...   \n",
       "347106   I can't say enough good things about Dr Bachma...   \n",
       "2754     I have been patronizing SMK for several years ...   \n",
       "1496427  I really loved this little gift shop!  They ha...   \n",
       "505733   I'll come back every time for a homemade torti...   \n",
       "\n",
       "                       date      name  review_count        yelping_since  \\\n",
       "366812  2020-05-09 05:58:12  Kimberly          12.0  2010-09-21 23:34:25   \n",
       "347106  2020-06-18 01:15:46      Lisa          10.0  2020-06-18 01:15:43   \n",
       "2754    2022-01-12 17:11:29     Karen          54.0  2012-03-31 20:24:24   \n",
       "1496427 2017-01-17 19:41:56   Christy         565.0  2011-07-25 15:05:55   \n",
       "505733  2019-10-29 12:52:45     Elena         146.0  2012-06-28 21:23:07   \n",
       "\n",
       "         useful_user  funny_user  cool_user                          elite  \\\n",
       "366812          27.0         1.0        7.0                                  \n",
       "347106           5.0         1.0        3.0                                  \n",
       "2754            97.0        10.0       11.0                                  \n",
       "1496427       1607.0       554.0      862.0  2011,2012,2013,2014,2015,2016   \n",
       "505733         292.0        37.0      197.0           2018,2019,20,20,2021   \n",
       "\n",
       "                                                   friends  fans  \\\n",
       "366812                              m3iBx8_CwNUaT4W9wLYgcQ   1.0   \n",
       "347106                                                None   0.0   \n",
       "2754     z13nBemqirFGm6RkAC8E8Q, 4WgDsHXPSZ7hgapcGmXyvQ...   3.0   \n",
       "1496427  mmSvRe11vbz3XTXw5bFJJg, Gi_tb58OsPo4H7dzUsMDUw...  65.0   \n",
       "505733   IAfZTyOQygEpsjq3YbRH8A, l2MKXwFHu-_gwi-jo_itSQ...   7.0   \n",
       "\n",
       "         average_stars  compliment_hot  compliment_more  compliment_profile  \\\n",
       "366812            4.07             0.0              0.0                 0.0   \n",
       "347106            5.00             0.0              0.0                 0.0   \n",
       "2754              2.81             0.0              0.0                 0.0   \n",
       "1496427           3.98            95.0              9.0                 5.0   \n",
       "505733            4.44             2.0              2.0                 1.0   \n",
       "\n",
       "         compliment_cute  compliment_list  compliment_note  compliment_plain  \\\n",
       "366812               0.0              0.0              0.0               0.0   \n",
       "347106               0.0              0.0              1.0               0.0   \n",
       "2754                 0.0              0.0              3.0               2.0   \n",
       "1496427              6.0              6.0             94.0             327.0   \n",
       "505733               0.0              0.0              6.0              10.0   \n",
       "\n",
       "         compliment_cool  compliment_funny  compliment_writer  \\\n",
       "366812               0.0               0.0                0.0   \n",
       "347106               0.0               0.0                0.0   \n",
       "2754                 0.0               0.0                0.0   \n",
       "1496427            157.0             157.0               75.0   \n",
       "505733              16.0              16.0                8.0   \n",
       "\n",
       "         compliment_photos                                          name_user  \\\n",
       "366812                 0.0                               m2o Burgers & Salads   \n",
       "347106                 0.0  Southern Arizona Veterinary Specialty & Emerge...   \n",
       "2754                   1.0                          Sister Muhammad's Kitchen   \n",
       "1496427               34.0                           Living Rainbow Gift Shop   \n",
       "505733                13.0                                    Casita Taqueria   \n",
       "\n",
       "                          address              city state postal_code  \\\n",
       "366812       50 East Wynnewood Rd         Wynnewood    PA       19096   \n",
       "347106       7474 E Broadway Blvd            Tucson    AZ       85710   \n",
       "2754          4441 Germantown Ave      Philadelphia    PA       19140   \n",
       "1496427  12789 Sabino Canyon Pkwy      Mount Lemmon    AZ       85619   \n",
       "505733                2701 4th St  Saint Petersburg    FL       33704   \n",
       "\n",
       "          latitude   longitude  stars_user  review_count_user  is_open  \\\n",
       "366812   40.001728  -75.274230         4.0                 52        1   \n",
       "347106   32.220468 -110.832847         3.0                 93        1   \n",
       "2754     40.022826  -75.159091         4.0                126        1   \n",
       "1496427  32.441630 -110.759783         4.5                 13        1   \n",
       "505733   27.796976  -82.638168         4.5                207        1   \n",
       "\n",
       "                                                attributes  \\\n",
       "366812   {'AcceptsInsurance': None, 'AgesAllowed': None...   \n",
       "347106                                                None   \n",
       "2754     {'AcceptsInsurance': None, 'AgesAllowed': None...   \n",
       "1496427  {'AcceptsInsurance': None, 'AgesAllowed': None...   \n",
       "505733   {'AcceptsInsurance': None, 'AgesAllowed': None...   \n",
       "\n",
       "                                                categories  \\\n",
       "366812   Food, American (Traditional), Juice Bars & Smo...   \n",
       "347106                   Pets, Veterinarians, Pet Services   \n",
       "2754     Restaurants, Halal, American (Traditional), Ba...   \n",
       "1496427                          Flowers & Gifts, Shopping   \n",
       "505733                                Mexican, Restaurants   \n",
       "\n",
       "                                                     hours  \n",
       "366812   {'Friday': '10:30-21:0', 'Monday': '10:30-20:3...  \n",
       "347106   {'Friday': '0:0-0:0', 'Monday': '0:0-0:0', 'Sa...  \n",
       "2754     {'Friday': '11:0-22:0', 'Monday': '11:0-20:0',...  \n",
       "1496427  {'Friday': '10:30-16:30', 'Monday': '10:30-16:...  \n",
       "505733   {'Friday': '11:0-22:0', 'Monday': '11:0-21:0',...  "
      ]
     },
     "execution_count": 5,
     "metadata": {},
     "output_type": "execute_result"
    }
   ],
   "source": [
    "df.sample(5)"
   ]
  },
  {
   "cell_type": "markdown",
   "metadata": {},
   "source": [
    "### Null Values"
   ]
  },
  {
   "cell_type": "code",
   "execution_count": 6,
   "metadata": {
    "scrolled": true
   },
   "outputs": [
    {
     "name": "stdout",
     "output_type": "stream",
     "text": [
      "\n",
      "Null values in Movie Data Set:\n"
     ]
    },
    {
     "data": {
      "text/plain": [
       "hours                 76698\n",
       "attributes            52736\n",
       "categories              209\n",
       "review_count              8\n",
       "compliment_photos         8\n",
       "compliment_writer         8\n",
       "compliment_funny          8\n",
       "compliment_cool           8\n",
       "compliment_plain          8\n",
       "compliment_note           8\n",
       "compliment_list           8\n",
       "compliment_cute           8\n",
       "name                      8\n",
       "compliment_more           8\n",
       "compliment_hot            8\n",
       "average_stars             8\n",
       "fans                      8\n",
       "friends                   8\n",
       "elite                     8\n",
       "cool_user                 8\n",
       "funny_user                8\n",
       "useful_user               8\n",
       "yelping_since             8\n",
       "compliment_profile        8\n",
       "dtype: int64"
      ]
     },
     "metadata": {},
     "output_type": "display_data"
    }
   ],
   "source": [
    "print(\"\\nNull values in Movie Data Set:\")\n",
    "null_counts = df.isnull().sum()\n",
    "display(null_counts[null_counts > 0].sort_values(ascending=False))"
   ]
  },
  {
   "cell_type": "code",
   "execution_count": 7,
   "metadata": {},
   "outputs": [],
   "source": [
    "df2 = df.dropna(subset=[\"useful_user\", \"funny_user\", \"cool_user\", \"fans\"])"
   ]
  },
  {
   "cell_type": "code",
   "execution_count": 8,
   "metadata": {},
   "outputs": [
    {
     "name": "stdout",
     "output_type": "stream",
     "text": [
      "\n",
      "Columns with more than 30% missing values:\n"
     ]
    },
    {
     "data": {
      "text/plain": [
       "Series([], dtype: float64)"
      ]
     },
     "metadata": {},
     "output_type": "display_data"
    }
   ],
   "source": [
    "print(\"\\nColumns with more than 30% missing values:\")\n",
    "null_threshold = 30\n",
    "null_percent = df.isnull().mean() * 100  # calculate & of null values\n",
    "display(null_percent[null_percent > null_threshold].sort_values(ascending=False))"
   ]
  },
  {
   "cell_type": "markdown",
   "metadata": {},
   "source": [
    "### Remove columns"
   ]
  },
  {
   "cell_type": "code",
   "execution_count": 9,
   "metadata": {},
   "outputs": [],
   "source": [
    "df3 = df2.drop(\n",
    "    columns=[\n",
    "        \"user_id\",\n",
    "        \"business_id\",\n",
    "        \"name\",\n",
    "        \"yelping_since\",\n",
    "        \"name_user\",\n",
    "        \"latitude\",\n",
    "        \"friends\",\n",
    "        \"postal_code\",\n",
    "        \"longitude\",\n",
    "        \"compliment_hot\",\n",
    "        \"compliment_more\",\n",
    "        \"compliment_profile\",\n",
    "        \"compliment_cute\",\n",
    "        \"compliment_list\",\n",
    "        \"compliment_note\",\n",
    "        \"compliment_plain\",\n",
    "        \"compliment_cool\",\n",
    "        \"compliment_funny\",\n",
    "        \"compliment_writer\",\n",
    "        \"compliment_photos\",\n",
    "        \"attributes\",\n",
    "        \"hours\",\n",
    "        \"review_count_user\",\n",
    "    ]\n",
    ")"
   ]
  },
  {
   "cell_type": "code",
   "execution_count": 10,
   "metadata": {},
   "outputs": [
    {
     "name": "stdout",
     "output_type": "stream",
     "text": [
      "<class 'pandas.core.frame.DataFrame'>\n",
      "Index: 1499992 entries, 0 to 1499999\n",
      "Data columns (total 20 columns):\n",
      " #   Column         Non-Null Count    Dtype         \n",
      "---  ------         --------------    -----         \n",
      " 0   review_id      1499992 non-null  object        \n",
      " 1   stars          1499992 non-null  int64         \n",
      " 2   useful         1499992 non-null  int64         \n",
      " 3   funny          1499992 non-null  int64         \n",
      " 4   cool           1499992 non-null  int64         \n",
      " 5   text           1499992 non-null  object        \n",
      " 6   date           1499992 non-null  datetime64[ns]\n",
      " 7   review_count   1499992 non-null  float64       \n",
      " 8   useful_user    1499992 non-null  float64       \n",
      " 9   funny_user     1499992 non-null  float64       \n",
      " 10  cool_user      1499992 non-null  float64       \n",
      " 11  elite          1499992 non-null  object        \n",
      " 12  fans           1499992 non-null  float64       \n",
      " 13  average_stars  1499992 non-null  float64       \n",
      " 14  address        1499992 non-null  object        \n",
      " 15  city           1499992 non-null  object        \n",
      " 16  state          1499992 non-null  object        \n",
      " 17  stars_user     1499992 non-null  float64       \n",
      " 18  is_open        1499992 non-null  int64         \n",
      " 19  categories     1499783 non-null  object        \n",
      "dtypes: datetime64[ns](1), float64(7), int64(5), object(7)\n",
      "memory usage: 240.3+ MB\n"
     ]
    }
   ],
   "source": [
    "df3.info()"
   ]
  },
  {
   "cell_type": "code",
   "execution_count": 11,
   "metadata": {},
   "outputs": [
    {
     "data": {
      "text/plain": [
       "(1499992, 20)"
      ]
     },
     "execution_count": 11,
     "metadata": {},
     "output_type": "execute_result"
    }
   ],
   "source": [
    "df3.shape"
   ]
  },
  {
   "cell_type": "markdown",
   "metadata": {},
   "source": [
    "### Categorical Variables"
   ]
  },
  {
   "cell_type": "code",
   "execution_count": 12,
   "metadata": {},
   "outputs": [],
   "source": [
    "cols_categoric = [\n",
    "    \"stars\",\n",
    "    \"elite\",\n",
    "    \"city\",\n",
    "    \"state\",\n",
    "]"
   ]
  },
  {
   "cell_type": "code",
   "execution_count": 13,
   "metadata": {},
   "outputs": [],
   "source": [
    "df3[cols_categoric] = df3[cols_categoric].astype(\"category\")"
   ]
  },
  {
   "cell_type": "markdown",
   "metadata": {},
   "source": [
    "- Ordinal: stars"
   ]
  },
  {
   "cell_type": "markdown",
   "metadata": {},
   "source": [
    "- Nominal: elite, city, state"
   ]
  },
  {
   "cell_type": "markdown",
   "metadata": {},
   "source": [
    "### Numerical Variables"
   ]
  },
  {
   "cell_type": "code",
   "execution_count": 14,
   "metadata": {},
   "outputs": [],
   "source": [
    "cols_numeric = [\n",
    "    \"useful\",\n",
    "    \"funny\",\n",
    "    \"cool\",\n",
    "    \"review_count\",\n",
    "    \"useful_user\",\n",
    "    \"funny_user\",\n",
    "    \"cool_user\",\n",
    "    \"fans\",\n",
    "    \"average_stars\",\n",
    "    \"stars_user\",\n",
    "]"
   ]
  },
  {
   "cell_type": "markdown",
   "metadata": {},
   "source": [
    "- Float"
   ]
  },
  {
   "cell_type": "code",
   "execution_count": 15,
   "metadata": {},
   "outputs": [],
   "source": [
    "cols_numeric_float = [\"stars_user\", \"average_stars\"]"
   ]
  },
  {
   "cell_type": "code",
   "execution_count": 16,
   "metadata": {},
   "outputs": [],
   "source": [
    "df3[cols_numeric_float] = df3[cols_numeric_float].astype(\"float\")"
   ]
  },
  {
   "cell_type": "markdown",
   "metadata": {},
   "source": [
    "- Int"
   ]
  },
  {
   "cell_type": "code",
   "execution_count": 17,
   "metadata": {},
   "outputs": [],
   "source": [
    "cols_numeric_int = [\n",
    "    \"useful\",\n",
    "    \"funny\",\n",
    "    \"cool\",\n",
    "    \"review_count\",\n",
    "    \"useful_user\",\n",
    "    \"funny_user\",\n",
    "    \"cool_user\",\n",
    "    \"fans\",\n",
    "]"
   ]
  },
  {
   "cell_type": "code",
   "execution_count": 18,
   "metadata": {
    "scrolled": true
   },
   "outputs": [],
   "source": [
    "df3[cols_numeric_int] = df3[cols_numeric_int].astype(\"int32\")"
   ]
  },
  {
   "cell_type": "markdown",
   "metadata": {},
   "source": [
    "### Boolean Variables"
   ]
  },
  {
   "cell_type": "code",
   "execution_count": 19,
   "metadata": {},
   "outputs": [],
   "source": [
    "cols_boolean = [\"is_open\"]"
   ]
  },
  {
   "cell_type": "code",
   "execution_count": 20,
   "metadata": {},
   "outputs": [],
   "source": [
    "df3[cols_boolean] = df3[cols_boolean].astype(\"bool\")"
   ]
  },
  {
   "cell_type": "markdown",
   "metadata": {},
   "source": [
    "### String Variables"
   ]
  },
  {
   "cell_type": "code",
   "execution_count": 21,
   "metadata": {},
   "outputs": [],
   "source": [
    "cols_string = [\"review_id\", \"text\", \"address\", \"categories\"]"
   ]
  },
  {
   "cell_type": "code",
   "execution_count": 22,
   "metadata": {},
   "outputs": [],
   "source": [
    "df3[cols_string] = df3[cols_string].astype(\"object\")"
   ]
  },
  {
   "cell_type": "markdown",
   "metadata": {},
   "source": [
    "### Date Variables"
   ]
  },
  {
   "cell_type": "code",
   "execution_count": 23,
   "metadata": {},
   "outputs": [],
   "source": [
    "col_date = [\"date\"]"
   ]
  },
  {
   "cell_type": "code",
   "execution_count": 24,
   "metadata": {},
   "outputs": [],
   "source": [
    "df3[col_date] = df3[col_date].astype(\"datetime64[ns]\")"
   ]
  },
  {
   "cell_type": "markdown",
   "metadata": {},
   "source": [
    "### Schema"
   ]
  },
  {
   "cell_type": "code",
   "execution_count": 25,
   "metadata": {},
   "outputs": [
    {
     "name": "stdout",
     "output_type": "stream",
     "text": [
      "<class 'pandas.core.frame.DataFrame'>\n",
      "Index: 1499992 entries, 0 to 1499999\n",
      "Data columns (total 20 columns):\n",
      " #   Column         Non-Null Count    Dtype         \n",
      "---  ------         --------------    -----         \n",
      " 0   review_id      1499992 non-null  object        \n",
      " 1   stars          1499992 non-null  category      \n",
      " 2   useful         1499992 non-null  int32         \n",
      " 3   funny          1499992 non-null  int32         \n",
      " 4   cool           1499992 non-null  int32         \n",
      " 5   text           1499992 non-null  object        \n",
      " 6   date           1499992 non-null  datetime64[ns]\n",
      " 7   review_count   1499992 non-null  int32         \n",
      " 8   useful_user    1499992 non-null  int32         \n",
      " 9   funny_user     1499992 non-null  int32         \n",
      " 10  cool_user      1499992 non-null  int32         \n",
      " 11  elite          1499992 non-null  category      \n",
      " 12  fans           1499992 non-null  int32         \n",
      " 13  average_stars  1499992 non-null  float64       \n",
      " 14  address        1499992 non-null  object        \n",
      " 15  city           1499992 non-null  category      \n",
      " 16  state          1499992 non-null  category      \n",
      " 17  stars_user     1499992 non-null  float64       \n",
      " 18  is_open        1499992 non-null  bool          \n",
      " 19  categories     1499783 non-null  object        \n",
      "dtypes: bool(1), category(4), datetime64[ns](1), float64(2), int32(8), object(4)\n",
      "memory usage: 147.4+ MB\n"
     ]
    }
   ],
   "source": [
    "df3.info()"
   ]
  },
  {
   "cell_type": "code",
   "execution_count": 26,
   "metadata": {},
   "outputs": [],
   "source": [
    "schema = pa.Schema.from_pandas(df3, preserve_index=False)"
   ]
  },
  {
   "cell_type": "code",
   "execution_count": 27,
   "metadata": {},
   "outputs": [
    {
     "data": {
      "text/plain": [
       "review_id: string\n",
       "stars: dictionary<values=int64, indices=int8, ordered=0>\n",
       "useful: int32\n",
       "funny: int32\n",
       "cool: int32\n",
       "text: string\n",
       "date: timestamp[ns]\n",
       "review_count: int32\n",
       "useful_user: int32\n",
       "funny_user: int32\n",
       "cool_user: int32\n",
       "elite: dictionary<values=string, indices=int16, ordered=0>\n",
       "fans: int32\n",
       "average_stars: double\n",
       "address: string\n",
       "city: dictionary<values=string, indices=int16, ordered=0>\n",
       "state: dictionary<values=string, indices=int8, ordered=0>\n",
       "stars_user: double\n",
       "is_open: bool\n",
       "categories: string\n",
       "-- schema metadata --\n",
       "pandas: '{\"index_columns\": [], \"column_indexes\": [], \"columns\": [{\"name\":' + 2501"
      ]
     },
     "execution_count": 27,
     "metadata": {},
     "output_type": "execute_result"
    }
   ],
   "source": [
    "schema"
   ]
  },
  {
   "cell_type": "markdown",
   "metadata": {},
   "source": [
    "## Basic Statistics"
   ]
  },
  {
   "cell_type": "code",
   "execution_count": 28,
   "metadata": {},
   "outputs": [
    {
     "data": {
      "text/html": [
       "<div>\n",
       "<style scoped>\n",
       "    .dataframe tbody tr th:only-of-type {\n",
       "        vertical-align: middle;\n",
       "    }\n",
       "\n",
       "    .dataframe tbody tr th {\n",
       "        vertical-align: top;\n",
       "    }\n",
       "\n",
       "    .dataframe thead th {\n",
       "        text-align: right;\n",
       "    }\n",
       "</style>\n",
       "<table border=\"1\" class=\"dataframe\">\n",
       "  <thead>\n",
       "    <tr style=\"text-align: right;\">\n",
       "      <th></th>\n",
       "      <th>review_id</th>\n",
       "      <th>stars</th>\n",
       "      <th>text</th>\n",
       "      <th>elite</th>\n",
       "      <th>address</th>\n",
       "      <th>city</th>\n",
       "      <th>state</th>\n",
       "      <th>categories</th>\n",
       "    </tr>\n",
       "  </thead>\n",
       "  <tbody>\n",
       "    <tr>\n",
       "      <th>count</th>\n",
       "      <td>1499992</td>\n",
       "      <td>1499992</td>\n",
       "      <td>1499992</td>\n",
       "      <td>1499992</td>\n",
       "      <td>1499992</td>\n",
       "      <td>1499992</td>\n",
       "      <td>1499992</td>\n",
       "      <td>1499783</td>\n",
       "    </tr>\n",
       "    <tr>\n",
       "      <th>unique</th>\n",
       "      <td>1499992</td>\n",
       "      <td>5</td>\n",
       "      <td>1498155</td>\n",
       "      <td>838</td>\n",
       "      <td>103378</td>\n",
       "      <td>1299</td>\n",
       "      <td>24</td>\n",
       "      <td>70431</td>\n",
       "    </tr>\n",
       "    <tr>\n",
       "      <th>top</th>\n",
       "      <td>LgfSWgq5DzgoFzNW6YwfSg</td>\n",
       "      <td>5</td>\n",
       "      <td>I love Mexican restaurants I could probably ea...</td>\n",
       "      <td></td>\n",
       "      <td></td>\n",
       "      <td>Philadelphia</td>\n",
       "      <td>PA</td>\n",
       "      <td>Restaurants, Mexican</td>\n",
       "    </tr>\n",
       "    <tr>\n",
       "      <th>freq</th>\n",
       "      <td>1</td>\n",
       "      <td>678237</td>\n",
       "      <td>7</td>\n",
       "      <td>933532</td>\n",
       "      <td>22169</td>\n",
       "      <td>176131</td>\n",
       "      <td>314382</td>\n",
       "      <td>10310</td>\n",
       "    </tr>\n",
       "  </tbody>\n",
       "</table>\n",
       "</div>"
      ],
      "text/plain": [
       "                     review_id    stars  \\\n",
       "count                  1499992  1499992   \n",
       "unique                 1499992        5   \n",
       "top     LgfSWgq5DzgoFzNW6YwfSg        5   \n",
       "freq                         1   678237   \n",
       "\n",
       "                                                     text    elite  address  \\\n",
       "count                                             1499992  1499992  1499992   \n",
       "unique                                            1498155      838   103378   \n",
       "top     I love Mexican restaurants I could probably ea...                     \n",
       "freq                                                    7   933532    22169   \n",
       "\n",
       "                city    state            categories  \n",
       "count        1499992  1499992               1499783  \n",
       "unique          1299       24                 70431  \n",
       "top     Philadelphia       PA  Restaurants, Mexican  \n",
       "freq          176131   314382                 10310  "
      ]
     },
     "execution_count": 28,
     "metadata": {},
     "output_type": "execute_result"
    }
   ],
   "source": [
    "df3.describe(include=[\"object\", \"category\"])"
   ]
  },
  {
   "cell_type": "code",
   "execution_count": 29,
   "metadata": {
    "scrolled": true
   },
   "outputs": [
    {
     "name": "stdout",
     "output_type": "stream",
     "text": [
      "\n",
      "🔍 Column analysis: useful\n",
      "--------------------------------------------------\n",
      "📊 Summary statistics:\n",
      "count    1.499992e+06\n",
      "mean     2.461755e+00\n",
      "std      4.205422e+00\n",
      "min      1.000000e+00\n",
      "25%      1.000000e+00\n",
      "50%      1.000000e+00\n",
      "75%      2.000000e+00\n",
      "max      6.170000e+02\n",
      "Name: useful, dtype: float64\n",
      "\n",
      "🔢 Unique values (198):\n",
      "[ 1  3  2  6  8  5  4 10  7 25 23 52 11 13 12 18  9 67 14 15]\n",
      "\n",
      "🔍 Column analysis: funny\n",
      "--------------------------------------------------\n",
      "📊 Summary statistics:\n",
      "count    1.499992e+06\n",
      "mean     5.350482e-01\n",
      "std      2.176572e+00\n",
      "min     -1.000000e+00\n",
      "25%      0.000000e+00\n",
      "50%      0.000000e+00\n",
      "75%      0.000000e+00\n",
      "max      7.920000e+02\n",
      "Name: funny, dtype: float64\n",
      "\n",
      "🔢 Unique values (122):\n",
      "[ 0  1  2  4  3  5  6  7 27  9 18  8 10 19 21 23 26 16 13 11]\n",
      "\n",
      "🔍 Column analysis: cool\n",
      "--------------------------------------------------\n",
      "📊 Summary statistics:\n",
      "count    1.499992e+06\n",
      "mean     1.094221e+00\n",
      "std      3.515650e+00\n",
      "min      0.000000e+00\n",
      "25%      0.000000e+00\n",
      "50%      0.000000e+00\n",
      "75%      1.000000e+00\n",
      "max      3.040000e+02\n",
      "Name: cool, dtype: float64\n",
      "\n",
      "🔢 Unique values (182):\n",
      "[ 1  0  2  5  7  4  3  6  9 25 19 54 11 10 12  8 18 14 15 28]\n",
      "\n",
      "🔍 Column analysis: review_count\n",
      "--------------------------------------------------\n",
      "📊 Summary statistics:\n",
      "count    1.499992e+06\n",
      "mean     1.686461e+02\n",
      "std      4.710485e+02\n",
      "min      1.000000e+00\n",
      "25%      9.000000e+00\n",
      "50%      3.900000e+01\n",
      "75%      1.530000e+02\n",
      "max      1.747300e+04\n",
      "Name: review_count, dtype: float64\n",
      "\n",
      "🔢 Unique values (1817):\n",
      "[  5  48  79  32 281 576  18 131  51  67 488  81 556 118   2  86 456  90\n",
      "  44 195]\n",
      "\n",
      "🔍 Column analysis: useful_user\n",
      "--------------------------------------------------\n",
      "📊 Summary statistics:\n",
      "count    1.499992e+06\n",
      "mean     7.567800e+02\n",
      "std      4.897320e+03\n",
      "min      0.000000e+00\n",
      "25%      7.000000e+00\n",
      "50%      3.600000e+01\n",
      "75%      2.110000e+02\n",
      "max      2.062960e+05\n",
      "Name: useful_user, dtype: float64\n",
      "\n",
      "🔢 Unique values (4489):\n",
      "[   4   95   66   33  952 1061   10  182   54 2057   51  559  537    0\n",
      "   44 2036  147   23   29  276]\n",
      "\n",
      "🔍 Column analysis: funny_user\n",
      "--------------------------------------------------\n",
      "📊 Summary statistics:\n",
      "count    1.499992e+06\n",
      "mean     3.095407e+02\n",
      "std      3.215000e+03\n",
      "min      0.000000e+00\n",
      "25%      1.000000e+00\n",
      "50%      6.000000e+00\n",
      "75%      4.200000e+01\n",
      "max      1.858230e+05\n",
      "Name: funny_user, dtype: float64\n",
      "\n",
      "🔢 Unique values (3006):\n",
      "[   0   13   19  452  102   10    3  544    5   63   96    2 1113    7\n",
      "   14  473  630   11   59 2755]\n",
      "\n",
      "🔍 Column analysis: cool_user\n",
      "--------------------------------------------------\n",
      "📊 Summary statistics:\n",
      "count    1.499992e+06\n",
      "mean     5.613308e+02\n",
      "std      4.333898e+03\n",
      "min      0.000000e+00\n",
      "25%      1.000000e+00\n",
      "50%      1.100000e+01\n",
      "75%      1.000000e+02\n",
      "max      1.958140e+05\n",
      "Name: cool_user, dtype: float64\n",
      "\n",
      "🔢 Unique values (3737):\n",
      "[   2    6   23   12  498  763   93   14   13 1726   15  326  342    0\n",
      " 1242   97   20   10  148   31]\n",
      "\n",
      "🔍 Column analysis: fans\n",
      "--------------------------------------------------\n",
      "📊 Summary statistics:\n",
      "count    1.499992e+06\n",
      "mean     2.158691e+01\n",
      "std      1.131580e+02\n",
      "min      0.000000e+00\n",
      "25%      0.000000e+00\n",
      "50%      1.000000e+00\n",
      "75%      9.000000e+00\n",
      "max      1.249700e+04\n",
      "Name: fans, dtype: float64\n",
      "\n",
      "🔢 Unique values (617):\n",
      "[  0   1  23  41   6   2  79   9  22  45   5  12  56 167  11 568  17 563\n",
      "  33   4]\n",
      "\n",
      "🔍 Column analysis: average_stars\n",
      "--------------------------------------------------\n",
      "📊 Summary statistics:\n",
      "count    1.499992e+06\n",
      "mean     3.724495e+00\n",
      "std      8.985252e-01\n",
      "min      1.000000e+00\n",
      "25%      3.400000e+00\n",
      "50%      3.930000e+00\n",
      "75%      4.300000e+00\n",
      "max      5.000000e+00\n",
      "Name: average_stars, dtype: float64\n",
      "\n",
      "🔢 Unique values (401):\n",
      "[4.5  2.46 3.59 4.05 4.14 4.33 4.43 3.8  4.19 4.11 4.06 4.41 4.29 4.17\n",
      " 4.4  4.53 3.68 4.48 4.15 4.24]\n",
      "\n",
      "🔍 Column analysis: stars_user\n",
      "--------------------------------------------------\n",
      "📊 Summary statistics:\n",
      "count    1.499992e+06\n",
      "mean     3.762182e+00\n",
      "std      8.171470e-01\n",
      "min      1.000000e+00\n",
      "25%      3.500000e+00\n",
      "50%      4.000000e+00\n",
      "75%      4.500000e+00\n",
      "max      5.000000e+00\n",
      "Name: stars_user, dtype: float64\n",
      "\n",
      "🔢 Unique values (9):\n",
      "[4.5 3.5 5.  4.  3.  2.5 1.5 1.  2. ]\n",
      "\n",
      "📈 Value counts:\n",
      "stars_user\n",
      "1.0     10696\n",
      "1.5     30895\n",
      "2.0     56043\n",
      "2.5     88967\n",
      "3.0    136139\n",
      "3.5    263048\n",
      "4.0    458436\n",
      "4.5    379935\n",
      "5.0     75833\n",
      "Name: count, dtype: int64\n"
     ]
    }
   ],
   "source": [
    "MAX_UNIQUE_DISPLAY = 20\n",
    "\n",
    "for column in cols_numeric:\n",
    "    print(f\"\\n🔍 Column analysis: {column}\")\n",
    "    print(\"-\" * 50)\n",
    "\n",
    "    # Step 1: Summary statistics\n",
    "    print(\"📊 Summary statistics:\")\n",
    "    print(df3[column].describe())\n",
    "\n",
    "    # Step 2: Unique values (limit if too many)\n",
    "    unique_vals = df3[column].unique()\n",
    "    print(f\"\\n🔢 Unique values ({len(unique_vals)}):\")\n",
    "    print(\n",
    "        unique_vals if len(unique_vals) <= MAX_UNIQUE_DISPLAY else unique_vals[:MAX_UNIQUE_DISPLAY]\n",
    "    )\n",
    "\n",
    "    # Step 3: Value counts (only if few unique values)\n",
    "    if df3[column].nunique() <= MAX_UNIQUE_DISPLAY:\n",
    "        print(\"\\n📈 Value counts:\")\n",
    "        print(df3[column].value_counts().sort_index())"
   ]
  },
  {
   "cell_type": "markdown",
   "metadata": {},
   "source": [
    "## Save reviews data intermediate"
   ]
  },
  {
   "cell_type": "code",
   "execution_count": 30,
   "metadata": {
    "scrolled": true
   },
   "outputs": [],
   "source": [
    "df3.to_parquet(\n",
    "    BASE_DIR / \"data/02_intermediate/data_message_classifier_interm.parquet\",\n",
    "    index=False,\n",
    "    schema=schema,\n",
    ")"
   ]
  }
 ],
 "metadata": {
  "kernelspec": {
   "display_name": "Python 3.11 (ml-message-classifier)",
   "language": "python",
   "name": "ml-message-classifier"
  },
  "language_info": {
   "codemirror_mode": {
    "name": "ipython",
    "version": 3
   },
   "file_extension": ".py",
   "mimetype": "text/x-python",
   "name": "python",
   "nbconvert_exporter": "python",
   "pygments_lexer": "ipython3",
   "version": "3.11.12"
  }
 },
 "nbformat": 4,
 "nbformat_minor": 4
}
