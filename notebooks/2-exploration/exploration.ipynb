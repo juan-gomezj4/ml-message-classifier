{
 "cells": [
  {
   "cell_type": "markdown",
   "metadata": {},
   "source": [
    "## Title\n",
    "Data Raw Exploration\n",
    "\n",
    "### By:\n",
    "Juan Gómez\n",
    "\n",
    "### Date:\n",
    "2024-05-16\n",
    "\n",
    "### Description:\n",
    "\n",
    "This notebook explores the raw Yelp Open Dataset. It shows basic statistics, checks missing values, and looks at trends in popularity, genres, and ratings. The goal is to understand the data before building a recommendation system.\n"
   ]
  },
  {
   "cell_type": "markdown",
   "metadata": {
    "pycharm": {
     "name": "#%% md\n"
    }
   },
   "source": [
    "## Import  libraries"
   ]
  },
  {
   "cell_type": "code",
   "execution_count": 1,
   "metadata": {
    "collapsed": false,
    "jupyter": {
     "outputs_hidden": false
    },
    "pycharm": {
     "name": "#%%\n"
    }
   },
   "outputs": [],
   "source": [
    "import pandas as pd"
   ]
  },
  {
   "cell_type": "markdown",
   "metadata": {
    "pycharm": {
     "name": "#%% md\n"
    }
   },
   "source": [
    "## Load data"
   ]
  },
  {
   "cell_type": "code",
   "execution_count": 2,
   "metadata": {},
   "outputs": [],
   "source": [
    "from pathlib import Path\n",
    "\n",
    "pd.set_option(\"display.max_columns\", None)\n",
    "\n",
    "BASE_DIR = Path.cwd().resolve().parents[1]"
   ]
  },
  {
   "cell_type": "code",
   "execution_count": 3,
   "metadata": {
    "collapsed": false,
    "jupyter": {
     "outputs_hidden": false
    },
    "pycharm": {
     "name": "#%%\n"
    }
   },
   "outputs": [],
   "source": [
    "df = pd.read_parquet(BASE_DIR / \"data/01_raw/data_message_classifier_raw.parquet\")"
   ]
  },
  {
   "cell_type": "markdown",
   "metadata": {},
   "source": [
    "## Exploration"
   ]
  },
  {
   "cell_type": "code",
   "execution_count": 4,
   "metadata": {
    "pycharm": {
     "name": "#%%\n"
    },
    "scrolled": true
   },
   "outputs": [
    {
     "name": "stdout",
     "output_type": "stream",
     "text": [
      "<class 'pandas.core.frame.DataFrame'>\n",
      "RangeIndex: 1500000 entries, 0 to 1499999\n",
      "Data columns (total 43 columns):\n",
      " #   Column              Non-Null Count    Dtype         \n",
      "---  ------              --------------    -----         \n",
      " 0   review_id           1500000 non-null  object        \n",
      " 1   user_id             1500000 non-null  object        \n",
      " 2   business_id         1500000 non-null  object        \n",
      " 3   stars               1500000 non-null  int64         \n",
      " 4   useful              1500000 non-null  int64         \n",
      " 5   funny               1500000 non-null  int64         \n",
      " 6   cool                1500000 non-null  int64         \n",
      " 7   text                1500000 non-null  object        \n",
      " 8   date                1500000 non-null  datetime64[ns]\n",
      " 9   name                1499992 non-null  object        \n",
      " 10  review_count        1499992 non-null  float64       \n",
      " 11  yelping_since       1499992 non-null  object        \n",
      " 12  useful_user         1499992 non-null  float64       \n",
      " 13  funny_user          1499992 non-null  float64       \n",
      " 14  cool_user           1499992 non-null  float64       \n",
      " 15  elite               1499992 non-null  object        \n",
      " 16  friends             1499992 non-null  object        \n",
      " 17  fans                1499992 non-null  float64       \n",
      " 18  average_stars       1499992 non-null  float64       \n",
      " 19  compliment_hot      1499992 non-null  float64       \n",
      " 20  compliment_more     1499992 non-null  float64       \n",
      " 21  compliment_profile  1499992 non-null  float64       \n",
      " 22  compliment_cute     1499992 non-null  float64       \n",
      " 23  compliment_list     1499992 non-null  float64       \n",
      " 24  compliment_note     1499992 non-null  float64       \n",
      " 25  compliment_plain    1499992 non-null  float64       \n",
      " 26  compliment_cool     1499992 non-null  float64       \n",
      " 27  compliment_funny    1499992 non-null  float64       \n",
      " 28  compliment_writer   1499992 non-null  float64       \n",
      " 29  compliment_photos   1499992 non-null  float64       \n",
      " 30  name_user           1500000 non-null  object        \n",
      " 31  address             1500000 non-null  object        \n",
      " 32  city                1500000 non-null  object        \n",
      " 33  state               1500000 non-null  object        \n",
      " 34  postal_code         1500000 non-null  object        \n",
      " 35  latitude            1500000 non-null  float64       \n",
      " 36  longitude           1500000 non-null  float64       \n",
      " 37  stars_user          1500000 non-null  float64       \n",
      " 38  review_count_user   1500000 non-null  int64         \n",
      " 39  is_open             1500000 non-null  int64         \n",
      " 40  attributes          1447264 non-null  object        \n",
      " 41  categories          1499791 non-null  object        \n",
      " 42  hours               1423302 non-null  object        \n",
      "dtypes: datetime64[ns](1), float64(20), int64(6), object(16)\n",
      "memory usage: 492.1+ MB\n"
     ]
    }
   ],
   "source": [
    "df.info()"
   ]
  },
  {
   "cell_type": "code",
   "execution_count": 5,
   "metadata": {
    "scrolled": true
   },
   "outputs": [
    {
     "data": {
      "text/html": [
       "<div>\n",
       "<style scoped>\n",
       "    .dataframe tbody tr th:only-of-type {\n",
       "        vertical-align: middle;\n",
       "    }\n",
       "\n",
       "    .dataframe tbody tr th {\n",
       "        vertical-align: top;\n",
       "    }\n",
       "\n",
       "    .dataframe thead th {\n",
       "        text-align: right;\n",
       "    }\n",
       "</style>\n",
       "<table border=\"1\" class=\"dataframe\">\n",
       "  <thead>\n",
       "    <tr style=\"text-align: right;\">\n",
       "      <th></th>\n",
       "      <th>review_id</th>\n",
       "      <th>user_id</th>\n",
       "      <th>business_id</th>\n",
       "      <th>stars</th>\n",
       "      <th>useful</th>\n",
       "      <th>funny</th>\n",
       "      <th>cool</th>\n",
       "      <th>text</th>\n",
       "      <th>date</th>\n",
       "      <th>name</th>\n",
       "      <th>review_count</th>\n",
       "      <th>yelping_since</th>\n",
       "      <th>useful_user</th>\n",
       "      <th>funny_user</th>\n",
       "      <th>cool_user</th>\n",
       "      <th>elite</th>\n",
       "      <th>friends</th>\n",
       "      <th>fans</th>\n",
       "      <th>average_stars</th>\n",
       "      <th>compliment_hot</th>\n",
       "      <th>compliment_more</th>\n",
       "      <th>compliment_profile</th>\n",
       "      <th>compliment_cute</th>\n",
       "      <th>compliment_list</th>\n",
       "      <th>compliment_note</th>\n",
       "      <th>compliment_plain</th>\n",
       "      <th>compliment_cool</th>\n",
       "      <th>compliment_funny</th>\n",
       "      <th>compliment_writer</th>\n",
       "      <th>compliment_photos</th>\n",
       "      <th>name_user</th>\n",
       "      <th>address</th>\n",
       "      <th>city</th>\n",
       "      <th>state</th>\n",
       "      <th>postal_code</th>\n",
       "      <th>latitude</th>\n",
       "      <th>longitude</th>\n",
       "      <th>stars_user</th>\n",
       "      <th>review_count_user</th>\n",
       "      <th>is_open</th>\n",
       "      <th>attributes</th>\n",
       "      <th>categories</th>\n",
       "      <th>hours</th>\n",
       "    </tr>\n",
       "  </thead>\n",
       "  <tbody>\n",
       "    <tr>\n",
       "      <th>788973</th>\n",
       "      <td>qVRTXlEYfqfLzgZKukHo_Q</td>\n",
       "      <td>AGMSS7S8pgMHMdyi-e9i3w</td>\n",
       "      <td>o-xk3tM7Qp72Fm88EADrCQ</td>\n",
       "      <td>4</td>\n",
       "      <td>2</td>\n",
       "      <td>0</td>\n",
       "      <td>0</td>\n",
       "      <td>The hotel is in a great location, clean, comfo...</td>\n",
       "      <td>2019-01-21 23:34:51</td>\n",
       "      <td>Cody</td>\n",
       "      <td>2.0</td>\n",
       "      <td>2018-08-25 18:25:40</td>\n",
       "      <td>2.0</td>\n",
       "      <td>0.0</td>\n",
       "      <td>0.0</td>\n",
       "      <td></td>\n",
       "      <td>W_QJmZ3JNUVlChnO8b6o4A, eExq2i7CksO6xXlGICdADw...</td>\n",
       "      <td>0.0</td>\n",
       "      <td>4.50</td>\n",
       "      <td>0.0</td>\n",
       "      <td>0.0</td>\n",
       "      <td>0.0</td>\n",
       "      <td>0.0</td>\n",
       "      <td>0.0</td>\n",
       "      <td>0.0</td>\n",
       "      <td>0.0</td>\n",
       "      <td>0.0</td>\n",
       "      <td>0.0</td>\n",
       "      <td>0.0</td>\n",
       "      <td>0.0</td>\n",
       "      <td>Royal St Charles Hotel</td>\n",
       "      <td>135 St Charles Ave</td>\n",
       "      <td>New Orleans</td>\n",
       "      <td>LA</td>\n",
       "      <td>70130</td>\n",
       "      <td>29.952450</td>\n",
       "      <td>-90.069965</td>\n",
       "      <td>3.0</td>\n",
       "      <td>207</td>\n",
       "      <td>1</td>\n",
       "      <td>{'AcceptsInsurance': None, 'AgesAllowed': None...</td>\n",
       "      <td>Hotels, Professional Services, Event Planning ...</td>\n",
       "      <td>{'Friday': '0:0-0:0', 'Monday': '0:0-0:0', 'Sa...</td>\n",
       "    </tr>\n",
       "    <tr>\n",
       "      <th>941449</th>\n",
       "      <td>MdGv0gpIihd7pEf9YX4Nuw</td>\n",
       "      <td>98C6hdkvSUTsAIQfzRtqKQ</td>\n",
       "      <td>8fDnwFP_r6ZJEs7wKiyhDA</td>\n",
       "      <td>3</td>\n",
       "      <td>1</td>\n",
       "      <td>0</td>\n",
       "      <td>0</td>\n",
       "      <td>It's KFC so it isn't going to be an amazing li...</td>\n",
       "      <td>2018-08-10 19:35:00</td>\n",
       "      <td>Meggean</td>\n",
       "      <td>110.0</td>\n",
       "      <td>2015-11-28 15:30:56</td>\n",
       "      <td>79.0</td>\n",
       "      <td>33.0</td>\n",
       "      <td>69.0</td>\n",
       "      <td>2018,2019,20,20,2021</td>\n",
       "      <td>HaUJdA_zyc_vEHlMoEbxlA, EW78_G-bJQE3Xssr7WHsXw...</td>\n",
       "      <td>1.0</td>\n",
       "      <td>3.86</td>\n",
       "      <td>0.0</td>\n",
       "      <td>8.0</td>\n",
       "      <td>1.0</td>\n",
       "      <td>0.0</td>\n",
       "      <td>0.0</td>\n",
       "      <td>6.0</td>\n",
       "      <td>11.0</td>\n",
       "      <td>5.0</td>\n",
       "      <td>5.0</td>\n",
       "      <td>1.0</td>\n",
       "      <td>4.0</td>\n",
       "      <td>KFC</td>\n",
       "      <td>4744 Lebanon Rd</td>\n",
       "      <td>Hermitage</td>\n",
       "      <td>TN</td>\n",
       "      <td>37076</td>\n",
       "      <td>36.215438</td>\n",
       "      <td>-86.595192</td>\n",
       "      <td>2.0</td>\n",
       "      <td>32</td>\n",
       "      <td>1</td>\n",
       "      <td>{'AcceptsInsurance': None, 'AgesAllowed': None...</td>\n",
       "      <td>Fast Food, Chicken Wings, Chicken Shop, Restau...</td>\n",
       "      <td>{'Friday': '11:0-20:0', 'Monday': '11:0-20:0',...</td>\n",
       "    </tr>\n",
       "    <tr>\n",
       "      <th>1432421</th>\n",
       "      <td>9uPS3mic78brSyWHdWDqyw</td>\n",
       "      <td>LGLnX9YkbkZxe61qZndoBA</td>\n",
       "      <td>u30rQySpS3t9FHWaWaX4ng</td>\n",
       "      <td>3</td>\n",
       "      <td>1</td>\n",
       "      <td>0</td>\n",
       "      <td>1</td>\n",
       "      <td>We parked across the street in a lot. Cute out...</td>\n",
       "      <td>2017-03-26 00:03:07</td>\n",
       "      <td>Kathy</td>\n",
       "      <td>300.0</td>\n",
       "      <td>2013-10-07 00:33:40</td>\n",
       "      <td>261.0</td>\n",
       "      <td>75.0</td>\n",
       "      <td>127.0</td>\n",
       "      <td>2017,2018,2019,20,20,2021</td>\n",
       "      <td>5MCBLBxr10NLUKZ4AboAMg</td>\n",
       "      <td>7.0</td>\n",
       "      <td>3.96</td>\n",
       "      <td>0.0</td>\n",
       "      <td>2.0</td>\n",
       "      <td>0.0</td>\n",
       "      <td>0.0</td>\n",
       "      <td>0.0</td>\n",
       "      <td>3.0</td>\n",
       "      <td>1.0</td>\n",
       "      <td>7.0</td>\n",
       "      <td>7.0</td>\n",
       "      <td>4.0</td>\n",
       "      <td>1.0</td>\n",
       "      <td>Off the Hook Beach Bistro</td>\n",
       "      <td>14601 Gulf Blvd</td>\n",
       "      <td>Madeira Beach</td>\n",
       "      <td>FL</td>\n",
       "      <td>33708</td>\n",
       "      <td>27.798411</td>\n",
       "      <td>-82.797612</td>\n",
       "      <td>4.5</td>\n",
       "      <td>36</td>\n",
       "      <td>0</td>\n",
       "      <td>{'AcceptsInsurance': None, 'AgesAllowed': None...</td>\n",
       "      <td>Seafood, American (New), Restaurants, Burgers</td>\n",
       "      <td>{'Friday': '12:0-22:0', 'Monday': '0:0-0:0', '...</td>\n",
       "    </tr>\n",
       "    <tr>\n",
       "      <th>1158536</th>\n",
       "      <td>2mWC-HHpHkow1gUkmav4rQ</td>\n",
       "      <td>dC6MvKFG6pvAG8QWtVzAdw</td>\n",
       "      <td>ZMRfHHbyTQb_Yje9GhrVfw</td>\n",
       "      <td>1</td>\n",
       "      <td>1</td>\n",
       "      <td>0</td>\n",
       "      <td>0</td>\n",
       "      <td>Worst ever bartender. Only acknowledged the lo...</td>\n",
       "      <td>2018-01-17 19:53:16</td>\n",
       "      <td>Lisa</td>\n",
       "      <td>29.0</td>\n",
       "      <td>2011-01-29 23:33:23</td>\n",
       "      <td>11.0</td>\n",
       "      <td>3.0</td>\n",
       "      <td>3.0</td>\n",
       "      <td></td>\n",
       "      <td>B7EGda3PcFcTWrfSI8LRag, mczB7sulC1mYxMTSZeWBUw...</td>\n",
       "      <td>0.0</td>\n",
       "      <td>4.03</td>\n",
       "      <td>0.0</td>\n",
       "      <td>0.0</td>\n",
       "      <td>0.0</td>\n",
       "      <td>0.0</td>\n",
       "      <td>0.0</td>\n",
       "      <td>0.0</td>\n",
       "      <td>0.0</td>\n",
       "      <td>0.0</td>\n",
       "      <td>0.0</td>\n",
       "      <td>0.0</td>\n",
       "      <td>0.0</td>\n",
       "      <td>The Chart Room</td>\n",
       "      <td>300 Chartres St</td>\n",
       "      <td>New Orleans</td>\n",
       "      <td>LA</td>\n",
       "      <td>70130</td>\n",
       "      <td>29.954263</td>\n",
       "      <td>-90.066493</td>\n",
       "      <td>4.5</td>\n",
       "      <td>238</td>\n",
       "      <td>1</td>\n",
       "      <td>{'AcceptsInsurance': None, 'AgesAllowed': None...</td>\n",
       "      <td>Nightlife, Bars, Dive Bars</td>\n",
       "      <td>{'Friday': '11:0-4:0', 'Monday': '11:0-4:0', '...</td>\n",
       "    </tr>\n",
       "    <tr>\n",
       "      <th>942674</th>\n",
       "      <td>389h5Xi1r8bBElcPSpaqog</td>\n",
       "      <td>Il6_mSqGejDNriUTFwpImA</td>\n",
       "      <td>kLqLi4dHEqYpuqUAX_7QLA</td>\n",
       "      <td>4</td>\n",
       "      <td>1</td>\n",
       "      <td>0</td>\n",
       "      <td>1</td>\n",
       "      <td>I decided to try out this place for lunch and ...</td>\n",
       "      <td>2018-08-09 16:14:45</td>\n",
       "      <td>Jane</td>\n",
       "      <td>77.0</td>\n",
       "      <td>2012-02-13 22:52:10</td>\n",
       "      <td>61.0</td>\n",
       "      <td>8.0</td>\n",
       "      <td>27.0</td>\n",
       "      <td>2017,2018</td>\n",
       "      <td>knEpb4UwoKlPoDqyap-0JQ, T0GKQN1xvP_CfHUaLKWbkQ...</td>\n",
       "      <td>1.0</td>\n",
       "      <td>4.15</td>\n",
       "      <td>0.0</td>\n",
       "      <td>0.0</td>\n",
       "      <td>1.0</td>\n",
       "      <td>0.0</td>\n",
       "      <td>0.0</td>\n",
       "      <td>1.0</td>\n",
       "      <td>0.0</td>\n",
       "      <td>0.0</td>\n",
       "      <td>0.0</td>\n",
       "      <td>1.0</td>\n",
       "      <td>0.0</td>\n",
       "      <td>Sakana Sushi Asian Grill</td>\n",
       "      <td>2908 W Gandy Blvd</td>\n",
       "      <td>Tampa</td>\n",
       "      <td>FL</td>\n",
       "      <td>33611</td>\n",
       "      <td>27.893209</td>\n",
       "      <td>-82.490857</td>\n",
       "      <td>4.0</td>\n",
       "      <td>116</td>\n",
       "      <td>1</td>\n",
       "      <td>{'AcceptsInsurance': None, 'AgesAllowed': None...</td>\n",
       "      <td>Japanese, Sushi Bars, Asian Fusion, Restaurants</td>\n",
       "      <td>{'Friday': '17:0-21:0', 'Monday': '17:0-22:0',...</td>\n",
       "    </tr>\n",
       "  </tbody>\n",
       "</table>\n",
       "</div>"
      ],
      "text/plain": [
       "                      review_id                 user_id  \\\n",
       "788973   qVRTXlEYfqfLzgZKukHo_Q  AGMSS7S8pgMHMdyi-e9i3w   \n",
       "941449   MdGv0gpIihd7pEf9YX4Nuw  98C6hdkvSUTsAIQfzRtqKQ   \n",
       "1432421  9uPS3mic78brSyWHdWDqyw  LGLnX9YkbkZxe61qZndoBA   \n",
       "1158536  2mWC-HHpHkow1gUkmav4rQ  dC6MvKFG6pvAG8QWtVzAdw   \n",
       "942674   389h5Xi1r8bBElcPSpaqog  Il6_mSqGejDNriUTFwpImA   \n",
       "\n",
       "                    business_id  stars  useful  funny  cool  \\\n",
       "788973   o-xk3tM7Qp72Fm88EADrCQ      4       2      0     0   \n",
       "941449   8fDnwFP_r6ZJEs7wKiyhDA      3       1      0     0   \n",
       "1432421  u30rQySpS3t9FHWaWaX4ng      3       1      0     1   \n",
       "1158536  ZMRfHHbyTQb_Yje9GhrVfw      1       1      0     0   \n",
       "942674   kLqLi4dHEqYpuqUAX_7QLA      4       1      0     1   \n",
       "\n",
       "                                                      text  \\\n",
       "788973   The hotel is in a great location, clean, comfo...   \n",
       "941449   It's KFC so it isn't going to be an amazing li...   \n",
       "1432421  We parked across the street in a lot. Cute out...   \n",
       "1158536  Worst ever bartender. Only acknowledged the lo...   \n",
       "942674   I decided to try out this place for lunch and ...   \n",
       "\n",
       "                       date     name  review_count        yelping_since  \\\n",
       "788973  2019-01-21 23:34:51     Cody           2.0  2018-08-25 18:25:40   \n",
       "941449  2018-08-10 19:35:00  Meggean         110.0  2015-11-28 15:30:56   \n",
       "1432421 2017-03-26 00:03:07    Kathy         300.0  2013-10-07 00:33:40   \n",
       "1158536 2018-01-17 19:53:16     Lisa          29.0  2011-01-29 23:33:23   \n",
       "942674  2018-08-09 16:14:45     Jane          77.0  2012-02-13 22:52:10   \n",
       "\n",
       "         useful_user  funny_user  cool_user                      elite  \\\n",
       "788973           2.0         0.0        0.0                              \n",
       "941449          79.0        33.0       69.0       2018,2019,20,20,2021   \n",
       "1432421        261.0        75.0      127.0  2017,2018,2019,20,20,2021   \n",
       "1158536         11.0         3.0        3.0                              \n",
       "942674          61.0         8.0       27.0                  2017,2018   \n",
       "\n",
       "                                                   friends  fans  \\\n",
       "788973   W_QJmZ3JNUVlChnO8b6o4A, eExq2i7CksO6xXlGICdADw...   0.0   \n",
       "941449   HaUJdA_zyc_vEHlMoEbxlA, EW78_G-bJQE3Xssr7WHsXw...   1.0   \n",
       "1432421                             5MCBLBxr10NLUKZ4AboAMg   7.0   \n",
       "1158536  B7EGda3PcFcTWrfSI8LRag, mczB7sulC1mYxMTSZeWBUw...   0.0   \n",
       "942674   knEpb4UwoKlPoDqyap-0JQ, T0GKQN1xvP_CfHUaLKWbkQ...   1.0   \n",
       "\n",
       "         average_stars  compliment_hot  compliment_more  compliment_profile  \\\n",
       "788973            4.50             0.0              0.0                 0.0   \n",
       "941449            3.86             0.0              8.0                 1.0   \n",
       "1432421           3.96             0.0              2.0                 0.0   \n",
       "1158536           4.03             0.0              0.0                 0.0   \n",
       "942674            4.15             0.0              0.0                 1.0   \n",
       "\n",
       "         compliment_cute  compliment_list  compliment_note  compliment_plain  \\\n",
       "788973               0.0              0.0              0.0               0.0   \n",
       "941449               0.0              0.0              6.0              11.0   \n",
       "1432421              0.0              0.0              3.0               1.0   \n",
       "1158536              0.0              0.0              0.0               0.0   \n",
       "942674               0.0              0.0              1.0               0.0   \n",
       "\n",
       "         compliment_cool  compliment_funny  compliment_writer  \\\n",
       "788973               0.0               0.0                0.0   \n",
       "941449               5.0               5.0                1.0   \n",
       "1432421              7.0               7.0                4.0   \n",
       "1158536              0.0               0.0                0.0   \n",
       "942674               0.0               0.0                1.0   \n",
       "\n",
       "         compliment_photos                  name_user             address  \\\n",
       "788973                 0.0     Royal St Charles Hotel  135 St Charles Ave   \n",
       "941449                 4.0                        KFC     4744 Lebanon Rd   \n",
       "1432421                1.0  Off the Hook Beach Bistro     14601 Gulf Blvd   \n",
       "1158536                0.0             The Chart Room     300 Chartres St   \n",
       "942674                 0.0   Sakana Sushi Asian Grill   2908 W Gandy Blvd   \n",
       "\n",
       "                  city state postal_code   latitude  longitude  stars_user  \\\n",
       "788973     New Orleans    LA       70130  29.952450 -90.069965         3.0   \n",
       "941449       Hermitage    TN       37076  36.215438 -86.595192         2.0   \n",
       "1432421  Madeira Beach    FL       33708  27.798411 -82.797612         4.5   \n",
       "1158536    New Orleans    LA       70130  29.954263 -90.066493         4.5   \n",
       "942674           Tampa    FL       33611  27.893209 -82.490857         4.0   \n",
       "\n",
       "         review_count_user  is_open  \\\n",
       "788973                 207        1   \n",
       "941449                  32        1   \n",
       "1432421                 36        0   \n",
       "1158536                238        1   \n",
       "942674                 116        1   \n",
       "\n",
       "                                                attributes  \\\n",
       "788973   {'AcceptsInsurance': None, 'AgesAllowed': None...   \n",
       "941449   {'AcceptsInsurance': None, 'AgesAllowed': None...   \n",
       "1432421  {'AcceptsInsurance': None, 'AgesAllowed': None...   \n",
       "1158536  {'AcceptsInsurance': None, 'AgesAllowed': None...   \n",
       "942674   {'AcceptsInsurance': None, 'AgesAllowed': None...   \n",
       "\n",
       "                                                categories  \\\n",
       "788973   Hotels, Professional Services, Event Planning ...   \n",
       "941449   Fast Food, Chicken Wings, Chicken Shop, Restau...   \n",
       "1432421      Seafood, American (New), Restaurants, Burgers   \n",
       "1158536                         Nightlife, Bars, Dive Bars   \n",
       "942674     Japanese, Sushi Bars, Asian Fusion, Restaurants   \n",
       "\n",
       "                                                     hours  \n",
       "788973   {'Friday': '0:0-0:0', 'Monday': '0:0-0:0', 'Sa...  \n",
       "941449   {'Friday': '11:0-20:0', 'Monday': '11:0-20:0',...  \n",
       "1432421  {'Friday': '12:0-22:0', 'Monday': '0:0-0:0', '...  \n",
       "1158536  {'Friday': '11:0-4:0', 'Monday': '11:0-4:0', '...  \n",
       "942674   {'Friday': '17:0-21:0', 'Monday': '17:0-22:0',...  "
      ]
     },
     "execution_count": 5,
     "metadata": {},
     "output_type": "execute_result"
    }
   ],
   "source": [
    "df.sample(5)"
   ]
  },
  {
   "cell_type": "markdown",
   "metadata": {},
   "source": [
    "### Null Values"
   ]
  },
  {
   "cell_type": "code",
   "execution_count": 6,
   "metadata": {
    "scrolled": true
   },
   "outputs": [
    {
     "name": "stdout",
     "output_type": "stream",
     "text": [
      "\n",
      "Null values in Movie Data Set:\n"
     ]
    },
    {
     "data": {
      "text/plain": [
       "hours                 76698\n",
       "attributes            52736\n",
       "categories              209\n",
       "review_count              8\n",
       "compliment_photos         8\n",
       "compliment_writer         8\n",
       "compliment_funny          8\n",
       "compliment_cool           8\n",
       "compliment_plain          8\n",
       "compliment_note           8\n",
       "compliment_list           8\n",
       "compliment_cute           8\n",
       "name                      8\n",
       "compliment_more           8\n",
       "compliment_hot            8\n",
       "average_stars             8\n",
       "fans                      8\n",
       "friends                   8\n",
       "elite                     8\n",
       "cool_user                 8\n",
       "funny_user                8\n",
       "useful_user               8\n",
       "yelping_since             8\n",
       "compliment_profile        8\n",
       "dtype: int64"
      ]
     },
     "metadata": {},
     "output_type": "display_data"
    }
   ],
   "source": [
    "print(\"\\nNull values in Movie Data Set:\")\n",
    "null_counts = df.isnull().sum()\n",
    "display(null_counts[null_counts > 0].sort_values(ascending=False))"
   ]
  },
  {
   "cell_type": "code",
   "execution_count": 7,
   "metadata": {},
   "outputs": [],
   "source": [
    "df2 = df.dropna(subset=[\"useful_user\", \"funny_user\", \"cool_user\", \"fans\"])"
   ]
  },
  {
   "cell_type": "code",
   "execution_count": 8,
   "metadata": {},
   "outputs": [
    {
     "name": "stdout",
     "output_type": "stream",
     "text": [
      "\n",
      "Columns with more than 30% missing values:\n"
     ]
    },
    {
     "data": {
      "text/plain": [
       "Series([], dtype: float64)"
      ]
     },
     "metadata": {},
     "output_type": "display_data"
    }
   ],
   "source": [
    "print(\"\\nColumns with more than 30% missing values:\")\n",
    "null_threshold = 30\n",
    "null_percent = df.isnull().mean() * 100  # calculate & of null values\n",
    "display(null_percent[null_percent > null_threshold].sort_values(ascending=False))"
   ]
  },
  {
   "cell_type": "markdown",
   "metadata": {},
   "source": [
    "### Remove columns"
   ]
  },
  {
   "cell_type": "code",
   "execution_count": 9,
   "metadata": {},
   "outputs": [],
   "source": [
    "df3 = df2.drop(\n",
    "    columns=[\n",
    "        \"user_id\",\n",
    "        \"business_id\",\n",
    "        \"name\",\n",
    "        \"yelping_since\",\n",
    "        \"name_user\",\n",
    "        \"latitude\",\n",
    "        \"friends\",\n",
    "        \"postal_code\",\n",
    "        \"longitude\",\n",
    "        \"compliment_hot\",\n",
    "        \"compliment_more\",\n",
    "        \"compliment_profile\",\n",
    "        \"compliment_cute\",\n",
    "        \"compliment_list\",\n",
    "        \"compliment_note\",\n",
    "        \"compliment_plain\",\n",
    "        \"compliment_cool\",\n",
    "        \"compliment_funny\",\n",
    "        \"compliment_writer\",\n",
    "        \"compliment_photos\",\n",
    "        \"attributes\",\n",
    "        \"hours\",\n",
    "    ]\n",
    ")"
   ]
  },
  {
   "cell_type": "code",
   "execution_count": 10,
   "metadata": {},
   "outputs": [
    {
     "name": "stdout",
     "output_type": "stream",
     "text": [
      "<class 'pandas.core.frame.DataFrame'>\n",
      "Index: 1499992 entries, 0 to 1499999\n",
      "Data columns (total 21 columns):\n",
      " #   Column             Non-Null Count    Dtype         \n",
      "---  ------             --------------    -----         \n",
      " 0   review_id          1499992 non-null  object        \n",
      " 1   stars              1499992 non-null  int64         \n",
      " 2   useful             1499992 non-null  int64         \n",
      " 3   funny              1499992 non-null  int64         \n",
      " 4   cool               1499992 non-null  int64         \n",
      " 5   text               1499992 non-null  object        \n",
      " 6   date               1499992 non-null  datetime64[ns]\n",
      " 7   review_count       1499992 non-null  float64       \n",
      " 8   useful_user        1499992 non-null  float64       \n",
      " 9   funny_user         1499992 non-null  float64       \n",
      " 10  cool_user          1499992 non-null  float64       \n",
      " 11  elite              1499992 non-null  object        \n",
      " 12  fans               1499992 non-null  float64       \n",
      " 13  average_stars      1499992 non-null  float64       \n",
      " 14  address            1499992 non-null  object        \n",
      " 15  city               1499992 non-null  object        \n",
      " 16  state              1499992 non-null  object        \n",
      " 17  stars_user         1499992 non-null  float64       \n",
      " 18  review_count_user  1499992 non-null  int64         \n",
      " 19  is_open            1499992 non-null  int64         \n",
      " 20  categories         1499783 non-null  object        \n",
      "dtypes: datetime64[ns](1), float64(7), int64(6), object(7)\n",
      "memory usage: 251.8+ MB\n"
     ]
    }
   ],
   "source": [
    "df3.info()"
   ]
  },
  {
   "cell_type": "code",
   "execution_count": 11,
   "metadata": {},
   "outputs": [
    {
     "data": {
      "text/plain": [
       "(1499992, 21)"
      ]
     },
     "execution_count": 11,
     "metadata": {},
     "output_type": "execute_result"
    }
   ],
   "source": [
    "df3.shape"
   ]
  },
  {
   "cell_type": "markdown",
   "metadata": {},
   "source": [
    "### Categorical Variables"
   ]
  },
  {
   "cell_type": "code",
   "execution_count": 12,
   "metadata": {},
   "outputs": [],
   "source": [
    "cols_categoric = [\n",
    "    \"stars\",\n",
    "    \"elite\",\n",
    "    \"city\",\n",
    "    \"state\",\n",
    "]"
   ]
  },
  {
   "cell_type": "code",
   "execution_count": 13,
   "metadata": {},
   "outputs": [],
   "source": [
    "df3[cols_categoric] = df3[cols_categoric].astype(\"category\")"
   ]
  },
  {
   "cell_type": "markdown",
   "metadata": {},
   "source": [
    "- Ordinal: stars"
   ]
  },
  {
   "cell_type": "markdown",
   "metadata": {},
   "source": [
    "- Nominal: elite, city, state"
   ]
  },
  {
   "cell_type": "markdown",
   "metadata": {},
   "source": [
    "### Numerical Variables"
   ]
  },
  {
   "cell_type": "code",
   "execution_count": 14,
   "metadata": {},
   "outputs": [],
   "source": [
    "cols_numeric = [\n",
    "    \"useful\",\n",
    "    \"funny\",\n",
    "    \"cool\",\n",
    "    \"review_count\",\n",
    "    \"useful_user\",\n",
    "    \"funny_user\",\n",
    "    \"cool_user\",\n",
    "    \"fans\",\n",
    "    \"average_stars\",\n",
    "    \"stars_user\",\n",
    "    \"review_count_user\",\n",
    "]"
   ]
  },
  {
   "cell_type": "markdown",
   "metadata": {},
   "source": [
    "- Float"
   ]
  },
  {
   "cell_type": "code",
   "execution_count": 15,
   "metadata": {},
   "outputs": [],
   "source": [
    "cols_numeric_float = [\"stars_user\", \"average_stars\"]"
   ]
  },
  {
   "cell_type": "code",
   "execution_count": 16,
   "metadata": {},
   "outputs": [],
   "source": [
    "df3[cols_numeric_float] = df3[cols_numeric_float].astype(\"float\")"
   ]
  },
  {
   "cell_type": "markdown",
   "metadata": {},
   "source": [
    "- Int"
   ]
  },
  {
   "cell_type": "code",
   "execution_count": 17,
   "metadata": {},
   "outputs": [],
   "source": [
    "cols_numeric_int = [\n",
    "    \"useful\",\n",
    "    \"funny\",\n",
    "    \"cool\",\n",
    "    \"review_count_user\",\n",
    "    \"review_count\",\n",
    "    \"useful_user\",\n",
    "    \"funny_user\",\n",
    "    \"cool_user\",\n",
    "    \"fans\",\n",
    "]"
   ]
  },
  {
   "cell_type": "code",
   "execution_count": 18,
   "metadata": {
    "scrolled": true
   },
   "outputs": [],
   "source": [
    "df3[cols_numeric_int] = df3[cols_numeric_int].astype(\"int8\")"
   ]
  },
  {
   "cell_type": "markdown",
   "metadata": {},
   "source": [
    "### Boolean Variables"
   ]
  },
  {
   "cell_type": "code",
   "execution_count": 19,
   "metadata": {},
   "outputs": [],
   "source": [
    "cols_boolean = [\"is_open\"]"
   ]
  },
  {
   "cell_type": "code",
   "execution_count": 20,
   "metadata": {},
   "outputs": [],
   "source": [
    "df3[cols_boolean] = df3[cols_boolean].astype(\"bool\")"
   ]
  },
  {
   "cell_type": "markdown",
   "metadata": {},
   "source": [
    "### String Variables"
   ]
  },
  {
   "cell_type": "code",
   "execution_count": 21,
   "metadata": {},
   "outputs": [],
   "source": [
    "cols_string = [\"review_id\", \"text\", \"address\", \"categories\"]"
   ]
  },
  {
   "cell_type": "code",
   "execution_count": 22,
   "metadata": {},
   "outputs": [],
   "source": [
    "df3[cols_string] = df3[cols_string].astype(\"string\")"
   ]
  },
  {
   "cell_type": "markdown",
   "metadata": {},
   "source": [
    "### Date Variables"
   ]
  },
  {
   "cell_type": "code",
   "execution_count": 23,
   "metadata": {},
   "outputs": [],
   "source": [
    "col_date = [\"date\"]"
   ]
  },
  {
   "cell_type": "code",
   "execution_count": 24,
   "metadata": {},
   "outputs": [],
   "source": [
    "df3[col_date] = df3[col_date].astype(\"datetime64[ns]\")"
   ]
  },
  {
   "cell_type": "markdown",
   "metadata": {},
   "source": [
    "### Schema"
   ]
  },
  {
   "cell_type": "code",
   "execution_count": 25,
   "metadata": {},
   "outputs": [
    {
     "name": "stdout",
     "output_type": "stream",
     "text": [
      "<class 'pandas.core.frame.DataFrame'>\n",
      "Index: 1499992 entries, 0 to 1499999\n",
      "Data columns (total 21 columns):\n",
      " #   Column             Non-Null Count    Dtype         \n",
      "---  ------             --------------    -----         \n",
      " 0   review_id          1499992 non-null  string        \n",
      " 1   stars              1499992 non-null  category      \n",
      " 2   useful             1499992 non-null  int8          \n",
      " 3   funny              1499992 non-null  int8          \n",
      " 4   cool               1499992 non-null  int8          \n",
      " 5   text               1499992 non-null  string        \n",
      " 6   date               1499992 non-null  datetime64[ns]\n",
      " 7   review_count       1499992 non-null  int8          \n",
      " 8   useful_user        1499992 non-null  int8          \n",
      " 9   funny_user         1499992 non-null  int8          \n",
      " 10  cool_user          1499992 non-null  int8          \n",
      " 11  elite              1499992 non-null  category      \n",
      " 12  fans               1499992 non-null  int8          \n",
      " 13  average_stars      1499992 non-null  float64       \n",
      " 14  address            1499992 non-null  string        \n",
      " 15  city               1499992 non-null  category      \n",
      " 16  state              1499992 non-null  category      \n",
      " 17  stars_user         1499992 non-null  float64       \n",
      " 18  review_count_user  1499992 non-null  int8          \n",
      " 19  is_open            1499992 non-null  bool          \n",
      " 20  categories         1499783 non-null  string        \n",
      "dtypes: bool(1), category(4), datetime64[ns](1), float64(2), int8(9), string(4)\n",
      "memory usage: 114.5 MB\n"
     ]
    }
   ],
   "source": [
    "df3.info()"
   ]
  },
  {
   "cell_type": "code",
   "execution_count": 26,
   "metadata": {},
   "outputs": [],
   "source": [
    "import pyarrow as pa\n",
    "\n",
    "schema = pa.Schema.from_pandas(df3, preserve_index=False)"
   ]
  },
  {
   "cell_type": "code",
   "execution_count": 27,
   "metadata": {},
   "outputs": [
    {
     "data": {
      "text/plain": [
       "review_id: string\n",
       "stars: dictionary<values=int64, indices=int8, ordered=0>\n",
       "useful: int8\n",
       "funny: int8\n",
       "cool: int8\n",
       "text: string\n",
       "date: timestamp[ns]\n",
       "review_count: int8\n",
       "useful_user: int8\n",
       "funny_user: int8\n",
       "cool_user: int8\n",
       "elite: dictionary<values=string, indices=int16, ordered=0>\n",
       "fans: int8\n",
       "average_stars: double\n",
       "address: string\n",
       "city: dictionary<values=string, indices=int16, ordered=0>\n",
       "state: dictionary<values=string, indices=int8, ordered=0>\n",
       "stars_user: double\n",
       "review_count_user: int8\n",
       "is_open: bool\n",
       "categories: string\n",
       "-- schema metadata --\n",
       "pandas: '{\"index_columns\": [], \"column_indexes\": [], \"columns\": [{\"name\":' + 2614"
      ]
     },
     "execution_count": 27,
     "metadata": {},
     "output_type": "execute_result"
    }
   ],
   "source": [
    "schema"
   ]
  },
  {
   "cell_type": "markdown",
   "metadata": {},
   "source": [
    "## Basic Statistics"
   ]
  },
  {
   "cell_type": "code",
   "execution_count": 28,
   "metadata": {},
   "outputs": [
    {
     "data": {
      "text/html": [
       "<div>\n",
       "<style scoped>\n",
       "    .dataframe tbody tr th:only-of-type {\n",
       "        vertical-align: middle;\n",
       "    }\n",
       "\n",
       "    .dataframe tbody tr th {\n",
       "        vertical-align: top;\n",
       "    }\n",
       "\n",
       "    .dataframe thead th {\n",
       "        text-align: right;\n",
       "    }\n",
       "</style>\n",
       "<table border=\"1\" class=\"dataframe\">\n",
       "  <thead>\n",
       "    <tr style=\"text-align: right;\">\n",
       "      <th></th>\n",
       "      <th>review_id</th>\n",
       "      <th>stars</th>\n",
       "      <th>text</th>\n",
       "      <th>elite</th>\n",
       "      <th>address</th>\n",
       "      <th>city</th>\n",
       "      <th>state</th>\n",
       "      <th>categories</th>\n",
       "    </tr>\n",
       "  </thead>\n",
       "  <tbody>\n",
       "    <tr>\n",
       "      <th>count</th>\n",
       "      <td>1499992</td>\n",
       "      <td>1499992</td>\n",
       "      <td>1499992</td>\n",
       "      <td>1499992</td>\n",
       "      <td>1499992</td>\n",
       "      <td>1499992</td>\n",
       "      <td>1499992</td>\n",
       "      <td>1499783</td>\n",
       "    </tr>\n",
       "    <tr>\n",
       "      <th>unique</th>\n",
       "      <td>1499992</td>\n",
       "      <td>5</td>\n",
       "      <td>1498155</td>\n",
       "      <td>838</td>\n",
       "      <td>103378</td>\n",
       "      <td>1299</td>\n",
       "      <td>24</td>\n",
       "      <td>70431</td>\n",
       "    </tr>\n",
       "    <tr>\n",
       "      <th>top</th>\n",
       "      <td>LgfSWgq5DzgoFzNW6YwfSg</td>\n",
       "      <td>5</td>\n",
       "      <td>I love Mexican restaurants I could probably ea...</td>\n",
       "      <td></td>\n",
       "      <td></td>\n",
       "      <td>Philadelphia</td>\n",
       "      <td>PA</td>\n",
       "      <td>Restaurants, Mexican</td>\n",
       "    </tr>\n",
       "    <tr>\n",
       "      <th>freq</th>\n",
       "      <td>1</td>\n",
       "      <td>678237</td>\n",
       "      <td>7</td>\n",
       "      <td>933532</td>\n",
       "      <td>22169</td>\n",
       "      <td>176131</td>\n",
       "      <td>314382</td>\n",
       "      <td>10310</td>\n",
       "    </tr>\n",
       "  </tbody>\n",
       "</table>\n",
       "</div>"
      ],
      "text/plain": [
       "                     review_id    stars  \\\n",
       "count                  1499992  1499992   \n",
       "unique                 1499992        5   \n",
       "top     LgfSWgq5DzgoFzNW6YwfSg        5   \n",
       "freq                         1   678237   \n",
       "\n",
       "                                                     text    elite  address  \\\n",
       "count                                             1499992  1499992  1499992   \n",
       "unique                                            1498155      838   103378   \n",
       "top     I love Mexican restaurants I could probably ea...                     \n",
       "freq                                                    7   933532    22169   \n",
       "\n",
       "                city    state            categories  \n",
       "count        1499992  1499992               1499783  \n",
       "unique          1299       24                 70431  \n",
       "top     Philadelphia       PA  Restaurants, Mexican  \n",
       "freq          176131   314382                 10310  "
      ]
     },
     "execution_count": 28,
     "metadata": {},
     "output_type": "execute_result"
    }
   ],
   "source": [
    "df3.describe(include=[\"string\", \"category\"])"
   ]
  },
  {
   "cell_type": "code",
   "execution_count": 29,
   "metadata": {
    "scrolled": true
   },
   "outputs": [
    {
     "name": "stdout",
     "output_type": "stream",
     "text": [
      "\n",
      "🔍 Column analysis: useful\n",
      "--------------------------------------------------\n",
      "📊 Summary statistics:\n",
      "count    1.499992e+06\n",
      "mean     2.436326e+00\n",
      "std      3.948817e+00\n",
      "min     -1.280000e+02\n",
      "25%      1.000000e+00\n",
      "50%      1.000000e+00\n",
      "75%      2.000000e+00\n",
      "max      1.270000e+02\n",
      "Name: useful, dtype: float64\n",
      "\n",
      "🔢 Unique values (191):\n",
      "[ 1  3  2  6  8  5  4 10  7 25 23 52 11 13 12 18  9 67 14 15]\n",
      "\n",
      "🔍 Column analysis: funny\n",
      "--------------------------------------------------\n",
      "📊 Summary statistics:\n",
      "count    1.499992e+06\n",
      "mean     5.324882e-01\n",
      "std      2.052519e+00\n",
      "min     -1.270000e+02\n",
      "25%      0.000000e+00\n",
      "50%      0.000000e+00\n",
      "75%      0.000000e+00\n",
      "max      1.260000e+02\n",
      "Name: funny, dtype: float64\n",
      "\n",
      "🔢 Unique values (121):\n",
      "[ 0  1  2  4  3  5  6  7 27  9 18  8 10 19 21 23 26 16 13 11]\n",
      "\n",
      "🔍 Column analysis: cool\n",
      "--------------------------------------------------\n",
      "📊 Summary statistics:\n",
      "count    1.499992e+06\n",
      "mean     1.078519e+00\n",
      "std      3.383853e+00\n",
      "min     -1.280000e+02\n",
      "25%      0.000000e+00\n",
      "50%      0.000000e+00\n",
      "75%      1.000000e+00\n",
      "max      1.270000e+02\n",
      "Name: cool, dtype: float64\n",
      "\n",
      "🔢 Unique values (180):\n",
      "[ 1  0  2  5  7  4  3  6  9 25 19 54 11 10 12  8 18 14 15 28]\n",
      "\n",
      "🔍 Column analysis: review_count\n",
      "--------------------------------------------------\n",
      "📊 Summary statistics:\n",
      "count    1.499992e+06\n",
      "mean     1.524190e+01\n",
      "std      5.462573e+01\n",
      "min     -1.280000e+02\n",
      "25%      2.000000e+00\n",
      "50%      1.300000e+01\n",
      "75%      4.500000e+01\n",
      "max      1.270000e+02\n",
      "Name: review_count, dtype: float64\n",
      "\n",
      "🔢 Unique values (256):\n",
      "[   5   48   79   32   25   64   18 -125   51   67  -24   81   44  118\n",
      "    2   86  -56   90  -61 -110]\n",
      "\n",
      "🔍 Column analysis: useful_user\n",
      "--------------------------------------------------\n",
      "📊 Summary statistics:\n",
      "count    1.499992e+06\n",
      "mean     1.335748e+01\n",
      "std      5.313726e+01\n",
      "min     -1.280000e+02\n",
      "25%      1.000000e+00\n",
      "50%      1.000000e+01\n",
      "75%      4.100000e+01\n",
      "max      1.270000e+02\n",
      "Name: useful_user, dtype: float64\n",
      "\n",
      "🔢 Unique values (256):\n",
      "[   4   95   66   33  -72   37   10  -74   54    9   51   47   25    0\n",
      "   44  -12 -109   23   29   20]\n",
      "\n",
      "🔍 Column analysis: funny_user\n",
      "--------------------------------------------------\n",
      "📊 Summary statistics:\n",
      "count    1.499992e+06\n",
      "mean     9.982233e+00\n",
      "std      3.855184e+01\n",
      "min     -1.280000e+02\n",
      "25%      0.000000e+00\n",
      "50%      3.000000e+00\n",
      "75%      1.800000e+01\n",
      "max      1.270000e+02\n",
      "Name: funny_user, dtype: float64\n",
      "\n",
      "🔢 Unique values (256):\n",
      "[  0  13  19 -60 102  10   3  32   5  63  96   2  89   7  14 -39 118  11\n",
      "  59 -61]\n",
      "\n",
      "🔍 Column analysis: cool_user\n",
      "--------------------------------------------------\n",
      "📊 Summary statistics:\n",
      "count    1.499992e+06\n",
      "mean     1.026499e+01\n",
      "std      4.571566e+01\n",
      "min     -1.280000e+02\n",
      "25%      0.000000e+00\n",
      "50%      3.000000e+00\n",
      "75%      2.600000e+01\n",
      "max      1.270000e+02\n",
      "Name: cool_user, dtype: float64\n",
      "\n",
      "🔢 Unique values (256):\n",
      "[   2    6   23   12  -14   -5   93   14   13  -66   15   70   86    0\n",
      "  -38   97   20   10 -108   31]\n",
      "\n",
      "🔍 Column analysis: fans\n",
      "--------------------------------------------------\n",
      "📊 Summary statistics:\n",
      "count    1.499992e+06\n",
      "mean     6.960867e+00\n",
      "std      2.309451e+01\n",
      "min     -1.280000e+02\n",
      "25%      0.000000e+00\n",
      "50%      1.000000e+00\n",
      "75%      7.000000e+00\n",
      "max      1.270000e+02\n",
      "Name: fans, dtype: float64\n",
      "\n",
      "🔢 Unique values (256):\n",
      "[  0   1  23  41   6   2  79   9  22  45   5  12  56 -89  11  17  51  33\n",
      "   4  28]\n",
      "\n",
      "🔍 Column analysis: average_stars\n",
      "--------------------------------------------------\n",
      "📊 Summary statistics:\n",
      "count    1.499992e+06\n",
      "mean     3.724495e+00\n",
      "std      8.985252e-01\n",
      "min      1.000000e+00\n",
      "25%      3.400000e+00\n",
      "50%      3.930000e+00\n",
      "75%      4.300000e+00\n",
      "max      5.000000e+00\n",
      "Name: average_stars, dtype: float64\n",
      "\n",
      "🔢 Unique values (401):\n",
      "[4.5  2.46 3.59 4.05 4.14 4.33 4.43 3.8  4.19 4.11 4.06 4.41 4.29 4.17\n",
      " 4.4  4.53 3.68 4.48 4.15 4.24]\n",
      "\n",
      "🔍 Column analysis: stars_user\n",
      "--------------------------------------------------\n",
      "📊 Summary statistics:\n",
      "count    1.499992e+06\n",
      "mean     3.762182e+00\n",
      "std      8.171470e-01\n",
      "min      1.000000e+00\n",
      "25%      3.500000e+00\n",
      "50%      4.000000e+00\n",
      "75%      4.500000e+00\n",
      "max      5.000000e+00\n",
      "Name: stars_user, dtype: float64\n",
      "\n",
      "🔢 Unique values (9):\n",
      "[4.5 3.5 5.  4.  3.  2.5 1.5 1.  2. ]\n",
      "\n",
      "📈 Value counts:\n",
      "stars_user\n",
      "1.0     10696\n",
      "1.5     30895\n",
      "2.0     56043\n",
      "2.5     88967\n",
      "3.0    136139\n",
      "3.5    263048\n",
      "4.0    458436\n",
      "4.5    379935\n",
      "5.0     75833\n",
      "Name: count, dtype: int64\n",
      "\n",
      "🔍 Column analysis: review_count_user\n",
      "--------------------------------------------------\n",
      "📊 Summary statistics:\n",
      "count    1.499992e+06\n",
      "mean     1.565754e+01\n",
      "std      6.642207e+01\n",
      "min     -1.280000e+02\n",
      "25%     -2.500000e+01\n",
      "50%      2.400000e+01\n",
      "75%      6.400000e+01\n",
      "max      1.270000e+02\n",
      "Name: review_count_user, dtype: float64\n",
      "\n",
      "🔢 Unique values (256):\n",
      "[  36   15    5   83 -104   -6  110   38   76   33   91 -108   10  -96\n",
      "  -27   86  -57   -4   87    6]\n"
     ]
    }
   ],
   "source": [
    "MAX_UNIQUE_DISPLAY = 20\n",
    "\n",
    "for column in cols_numeric:\n",
    "    print(f\"\\n🔍 Column analysis: {column}\")\n",
    "    print(\"-\" * 50)\n",
    "\n",
    "    # Step 1: Summary statistics\n",
    "    print(\"📊 Summary statistics:\")\n",
    "    print(df3[column].describe())\n",
    "\n",
    "    # Step 2: Unique values (limit if too many)\n",
    "    unique_vals = df3[column].unique()\n",
    "    print(f\"\\n🔢 Unique values ({len(unique_vals)}):\")\n",
    "    print(\n",
    "        unique_vals if len(unique_vals) <= MAX_UNIQUE_DISPLAY else unique_vals[:MAX_UNIQUE_DISPLAY]\n",
    "    )\n",
    "\n",
    "    # Step 3: Value counts (only if few unique values)\n",
    "    if df3[column].nunique() <= MAX_UNIQUE_DISPLAY:\n",
    "        print(\"\\n📈 Value counts:\")\n",
    "        print(df3[column].value_counts().sort_index())"
   ]
  },
  {
   "cell_type": "markdown",
   "metadata": {},
   "source": [
    "## Save reviews data intermediate"
   ]
  },
  {
   "cell_type": "code",
   "execution_count": 30,
   "metadata": {
    "scrolled": true
   },
   "outputs": [],
   "source": [
    "df3.to_parquet(\n",
    "    BASE_DIR / \"data/02_intermediate/data_message_classifier_interm.parquet\",\n",
    "    index=False,\n",
    "    schema=schema,\n",
    ")"
   ]
  }
 ],
 "metadata": {
  "kernelspec": {
   "display_name": "Python 3.11 (ml-message-classifier)",
   "language": "python",
   "name": "ml-message-classifier"
  },
  "language_info": {
   "codemirror_mode": {
    "name": "ipython",
    "version": 3
   },
   "file_extension": ".py",
   "mimetype": "text/x-python",
   "name": "python",
   "nbconvert_exporter": "python",
   "pygments_lexer": "ipython3",
   "version": "3.11.12"
  }
 },
 "nbformat": 4,
 "nbformat_minor": 4
}
