{
 "cells": [
  {
   "cell_type": "markdown",
   "metadata": {},
   "source": [
    "## Title\n",
    "Data Raw Exploration\n",
    "\n",
    "### By:\n",
    "Juan Gómez\n",
    "\n",
    "### Date:\n",
    "2024-05-16\n",
    "\n",
    "### Description:\n",
    "\n",
    "This notebook explores the raw Yelp Open Dataset. It shows basic statistics, checks missing values, and looks at trends in popularity, genres, and ratings. The goal is to understand the data before building a recommendation system."
   ]
  },
  {
   "cell_type": "markdown",
   "metadata": {
    "pycharm": {
     "name": "#%% md\n"
    }
   },
   "source": [
    "## Import  libraries"
   ]
  },
  {
   "cell_type": "code",
   "execution_count": 1,
   "metadata": {
    "collapsed": false,
    "jupyter": {
     "outputs_hidden": false
    },
    "pycharm": {
     "name": "#%%\n"
    }
   },
   "outputs": [],
   "source": [
    "from pathlib import Path\n",
    "\n",
    "import pandas as pd\n",
    "import pyarrow as pa"
   ]
  },
  {
   "cell_type": "markdown",
   "metadata": {
    "pycharm": {
     "name": "#%% md\n"
    }
   },
   "source": [
    "## Load data"
   ]
  },
  {
   "cell_type": "code",
   "execution_count": 2,
   "metadata": {},
   "outputs": [],
   "source": [
    "pd.set_option(\"display.max_columns\", None)\n",
    "BASE_DIR = Path.cwd().resolve().parents[1]"
   ]
  },
  {
   "cell_type": "code",
   "execution_count": 3,
   "metadata": {
    "collapsed": false,
    "jupyter": {
     "outputs_hidden": false
    },
    "pycharm": {
     "name": "#%%\n"
    }
   },
   "outputs": [],
   "source": [
    "df = pd.read_parquet(BASE_DIR / \"data/02_intermediate/data_message_classifier_interm.parquet\")"
   ]
  },
  {
   "cell_type": "markdown",
   "metadata": {},
   "source": [
    "## Exploration"
   ]
  },
  {
   "cell_type": "code",
   "execution_count": 4,
   "metadata": {
    "pycharm": {
     "name": "#%%\n"
    },
    "scrolled": true
   },
   "outputs": [
    {
     "name": "stdout",
     "output_type": "stream",
     "text": [
      "<class 'pandas.core.frame.DataFrame'>\n",
      "RangeIndex: 1000100 entries, 0 to 1000099\n",
      "Data columns (total 43 columns):\n",
      " #   Column              Non-Null Count    Dtype         \n",
      "---  ------              --------------    -----         \n",
      " 0   review_id           1000100 non-null  object        \n",
      " 1   user_id             1000100 non-null  object        \n",
      " 2   business_id         1000100 non-null  object        \n",
      " 3   stars               1000100 non-null  int64         \n",
      " 4   useful              1000100 non-null  int64         \n",
      " 5   funny               1000100 non-null  int64         \n",
      " 6   cool                1000100 non-null  int64         \n",
      " 7   text                1000100 non-null  object        \n",
      " 8   date                1000100 non-null  datetime64[ns]\n",
      " 9   name                1000092 non-null  object        \n",
      " 10  review_count        1000092 non-null  float64       \n",
      " 11  yelping_since       1000092 non-null  object        \n",
      " 12  useful_user         1000092 non-null  float64       \n",
      " 13  funny_user          1000092 non-null  float64       \n",
      " 14  cool_user           1000092 non-null  float64       \n",
      " 15  elite               1000092 non-null  object        \n",
      " 16  friends             1000092 non-null  object        \n",
      " 17  fans                1000092 non-null  float64       \n",
      " 18  average_stars       1000092 non-null  float64       \n",
      " 19  compliment_hot      1000092 non-null  float64       \n",
      " 20  compliment_more     1000092 non-null  float64       \n",
      " 21  compliment_profile  1000092 non-null  float64       \n",
      " 22  compliment_cute     1000092 non-null  float64       \n",
      " 23  compliment_list     1000092 non-null  float64       \n",
      " 24  compliment_note     1000092 non-null  float64       \n",
      " 25  compliment_plain    1000092 non-null  float64       \n",
      " 26  compliment_cool     1000092 non-null  float64       \n",
      " 27  compliment_funny    1000092 non-null  float64       \n",
      " 28  compliment_writer   1000092 non-null  float64       \n",
      " 29  compliment_photos   1000092 non-null  float64       \n",
      " 30  name_user           1000100 non-null  object        \n",
      " 31  address             1000100 non-null  object        \n",
      " 32  city                1000100 non-null  object        \n",
      " 33  state               1000100 non-null  object        \n",
      " 34  postal_code         1000100 non-null  object        \n",
      " 35  latitude            1000100 non-null  float64       \n",
      " 36  longitude           1000100 non-null  float64       \n",
      " 37  stars_user          1000100 non-null  float64       \n",
      " 38  review_count_user   1000100 non-null  int64         \n",
      " 39  is_open             1000100 non-null  int64         \n",
      " 40  attributes          962699 non-null   object        \n",
      " 41  categories          999964 non-null   object        \n",
      " 42  hours               950224 non-null   object        \n",
      "dtypes: datetime64[ns](1), float64(20), int64(6), object(16)\n",
      "memory usage: 328.1+ MB\n"
     ]
    }
   ],
   "source": [
    "df.info()"
   ]
  },
  {
   "cell_type": "code",
   "execution_count": 5,
   "metadata": {
    "scrolled": true
   },
   "outputs": [
    {
     "data": {
      "text/html": [
       "<div>\n",
       "<style scoped>\n",
       "    .dataframe tbody tr th:only-of-type {\n",
       "        vertical-align: middle;\n",
       "    }\n",
       "\n",
       "    .dataframe tbody tr th {\n",
       "        vertical-align: top;\n",
       "    }\n",
       "\n",
       "    .dataframe thead th {\n",
       "        text-align: right;\n",
       "    }\n",
       "</style>\n",
       "<table border=\"1\" class=\"dataframe\">\n",
       "  <thead>\n",
       "    <tr style=\"text-align: right;\">\n",
       "      <th></th>\n",
       "      <th>review_id</th>\n",
       "      <th>user_id</th>\n",
       "      <th>business_id</th>\n",
       "      <th>stars</th>\n",
       "      <th>useful</th>\n",
       "      <th>funny</th>\n",
       "      <th>cool</th>\n",
       "      <th>text</th>\n",
       "      <th>date</th>\n",
       "      <th>name</th>\n",
       "      <th>review_count</th>\n",
       "      <th>yelping_since</th>\n",
       "      <th>useful_user</th>\n",
       "      <th>funny_user</th>\n",
       "      <th>cool_user</th>\n",
       "      <th>elite</th>\n",
       "      <th>friends</th>\n",
       "      <th>fans</th>\n",
       "      <th>average_stars</th>\n",
       "      <th>compliment_hot</th>\n",
       "      <th>compliment_more</th>\n",
       "      <th>compliment_profile</th>\n",
       "      <th>compliment_cute</th>\n",
       "      <th>compliment_list</th>\n",
       "      <th>compliment_note</th>\n",
       "      <th>compliment_plain</th>\n",
       "      <th>compliment_cool</th>\n",
       "      <th>compliment_funny</th>\n",
       "      <th>compliment_writer</th>\n",
       "      <th>compliment_photos</th>\n",
       "      <th>name_user</th>\n",
       "      <th>address</th>\n",
       "      <th>city</th>\n",
       "      <th>state</th>\n",
       "      <th>postal_code</th>\n",
       "      <th>latitude</th>\n",
       "      <th>longitude</th>\n",
       "      <th>stars_user</th>\n",
       "      <th>review_count_user</th>\n",
       "      <th>is_open</th>\n",
       "      <th>attributes</th>\n",
       "      <th>categories</th>\n",
       "      <th>hours</th>\n",
       "    </tr>\n",
       "  </thead>\n",
       "  <tbody>\n",
       "    <tr>\n",
       "      <th>295744</th>\n",
       "      <td>rNBmnFOUvnnTiCzhIxeI6w</td>\n",
       "      <td>-YAlSBsxzwE-Vg4hm1MDPg</td>\n",
       "      <td>9xW7LsJpyhVZFRb6z9xorg</td>\n",
       "      <td>5</td>\n",
       "      <td>6</td>\n",
       "      <td>0</td>\n",
       "      <td>2</td>\n",
       "      <td>Penne Arrabiata. It is a simple dish of pasta ...</td>\n",
       "      <td>2020-09-10 00:12:54</td>\n",
       "      <td>Jacob</td>\n",
       "      <td>162.0</td>\n",
       "      <td>2008-06-03 01:46:02</td>\n",
       "      <td>191.0</td>\n",
       "      <td>63.0</td>\n",
       "      <td>117.0</td>\n",
       "      <td>2019,20,20,2021</td>\n",
       "      <td>xZZJ-d4WVdA8ht2xLL1V4Q, mx4vcqwgSHMjJg0-JbCkpg...</td>\n",
       "      <td>21.0</td>\n",
       "      <td>4.28</td>\n",
       "      <td>6.0</td>\n",
       "      <td>6.0</td>\n",
       "      <td>1.0</td>\n",
       "      <td>0.0</td>\n",
       "      <td>0.0</td>\n",
       "      <td>7.0</td>\n",
       "      <td>12.0</td>\n",
       "      <td>11.0</td>\n",
       "      <td>11.0</td>\n",
       "      <td>6.0</td>\n",
       "      <td>0.0</td>\n",
       "      <td>Ca' Dario Goleta</td>\n",
       "      <td>250 Storke Rd, Unit B</td>\n",
       "      <td>Goleta</td>\n",
       "      <td>CA</td>\n",
       "      <td>93117</td>\n",
       "      <td>34.429540</td>\n",
       "      <td>-119.869271</td>\n",
       "      <td>4.0</td>\n",
       "      <td>172</td>\n",
       "      <td>1</td>\n",
       "      <td>{'AcceptsInsurance': None, 'AgesAllowed': None...</td>\n",
       "      <td>Pizza, Nightlife, Italian, Bars, Restaurants, ...</td>\n",
       "      <td>{'Friday': '16:0-22:0', 'Monday': '16:0-21:0',...</td>\n",
       "    </tr>\n",
       "    <tr>\n",
       "      <th>870728</th>\n",
       "      <td>CKnQQEwLrihL5OIaDOCL5Q</td>\n",
       "      <td>Vg0-Hj1sk92UhPBcoFqalw</td>\n",
       "      <td>GWqPmrWu0kXB_-gB1H-j6A</td>\n",
       "      <td>4</td>\n",
       "      <td>2</td>\n",
       "      <td>0</td>\n",
       "      <td>1</td>\n",
       "      <td>This review is long overdue! \\nI finally had t...</td>\n",
       "      <td>2018-10-25 18:45:09</td>\n",
       "      <td>Nikky</td>\n",
       "      <td>159.0</td>\n",
       "      <td>2018-05-21 15:13:35</td>\n",
       "      <td>357.0</td>\n",
       "      <td>54.0</td>\n",
       "      <td>192.0</td>\n",
       "      <td>2018,2019,20,20,2021</td>\n",
       "      <td>p45X9TF6ZlCjsvAG_ag6Xw, aYa5DvAzmOfdUOHJLiWAYg...</td>\n",
       "      <td>39.0</td>\n",
       "      <td>4.02</td>\n",
       "      <td>6.0</td>\n",
       "      <td>0.0</td>\n",
       "      <td>0.0</td>\n",
       "      <td>0.0</td>\n",
       "      <td>0.0</td>\n",
       "      <td>15.0</td>\n",
       "      <td>11.0</td>\n",
       "      <td>10.0</td>\n",
       "      <td>10.0</td>\n",
       "      <td>6.0</td>\n",
       "      <td>9.0</td>\n",
       "      <td>Love &amp; Honey Fried Chicken</td>\n",
       "      <td>1100 N Front St</td>\n",
       "      <td>Philadelphia</td>\n",
       "      <td>PA</td>\n",
       "      <td>19123</td>\n",
       "      <td>39.967481</td>\n",
       "      <td>-75.136957</td>\n",
       "      <td>4.5</td>\n",
       "      <td>409</td>\n",
       "      <td>1</td>\n",
       "      <td>{'AcceptsInsurance': None, 'AgesAllowed': None...</td>\n",
       "      <td>Restaurants, Chicken Shop, Chicken Wings, Sand...</td>\n",
       "      <td>{'Friday': '11:0-16:0', 'Monday': '0:0-0:0', '...</td>\n",
       "    </tr>\n",
       "    <tr>\n",
       "      <th>493788</th>\n",
       "      <td>VY4MH8fsEuBaFQ9D2KmGKQ</td>\n",
       "      <td>gMpdDTOmjnRAfVqFmE11dQ</td>\n",
       "      <td>eYoOM8C9mEpdZx_wAsqcug</td>\n",
       "      <td>4</td>\n",
       "      <td>1</td>\n",
       "      <td>0</td>\n",
       "      <td>1</td>\n",
       "      <td>This place is great!  We tried the Carnitas Bu...</td>\n",
       "      <td>2019-11-12 12:09:27</td>\n",
       "      <td>Kaleb</td>\n",
       "      <td>53.0</td>\n",
       "      <td>2012-11-06 22:33:35</td>\n",
       "      <td>42.0</td>\n",
       "      <td>5.0</td>\n",
       "      <td>24.0</td>\n",
       "      <td>20,20</td>\n",
       "      <td>AHRrG3T1gJpHvtpZ-K0G_g, z8VkURoX-QGqs3pZNqNHkQ...</td>\n",
       "      <td>2.0</td>\n",
       "      <td>3.93</td>\n",
       "      <td>4.0</td>\n",
       "      <td>1.0</td>\n",
       "      <td>0.0</td>\n",
       "      <td>0.0</td>\n",
       "      <td>0.0</td>\n",
       "      <td>4.0</td>\n",
       "      <td>2.0</td>\n",
       "      <td>3.0</td>\n",
       "      <td>3.0</td>\n",
       "      <td>2.0</td>\n",
       "      <td>0.0</td>\n",
       "      <td>First Watch</td>\n",
       "      <td>3309 East 86th St</td>\n",
       "      <td>Indianapolis</td>\n",
       "      <td>IN</td>\n",
       "      <td>46240</td>\n",
       "      <td>39.910840</td>\n",
       "      <td>-86.109100</td>\n",
       "      <td>4.5</td>\n",
       "      <td>262</td>\n",
       "      <td>1</td>\n",
       "      <td>{'AcceptsInsurance': None, 'AgesAllowed': None...</td>\n",
       "      <td>American (Traditional), Food, Restaurants, Caf...</td>\n",
       "      <td>{'Friday': '7:0-14:30', 'Monday': '0:0-0:0', '...</td>\n",
       "    </tr>\n",
       "    <tr>\n",
       "      <th>877586</th>\n",
       "      <td>H7OJj5kdq0RpNJkBGlPziA</td>\n",
       "      <td>MfRZLLjL6gwiG2USIjIJtg</td>\n",
       "      <td>UQOR4jwKlNzxvgGjZTXIYA</td>\n",
       "      <td>5</td>\n",
       "      <td>3</td>\n",
       "      <td>2</td>\n",
       "      <td>4</td>\n",
       "      <td>It's rare that you find a hole in a wall and e...</td>\n",
       "      <td>2018-10-18 04:31:33</td>\n",
       "      <td>Tony</td>\n",
       "      <td>48.0</td>\n",
       "      <td>2018-05-26 15:51:27</td>\n",
       "      <td>110.0</td>\n",
       "      <td>71.0</td>\n",
       "      <td>43.0</td>\n",
       "      <td>2018</td>\n",
       "      <td>cBx_dQqxv3-2qL5wUhoD5A, blr4eOJ2JS99rS46s_sRPQ...</td>\n",
       "      <td>8.0</td>\n",
       "      <td>3.42</td>\n",
       "      <td>5.0</td>\n",
       "      <td>2.0</td>\n",
       "      <td>0.0</td>\n",
       "      <td>0.0</td>\n",
       "      <td>0.0</td>\n",
       "      <td>13.0</td>\n",
       "      <td>7.0</td>\n",
       "      <td>6.0</td>\n",
       "      <td>6.0</td>\n",
       "      <td>6.0</td>\n",
       "      <td>4.0</td>\n",
       "      <td>Zwick's Pretzels</td>\n",
       "      <td>12415 - 107 Avenue NW</td>\n",
       "      <td>Edmonton</td>\n",
       "      <td>AB</td>\n",
       "      <td>T5M 1Z2</td>\n",
       "      <td>53.550662</td>\n",
       "      <td>-113.536536</td>\n",
       "      <td>4.5</td>\n",
       "      <td>97</td>\n",
       "      <td>1</td>\n",
       "      <td>{'AcceptsInsurance': None, 'AgesAllowed': None...</td>\n",
       "      <td>Desserts, Bakeries, Sandwiches, Food, Restaurants</td>\n",
       "      <td>{'Friday': '10:0-18:0', 'Monday': None, 'Satur...</td>\n",
       "    </tr>\n",
       "    <tr>\n",
       "      <th>950624</th>\n",
       "      <td>nnr0XiPOPfFR98RA1yoeDQ</td>\n",
       "      <td>NhLnQfghAGOanvdOVROVDw</td>\n",
       "      <td>RSnJE62UUBttxJCHQY6FBA</td>\n",
       "      <td>1</td>\n",
       "      <td>1</td>\n",
       "      <td>0</td>\n",
       "      <td>0</td>\n",
       "      <td>Please do not EVER use this company and get st...</td>\n",
       "      <td>2018-08-02 00:24:36</td>\n",
       "      <td>Chloe</td>\n",
       "      <td>1.0</td>\n",
       "      <td>2018-08-02 00:24:34</td>\n",
       "      <td>1.0</td>\n",
       "      <td>0.0</td>\n",
       "      <td>0.0</td>\n",
       "      <td></td>\n",
       "      <td>hUXHgSfTFFz3cwVgNDzqxQ, IY7kifWf26GkV7Be3TH0aQ...</td>\n",
       "      <td>0.0</td>\n",
       "      <td>1.00</td>\n",
       "      <td>0.0</td>\n",
       "      <td>0.0</td>\n",
       "      <td>0.0</td>\n",
       "      <td>0.0</td>\n",
       "      <td>0.0</td>\n",
       "      <td>0.0</td>\n",
       "      <td>0.0</td>\n",
       "      <td>0.0</td>\n",
       "      <td>0.0</td>\n",
       "      <td>0.0</td>\n",
       "      <td>0.0</td>\n",
       "      <td>Go Go Philly Movers</td>\n",
       "      <td></td>\n",
       "      <td>Philadelphia</td>\n",
       "      <td>PA</td>\n",
       "      <td>19130</td>\n",
       "      <td>39.967819</td>\n",
       "      <td>-75.175462</td>\n",
       "      <td>4.0</td>\n",
       "      <td>35</td>\n",
       "      <td>1</td>\n",
       "      <td>{'AcceptsInsurance': None, 'AgesAllowed': None...</td>\n",
       "      <td>Home Services, Movers</td>\n",
       "      <td>{'Friday': '9:0-21:0', 'Monday': '9:0-21:0', '...</td>\n",
       "    </tr>\n",
       "  </tbody>\n",
       "</table>\n",
       "</div>"
      ],
      "text/plain": [
       "                     review_id                 user_id  \\\n",
       "295744  rNBmnFOUvnnTiCzhIxeI6w  -YAlSBsxzwE-Vg4hm1MDPg   \n",
       "870728  CKnQQEwLrihL5OIaDOCL5Q  Vg0-Hj1sk92UhPBcoFqalw   \n",
       "493788  VY4MH8fsEuBaFQ9D2KmGKQ  gMpdDTOmjnRAfVqFmE11dQ   \n",
       "877586  H7OJj5kdq0RpNJkBGlPziA  MfRZLLjL6gwiG2USIjIJtg   \n",
       "950624  nnr0XiPOPfFR98RA1yoeDQ  NhLnQfghAGOanvdOVROVDw   \n",
       "\n",
       "                   business_id  stars  useful  funny  cool  \\\n",
       "295744  9xW7LsJpyhVZFRb6z9xorg      5       6      0     2   \n",
       "870728  GWqPmrWu0kXB_-gB1H-j6A      4       2      0     1   \n",
       "493788  eYoOM8C9mEpdZx_wAsqcug      4       1      0     1   \n",
       "877586  UQOR4jwKlNzxvgGjZTXIYA      5       3      2     4   \n",
       "950624  RSnJE62UUBttxJCHQY6FBA      1       1      0     0   \n",
       "\n",
       "                                                     text                date  \\\n",
       "295744  Penne Arrabiata. It is a simple dish of pasta ... 2020-09-10 00:12:54   \n",
       "870728  This review is long overdue! \\nI finally had t... 2018-10-25 18:45:09   \n",
       "493788  This place is great!  We tried the Carnitas Bu... 2019-11-12 12:09:27   \n",
       "877586  It's rare that you find a hole in a wall and e... 2018-10-18 04:31:33   \n",
       "950624  Please do not EVER use this company and get st... 2018-08-02 00:24:36   \n",
       "\n",
       "         name  review_count        yelping_since  useful_user  funny_user  \\\n",
       "295744  Jacob         162.0  2008-06-03 01:46:02        191.0        63.0   \n",
       "870728  Nikky         159.0  2018-05-21 15:13:35        357.0        54.0   \n",
       "493788  Kaleb          53.0  2012-11-06 22:33:35         42.0         5.0   \n",
       "877586   Tony          48.0  2018-05-26 15:51:27        110.0        71.0   \n",
       "950624  Chloe           1.0  2018-08-02 00:24:34          1.0         0.0   \n",
       "\n",
       "        cool_user                 elite  \\\n",
       "295744      117.0       2019,20,20,2021   \n",
       "870728      192.0  2018,2019,20,20,2021   \n",
       "493788       24.0                 20,20   \n",
       "877586       43.0                  2018   \n",
       "950624        0.0                         \n",
       "\n",
       "                                                  friends  fans  \\\n",
       "295744  xZZJ-d4WVdA8ht2xLL1V4Q, mx4vcqwgSHMjJg0-JbCkpg...  21.0   \n",
       "870728  p45X9TF6ZlCjsvAG_ag6Xw, aYa5DvAzmOfdUOHJLiWAYg...  39.0   \n",
       "493788  AHRrG3T1gJpHvtpZ-K0G_g, z8VkURoX-QGqs3pZNqNHkQ...   2.0   \n",
       "877586  cBx_dQqxv3-2qL5wUhoD5A, blr4eOJ2JS99rS46s_sRPQ...   8.0   \n",
       "950624  hUXHgSfTFFz3cwVgNDzqxQ, IY7kifWf26GkV7Be3TH0aQ...   0.0   \n",
       "\n",
       "        average_stars  compliment_hot  compliment_more  compliment_profile  \\\n",
       "295744           4.28             6.0              6.0                 1.0   \n",
       "870728           4.02             6.0              0.0                 0.0   \n",
       "493788           3.93             4.0              1.0                 0.0   \n",
       "877586           3.42             5.0              2.0                 0.0   \n",
       "950624           1.00             0.0              0.0                 0.0   \n",
       "\n",
       "        compliment_cute  compliment_list  compliment_note  compliment_plain  \\\n",
       "295744              0.0              0.0              7.0              12.0   \n",
       "870728              0.0              0.0             15.0              11.0   \n",
       "493788              0.0              0.0              4.0               2.0   \n",
       "877586              0.0              0.0             13.0               7.0   \n",
       "950624              0.0              0.0              0.0               0.0   \n",
       "\n",
       "        compliment_cool  compliment_funny  compliment_writer  \\\n",
       "295744             11.0              11.0                6.0   \n",
       "870728             10.0              10.0                6.0   \n",
       "493788              3.0               3.0                2.0   \n",
       "877586              6.0               6.0                6.0   \n",
       "950624              0.0               0.0                0.0   \n",
       "\n",
       "        compliment_photos                   name_user                address  \\\n",
       "295744                0.0            Ca' Dario Goleta  250 Storke Rd, Unit B   \n",
       "870728                9.0  Love & Honey Fried Chicken        1100 N Front St   \n",
       "493788                0.0                 First Watch      3309 East 86th St   \n",
       "877586                4.0            Zwick's Pretzels  12415 - 107 Avenue NW   \n",
       "950624                0.0         Go Go Philly Movers                          \n",
       "\n",
       "                city state postal_code   latitude   longitude  stars_user  \\\n",
       "295744        Goleta    CA       93117  34.429540 -119.869271         4.0   \n",
       "870728  Philadelphia    PA       19123  39.967481  -75.136957         4.5   \n",
       "493788  Indianapolis    IN       46240  39.910840  -86.109100         4.5   \n",
       "877586      Edmonton    AB     T5M 1Z2  53.550662 -113.536536         4.5   \n",
       "950624  Philadelphia    PA       19130  39.967819  -75.175462         4.0   \n",
       "\n",
       "        review_count_user  is_open  \\\n",
       "295744                172        1   \n",
       "870728                409        1   \n",
       "493788                262        1   \n",
       "877586                 97        1   \n",
       "950624                 35        1   \n",
       "\n",
       "                                               attributes  \\\n",
       "295744  {'AcceptsInsurance': None, 'AgesAllowed': None...   \n",
       "870728  {'AcceptsInsurance': None, 'AgesAllowed': None...   \n",
       "493788  {'AcceptsInsurance': None, 'AgesAllowed': None...   \n",
       "877586  {'AcceptsInsurance': None, 'AgesAllowed': None...   \n",
       "950624  {'AcceptsInsurance': None, 'AgesAllowed': None...   \n",
       "\n",
       "                                               categories  \\\n",
       "295744  Pizza, Nightlife, Italian, Bars, Restaurants, ...   \n",
       "870728  Restaurants, Chicken Shop, Chicken Wings, Sand...   \n",
       "493788  American (Traditional), Food, Restaurants, Caf...   \n",
       "877586  Desserts, Bakeries, Sandwiches, Food, Restaurants   \n",
       "950624                              Home Services, Movers   \n",
       "\n",
       "                                                    hours  \n",
       "295744  {'Friday': '16:0-22:0', 'Monday': '16:0-21:0',...  \n",
       "870728  {'Friday': '11:0-16:0', 'Monday': '0:0-0:0', '...  \n",
       "493788  {'Friday': '7:0-14:30', 'Monday': '0:0-0:0', '...  \n",
       "877586  {'Friday': '10:0-18:0', 'Monday': None, 'Satur...  \n",
       "950624  {'Friday': '9:0-21:0', 'Monday': '9:0-21:0', '...  "
      ]
     },
     "execution_count": 5,
     "metadata": {},
     "output_type": "execute_result"
    }
   ],
   "source": [
    "df.sample(5)"
   ]
  },
  {
   "cell_type": "markdown",
   "metadata": {},
   "source": [
    "### Null Values"
   ]
  },
  {
   "cell_type": "code",
   "execution_count": 6,
   "metadata": {
    "scrolled": true
   },
   "outputs": [
    {
     "name": "stdout",
     "output_type": "stream",
     "text": [
      "\n",
      "Null values in Movie Data Set:\n"
     ]
    },
    {
     "data": {
      "text/plain": [
       "hours                 49876\n",
       "attributes            37401\n",
       "categories              136\n",
       "review_count              8\n",
       "compliment_photos         8\n",
       "compliment_writer         8\n",
       "compliment_funny          8\n",
       "compliment_cool           8\n",
       "compliment_plain          8\n",
       "compliment_note           8\n",
       "compliment_list           8\n",
       "compliment_cute           8\n",
       "name                      8\n",
       "compliment_more           8\n",
       "compliment_hot            8\n",
       "average_stars             8\n",
       "fans                      8\n",
       "friends                   8\n",
       "elite                     8\n",
       "cool_user                 8\n",
       "funny_user                8\n",
       "useful_user               8\n",
       "yelping_since             8\n",
       "compliment_profile        8\n",
       "dtype: int64"
      ]
     },
     "metadata": {},
     "output_type": "display_data"
    }
   ],
   "source": [
    "print(\"\\nNull values in Movie Data Set:\")\n",
    "null_counts = df.isnull().sum()\n",
    "display(null_counts[null_counts > 0].sort_values(ascending=False))"
   ]
  },
  {
   "cell_type": "code",
   "execution_count": 7,
   "metadata": {},
   "outputs": [],
   "source": [
    "df2 = df.dropna(subset=[\"useful_user\", \"funny_user\", \"cool_user\", \"fans\"])"
   ]
  },
  {
   "cell_type": "code",
   "execution_count": 8,
   "metadata": {},
   "outputs": [
    {
     "name": "stdout",
     "output_type": "stream",
     "text": [
      "\n",
      "Columns with more than 30% missing values:\n"
     ]
    },
    {
     "data": {
      "text/plain": [
       "Series([], dtype: float64)"
      ]
     },
     "metadata": {},
     "output_type": "display_data"
    }
   ],
   "source": [
    "print(\"\\nColumns with more than 30% missing values:\")\n",
    "null_threshold = 30\n",
    "null_percent = df.isnull().mean() * 100  # calculate & of null values\n",
    "display(null_percent[null_percent > null_threshold].sort_values(ascending=False))"
   ]
  },
  {
   "cell_type": "markdown",
   "metadata": {},
   "source": [
    "### Remove columns"
   ]
  },
  {
   "cell_type": "code",
   "execution_count": 9,
   "metadata": {},
   "outputs": [],
   "source": [
    "df3 = df2.drop(\n",
    "    columns=[\n",
    "        \"user_id\",\n",
    "        \"business_id\",\n",
    "        \"name\",\n",
    "        \"yelping_since\",\n",
    "        \"name_user\",\n",
    "        \"latitude\",\n",
    "        \"friends\",\n",
    "        \"postal_code\",\n",
    "        \"longitude\",\n",
    "        \"compliment_hot\",\n",
    "        \"compliment_more\",\n",
    "        \"compliment_profile\",\n",
    "        \"compliment_cute\",\n",
    "        \"compliment_list\",\n",
    "        \"compliment_note\",\n",
    "        \"compliment_plain\",\n",
    "        \"compliment_cool\",\n",
    "        \"compliment_funny\",\n",
    "        \"compliment_writer\",\n",
    "        \"compliment_photos\",\n",
    "        \"attributes\",\n",
    "        \"hours\",\n",
    "        \"review_count_user\",\n",
    "    ]\n",
    ")"
   ]
  },
  {
   "cell_type": "code",
   "execution_count": 10,
   "metadata": {},
   "outputs": [
    {
     "name": "stdout",
     "output_type": "stream",
     "text": [
      "<class 'pandas.core.frame.DataFrame'>\n",
      "Index: 1000092 entries, 0 to 1000099\n",
      "Data columns (total 20 columns):\n",
      " #   Column         Non-Null Count    Dtype         \n",
      "---  ------         --------------    -----         \n",
      " 0   review_id      1000092 non-null  object        \n",
      " 1   stars          1000092 non-null  int64         \n",
      " 2   useful         1000092 non-null  int64         \n",
      " 3   funny          1000092 non-null  int64         \n",
      " 4   cool           1000092 non-null  int64         \n",
      " 5   text           1000092 non-null  object        \n",
      " 6   date           1000092 non-null  datetime64[ns]\n",
      " 7   review_count   1000092 non-null  float64       \n",
      " 8   useful_user    1000092 non-null  float64       \n",
      " 9   funny_user     1000092 non-null  float64       \n",
      " 10  cool_user      1000092 non-null  float64       \n",
      " 11  elite          1000092 non-null  object        \n",
      " 12  fans           1000092 non-null  float64       \n",
      " 13  average_stars  1000092 non-null  float64       \n",
      " 14  address        1000092 non-null  object        \n",
      " 15  city           1000092 non-null  object        \n",
      " 16  state          1000092 non-null  object        \n",
      " 17  stars_user     1000092 non-null  float64       \n",
      " 18  is_open        1000092 non-null  int64         \n",
      " 19  categories     999956 non-null   object        \n",
      "dtypes: datetime64[ns](1), float64(7), int64(5), object(7)\n",
      "memory usage: 160.2+ MB\n"
     ]
    }
   ],
   "source": [
    "df3.info()"
   ]
  },
  {
   "cell_type": "code",
   "execution_count": 11,
   "metadata": {},
   "outputs": [
    {
     "data": {
      "text/plain": [
       "(1000092, 20)"
      ]
     },
     "execution_count": 11,
     "metadata": {},
     "output_type": "execute_result"
    }
   ],
   "source": [
    "df3.shape"
   ]
  },
  {
   "cell_type": "markdown",
   "metadata": {},
   "source": [
    "### Categorical Variables"
   ]
  },
  {
   "cell_type": "code",
   "execution_count": 12,
   "metadata": {},
   "outputs": [],
   "source": [
    "cols_categoric = [\n",
    "    \"stars\",\n",
    "    \"elite\",\n",
    "    \"city\",\n",
    "    \"state\",\n",
    "]"
   ]
  },
  {
   "cell_type": "code",
   "execution_count": 13,
   "metadata": {},
   "outputs": [],
   "source": [
    "df3[cols_categoric] = df3[cols_categoric].astype(\"category\")"
   ]
  },
  {
   "cell_type": "markdown",
   "metadata": {},
   "source": [
    "- Ordinal: stars"
   ]
  },
  {
   "cell_type": "markdown",
   "metadata": {},
   "source": [
    "- Nominal: elite, city, state"
   ]
  },
  {
   "cell_type": "markdown",
   "metadata": {},
   "source": [
    "### Numerical Variables"
   ]
  },
  {
   "cell_type": "code",
   "execution_count": 14,
   "metadata": {},
   "outputs": [],
   "source": [
    "cols_numeric = [\n",
    "    \"useful\",\n",
    "    \"funny\",\n",
    "    \"cool\",\n",
    "    \"review_count\",\n",
    "    \"useful_user\",\n",
    "    \"funny_user\",\n",
    "    \"cool_user\",\n",
    "    \"fans\",\n",
    "    \"average_stars\",\n",
    "    \"stars_user\",\n",
    "]"
   ]
  },
  {
   "cell_type": "markdown",
   "metadata": {},
   "source": [
    "- Float"
   ]
  },
  {
   "cell_type": "code",
   "execution_count": 15,
   "metadata": {},
   "outputs": [],
   "source": [
    "cols_numeric_float = [\"stars_user\", \"average_stars\"]"
   ]
  },
  {
   "cell_type": "code",
   "execution_count": 16,
   "metadata": {},
   "outputs": [],
   "source": [
    "df3[cols_numeric_float] = df3[cols_numeric_float].astype(\"float\")"
   ]
  },
  {
   "cell_type": "markdown",
   "metadata": {},
   "source": [
    "- Int"
   ]
  },
  {
   "cell_type": "code",
   "execution_count": 17,
   "metadata": {},
   "outputs": [],
   "source": [
    "cols_numeric_int = [\n",
    "    \"useful\",\n",
    "    \"funny\",\n",
    "    \"cool\",\n",
    "    \"review_count\",\n",
    "    \"useful_user\",\n",
    "    \"funny_user\",\n",
    "    \"cool_user\",\n",
    "    \"fans\",\n",
    "]"
   ]
  },
  {
   "cell_type": "code",
   "execution_count": 18,
   "metadata": {
    "scrolled": true
   },
   "outputs": [],
   "source": [
    "df3[cols_numeric_int] = df3[cols_numeric_int].astype(\"int32\")"
   ]
  },
  {
   "cell_type": "markdown",
   "metadata": {},
   "source": [
    "### Boolean Variables"
   ]
  },
  {
   "cell_type": "code",
   "execution_count": 19,
   "metadata": {},
   "outputs": [],
   "source": [
    "cols_boolean = [\"is_open\"]"
   ]
  },
  {
   "cell_type": "code",
   "execution_count": 20,
   "metadata": {},
   "outputs": [],
   "source": [
    "df3[cols_boolean] = df3[cols_boolean].astype(\"bool\")"
   ]
  },
  {
   "cell_type": "markdown",
   "metadata": {},
   "source": [
    "### String Variables"
   ]
  },
  {
   "cell_type": "code",
   "execution_count": 21,
   "metadata": {},
   "outputs": [],
   "source": [
    "cols_string = [\"review_id\", \"text\", \"address\", \"categories\"]"
   ]
  },
  {
   "cell_type": "code",
   "execution_count": 22,
   "metadata": {},
   "outputs": [],
   "source": [
    "df3[cols_string] = df3[cols_string].astype(\"object\")"
   ]
  },
  {
   "cell_type": "markdown",
   "metadata": {},
   "source": [
    "### Date Variables"
   ]
  },
  {
   "cell_type": "code",
   "execution_count": 23,
   "metadata": {},
   "outputs": [],
   "source": [
    "col_date = [\"date\"]"
   ]
  },
  {
   "cell_type": "code",
   "execution_count": 24,
   "metadata": {},
   "outputs": [],
   "source": [
    "df3[col_date] = df3[col_date].astype(\"datetime64[ns]\")"
   ]
  },
  {
   "cell_type": "markdown",
   "metadata": {},
   "source": [
    "### Schema"
   ]
  },
  {
   "cell_type": "code",
   "execution_count": 25,
   "metadata": {},
   "outputs": [
    {
     "name": "stdout",
     "output_type": "stream",
     "text": [
      "<class 'pandas.core.frame.DataFrame'>\n",
      "Index: 1000092 entries, 0 to 1000099\n",
      "Data columns (total 20 columns):\n",
      " #   Column         Non-Null Count    Dtype         \n",
      "---  ------         --------------    -----         \n",
      " 0   review_id      1000092 non-null  object        \n",
      " 1   stars          1000092 non-null  category      \n",
      " 2   useful         1000092 non-null  int32         \n",
      " 3   funny          1000092 non-null  int32         \n",
      " 4   cool           1000092 non-null  int32         \n",
      " 5   text           1000092 non-null  object        \n",
      " 6   date           1000092 non-null  datetime64[ns]\n",
      " 7   review_count   1000092 non-null  int32         \n",
      " 8   useful_user    1000092 non-null  int32         \n",
      " 9   funny_user     1000092 non-null  int32         \n",
      " 10  cool_user      1000092 non-null  int32         \n",
      " 11  elite          1000092 non-null  category      \n",
      " 12  fans           1000092 non-null  int32         \n",
      " 13  average_stars  1000092 non-null  float64       \n",
      " 14  address        1000092 non-null  object        \n",
      " 15  city           1000092 non-null  category      \n",
      " 16  state          1000092 non-null  category      \n",
      " 17  stars_user     1000092 non-null  float64       \n",
      " 18  is_open        1000092 non-null  bool          \n",
      " 19  categories     999956 non-null   object        \n",
      "dtypes: bool(1), category(4), datetime64[ns](1), float64(2), int32(8), object(4)\n",
      "memory usage: 98.3+ MB\n"
     ]
    }
   ],
   "source": [
    "df3.info()"
   ]
  },
  {
   "cell_type": "code",
   "execution_count": 26,
   "metadata": {},
   "outputs": [],
   "source": [
    "schema = pa.Schema.from_pandas(df3, preserve_index=False)"
   ]
  },
  {
   "cell_type": "code",
   "execution_count": 27,
   "metadata": {},
   "outputs": [
    {
     "data": {
      "text/plain": [
       "review_id: string\n",
       "stars: dictionary<values=int64, indices=int8, ordered=0>\n",
       "useful: int32\n",
       "funny: int32\n",
       "cool: int32\n",
       "text: string\n",
       "date: timestamp[ns]\n",
       "review_count: int32\n",
       "useful_user: int32\n",
       "funny_user: int32\n",
       "cool_user: int32\n",
       "elite: dictionary<values=string, indices=int16, ordered=0>\n",
       "fans: int32\n",
       "average_stars: double\n",
       "address: string\n",
       "city: dictionary<values=string, indices=int16, ordered=0>\n",
       "state: dictionary<values=string, indices=int8, ordered=0>\n",
       "stars_user: double\n",
       "is_open: bool\n",
       "categories: string\n",
       "-- schema metadata --\n",
       "pandas: '{\"index_columns\": [], \"column_indexes\": [], \"columns\": [{\"name\":' + 2501"
      ]
     },
     "execution_count": 27,
     "metadata": {},
     "output_type": "execute_result"
    }
   ],
   "source": [
    "schema"
   ]
  },
  {
   "cell_type": "markdown",
   "metadata": {},
   "source": [
    "## Basic Statistics"
   ]
  },
  {
   "cell_type": "code",
   "execution_count": 28,
   "metadata": {},
   "outputs": [
    {
     "data": {
      "text/html": [
       "<div>\n",
       "<style scoped>\n",
       "    .dataframe tbody tr th:only-of-type {\n",
       "        vertical-align: middle;\n",
       "    }\n",
       "\n",
       "    .dataframe tbody tr th {\n",
       "        vertical-align: top;\n",
       "    }\n",
       "\n",
       "    .dataframe thead th {\n",
       "        text-align: right;\n",
       "    }\n",
       "</style>\n",
       "<table border=\"1\" class=\"dataframe\">\n",
       "  <thead>\n",
       "    <tr style=\"text-align: right;\">\n",
       "      <th></th>\n",
       "      <th>review_id</th>\n",
       "      <th>stars</th>\n",
       "      <th>text</th>\n",
       "      <th>elite</th>\n",
       "      <th>address</th>\n",
       "      <th>city</th>\n",
       "      <th>state</th>\n",
       "      <th>categories</th>\n",
       "    </tr>\n",
       "  </thead>\n",
       "  <tbody>\n",
       "    <tr>\n",
       "      <th>count</th>\n",
       "      <td>1000092</td>\n",
       "      <td>1000092</td>\n",
       "      <td>1000092</td>\n",
       "      <td>1000092</td>\n",
       "      <td>1000092</td>\n",
       "      <td>1000092</td>\n",
       "      <td>1000092</td>\n",
       "      <td>999956</td>\n",
       "    </tr>\n",
       "    <tr>\n",
       "      <th>unique</th>\n",
       "      <td>1000092</td>\n",
       "      <td>5</td>\n",
       "      <td>999102</td>\n",
       "      <td>700</td>\n",
       "      <td>91369</td>\n",
       "      <td>1228</td>\n",
       "      <td>24</td>\n",
       "      <td>62454</td>\n",
       "    </tr>\n",
       "    <tr>\n",
       "      <th>top</th>\n",
       "      <td>LgfSWgq5DzgoFzNW6YwfSg</td>\n",
       "      <td>5</td>\n",
       "      <td>So they have policy changes and NEVER Let the ...</td>\n",
       "      <td></td>\n",
       "      <td></td>\n",
       "      <td>Philadelphia</td>\n",
       "      <td>PA</td>\n",
       "      <td>Restaurants, Mexican</td>\n",
       "    </tr>\n",
       "    <tr>\n",
       "      <th>freq</th>\n",
       "      <td>1</td>\n",
       "      <td>463862</td>\n",
       "      <td>7</td>\n",
       "      <td>610308</td>\n",
       "      <td>14713</td>\n",
       "      <td>113054</td>\n",
       "      <td>200366</td>\n",
       "      <td>7277</td>\n",
       "    </tr>\n",
       "  </tbody>\n",
       "</table>\n",
       "</div>"
      ],
      "text/plain": [
       "                     review_id    stars  \\\n",
       "count                  1000092  1000092   \n",
       "unique                 1000092        5   \n",
       "top     LgfSWgq5DzgoFzNW6YwfSg        5   \n",
       "freq                         1   463862   \n",
       "\n",
       "                                                     text    elite  address  \\\n",
       "count                                             1000092  1000092  1000092   \n",
       "unique                                             999102      700    91369   \n",
       "top     So they have policy changes and NEVER Let the ...                     \n",
       "freq                                                    7   610308    14713   \n",
       "\n",
       "                city    state            categories  \n",
       "count        1000092  1000092                999956  \n",
       "unique          1228       24                 62454  \n",
       "top     Philadelphia       PA  Restaurants, Mexican  \n",
       "freq          113054   200366                  7277  "
      ]
     },
     "execution_count": 28,
     "metadata": {},
     "output_type": "execute_result"
    }
   ],
   "source": [
    "df3.describe(include=[\"object\", \"category\"])"
   ]
  },
  {
   "cell_type": "code",
   "execution_count": 29,
   "metadata": {
    "scrolled": true
   },
   "outputs": [
    {
     "name": "stdout",
     "output_type": "stream",
     "text": [
      "\n",
      "🔍 Column analysis: useful\n",
      "--------------------------------------------------\n",
      "📊 Summary statistics:\n",
      "count    1.000092e+06\n",
      "mean     2.436598e+00\n",
      "std      4.411195e+00\n",
      "min      1.000000e+00\n",
      "25%      1.000000e+00\n",
      "50%      1.000000e+00\n",
      "75%      2.000000e+00\n",
      "max      5.390000e+02\n",
      "Name: useful, dtype: float64\n",
      "\n",
      "🔢 Unique values (193):\n",
      "[ 1  3  2  6  8  5  4 10  7 25 23 52 11 13 12 18  9 67 14 15]\n",
      "\n",
      "🔍 Column analysis: funny\n",
      "--------------------------------------------------\n",
      "📊 Summary statistics:\n",
      "count    1.000092e+06\n",
      "mean     5.257036e-01\n",
      "std      2.165200e+00\n",
      "min      0.000000e+00\n",
      "25%      0.000000e+00\n",
      "50%      0.000000e+00\n",
      "75%      0.000000e+00\n",
      "max      1.800000e+02\n",
      "Name: funny, dtype: float64\n",
      "\n",
      "🔢 Unique values (119):\n",
      "[ 0  1  2  4  3  5  6  7 27  9 18  8 10 19 21 23 26 16 13 11]\n",
      "\n",
      "🔍 Column analysis: cool\n",
      "--------------------------------------------------\n",
      "📊 Summary statistics:\n",
      "count    1.000092e+06\n",
      "mean     1.156940e+00\n",
      "std      3.798284e+00\n",
      "min      0.000000e+00\n",
      "25%      0.000000e+00\n",
      "50%      0.000000e+00\n",
      "75%      1.000000e+00\n",
      "max      3.040000e+02\n",
      "Name: cool, dtype: float64\n",
      "\n",
      "🔢 Unique values (181):\n",
      "[ 1  0  2  5  7  4  3  6  9 25 19 54 11 10 12  8 18 14 15 28]\n",
      "\n",
      "🔍 Column analysis: review_count\n",
      "--------------------------------------------------\n",
      "📊 Summary statistics:\n",
      "count    1.000092e+06\n",
      "mean     1.676917e+02\n",
      "std      4.745711e+02\n",
      "min      1.000000e+00\n",
      "25%      9.000000e+00\n",
      "50%      4.000000e+01\n",
      "75%      1.520000e+02\n",
      "max      1.747300e+04\n",
      "Name: review_count, dtype: float64\n",
      "\n",
      "🔢 Unique values (1723):\n",
      "[  5  48  79  32 281 576  18 131  51  67 488  81 556 118   2  86 456  90\n",
      "  44 195]\n",
      "\n",
      "🔍 Column analysis: useful_user\n",
      "--------------------------------------------------\n",
      "📊 Summary statistics:\n",
      "count    1.000092e+06\n",
      "mean     7.531326e+02\n",
      "std      4.992158e+03\n",
      "min      0.000000e+00\n",
      "25%      6.000000e+00\n",
      "50%      3.600000e+01\n",
      "75%      2.040000e+02\n",
      "max      2.062960e+05\n",
      "Name: useful_user, dtype: float64\n",
      "\n",
      "🔢 Unique values (4065):\n",
      "[   4   95   66   33  952 1061   10  182   54 2057   51  559  537    0\n",
      "   44 2036  147   23   29  276]\n",
      "\n",
      "🔍 Column analysis: funny_user\n",
      "--------------------------------------------------\n",
      "📊 Summary statistics:\n",
      "count    1.000092e+06\n",
      "mean     3.007691e+02\n",
      "std      3.163848e+03\n",
      "min      0.000000e+00\n",
      "25%      1.000000e+00\n",
      "50%      6.000000e+00\n",
      "75%      3.900000e+01\n",
      "max      1.858230e+05\n",
      "Name: funny_user, dtype: float64\n",
      "\n",
      "🔢 Unique values (2692):\n",
      "[   0   13   19  452  102   10    3  544    5   63   96    2 1113    7\n",
      "   14  473  630   11   59 2755]\n",
      "\n",
      "🔍 Column analysis: cool_user\n",
      "--------------------------------------------------\n",
      "📊 Summary statistics:\n",
      "count    1.000092e+06\n",
      "mean     5.635780e+02\n",
      "std      4.419928e+03\n",
      "min      0.000000e+00\n",
      "25%      1.000000e+00\n",
      "50%      1.100000e+01\n",
      "75%      9.900000e+01\n",
      "max      1.958140e+05\n",
      "Name: cool_user, dtype: float64\n",
      "\n",
      "🔢 Unique values (3367):\n",
      "[   2    6   23   12  498  763   93   14   13 1726   15  326  342    0\n",
      " 1242   97   20   10  148   31]\n",
      "\n",
      "🔍 Column analysis: fans\n",
      "--------------------------------------------------\n",
      "📊 Summary statistics:\n",
      "count    1.000092e+06\n",
      "mean     2.113115e+01\n",
      "std      1.136864e+02\n",
      "min      0.000000e+00\n",
      "25%      0.000000e+00\n",
      "50%      1.000000e+00\n",
      "75%      8.000000e+00\n",
      "max      1.249700e+04\n",
      "Name: fans, dtype: float64\n",
      "\n",
      "🔢 Unique values (575):\n",
      "[  0   1  23  41   6   2  79   9  22  45   5  12  56 167  11 568  17 563\n",
      "  33   4]\n",
      "\n",
      "🔍 Column analysis: average_stars\n",
      "--------------------------------------------------\n",
      "📊 Summary statistics:\n",
      "count    1.000092e+06\n",
      "mean     3.727013e+00\n",
      "std      9.201120e-01\n",
      "min      1.000000e+00\n",
      "25%      3.400000e+00\n",
      "50%      3.950000e+00\n",
      "75%      4.320000e+00\n",
      "max      5.000000e+00\n",
      "Name: average_stars, dtype: float64\n",
      "\n",
      "🔢 Unique values (400):\n",
      "[4.5  2.46 3.59 4.05 4.14 4.33 4.43 3.8  4.19 4.11 4.06 4.41 4.29 4.17\n",
      " 4.4  4.53 3.68 4.48 4.15 4.24]\n",
      "\n",
      "🔍 Column analysis: stars_user\n",
      "--------------------------------------------------\n",
      "📊 Summary statistics:\n",
      "count    1.000092e+06\n",
      "mean     3.782001e+00\n",
      "std      8.207976e-01\n",
      "min      1.000000e+00\n",
      "25%      3.500000e+00\n",
      "50%      4.000000e+00\n",
      "75%      4.500000e+00\n",
      "max      5.000000e+00\n",
      "Name: stars_user, dtype: float64\n",
      "\n",
      "🔢 Unique values (9):\n",
      "[4.5 3.5 5.  4.  3.  2.5 1.5 1.  2. ]\n",
      "\n",
      "📈 Value counts:\n",
      "stars_user\n",
      "1.0      7445\n",
      "1.5     20726\n",
      "2.0     36629\n",
      "2.5     57171\n",
      "3.0     86736\n",
      "3.5    169425\n",
      "4.0    303203\n",
      "4.5    264326\n",
      "5.0     54431\n",
      "Name: count, dtype: int64\n"
     ]
    }
   ],
   "source": [
    "MAX_UNIQUE_DISPLAY = 20\n",
    "\n",
    "for column in cols_numeric:\n",
    "    print(f\"\\n🔍 Column analysis: {column}\")\n",
    "    print(\"-\" * 50)\n",
    "\n",
    "    # Step 1: Summary statistics\n",
    "    print(\"📊 Summary statistics:\")\n",
    "    print(df3[column].describe())\n",
    "\n",
    "    # Step 2: Unique values (limit if too many)\n",
    "    unique_vals = df3[column].unique()\n",
    "    print(f\"\\n🔢 Unique values ({len(unique_vals)}):\")\n",
    "    print(\n",
    "        unique_vals if len(unique_vals) <= MAX_UNIQUE_DISPLAY else unique_vals[:MAX_UNIQUE_DISPLAY]\n",
    "    )\n",
    "\n",
    "    # Step 3: Value counts (only if few unique values)\n",
    "    if df3[column].nunique() <= MAX_UNIQUE_DISPLAY:\n",
    "        print(\"\\n📈 Value counts:\")\n",
    "        print(df3[column].value_counts().sort_index())"
   ]
  },
  {
   "cell_type": "markdown",
   "metadata": {},
   "source": [
    "## Save reviews data intermediate"
   ]
  },
  {
   "cell_type": "code",
   "execution_count": 30,
   "metadata": {
    "scrolled": true
   },
   "outputs": [],
   "source": [
    "df3.to_parquet(\n",
    "    BASE_DIR / \"data/03_primary/data_message_classifier_primary.parquet\",\n",
    "    index=False,\n",
    "    schema=schema,\n",
    ")"
   ]
  }
 ],
 "metadata": {
  "kernelspec": {
   "display_name": "Python 3.11 (ml-message-classifier)",
   "language": "python",
   "name": "ml-message-classifier"
  },
  "language_info": {
   "codemirror_mode": {
    "name": "ipython",
    "version": 3
   },
   "file_extension": ".py",
   "mimetype": "text/x-python",
   "name": "python",
   "nbconvert_exporter": "python",
   "pygments_lexer": "ipython3",
   "version": "3.11.12"
  }
 },
 "nbformat": 4,
 "nbformat_minor": 4
}
