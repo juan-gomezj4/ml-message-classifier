{
 "cells": [
  {
   "cell_type": "markdown",
   "metadata": {},
   "source": [
    "## Title\n",
    "Data Raw Exploration\n",
    "\n",
    "### By:\n",
    "Juan Gómez\n",
    "\n",
    "### Date:\n",
    "2024-05-16\n",
    "\n",
    "### Description:\n",
    "\n",
    "This notebook explores the raw Yelp Open Dataset. It shows basic statistics, checks missing values, and looks at trends in popularity, genres, and ratings. The goal is to understand the data before building a recommendation system.\n"
   ]
  },
  {
   "cell_type": "markdown",
   "metadata": {
    "pycharm": {
     "name": "#%% md\n"
    }
   },
   "source": [
    "## Import  libraries"
   ]
  },
  {
   "cell_type": "code",
   "execution_count": 1,
   "metadata": {
    "collapsed": false,
    "jupyter": {
     "outputs_hidden": false
    },
    "pycharm": {
     "name": "#%%\n"
    }
   },
   "outputs": [],
   "source": [
    "import pandas as pd"
   ]
  },
  {
   "cell_type": "markdown",
   "metadata": {
    "pycharm": {
     "name": "#%% md\n"
    }
   },
   "source": [
    "## Load data"
   ]
  },
  {
   "cell_type": "code",
   "execution_count": 2,
   "metadata": {},
   "outputs": [],
   "source": [
    "from pathlib import Path\n",
    "\n",
    "pd.set_option(\"display.max_columns\", None)\n",
    "\n",
    "BASE_DIR = Path.cwd().resolve().parents[1]"
   ]
  },
  {
   "cell_type": "code",
   "execution_count": 3,
   "metadata": {
    "collapsed": false,
    "jupyter": {
     "outputs_hidden": false
    },
    "pycharm": {
     "name": "#%%\n"
    }
   },
   "outputs": [],
   "source": [
    "df = pd.read_parquet(BASE_DIR / \"data/01_raw/data_message_classifier_raw.parquet\")"
   ]
  },
  {
   "cell_type": "markdown",
   "metadata": {},
   "source": [
    "## Exploration"
   ]
  },
  {
   "cell_type": "code",
   "execution_count": 4,
   "metadata": {
    "pycharm": {
     "name": "#%%\n"
    },
    "scrolled": true
   },
   "outputs": [
    {
     "name": "stdout",
     "output_type": "stream",
     "text": [
      "<class 'pandas.core.frame.DataFrame'>\n",
      "RangeIndex: 1500000 entries, 0 to 1499999\n",
      "Data columns (total 43 columns):\n",
      " #   Column              Non-Null Count    Dtype         \n",
      "---  ------              --------------    -----         \n",
      " 0   review_id           1500000 non-null  object        \n",
      " 1   user_id             1500000 non-null  object        \n",
      " 2   business_id         1500000 non-null  object        \n",
      " 3   stars               1500000 non-null  int64         \n",
      " 4   useful              1500000 non-null  int64         \n",
      " 5   funny               1500000 non-null  int64         \n",
      " 6   cool                1500000 non-null  int64         \n",
      " 7   text                1500000 non-null  object        \n",
      " 8   date                1500000 non-null  datetime64[ns]\n",
      " 9   name                1499992 non-null  object        \n",
      " 10  review_count        1499992 non-null  float64       \n",
      " 11  yelping_since       1499992 non-null  object        \n",
      " 12  useful_user         1499992 non-null  float64       \n",
      " 13  funny_user          1499992 non-null  float64       \n",
      " 14  cool_user           1499992 non-null  float64       \n",
      " 15  elite               1499992 non-null  object        \n",
      " 16  friends             1499992 non-null  object        \n",
      " 17  fans                1499992 non-null  float64       \n",
      " 18  average_stars       1499992 non-null  float64       \n",
      " 19  compliment_hot      1499992 non-null  float64       \n",
      " 20  compliment_more     1499992 non-null  float64       \n",
      " 21  compliment_profile  1499992 non-null  float64       \n",
      " 22  compliment_cute     1499992 non-null  float64       \n",
      " 23  compliment_list     1499992 non-null  float64       \n",
      " 24  compliment_note     1499992 non-null  float64       \n",
      " 25  compliment_plain    1499992 non-null  float64       \n",
      " 26  compliment_cool     1499992 non-null  float64       \n",
      " 27  compliment_funny    1499992 non-null  float64       \n",
      " 28  compliment_writer   1499992 non-null  float64       \n",
      " 29  compliment_photos   1499992 non-null  float64       \n",
      " 30  name_user           1500000 non-null  object        \n",
      " 31  address             1500000 non-null  object        \n",
      " 32  city                1500000 non-null  object        \n",
      " 33  state               1500000 non-null  object        \n",
      " 34  postal_code         1500000 non-null  object        \n",
      " 35  latitude            1500000 non-null  float64       \n",
      " 36  longitude           1500000 non-null  float64       \n",
      " 37  stars_user          1500000 non-null  float64       \n",
      " 38  review_count_user   1500000 non-null  int64         \n",
      " 39  is_open             1500000 non-null  int64         \n",
      " 40  attributes          1447264 non-null  object        \n",
      " 41  categories          1499791 non-null  object        \n",
      " 42  hours               1423302 non-null  object        \n",
      "dtypes: datetime64[ns](1), float64(20), int64(6), object(16)\n",
      "memory usage: 492.1+ MB\n"
     ]
    }
   ],
   "source": [
    "df.info()"
   ]
  },
  {
   "cell_type": "code",
   "execution_count": 5,
   "metadata": {
    "scrolled": true
   },
   "outputs": [
    {
     "data": {
      "text/html": [
       "<div>\n",
       "<style scoped>\n",
       "    .dataframe tbody tr th:only-of-type {\n",
       "        vertical-align: middle;\n",
       "    }\n",
       "\n",
       "    .dataframe tbody tr th {\n",
       "        vertical-align: top;\n",
       "    }\n",
       "\n",
       "    .dataframe thead th {\n",
       "        text-align: right;\n",
       "    }\n",
       "</style>\n",
       "<table border=\"1\" class=\"dataframe\">\n",
       "  <thead>\n",
       "    <tr style=\"text-align: right;\">\n",
       "      <th></th>\n",
       "      <th>review_id</th>\n",
       "      <th>user_id</th>\n",
       "      <th>business_id</th>\n",
       "      <th>stars</th>\n",
       "      <th>useful</th>\n",
       "      <th>funny</th>\n",
       "      <th>cool</th>\n",
       "      <th>text</th>\n",
       "      <th>date</th>\n",
       "      <th>name</th>\n",
       "      <th>review_count</th>\n",
       "      <th>yelping_since</th>\n",
       "      <th>useful_user</th>\n",
       "      <th>funny_user</th>\n",
       "      <th>cool_user</th>\n",
       "      <th>elite</th>\n",
       "      <th>friends</th>\n",
       "      <th>fans</th>\n",
       "      <th>average_stars</th>\n",
       "      <th>compliment_hot</th>\n",
       "      <th>compliment_more</th>\n",
       "      <th>compliment_profile</th>\n",
       "      <th>compliment_cute</th>\n",
       "      <th>compliment_list</th>\n",
       "      <th>compliment_note</th>\n",
       "      <th>compliment_plain</th>\n",
       "      <th>compliment_cool</th>\n",
       "      <th>compliment_funny</th>\n",
       "      <th>compliment_writer</th>\n",
       "      <th>compliment_photos</th>\n",
       "      <th>name_user</th>\n",
       "      <th>address</th>\n",
       "      <th>city</th>\n",
       "      <th>state</th>\n",
       "      <th>postal_code</th>\n",
       "      <th>latitude</th>\n",
       "      <th>longitude</th>\n",
       "      <th>stars_user</th>\n",
       "      <th>review_count_user</th>\n",
       "      <th>is_open</th>\n",
       "      <th>attributes</th>\n",
       "      <th>categories</th>\n",
       "      <th>hours</th>\n",
       "    </tr>\n",
       "  </thead>\n",
       "  <tbody>\n",
       "    <tr>\n",
       "      <th>882083</th>\n",
       "      <td>nARO7Q0n2ggkCSY2YzSHyw</td>\n",
       "      <td>P8iuveHmlqJDjq_XFlR0XA</td>\n",
       "      <td>QFh-h_OZ5Io-mBk32HN28A</td>\n",
       "      <td>4</td>\n",
       "      <td>1</td>\n",
       "      <td>0</td>\n",
       "      <td>0</td>\n",
       "      <td>It was my first time in Santa Barbara, and I d...</td>\n",
       "      <td>2018-10-13 10:02:04</td>\n",
       "      <td>Kelsey</td>\n",
       "      <td>463.0</td>\n",
       "      <td>2015-03-11 14:59:32</td>\n",
       "      <td>654.0</td>\n",
       "      <td>118.0</td>\n",
       "      <td>346.0</td>\n",
       "      <td>2017,2018,2019</td>\n",
       "      <td>2vvB0UfKTrCcCDkIVynEQw, apfy2d2uhE4u1b7iu6odZA...</td>\n",
       "      <td>20.0</td>\n",
       "      <td>4.05</td>\n",
       "      <td>3.0</td>\n",
       "      <td>2.0</td>\n",
       "      <td>0.0</td>\n",
       "      <td>1.0</td>\n",
       "      <td>0.0</td>\n",
       "      <td>6.0</td>\n",
       "      <td>6.0</td>\n",
       "      <td>32.0</td>\n",
       "      <td>32.0</td>\n",
       "      <td>1.0</td>\n",
       "      <td>7.0</td>\n",
       "      <td>Kyle's Kitchen</td>\n",
       "      <td>791 Chapala St</td>\n",
       "      <td>Santa Barbara</td>\n",
       "      <td>CA</td>\n",
       "      <td>93101</td>\n",
       "      <td>34.418269</td>\n",
       "      <td>-119.700512</td>\n",
       "      <td>4.0</td>\n",
       "      <td>638</td>\n",
       "      <td>1</td>\n",
       "      <td>{'AcceptsInsurance': None, 'AgesAllowed': None...</td>\n",
       "      <td>Cafes, Restaurants, Sandwiches, Chicken Shop, ...</td>\n",
       "      <td>{'Friday': '11:0-21:0', 'Monday': '11:0-21:0',...</td>\n",
       "    </tr>\n",
       "    <tr>\n",
       "      <th>1444391</th>\n",
       "      <td>Uk5wSM3lFOcDmt8lr0i0yQ</td>\n",
       "      <td>vjfi0yDfkRX3pLkiW5WT9A</td>\n",
       "      <td>317lIGWVcxcVWdVo6ZKHwg</td>\n",
       "      <td>5</td>\n",
       "      <td>5</td>\n",
       "      <td>2</td>\n",
       "      <td>3</td>\n",
       "      <td>Still is and will always be my favorite go-to-...</td>\n",
       "      <td>2017-03-13 03:59:02</td>\n",
       "      <td>Linda</td>\n",
       "      <td>86.0</td>\n",
       "      <td>2015-10-04 20:44:20</td>\n",
       "      <td>353.0</td>\n",
       "      <td>141.0</td>\n",
       "      <td>301.0</td>\n",
       "      <td>2017,2018,2019</td>\n",
       "      <td>IbE1zmshWup8Xy-ZqW3LKw, aYV0MlhTSqDCPTdVxmVUvg...</td>\n",
       "      <td>4.0</td>\n",
       "      <td>4.58</td>\n",
       "      <td>34.0</td>\n",
       "      <td>1.0</td>\n",
       "      <td>0.0</td>\n",
       "      <td>0.0</td>\n",
       "      <td>0.0</td>\n",
       "      <td>13.0</td>\n",
       "      <td>25.0</td>\n",
       "      <td>33.0</td>\n",
       "      <td>33.0</td>\n",
       "      <td>10.0</td>\n",
       "      <td>17.0</td>\n",
       "      <td>Galaxy Theatres Legends IMAX, Sparks</td>\n",
       "      <td>1170 Scheels Dr</td>\n",
       "      <td>Sparks</td>\n",
       "      <td>NV</td>\n",
       "      <td>89434</td>\n",
       "      <td>39.531701</td>\n",
       "      <td>-119.722949</td>\n",
       "      <td>4.0</td>\n",
       "      <td>471</td>\n",
       "      <td>1</td>\n",
       "      <td>{'AcceptsInsurance': None, 'AgesAllowed': None...</td>\n",
       "      <td>Cinema, Arts &amp; Entertainment</td>\n",
       "      <td>{'Friday': '9:30-23:0', 'Monday': '9:30-23:0',...</td>\n",
       "    </tr>\n",
       "    <tr>\n",
       "      <th>1323264</th>\n",
       "      <td>SZrPIIo67AB1eQ2GANkzpA</td>\n",
       "      <td>thG-cez7fcX3E-DCINmvwg</td>\n",
       "      <td>S2Ho8yLxhKAa26pBAm6rxA</td>\n",
       "      <td>4</td>\n",
       "      <td>3</td>\n",
       "      <td>0</td>\n",
       "      <td>2</td>\n",
       "      <td>Stopped into Creole House for breakfast a few ...</td>\n",
       "      <td>2017-07-15 20:36:22</td>\n",
       "      <td>Rebecca</td>\n",
       "      <td>570.0</td>\n",
       "      <td>2011-06-07 19:32:46</td>\n",
       "      <td>1472.0</td>\n",
       "      <td>656.0</td>\n",
       "      <td>342.0</td>\n",
       "      <td></td>\n",
       "      <td>-nSBCAy5OzxPPfO-oYXEKQ, OKWC0aas1xv9JblEvzyZfQ...</td>\n",
       "      <td>35.0</td>\n",
       "      <td>2.90</td>\n",
       "      <td>5.0</td>\n",
       "      <td>3.0</td>\n",
       "      <td>1.0</td>\n",
       "      <td>0.0</td>\n",
       "      <td>0.0</td>\n",
       "      <td>15.0</td>\n",
       "      <td>30.0</td>\n",
       "      <td>12.0</td>\n",
       "      <td>12.0</td>\n",
       "      <td>11.0</td>\n",
       "      <td>0.0</td>\n",
       "      <td>Creole House Restaurant &amp; Oyster Bar</td>\n",
       "      <td>509 Canal St</td>\n",
       "      <td>New Orleans</td>\n",
       "      <td>LA</td>\n",
       "      <td>70130</td>\n",
       "      <td>29.952213</td>\n",
       "      <td>-90.067116</td>\n",
       "      <td>4.0</td>\n",
       "      <td>1594</td>\n",
       "      <td>1</td>\n",
       "      <td>{'AcceptsInsurance': None, 'AgesAllowed': None...</td>\n",
       "      <td>Cajun/Creole, Seafood, Restaurants, Breakfast ...</td>\n",
       "      <td>{'Friday': '7:0-0:0', 'Monday': '7:0-23:0', 'S...</td>\n",
       "    </tr>\n",
       "    <tr>\n",
       "      <th>371654</th>\n",
       "      <td>zemxjRNzfDJrlWvDZN1WLA</td>\n",
       "      <td>MiJYeOQWgq1DqvT46TxjZQ</td>\n",
       "      <td>cGsewW-9GdycDS3YT_eUMA</td>\n",
       "      <td>5</td>\n",
       "      <td>1</td>\n",
       "      <td>0</td>\n",
       "      <td>0</td>\n",
       "      <td>5 reviews\\n\\n3 minutes ago\\n\\nSince the Corona...</td>\n",
       "      <td>2020-04-26 18:31:52</td>\n",
       "      <td>James</td>\n",
       "      <td>43.0</td>\n",
       "      <td>2014-01-07 23:29:57</td>\n",
       "      <td>27.0</td>\n",
       "      <td>0.0</td>\n",
       "      <td>5.0</td>\n",
       "      <td></td>\n",
       "      <td>None</td>\n",
       "      <td>0.0</td>\n",
       "      <td>4.09</td>\n",
       "      <td>1.0</td>\n",
       "      <td>0.0</td>\n",
       "      <td>0.0</td>\n",
       "      <td>0.0</td>\n",
       "      <td>0.0</td>\n",
       "      <td>0.0</td>\n",
       "      <td>0.0</td>\n",
       "      <td>2.0</td>\n",
       "      <td>2.0</td>\n",
       "      <td>3.0</td>\n",
       "      <td>0.0</td>\n",
       "      <td>The Cheesecake Factory - Indianapolis</td>\n",
       "      <td>8701 Keystone Crossing, Ste 4A</td>\n",
       "      <td>Indianapolis</td>\n",
       "      <td>IN</td>\n",
       "      <td>46240</td>\n",
       "      <td>39.913556</td>\n",
       "      <td>-86.108394</td>\n",
       "      <td>3.0</td>\n",
       "      <td>555</td>\n",
       "      <td>1</td>\n",
       "      <td>{'AcceptsInsurance': None, 'AgesAllowed': None...</td>\n",
       "      <td>Salad, Desserts, Restaurants, Food, American (...</td>\n",
       "      <td>{'Friday': '11:0-23:0', 'Monday': '0:0-0:0', '...</td>\n",
       "    </tr>\n",
       "    <tr>\n",
       "      <th>659020</th>\n",
       "      <td>6YU22gCUkgnC0ERCFfX9uw</td>\n",
       "      <td>57abaBZ4Q-Tf2MURnYPojw</td>\n",
       "      <td>iUBWpw-YOjBf-f3IdsApRQ</td>\n",
       "      <td>1</td>\n",
       "      <td>3</td>\n",
       "      <td>0</td>\n",
       "      <td>0</td>\n",
       "      <td>Avoid this dealership, lots of BETTER places t...</td>\n",
       "      <td>2019-05-27 02:12:05</td>\n",
       "      <td>Linda</td>\n",
       "      <td>2.0</td>\n",
       "      <td>2016-02-26 12:01:52</td>\n",
       "      <td>3.0</td>\n",
       "      <td>0.0</td>\n",
       "      <td>0.0</td>\n",
       "      <td></td>\n",
       "      <td>None</td>\n",
       "      <td>0.0</td>\n",
       "      <td>1.00</td>\n",
       "      <td>0.0</td>\n",
       "      <td>0.0</td>\n",
       "      <td>0.0</td>\n",
       "      <td>0.0</td>\n",
       "      <td>0.0</td>\n",
       "      <td>0.0</td>\n",
       "      <td>0.0</td>\n",
       "      <td>0.0</td>\n",
       "      <td>0.0</td>\n",
       "      <td>0.0</td>\n",
       "      <td>0.0</td>\n",
       "      <td>Larry H. Miller Subaru Boise</td>\n",
       "      <td>11196 W Fairview Ave</td>\n",
       "      <td>Boise</td>\n",
       "      <td>ID</td>\n",
       "      <td>83713</td>\n",
       "      <td>43.620364</td>\n",
       "      <td>-116.321561</td>\n",
       "      <td>3.0</td>\n",
       "      <td>62</td>\n",
       "      <td>1</td>\n",
       "      <td>{'AcceptsInsurance': None, 'AgesAllowed': None...</td>\n",
       "      <td>Automotive, Auto Repair, Car Dealers, Auto Par...</td>\n",
       "      <td>{'Friday': '7:0-20:0', 'Monday': '7:0-20:0', '...</td>\n",
       "    </tr>\n",
       "  </tbody>\n",
       "</table>\n",
       "</div>"
      ],
      "text/plain": [
       "                      review_id                 user_id  \\\n",
       "882083   nARO7Q0n2ggkCSY2YzSHyw  P8iuveHmlqJDjq_XFlR0XA   \n",
       "1444391  Uk5wSM3lFOcDmt8lr0i0yQ  vjfi0yDfkRX3pLkiW5WT9A   \n",
       "1323264  SZrPIIo67AB1eQ2GANkzpA  thG-cez7fcX3E-DCINmvwg   \n",
       "371654   zemxjRNzfDJrlWvDZN1WLA  MiJYeOQWgq1DqvT46TxjZQ   \n",
       "659020   6YU22gCUkgnC0ERCFfX9uw  57abaBZ4Q-Tf2MURnYPojw   \n",
       "\n",
       "                    business_id  stars  useful  funny  cool  \\\n",
       "882083   QFh-h_OZ5Io-mBk32HN28A      4       1      0     0   \n",
       "1444391  317lIGWVcxcVWdVo6ZKHwg      5       5      2     3   \n",
       "1323264  S2Ho8yLxhKAa26pBAm6rxA      4       3      0     2   \n",
       "371654   cGsewW-9GdycDS3YT_eUMA      5       1      0     0   \n",
       "659020   iUBWpw-YOjBf-f3IdsApRQ      1       3      0     0   \n",
       "\n",
       "                                                      text  \\\n",
       "882083   It was my first time in Santa Barbara, and I d...   \n",
       "1444391  Still is and will always be my favorite go-to-...   \n",
       "1323264  Stopped into Creole House for breakfast a few ...   \n",
       "371654   5 reviews\\n\\n3 minutes ago\\n\\nSince the Corona...   \n",
       "659020   Avoid this dealership, lots of BETTER places t...   \n",
       "\n",
       "                       date     name  review_count        yelping_since  \\\n",
       "882083  2018-10-13 10:02:04   Kelsey         463.0  2015-03-11 14:59:32   \n",
       "1444391 2017-03-13 03:59:02    Linda          86.0  2015-10-04 20:44:20   \n",
       "1323264 2017-07-15 20:36:22  Rebecca         570.0  2011-06-07 19:32:46   \n",
       "371654  2020-04-26 18:31:52    James          43.0  2014-01-07 23:29:57   \n",
       "659020  2019-05-27 02:12:05    Linda           2.0  2016-02-26 12:01:52   \n",
       "\n",
       "         useful_user  funny_user  cool_user           elite  \\\n",
       "882083         654.0       118.0      346.0  2017,2018,2019   \n",
       "1444391        353.0       141.0      301.0  2017,2018,2019   \n",
       "1323264       1472.0       656.0      342.0                   \n",
       "371654          27.0         0.0        5.0                   \n",
       "659020           3.0         0.0        0.0                   \n",
       "\n",
       "                                                   friends  fans  \\\n",
       "882083   2vvB0UfKTrCcCDkIVynEQw, apfy2d2uhE4u1b7iu6odZA...  20.0   \n",
       "1444391  IbE1zmshWup8Xy-ZqW3LKw, aYV0MlhTSqDCPTdVxmVUvg...   4.0   \n",
       "1323264  -nSBCAy5OzxPPfO-oYXEKQ, OKWC0aas1xv9JblEvzyZfQ...  35.0   \n",
       "371654                                                None   0.0   \n",
       "659020                                                None   0.0   \n",
       "\n",
       "         average_stars  compliment_hot  compliment_more  compliment_profile  \\\n",
       "882083            4.05             3.0              2.0                 0.0   \n",
       "1444391           4.58            34.0              1.0                 0.0   \n",
       "1323264           2.90             5.0              3.0                 1.0   \n",
       "371654            4.09             1.0              0.0                 0.0   \n",
       "659020            1.00             0.0              0.0                 0.0   \n",
       "\n",
       "         compliment_cute  compliment_list  compliment_note  compliment_plain  \\\n",
       "882083               1.0              0.0              6.0               6.0   \n",
       "1444391              0.0              0.0             13.0              25.0   \n",
       "1323264              0.0              0.0             15.0              30.0   \n",
       "371654               0.0              0.0              0.0               0.0   \n",
       "659020               0.0              0.0              0.0               0.0   \n",
       "\n",
       "         compliment_cool  compliment_funny  compliment_writer  \\\n",
       "882083              32.0              32.0                1.0   \n",
       "1444391             33.0              33.0               10.0   \n",
       "1323264             12.0              12.0               11.0   \n",
       "371654               2.0               2.0                3.0   \n",
       "659020               0.0               0.0                0.0   \n",
       "\n",
       "         compliment_photos                              name_user  \\\n",
       "882083                 7.0                         Kyle's Kitchen   \n",
       "1444391               17.0   Galaxy Theatres Legends IMAX, Sparks   \n",
       "1323264                0.0   Creole House Restaurant & Oyster Bar   \n",
       "371654                 0.0  The Cheesecake Factory - Indianapolis   \n",
       "659020                 0.0           Larry H. Miller Subaru Boise   \n",
       "\n",
       "                                address           city state postal_code  \\\n",
       "882083                   791 Chapala St  Santa Barbara    CA       93101   \n",
       "1444391                 1170 Scheels Dr         Sparks    NV       89434   \n",
       "1323264                    509 Canal St    New Orleans    LA       70130   \n",
       "371654   8701 Keystone Crossing, Ste 4A   Indianapolis    IN       46240   \n",
       "659020             11196 W Fairview Ave          Boise    ID       83713   \n",
       "\n",
       "          latitude   longitude  stars_user  review_count_user  is_open  \\\n",
       "882083   34.418269 -119.700512         4.0                638        1   \n",
       "1444391  39.531701 -119.722949         4.0                471        1   \n",
       "1323264  29.952213  -90.067116         4.0               1594        1   \n",
       "371654   39.913556  -86.108394         3.0                555        1   \n",
       "659020   43.620364 -116.321561         3.0                 62        1   \n",
       "\n",
       "                                                attributes  \\\n",
       "882083   {'AcceptsInsurance': None, 'AgesAllowed': None...   \n",
       "1444391  {'AcceptsInsurance': None, 'AgesAllowed': None...   \n",
       "1323264  {'AcceptsInsurance': None, 'AgesAllowed': None...   \n",
       "371654   {'AcceptsInsurance': None, 'AgesAllowed': None...   \n",
       "659020   {'AcceptsInsurance': None, 'AgesAllowed': None...   \n",
       "\n",
       "                                                categories  \\\n",
       "882083   Cafes, Restaurants, Sandwiches, Chicken Shop, ...   \n",
       "1444391                       Cinema, Arts & Entertainment   \n",
       "1323264  Cajun/Creole, Seafood, Restaurants, Breakfast ...   \n",
       "371654   Salad, Desserts, Restaurants, Food, American (...   \n",
       "659020   Automotive, Auto Repair, Car Dealers, Auto Par...   \n",
       "\n",
       "                                                     hours  \n",
       "882083   {'Friday': '11:0-21:0', 'Monday': '11:0-21:0',...  \n",
       "1444391  {'Friday': '9:30-23:0', 'Monday': '9:30-23:0',...  \n",
       "1323264  {'Friday': '7:0-0:0', 'Monday': '7:0-23:0', 'S...  \n",
       "371654   {'Friday': '11:0-23:0', 'Monday': '0:0-0:0', '...  \n",
       "659020   {'Friday': '7:0-20:0', 'Monday': '7:0-20:0', '...  "
      ]
     },
     "execution_count": 5,
     "metadata": {},
     "output_type": "execute_result"
    }
   ],
   "source": [
    "df.sample(5)"
   ]
  },
  {
   "cell_type": "markdown",
   "metadata": {},
   "source": [
    "### Null Values"
   ]
  },
  {
   "cell_type": "code",
   "execution_count": 6,
   "metadata": {
    "scrolled": true
   },
   "outputs": [
    {
     "name": "stdout",
     "output_type": "stream",
     "text": [
      "\n",
      "Null values in Movie Data Set:\n"
     ]
    },
    {
     "data": {
      "text/plain": [
       "hours                 76698\n",
       "attributes            52736\n",
       "categories              209\n",
       "review_count              8\n",
       "compliment_photos         8\n",
       "compliment_writer         8\n",
       "compliment_funny          8\n",
       "compliment_cool           8\n",
       "compliment_plain          8\n",
       "compliment_note           8\n",
       "compliment_list           8\n",
       "compliment_cute           8\n",
       "name                      8\n",
       "compliment_more           8\n",
       "compliment_hot            8\n",
       "average_stars             8\n",
       "fans                      8\n",
       "friends                   8\n",
       "elite                     8\n",
       "cool_user                 8\n",
       "funny_user                8\n",
       "useful_user               8\n",
       "yelping_since             8\n",
       "compliment_profile        8\n",
       "dtype: int64"
      ]
     },
     "metadata": {},
     "output_type": "display_data"
    }
   ],
   "source": [
    "print(\"\\nNull values in Movie Data Set:\")\n",
    "null_counts = df.isnull().sum()\n",
    "display(null_counts[null_counts > 0].sort_values(ascending=False))"
   ]
  },
  {
   "cell_type": "code",
   "execution_count": 7,
   "metadata": {},
   "outputs": [],
   "source": [
    "df2 = df.dropna(subset=[\"useful_user\", \"funny_user\", \"cool_user\", \"fans\"])"
   ]
  },
  {
   "cell_type": "code",
   "execution_count": 8,
   "metadata": {},
   "outputs": [
    {
     "name": "stdout",
     "output_type": "stream",
     "text": [
      "\n",
      "Columns with more than 30% missing values:\n"
     ]
    },
    {
     "data": {
      "text/plain": [
       "Series([], dtype: float64)"
      ]
     },
     "metadata": {},
     "output_type": "display_data"
    }
   ],
   "source": [
    "print(\"\\nColumns with more than 30% missing values:\")\n",
    "null_threshold = 30\n",
    "null_percent = df.isnull().mean() * 100  # calculate & of null values\n",
    "display(null_percent[null_percent > null_threshold].sort_values(ascending=False))"
   ]
  },
  {
   "cell_type": "markdown",
   "metadata": {},
   "source": [
    "### Remove columns"
   ]
  },
  {
   "cell_type": "code",
   "execution_count": 9,
   "metadata": {},
   "outputs": [],
   "source": [
    "df3 = df2.drop(\n",
    "    columns=[\n",
    "        \"review_id\",\n",
    "        \"user_id\",\n",
    "        \"business_id\",\n",
    "        \"name\",\n",
    "        \"name_user\",\n",
    "        \"latitude\",\n",
    "        \"friends\",\n",
    "        \"postal_code\",\n",
    "        \"longitude\",\n",
    "        \"compliment_hot\",\n",
    "        \"compliment_more\",\n",
    "        \"compliment_profile\",\n",
    "        \"compliment_cute\",\n",
    "        \"compliment_list\",\n",
    "        \"compliment_note\",\n",
    "        \"compliment_plain\",\n",
    "        \"compliment_cool\",\n",
    "        \"compliment_funny\",\n",
    "        \"compliment_writer\",\n",
    "        \"compliment_photos\",\n",
    "        \"attributes\",\n",
    "        \"hours\",\n",
    "    ]\n",
    ")"
   ]
  },
  {
   "cell_type": "code",
   "execution_count": 10,
   "metadata": {},
   "outputs": [
    {
     "name": "stdout",
     "output_type": "stream",
     "text": [
      "<class 'pandas.core.frame.DataFrame'>\n",
      "Index: 1499992 entries, 0 to 1499999\n",
      "Data columns (total 21 columns):\n",
      " #   Column             Non-Null Count    Dtype         \n",
      "---  ------             --------------    -----         \n",
      " 0   stars              1499992 non-null  int64         \n",
      " 1   useful             1499992 non-null  int64         \n",
      " 2   funny              1499992 non-null  int64         \n",
      " 3   cool               1499992 non-null  int64         \n",
      " 4   text               1499992 non-null  object        \n",
      " 5   date               1499992 non-null  datetime64[ns]\n",
      " 6   review_count       1499992 non-null  float64       \n",
      " 7   yelping_since      1499992 non-null  object        \n",
      " 8   useful_user        1499992 non-null  float64       \n",
      " 9   funny_user         1499992 non-null  float64       \n",
      " 10  cool_user          1499992 non-null  float64       \n",
      " 11  elite              1499992 non-null  object        \n",
      " 12  fans               1499992 non-null  float64       \n",
      " 13  average_stars      1499992 non-null  float64       \n",
      " 14  address            1499992 non-null  object        \n",
      " 15  city               1499992 non-null  object        \n",
      " 16  state              1499992 non-null  object        \n",
      " 17  stars_user         1499992 non-null  float64       \n",
      " 18  review_count_user  1499992 non-null  int64         \n",
      " 19  is_open            1499992 non-null  int64         \n",
      " 20  categories         1499783 non-null  object        \n",
      "dtypes: datetime64[ns](1), float64(7), int64(6), object(7)\n",
      "memory usage: 251.8+ MB\n"
     ]
    }
   ],
   "source": [
    "df3.info()"
   ]
  },
  {
   "cell_type": "code",
   "execution_count": 11,
   "metadata": {},
   "outputs": [
    {
     "data": {
      "text/plain": [
       "(1499992, 21)"
      ]
     },
     "execution_count": 11,
     "metadata": {},
     "output_type": "execute_result"
    }
   ],
   "source": [
    "df3.shape"
   ]
  },
  {
   "cell_type": "markdown",
   "metadata": {},
   "source": [
    "### Categorical Variables"
   ]
  },
  {
   "cell_type": "code",
   "execution_count": 12,
   "metadata": {},
   "outputs": [],
   "source": [
    "cols_categoric = [\n",
    "    \"stars\",\n",
    "    \"elite\",\n",
    "    \"city\",\n",
    "    \"state\",\n",
    "]"
   ]
  },
  {
   "cell_type": "code",
   "execution_count": 13,
   "metadata": {},
   "outputs": [],
   "source": [
    "df3[cols_categoric] = df3[cols_categoric].astype(\"category\")"
   ]
  },
  {
   "cell_type": "markdown",
   "metadata": {},
   "source": [
    "- Ordinal: stars"
   ]
  },
  {
   "cell_type": "markdown",
   "metadata": {},
   "source": [
    "- Nominal: elite, city, state"
   ]
  },
  {
   "cell_type": "markdown",
   "metadata": {},
   "source": [
    "### Numerical Variables"
   ]
  },
  {
   "cell_type": "code",
   "execution_count": 14,
   "metadata": {},
   "outputs": [],
   "source": [
    "cols_numeric = [\n",
    "    \"useful\",\n",
    "    \"funny\",\n",
    "    \"cool\",\n",
    "    \"review_count\",\n",
    "    \"useful_user\",\n",
    "    \"funny_user\",\n",
    "    \"cool_user\",\n",
    "    \"fans\",\n",
    "    \"average_stars\",\n",
    "    \"stars_user\",\n",
    "    \"review_count_user\",\n",
    "]"
   ]
  },
  {
   "cell_type": "markdown",
   "metadata": {},
   "source": [
    "- Float"
   ]
  },
  {
   "cell_type": "code",
   "execution_count": 15,
   "metadata": {},
   "outputs": [],
   "source": [
    "cols_numeric_float = [\"stars_user\", \"average_stars\"]"
   ]
  },
  {
   "cell_type": "code",
   "execution_count": 16,
   "metadata": {},
   "outputs": [],
   "source": [
    "df3[cols_numeric_float] = df3[cols_numeric_float].astype(\"float\")"
   ]
  },
  {
   "cell_type": "markdown",
   "metadata": {},
   "source": [
    "- Int"
   ]
  },
  {
   "cell_type": "code",
   "execution_count": 17,
   "metadata": {},
   "outputs": [],
   "source": [
    "cols_numeric_int = [\n",
    "    \"useful\",\n",
    "    \"funny\",\n",
    "    \"cool\",\n",
    "    \"review_count_user\",\n",
    "    \"review_count\",\n",
    "    \"useful_user\",\n",
    "    \"funny_user\",\n",
    "    \"cool_user\",\n",
    "    \"fans\",\n",
    "]"
   ]
  },
  {
   "cell_type": "code",
   "execution_count": 18,
   "metadata": {
    "scrolled": true
   },
   "outputs": [],
   "source": [
    "df3[cols_numeric_int] = df3[cols_numeric_int].astype(\"int8\")"
   ]
  },
  {
   "cell_type": "markdown",
   "metadata": {},
   "source": [
    "### Boolean Variables"
   ]
  },
  {
   "cell_type": "code",
   "execution_count": 19,
   "metadata": {},
   "outputs": [],
   "source": [
    "cols_boolean = [\"is_open\"]"
   ]
  },
  {
   "cell_type": "code",
   "execution_count": 20,
   "metadata": {},
   "outputs": [],
   "source": [
    "df3[cols_boolean] = df3[cols_boolean].astype(\"bool\")"
   ]
  },
  {
   "cell_type": "markdown",
   "metadata": {},
   "source": [
    "### String Variables"
   ]
  },
  {
   "cell_type": "code",
   "execution_count": 21,
   "metadata": {},
   "outputs": [],
   "source": [
    "cols_string = [\"text\", \"yelping_since\", \"address\", \"categories\"]"
   ]
  },
  {
   "cell_type": "code",
   "execution_count": 22,
   "metadata": {},
   "outputs": [],
   "source": [
    "df3[cols_string] = df3[cols_string].astype(\"string\")"
   ]
  },
  {
   "cell_type": "markdown",
   "metadata": {},
   "source": [
    "### Date Variables"
   ]
  },
  {
   "cell_type": "code",
   "execution_count": 23,
   "metadata": {},
   "outputs": [],
   "source": [
    "col_date = [\"date\"]"
   ]
  },
  {
   "cell_type": "code",
   "execution_count": 24,
   "metadata": {},
   "outputs": [],
   "source": [
    "df3[col_date] = df3[col_date].astype(\"datetime64[ns]\")"
   ]
  },
  {
   "cell_type": "markdown",
   "metadata": {},
   "source": [
    "### Schema"
   ]
  },
  {
   "cell_type": "code",
   "execution_count": 25,
   "metadata": {},
   "outputs": [
    {
     "name": "stdout",
     "output_type": "stream",
     "text": [
      "<class 'pandas.core.frame.DataFrame'>\n",
      "Index: 1499992 entries, 0 to 1499999\n",
      "Data columns (total 21 columns):\n",
      " #   Column             Non-Null Count    Dtype         \n",
      "---  ------             --------------    -----         \n",
      " 0   stars              1499992 non-null  category      \n",
      " 1   useful             1499992 non-null  int8          \n",
      " 2   funny              1499992 non-null  int8          \n",
      " 3   cool               1499992 non-null  int8          \n",
      " 4   text               1499992 non-null  string        \n",
      " 5   date               1499992 non-null  datetime64[ns]\n",
      " 6   review_count       1499992 non-null  int8          \n",
      " 7   yelping_since      1499992 non-null  string        \n",
      " 8   useful_user        1499992 non-null  int8          \n",
      " 9   funny_user         1499992 non-null  int8          \n",
      " 10  cool_user          1499992 non-null  int8          \n",
      " 11  elite              1499992 non-null  category      \n",
      " 12  fans               1499992 non-null  int8          \n",
      " 13  average_stars      1499992 non-null  float64       \n",
      " 14  address            1499992 non-null  string        \n",
      " 15  city               1499992 non-null  category      \n",
      " 16  state              1499992 non-null  category      \n",
      " 17  stars_user         1499992 non-null  float64       \n",
      " 18  review_count_user  1499992 non-null  int8          \n",
      " 19  is_open            1499992 non-null  bool          \n",
      " 20  categories         1499783 non-null  string        \n",
      "dtypes: bool(1), category(4), datetime64[ns](1), float64(2), int8(9), string(4)\n",
      "memory usage: 114.5 MB\n"
     ]
    }
   ],
   "source": [
    "df3.info()"
   ]
  },
  {
   "cell_type": "code",
   "execution_count": 26,
   "metadata": {},
   "outputs": [],
   "source": [
    "import pyarrow as pa\n",
    "\n",
    "schema = pa.Schema.from_pandas(df3, preserve_index=False)"
   ]
  },
  {
   "cell_type": "code",
   "execution_count": 27,
   "metadata": {},
   "outputs": [
    {
     "data": {
      "text/plain": [
       "stars: dictionary<values=int64, indices=int8, ordered=0>\n",
       "useful: int8\n",
       "funny: int8\n",
       "cool: int8\n",
       "text: string\n",
       "date: timestamp[ns]\n",
       "review_count: int8\n",
       "yelping_since: string\n",
       "useful_user: int8\n",
       "funny_user: int8\n",
       "cool_user: int8\n",
       "elite: dictionary<values=string, indices=int16, ordered=0>\n",
       "fans: int8\n",
       "average_stars: double\n",
       "address: string\n",
       "city: dictionary<values=string, indices=int16, ordered=0>\n",
       "state: dictionary<values=string, indices=int8, ordered=0>\n",
       "stars_user: double\n",
       "review_count_user: int8\n",
       "is_open: bool\n",
       "categories: string\n",
       "-- schema metadata --\n",
       "pandas: '{\"index_columns\": [], \"column_indexes\": [], \"columns\": [{\"name\":' + 2622"
      ]
     },
     "execution_count": 27,
     "metadata": {},
     "output_type": "execute_result"
    }
   ],
   "source": [
    "schema"
   ]
  },
  {
   "cell_type": "markdown",
   "metadata": {},
   "source": [
    "## Basic Statistics"
   ]
  },
  {
   "cell_type": "code",
   "execution_count": 28,
   "metadata": {},
   "outputs": [
    {
     "data": {
      "text/html": [
       "<div>\n",
       "<style scoped>\n",
       "    .dataframe tbody tr th:only-of-type {\n",
       "        vertical-align: middle;\n",
       "    }\n",
       "\n",
       "    .dataframe tbody tr th {\n",
       "        vertical-align: top;\n",
       "    }\n",
       "\n",
       "    .dataframe thead th {\n",
       "        text-align: right;\n",
       "    }\n",
       "</style>\n",
       "<table border=\"1\" class=\"dataframe\">\n",
       "  <thead>\n",
       "    <tr style=\"text-align: right;\">\n",
       "      <th></th>\n",
       "      <th>stars</th>\n",
       "      <th>text</th>\n",
       "      <th>yelping_since</th>\n",
       "      <th>elite</th>\n",
       "      <th>address</th>\n",
       "      <th>city</th>\n",
       "      <th>state</th>\n",
       "      <th>categories</th>\n",
       "    </tr>\n",
       "  </thead>\n",
       "  <tbody>\n",
       "    <tr>\n",
       "      <th>count</th>\n",
       "      <td>1499992</td>\n",
       "      <td>1499992</td>\n",
       "      <td>1499992</td>\n",
       "      <td>1499992</td>\n",
       "      <td>1499992</td>\n",
       "      <td>1499992</td>\n",
       "      <td>1499992</td>\n",
       "      <td>1499783</td>\n",
       "    </tr>\n",
       "    <tr>\n",
       "      <th>unique</th>\n",
       "      <td>5</td>\n",
       "      <td>1498155</td>\n",
       "      <td>578572</td>\n",
       "      <td>838</td>\n",
       "      <td>103378</td>\n",
       "      <td>1299</td>\n",
       "      <td>24</td>\n",
       "      <td>70431</td>\n",
       "    </tr>\n",
       "    <tr>\n",
       "      <th>top</th>\n",
       "      <td>5</td>\n",
       "      <td>I love Mexican restaurants I could probably ea...</td>\n",
       "      <td>2016-06-02 17:30:14</td>\n",
       "      <td></td>\n",
       "      <td></td>\n",
       "      <td>Philadelphia</td>\n",
       "      <td>PA</td>\n",
       "      <td>Restaurants, Mexican</td>\n",
       "    </tr>\n",
       "    <tr>\n",
       "      <th>freq</th>\n",
       "      <td>678237</td>\n",
       "      <td>7</td>\n",
       "      <td>1131</td>\n",
       "      <td>933532</td>\n",
       "      <td>22169</td>\n",
       "      <td>176131</td>\n",
       "      <td>314382</td>\n",
       "      <td>10310</td>\n",
       "    </tr>\n",
       "  </tbody>\n",
       "</table>\n",
       "</div>"
      ],
      "text/plain": [
       "          stars                                               text  \\\n",
       "count   1499992                                            1499992   \n",
       "unique        5                                            1498155   \n",
       "top           5  I love Mexican restaurants I could probably ea...   \n",
       "freq     678237                                                  7   \n",
       "\n",
       "              yelping_since    elite  address          city    state  \\\n",
       "count               1499992  1499992  1499992       1499992  1499992   \n",
       "unique               578572      838   103378          1299       24   \n",
       "top     2016-06-02 17:30:14                    Philadelphia       PA   \n",
       "freq                   1131   933532    22169        176131   314382   \n",
       "\n",
       "                  categories  \n",
       "count                1499783  \n",
       "unique                 70431  \n",
       "top     Restaurants, Mexican  \n",
       "freq                   10310  "
      ]
     },
     "execution_count": 28,
     "metadata": {},
     "output_type": "execute_result"
    }
   ],
   "source": [
    "df3.describe(include=['string', 'category'])"
   ]
  },
  {
   "cell_type": "code",
   "execution_count": 29,
   "metadata": {
    "scrolled": true
   },
   "outputs": [
    {
     "name": "stdout",
     "output_type": "stream",
     "text": [
      "\n",
      "🔍 Análisis de la columna: useful\n",
      "--------------------------------------------------\n",
      "📊 Estadísticas descriptivas:\n",
      "count    1.499992e+06\n",
      "mean     2.436326e+00\n",
      "std      3.948817e+00\n",
      "min     -1.280000e+02\n",
      "25%      1.000000e+00\n",
      "50%      1.000000e+00\n",
      "75%      2.000000e+00\n",
      "max      1.270000e+02\n",
      "Name: useful, dtype: float64\n",
      "\n",
      "🔢 Valores únicos (191):\n",
      "[ 1  3  2  6  8  5  4 10  7 25 23 52 11 13 12 18  9 67 14 15]\n",
      "\n",
      "🔍 Análisis de la columna: funny\n",
      "--------------------------------------------------\n",
      "📊 Estadísticas descriptivas:\n",
      "count    1.499992e+06\n",
      "mean     5.324882e-01\n",
      "std      2.052519e+00\n",
      "min     -1.270000e+02\n",
      "25%      0.000000e+00\n",
      "50%      0.000000e+00\n",
      "75%      0.000000e+00\n",
      "max      1.260000e+02\n",
      "Name: funny, dtype: float64\n",
      "\n",
      "🔢 Valores únicos (121):\n",
      "[ 0  1  2  4  3  5  6  7 27  9 18  8 10 19 21 23 26 16 13 11]\n",
      "\n",
      "🔍 Análisis de la columna: cool\n",
      "--------------------------------------------------\n",
      "📊 Estadísticas descriptivas:\n",
      "count    1.499992e+06\n",
      "mean     1.078519e+00\n",
      "std      3.383853e+00\n",
      "min     -1.280000e+02\n",
      "25%      0.000000e+00\n",
      "50%      0.000000e+00\n",
      "75%      1.000000e+00\n",
      "max      1.270000e+02\n",
      "Name: cool, dtype: float64\n",
      "\n",
      "🔢 Valores únicos (180):\n",
      "[ 1  0  2  5  7  4  3  6  9 25 19 54 11 10 12  8 18 14 15 28]\n",
      "\n",
      "🔍 Análisis de la columna: review_count\n",
      "--------------------------------------------------\n",
      "📊 Estadísticas descriptivas:\n",
      "count    1.499992e+06\n",
      "mean     1.524190e+01\n",
      "std      5.462573e+01\n",
      "min     -1.280000e+02\n",
      "25%      2.000000e+00\n",
      "50%      1.300000e+01\n",
      "75%      4.500000e+01\n",
      "max      1.270000e+02\n",
      "Name: review_count, dtype: float64\n",
      "\n",
      "🔢 Valores únicos (256):\n",
      "[   5   48   79   32   25   64   18 -125   51   67  -24   81   44  118\n",
      "    2   86  -56   90  -61 -110]\n",
      "\n",
      "🔍 Análisis de la columna: useful_user\n",
      "--------------------------------------------------\n",
      "📊 Estadísticas descriptivas:\n",
      "count    1.499992e+06\n",
      "mean     1.335748e+01\n",
      "std      5.313726e+01\n",
      "min     -1.280000e+02\n",
      "25%      1.000000e+00\n",
      "50%      1.000000e+01\n",
      "75%      4.100000e+01\n",
      "max      1.270000e+02\n",
      "Name: useful_user, dtype: float64\n",
      "\n",
      "🔢 Valores únicos (256):\n",
      "[   4   95   66   33  -72   37   10  -74   54    9   51   47   25    0\n",
      "   44  -12 -109   23   29   20]\n",
      "\n",
      "🔍 Análisis de la columna: funny_user\n",
      "--------------------------------------------------\n",
      "📊 Estadísticas descriptivas:\n",
      "count    1.499992e+06\n",
      "mean     9.982233e+00\n",
      "std      3.855184e+01\n",
      "min     -1.280000e+02\n",
      "25%      0.000000e+00\n",
      "50%      3.000000e+00\n",
      "75%      1.800000e+01\n",
      "max      1.270000e+02\n",
      "Name: funny_user, dtype: float64\n",
      "\n",
      "🔢 Valores únicos (256):\n",
      "[  0  13  19 -60 102  10   3  32   5  63  96   2  89   7  14 -39 118  11\n",
      "  59 -61]\n",
      "\n",
      "🔍 Análisis de la columna: cool_user\n",
      "--------------------------------------------------\n",
      "📊 Estadísticas descriptivas:\n",
      "count    1.499992e+06\n",
      "mean     1.026499e+01\n",
      "std      4.571566e+01\n",
      "min     -1.280000e+02\n",
      "25%      0.000000e+00\n",
      "50%      3.000000e+00\n",
      "75%      2.600000e+01\n",
      "max      1.270000e+02\n",
      "Name: cool_user, dtype: float64\n",
      "\n",
      "🔢 Valores únicos (256):\n",
      "[   2    6   23   12  -14   -5   93   14   13  -66   15   70   86    0\n",
      "  -38   97   20   10 -108   31]\n",
      "\n",
      "🔍 Análisis de la columna: fans\n",
      "--------------------------------------------------\n",
      "📊 Estadísticas descriptivas:\n",
      "count    1.499992e+06\n",
      "mean     6.960867e+00\n",
      "std      2.309451e+01\n",
      "min     -1.280000e+02\n",
      "25%      0.000000e+00\n",
      "50%      1.000000e+00\n",
      "75%      7.000000e+00\n",
      "max      1.270000e+02\n",
      "Name: fans, dtype: float64\n",
      "\n",
      "🔢 Valores únicos (256):\n",
      "[  0   1  23  41   6   2  79   9  22  45   5  12  56 -89  11  17  51  33\n",
      "   4  28]\n",
      "\n",
      "🔍 Análisis de la columna: average_stars\n",
      "--------------------------------------------------\n",
      "📊 Estadísticas descriptivas:\n",
      "count    1.499992e+06\n",
      "mean     3.724495e+00\n",
      "std      8.985252e-01\n",
      "min      1.000000e+00\n",
      "25%      3.400000e+00\n",
      "50%      3.930000e+00\n",
      "75%      4.300000e+00\n",
      "max      5.000000e+00\n",
      "Name: average_stars, dtype: float64\n",
      "\n",
      "🔢 Valores únicos (401):\n",
      "[4.5  2.46 3.59 4.05 4.14 4.33 4.43 3.8  4.19 4.11 4.06 4.41 4.29 4.17\n",
      " 4.4  4.53 3.68 4.48 4.15 4.24]\n",
      "\n",
      "🔍 Análisis de la columna: stars_user\n",
      "--------------------------------------------------\n",
      "📊 Estadísticas descriptivas:\n",
      "count    1.499992e+06\n",
      "mean     3.762182e+00\n",
      "std      8.171470e-01\n",
      "min      1.000000e+00\n",
      "25%      3.500000e+00\n",
      "50%      4.000000e+00\n",
      "75%      4.500000e+00\n",
      "max      5.000000e+00\n",
      "Name: stars_user, dtype: float64\n",
      "\n",
      "🔢 Valores únicos (9):\n",
      "[4.5 3.5 5.  4.  3.  2.5 1.5 1.  2. ]\n",
      "\n",
      "📈 Frecuencia de valores:\n",
      "stars_user\n",
      "1.0     10696\n",
      "1.5     30895\n",
      "2.0     56043\n",
      "2.5     88967\n",
      "3.0    136139\n",
      "3.5    263048\n",
      "4.0    458436\n",
      "4.5    379935\n",
      "5.0     75833\n",
      "Name: count, dtype: int64\n",
      "\n",
      "🔍 Análisis de la columna: review_count_user\n",
      "--------------------------------------------------\n",
      "📊 Estadísticas descriptivas:\n",
      "count    1.499992e+06\n",
      "mean     1.565754e+01\n",
      "std      6.642207e+01\n",
      "min     -1.280000e+02\n",
      "25%     -2.500000e+01\n",
      "50%      2.400000e+01\n",
      "75%      6.400000e+01\n",
      "max      1.270000e+02\n",
      "Name: review_count_user, dtype: float64\n",
      "\n",
      "🔢 Valores únicos (256):\n",
      "[  36   15    5   83 -104   -6  110   38   76   33   91 -108   10  -96\n",
      "  -27   86  -57   -4   87    6]\n"
     ]
    }
   ],
   "source": [
    "MAX_UNIQUE_DISPLAY = 20\n",
    "\n",
    "for column in cols_numeric:\n",
    "    print(f\"\\n🔍 Column analysis: {column}\")\n",
    "    print(\"-\" * 50)\n",
    "\n",
    "    # Step 1: Summary statistics\n",
    "    print(\"📊 Summary statistics:\")\n",
    "    print(df3[column].describe())\n",
    "\n",
    "    # Step 2: Unique values (limit if too many)\n",
    "    unique_vals = df3[column].unique()\n",
    "    print(f\"\\n🔢 Unique values ({len(unique_vals)}):\")\n",
    "    print(unique_vals if len(unique_vals) <= MAX_UNIQUE_DISPLAY else unique_vals[:MAX_UNIQUE_DISPLAY])\n",
    "\n",
    "    # Step 3: Value counts (only if few unique values)\n",
    "    if df3[column].nunique() <= MAX_UNIQUE_DISPLAY:\n",
    "        print(\"\\n📈 Value counts:\")\n",
    "        print(df3[column].value_counts().sort_index())"
   ]
  },
  {
   "cell_type": "markdown",
   "metadata": {},
   "source": [
    "## Save reviews data intermediate"
   ]
  },
  {
   "cell_type": "code",
   "execution_count": 30,
   "metadata": {
    "scrolled": true
   },
   "outputs": [],
   "source": [
    "df3.to_parquet(\n",
    "    BASE_DIR / \"data/02_intermediate/data_message_classifier_interm.parquet\",\n",
    "    index=False,\n",
    "    schema=schema,\n",
    ")"
   ]
  }
 ],
 "metadata": {
  "kernelspec": {
   "display_name": "Python 3.11 (ml-message-classifier)",
   "language": "python",
   "name": "ml-message-classifier"
  },
  "language_info": {
   "codemirror_mode": {
    "name": "ipython",
    "version": 3
   },
   "file_extension": ".py",
   "mimetype": "text/x-python",
   "name": "python",
   "nbconvert_exporter": "python",
   "pygments_lexer": "ipython3",
   "version": "3.11.12"
  }
 },
 "nbformat": 4,
 "nbformat_minor": 4
}
