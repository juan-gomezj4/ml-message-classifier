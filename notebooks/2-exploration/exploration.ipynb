{
 "cells": [
  {
   "cell_type": "markdown",
   "metadata": {},
   "source": [
    "## Title\n",
    "Data Raw Exploration\n",
    "\n",
    "### By:\n",
    "Juan Gómez\n",
    "\n",
    "### Date:\n",
    "2024-05-16\n",
    "\n",
    "### Description:\n",
    "\n",
    "This notebook explores the raw Yelp Open Dataset. It shows basic statistics, checks missing values, and looks at trends in popularity, genres, and ratings. The goal is to understand the data before building a recommendation system.\n"
   ]
  },
  {
   "cell_type": "markdown",
   "metadata": {
    "pycharm": {
     "name": "#%% md\n"
    }
   },
   "source": [
    "## Import  libraries"
   ]
  },
  {
   "cell_type": "code",
   "execution_count": 1,
   "metadata": {
    "collapsed": false,
    "jupyter": {
     "outputs_hidden": false
    },
    "pycharm": {
     "name": "#%%\n"
    }
   },
   "outputs": [],
   "source": [
    "import pandas as pd"
   ]
  },
  {
   "cell_type": "markdown",
   "metadata": {
    "pycharm": {
     "name": "#%% md\n"
    }
   },
   "source": [
    "## Load data"
   ]
  },
  {
   "cell_type": "code",
   "execution_count": 2,
   "metadata": {},
   "outputs": [],
   "source": [
    "from pathlib import Path\n",
    "\n",
    "pd.set_option(\"display.max_columns\", None)\n",
    "\n",
    "BASE_DIR = Path.cwd().resolve().parents[1]"
   ]
  },
  {
   "cell_type": "code",
   "execution_count": 3,
   "metadata": {
    "collapsed": false,
    "jupyter": {
     "outputs_hidden": false
    },
    "pycharm": {
     "name": "#%%\n"
    }
   },
   "outputs": [],
   "source": [
    "df = pd.read_parquet(BASE_DIR / \"data/01_raw/data_message_classifier_raw.parquet\")"
   ]
  },
  {
   "cell_type": "markdown",
   "metadata": {},
   "source": [
    "## Exploration"
   ]
  },
  {
   "cell_type": "code",
   "execution_count": 4,
   "metadata": {
    "pycharm": {
     "name": "#%%\n"
    },
    "scrolled": true
   },
   "outputs": [
    {
     "name": "stdout",
     "output_type": "stream",
     "text": [
      "<class 'pandas.core.frame.DataFrame'>\n",
      "RangeIndex: 1500000 entries, 0 to 1499999\n",
      "Data columns (total 43 columns):\n",
      " #   Column              Non-Null Count    Dtype         \n",
      "---  ------              --------------    -----         \n",
      " 0   review_id           1500000 non-null  object        \n",
      " 1   user_id             1500000 non-null  object        \n",
      " 2   business_id         1500000 non-null  object        \n",
      " 3   stars               1500000 non-null  int64         \n",
      " 4   useful              1500000 non-null  int64         \n",
      " 5   funny               1500000 non-null  int64         \n",
      " 6   cool                1500000 non-null  int64         \n",
      " 7   text                1500000 non-null  object        \n",
      " 8   date                1500000 non-null  datetime64[ns]\n",
      " 9   name                1499992 non-null  object        \n",
      " 10  review_count        1499992 non-null  float64       \n",
      " 11  yelping_since       1499992 non-null  object        \n",
      " 12  useful_user         1499992 non-null  float64       \n",
      " 13  funny_user          1499992 non-null  float64       \n",
      " 14  cool_user           1499992 non-null  float64       \n",
      " 15  elite               1499992 non-null  object        \n",
      " 16  friends             1499992 non-null  object        \n",
      " 17  fans                1499992 non-null  float64       \n",
      " 18  average_stars       1499992 non-null  float64       \n",
      " 19  compliment_hot      1499992 non-null  float64       \n",
      " 20  compliment_more     1499992 non-null  float64       \n",
      " 21  compliment_profile  1499992 non-null  float64       \n",
      " 22  compliment_cute     1499992 non-null  float64       \n",
      " 23  compliment_list     1499992 non-null  float64       \n",
      " 24  compliment_note     1499992 non-null  float64       \n",
      " 25  compliment_plain    1499992 non-null  float64       \n",
      " 26  compliment_cool     1499992 non-null  float64       \n",
      " 27  compliment_funny    1499992 non-null  float64       \n",
      " 28  compliment_writer   1499992 non-null  float64       \n",
      " 29  compliment_photos   1499992 non-null  float64       \n",
      " 30  name_user           1500000 non-null  object        \n",
      " 31  address             1500000 non-null  object        \n",
      " 32  city                1500000 non-null  object        \n",
      " 33  state               1500000 non-null  object        \n",
      " 34  postal_code         1500000 non-null  object        \n",
      " 35  latitude            1500000 non-null  float64       \n",
      " 36  longitude           1500000 non-null  float64       \n",
      " 37  stars_user          1500000 non-null  float64       \n",
      " 38  review_count_user   1500000 non-null  int64         \n",
      " 39  is_open             1500000 non-null  int64         \n",
      " 40  attributes          1447264 non-null  object        \n",
      " 41  categories          1499791 non-null  object        \n",
      " 42  hours               1423302 non-null  object        \n",
      "dtypes: datetime64[ns](1), float64(20), int64(6), object(16)\n",
      "memory usage: 492.1+ MB\n"
     ]
    }
   ],
   "source": [
    "df.info()"
   ]
  },
  {
   "cell_type": "code",
   "execution_count": 5,
   "metadata": {
    "scrolled": true
   },
   "outputs": [
    {
     "data": {
      "text/html": [
       "<div>\n",
       "<style scoped>\n",
       "    .dataframe tbody tr th:only-of-type {\n",
       "        vertical-align: middle;\n",
       "    }\n",
       "\n",
       "    .dataframe tbody tr th {\n",
       "        vertical-align: top;\n",
       "    }\n",
       "\n",
       "    .dataframe thead th {\n",
       "        text-align: right;\n",
       "    }\n",
       "</style>\n",
       "<table border=\"1\" class=\"dataframe\">\n",
       "  <thead>\n",
       "    <tr style=\"text-align: right;\">\n",
       "      <th></th>\n",
       "      <th>review_id</th>\n",
       "      <th>user_id</th>\n",
       "      <th>business_id</th>\n",
       "      <th>stars</th>\n",
       "      <th>useful</th>\n",
       "      <th>funny</th>\n",
       "      <th>cool</th>\n",
       "      <th>text</th>\n",
       "      <th>date</th>\n",
       "      <th>name</th>\n",
       "      <th>review_count</th>\n",
       "      <th>yelping_since</th>\n",
       "      <th>useful_user</th>\n",
       "      <th>funny_user</th>\n",
       "      <th>cool_user</th>\n",
       "      <th>elite</th>\n",
       "      <th>friends</th>\n",
       "      <th>fans</th>\n",
       "      <th>average_stars</th>\n",
       "      <th>compliment_hot</th>\n",
       "      <th>compliment_more</th>\n",
       "      <th>compliment_profile</th>\n",
       "      <th>compliment_cute</th>\n",
       "      <th>compliment_list</th>\n",
       "      <th>compliment_note</th>\n",
       "      <th>compliment_plain</th>\n",
       "      <th>compliment_cool</th>\n",
       "      <th>compliment_funny</th>\n",
       "      <th>compliment_writer</th>\n",
       "      <th>compliment_photos</th>\n",
       "      <th>name_user</th>\n",
       "      <th>address</th>\n",
       "      <th>city</th>\n",
       "      <th>state</th>\n",
       "      <th>postal_code</th>\n",
       "      <th>latitude</th>\n",
       "      <th>longitude</th>\n",
       "      <th>stars_user</th>\n",
       "      <th>review_count_user</th>\n",
       "      <th>is_open</th>\n",
       "      <th>attributes</th>\n",
       "      <th>categories</th>\n",
       "      <th>hours</th>\n",
       "    </tr>\n",
       "  </thead>\n",
       "  <tbody>\n",
       "    <tr>\n",
       "      <th>1269238</th>\n",
       "      <td>krRICTXX8gk599AVDLzISg</td>\n",
       "      <td>5Kob6HWhV1-ith1jScMCVA</td>\n",
       "      <td>qa1kx1sBNVUYhzzZI4u4rA</td>\n",
       "      <td>4</td>\n",
       "      <td>3</td>\n",
       "      <td>0</td>\n",
       "      <td>0</td>\n",
       "      <td>Oh my God! Can't believe for the first year I ...</td>\n",
       "      <td>2017-09-12 22:20:30</td>\n",
       "      <td>Kevin</td>\n",
       "      <td>118.0</td>\n",
       "      <td>2015-09-06 17:41:20</td>\n",
       "      <td>106.0</td>\n",
       "      <td>51.0</td>\n",
       "      <td>42.0</td>\n",
       "      <td>2016,2017,2018</td>\n",
       "      <td>pzKYz6jOhlsuFLzSf8NOFA, Wmux4GgQkNBGz4mb0BBT3w...</td>\n",
       "      <td>0.0</td>\n",
       "      <td>3.98</td>\n",
       "      <td>1.0</td>\n",
       "      <td>1.0</td>\n",
       "      <td>0.0</td>\n",
       "      <td>0.0</td>\n",
       "      <td>0.0</td>\n",
       "      <td>4.0</td>\n",
       "      <td>0.0</td>\n",
       "      <td>1.0</td>\n",
       "      <td>1.0</td>\n",
       "      <td>3.0</td>\n",
       "      <td>0.0</td>\n",
       "      <td>Christmas Tree Shops</td>\n",
       "      <td>5450 Brandywine Pkwy</td>\n",
       "      <td>Wilmington</td>\n",
       "      <td>DE</td>\n",
       "      <td>19803</td>\n",
       "      <td>39.832413</td>\n",
       "      <td>-75.535996</td>\n",
       "      <td>3.5</td>\n",
       "      <td>21</td>\n",
       "      <td>1</td>\n",
       "      <td>{'AcceptsInsurance': None, 'AgesAllowed': None...</td>\n",
       "      <td>Home &amp; Garden, Christmas Trees, Home Decor, Ki...</td>\n",
       "      <td>{'Friday': '9:0-21:30', 'Monday': '9:0-21:30',...</td>\n",
       "    </tr>\n",
       "    <tr>\n",
       "      <th>1487860</th>\n",
       "      <td>RAbskaQrQLg3CAkhnkY9cQ</td>\n",
       "      <td>ZboZypKtRwAKMWPy2qObfg</td>\n",
       "      <td>AXuUniMsxvPaB4lmYA1SHg</td>\n",
       "      <td>5</td>\n",
       "      <td>1</td>\n",
       "      <td>0</td>\n",
       "      <td>0</td>\n",
       "      <td>I loved this church, plain and simple.\\nThe re...</td>\n",
       "      <td>2017-01-27 13:57:03</td>\n",
       "      <td>Laura</td>\n",
       "      <td>2.0</td>\n",
       "      <td>2012-08-21 11:40:56</td>\n",
       "      <td>2.0</td>\n",
       "      <td>1.0</td>\n",
       "      <td>0.0</td>\n",
       "      <td></td>\n",
       "      <td>mxz5i0uTqx-ehHLQ--7GOA, sJz2jiRNAXTDc5JvmRgXug...</td>\n",
       "      <td>0.0</td>\n",
       "      <td>3.00</td>\n",
       "      <td>0.0</td>\n",
       "      <td>0.0</td>\n",
       "      <td>0.0</td>\n",
       "      <td>0.0</td>\n",
       "      <td>0.0</td>\n",
       "      <td>0.0</td>\n",
       "      <td>0.0</td>\n",
       "      <td>0.0</td>\n",
       "      <td>0.0</td>\n",
       "      <td>0.0</td>\n",
       "      <td>0.0</td>\n",
       "      <td>Covenant Fellowship Church</td>\n",
       "      <td>1 Fellowship Rd</td>\n",
       "      <td>Glen Mills</td>\n",
       "      <td>PA</td>\n",
       "      <td>19342</td>\n",
       "      <td>39.879427</td>\n",
       "      <td>-75.519936</td>\n",
       "      <td>3.0</td>\n",
       "      <td>6</td>\n",
       "      <td>1</td>\n",
       "      <td>None</td>\n",
       "      <td>Religious Organizations, Churches</td>\n",
       "      <td>{'Friday': '9:0-17:0', 'Monday': '9:0-17:0', '...</td>\n",
       "    </tr>\n",
       "    <tr>\n",
       "      <th>284785</th>\n",
       "      <td>2nHlpmLBf_mgqNsCb43OHw</td>\n",
       "      <td>D-fIT_PqxCQzys9UH2rslg</td>\n",
       "      <td>NABcZKRWQF9-rDVt0P0bhw</td>\n",
       "      <td>5</td>\n",
       "      <td>1</td>\n",
       "      <td>0</td>\n",
       "      <td>2</td>\n",
       "      <td>We drive for an hour to go have Dim Sum here b...</td>\n",
       "      <td>2020-09-27 20:06:55</td>\n",
       "      <td>Amelia</td>\n",
       "      <td>60.0</td>\n",
       "      <td>2012-03-06 14:51:58</td>\n",
       "      <td>50.0</td>\n",
       "      <td>1.0</td>\n",
       "      <td>10.0</td>\n",
       "      <td></td>\n",
       "      <td>None</td>\n",
       "      <td>0.0</td>\n",
       "      <td>4.20</td>\n",
       "      <td>0.0</td>\n",
       "      <td>0.0</td>\n",
       "      <td>0.0</td>\n",
       "      <td>0.0</td>\n",
       "      <td>0.0</td>\n",
       "      <td>0.0</td>\n",
       "      <td>0.0</td>\n",
       "      <td>0.0</td>\n",
       "      <td>0.0</td>\n",
       "      <td>0.0</td>\n",
       "      <td>0.0</td>\n",
       "      <td>Ocean City</td>\n",
       "      <td>234 N 9th St</td>\n",
       "      <td>Philadelphia</td>\n",
       "      <td>PA</td>\n",
       "      <td>19107</td>\n",
       "      <td>39.956282</td>\n",
       "      <td>-75.154190</td>\n",
       "      <td>3.0</td>\n",
       "      <td>215</td>\n",
       "      <td>1</td>\n",
       "      <td>{'AcceptsInsurance': None, 'AgesAllowed': None...</td>\n",
       "      <td>Chinese, Restaurants, Seafood, Dim Sum</td>\n",
       "      <td>{'Friday': '10:30-22:30', 'Monday': '10:30-22:...</td>\n",
       "    </tr>\n",
       "    <tr>\n",
       "      <th>1340577</th>\n",
       "      <td>MgaZFV2OoVa6TpshoteUQQ</td>\n",
       "      <td>bt5r3bZjY4muw3AUzpf_iA</td>\n",
       "      <td>JvSOgPzhYOYYT5cX8Lyofw</td>\n",
       "      <td>5</td>\n",
       "      <td>1</td>\n",
       "      <td>0</td>\n",
       "      <td>0</td>\n",
       "      <td>Skipper has been coming here for 10 years. Jay...</td>\n",
       "      <td>2017-06-27 23:15:36</td>\n",
       "      <td>Myra</td>\n",
       "      <td>41.0</td>\n",
       "      <td>2015-04-24 19:25:50</td>\n",
       "      <td>10.0</td>\n",
       "      <td>2.0</td>\n",
       "      <td>5.0</td>\n",
       "      <td></td>\n",
       "      <td>IFSpW81nfeFE-Ve2WJFfpg, 4GyK3MGnB4s9KBQl4gWYlQ...</td>\n",
       "      <td>0.0</td>\n",
       "      <td>4.32</td>\n",
       "      <td>0.0</td>\n",
       "      <td>0.0</td>\n",
       "      <td>0.0</td>\n",
       "      <td>0.0</td>\n",
       "      <td>0.0</td>\n",
       "      <td>0.0</td>\n",
       "      <td>0.0</td>\n",
       "      <td>0.0</td>\n",
       "      <td>0.0</td>\n",
       "      <td>0.0</td>\n",
       "      <td>0.0</td>\n",
       "      <td>Groomingtails Mobile Dog Grooming</td>\n",
       "      <td></td>\n",
       "      <td>Meridian</td>\n",
       "      <td>ID</td>\n",
       "      <td>83642</td>\n",
       "      <td>43.564436</td>\n",
       "      <td>-116.403457</td>\n",
       "      <td>5.0</td>\n",
       "      <td>38</td>\n",
       "      <td>1</td>\n",
       "      <td>{'AcceptsInsurance': None, 'AgesAllowed': None...</td>\n",
       "      <td>Pet Services, Pets, Pet Groomers</td>\n",
       "      <td>{'Friday': '8:0-18:0', 'Monday': '8:0-18:0', '...</td>\n",
       "    </tr>\n",
       "    <tr>\n",
       "      <th>856399</th>\n",
       "      <td>3YtUA5t0K_4knW5NcbFO_A</td>\n",
       "      <td>TEtqq6O5LnbMULvo1QwTaA</td>\n",
       "      <td>4As-DeKQELpu0JCqBAP4kA</td>\n",
       "      <td>5</td>\n",
       "      <td>3</td>\n",
       "      <td>2</td>\n",
       "      <td>2</td>\n",
       "      <td>Kevin killed it! If your in the STL area go to...</td>\n",
       "      <td>2018-11-10 18:26:49</td>\n",
       "      <td>Maya Luisa</td>\n",
       "      <td>36.0</td>\n",
       "      <td>2017-11-05 01:11:51</td>\n",
       "      <td>13.0</td>\n",
       "      <td>6.0</td>\n",
       "      <td>6.0</td>\n",
       "      <td></td>\n",
       "      <td>None</td>\n",
       "      <td>1.0</td>\n",
       "      <td>3.14</td>\n",
       "      <td>0.0</td>\n",
       "      <td>0.0</td>\n",
       "      <td>0.0</td>\n",
       "      <td>0.0</td>\n",
       "      <td>0.0</td>\n",
       "      <td>1.0</td>\n",
       "      <td>0.0</td>\n",
       "      <td>0.0</td>\n",
       "      <td>0.0</td>\n",
       "      <td>0.0</td>\n",
       "      <td>0.0</td>\n",
       "      <td>Nk Nails &amp; Spa-Creve Coeur</td>\n",
       "      <td>12975 Olive Blvd</td>\n",
       "      <td>Saint Louis</td>\n",
       "      <td>MO</td>\n",
       "      <td>63141</td>\n",
       "      <td>38.682949</td>\n",
       "      <td>-90.478384</td>\n",
       "      <td>4.0</td>\n",
       "      <td>113</td>\n",
       "      <td>1</td>\n",
       "      <td>{'AcceptsInsurance': None, 'AgesAllowed': None...</td>\n",
       "      <td>Beauty &amp; Spas, Waxing, Hair Removal, Nail Salons</td>\n",
       "      <td>{'Friday': '9:0-20:0', 'Monday': '9:0-20:0', '...</td>\n",
       "    </tr>\n",
       "  </tbody>\n",
       "</table>\n",
       "</div>"
      ],
      "text/plain": [
       "                      review_id                 user_id  \\\n",
       "1269238  krRICTXX8gk599AVDLzISg  5Kob6HWhV1-ith1jScMCVA   \n",
       "1487860  RAbskaQrQLg3CAkhnkY9cQ  ZboZypKtRwAKMWPy2qObfg   \n",
       "284785   2nHlpmLBf_mgqNsCb43OHw  D-fIT_PqxCQzys9UH2rslg   \n",
       "1340577  MgaZFV2OoVa6TpshoteUQQ  bt5r3bZjY4muw3AUzpf_iA   \n",
       "856399   3YtUA5t0K_4knW5NcbFO_A  TEtqq6O5LnbMULvo1QwTaA   \n",
       "\n",
       "                    business_id  stars  useful  funny  cool  \\\n",
       "1269238  qa1kx1sBNVUYhzzZI4u4rA      4       3      0     0   \n",
       "1487860  AXuUniMsxvPaB4lmYA1SHg      5       1      0     0   \n",
       "284785   NABcZKRWQF9-rDVt0P0bhw      5       1      0     2   \n",
       "1340577  JvSOgPzhYOYYT5cX8Lyofw      5       1      0     0   \n",
       "856399   4As-DeKQELpu0JCqBAP4kA      5       3      2     2   \n",
       "\n",
       "                                                      text  \\\n",
       "1269238  Oh my God! Can't believe for the first year I ...   \n",
       "1487860  I loved this church, plain and simple.\\nThe re...   \n",
       "284785   We drive for an hour to go have Dim Sum here b...   \n",
       "1340577  Skipper has been coming here for 10 years. Jay...   \n",
       "856399   Kevin killed it! If your in the STL area go to...   \n",
       "\n",
       "                       date        name  review_count        yelping_since  \\\n",
       "1269238 2017-09-12 22:20:30       Kevin         118.0  2015-09-06 17:41:20   \n",
       "1487860 2017-01-27 13:57:03       Laura           2.0  2012-08-21 11:40:56   \n",
       "284785  2020-09-27 20:06:55      Amelia          60.0  2012-03-06 14:51:58   \n",
       "1340577 2017-06-27 23:15:36        Myra          41.0  2015-04-24 19:25:50   \n",
       "856399  2018-11-10 18:26:49  Maya Luisa          36.0  2017-11-05 01:11:51   \n",
       "\n",
       "         useful_user  funny_user  cool_user           elite  \\\n",
       "1269238        106.0        51.0       42.0  2016,2017,2018   \n",
       "1487860          2.0         1.0        0.0                   \n",
       "284785          50.0         1.0       10.0                   \n",
       "1340577         10.0         2.0        5.0                   \n",
       "856399          13.0         6.0        6.0                   \n",
       "\n",
       "                                                   friends  fans  \\\n",
       "1269238  pzKYz6jOhlsuFLzSf8NOFA, Wmux4GgQkNBGz4mb0BBT3w...   0.0   \n",
       "1487860  mxz5i0uTqx-ehHLQ--7GOA, sJz2jiRNAXTDc5JvmRgXug...   0.0   \n",
       "284785                                                None   0.0   \n",
       "1340577  IFSpW81nfeFE-Ve2WJFfpg, 4GyK3MGnB4s9KBQl4gWYlQ...   0.0   \n",
       "856399                                                None   1.0   \n",
       "\n",
       "         average_stars  compliment_hot  compliment_more  compliment_profile  \\\n",
       "1269238           3.98             1.0              1.0                 0.0   \n",
       "1487860           3.00             0.0              0.0                 0.0   \n",
       "284785            4.20             0.0              0.0                 0.0   \n",
       "1340577           4.32             0.0              0.0                 0.0   \n",
       "856399            3.14             0.0              0.0                 0.0   \n",
       "\n",
       "         compliment_cute  compliment_list  compliment_note  compliment_plain  \\\n",
       "1269238              0.0              0.0              4.0               0.0   \n",
       "1487860              0.0              0.0              0.0               0.0   \n",
       "284785               0.0              0.0              0.0               0.0   \n",
       "1340577              0.0              0.0              0.0               0.0   \n",
       "856399               0.0              0.0              1.0               0.0   \n",
       "\n",
       "         compliment_cool  compliment_funny  compliment_writer  \\\n",
       "1269238              1.0               1.0                3.0   \n",
       "1487860              0.0               0.0                0.0   \n",
       "284785               0.0               0.0                0.0   \n",
       "1340577              0.0               0.0                0.0   \n",
       "856399               0.0               0.0                0.0   \n",
       "\n",
       "         compliment_photos                          name_user  \\\n",
       "1269238                0.0               Christmas Tree Shops   \n",
       "1487860                0.0         Covenant Fellowship Church   \n",
       "284785                 0.0                         Ocean City   \n",
       "1340577                0.0  Groomingtails Mobile Dog Grooming   \n",
       "856399                 0.0         Nk Nails & Spa-Creve Coeur   \n",
       "\n",
       "                      address          city state postal_code   latitude  \\\n",
       "1269238  5450 Brandywine Pkwy    Wilmington    DE       19803  39.832413   \n",
       "1487860       1 Fellowship Rd    Glen Mills    PA       19342  39.879427   \n",
       "284785           234 N 9th St  Philadelphia    PA       19107  39.956282   \n",
       "1340577                            Meridian    ID       83642  43.564436   \n",
       "856399       12975 Olive Blvd   Saint Louis    MO       63141  38.682949   \n",
       "\n",
       "          longitude  stars_user  review_count_user  is_open  \\\n",
       "1269238  -75.535996         3.5                 21        1   \n",
       "1487860  -75.519936         3.0                  6        1   \n",
       "284785   -75.154190         3.0                215        1   \n",
       "1340577 -116.403457         5.0                 38        1   \n",
       "856399   -90.478384         4.0                113        1   \n",
       "\n",
       "                                                attributes  \\\n",
       "1269238  {'AcceptsInsurance': None, 'AgesAllowed': None...   \n",
       "1487860                                               None   \n",
       "284785   {'AcceptsInsurance': None, 'AgesAllowed': None...   \n",
       "1340577  {'AcceptsInsurance': None, 'AgesAllowed': None...   \n",
       "856399   {'AcceptsInsurance': None, 'AgesAllowed': None...   \n",
       "\n",
       "                                                categories  \\\n",
       "1269238  Home & Garden, Christmas Trees, Home Decor, Ki...   \n",
       "1487860                  Religious Organizations, Churches   \n",
       "284785              Chinese, Restaurants, Seafood, Dim Sum   \n",
       "1340577                   Pet Services, Pets, Pet Groomers   \n",
       "856399    Beauty & Spas, Waxing, Hair Removal, Nail Salons   \n",
       "\n",
       "                                                     hours  \n",
       "1269238  {'Friday': '9:0-21:30', 'Monday': '9:0-21:30',...  \n",
       "1487860  {'Friday': '9:0-17:0', 'Monday': '9:0-17:0', '...  \n",
       "284785   {'Friday': '10:30-22:30', 'Monday': '10:30-22:...  \n",
       "1340577  {'Friday': '8:0-18:0', 'Monday': '8:0-18:0', '...  \n",
       "856399   {'Friday': '9:0-20:0', 'Monday': '9:0-20:0', '...  "
      ]
     },
     "execution_count": 5,
     "metadata": {},
     "output_type": "execute_result"
    }
   ],
   "source": [
    "df.sample(5)"
   ]
  },
  {
   "cell_type": "markdown",
   "metadata": {},
   "source": [
    "### Null Values"
   ]
  },
  {
   "cell_type": "code",
   "execution_count": 6,
   "metadata": {
    "scrolled": true
   },
   "outputs": [
    {
     "name": "stdout",
     "output_type": "stream",
     "text": [
      "\n",
      "Null values in Movie Data Set:\n"
     ]
    },
    {
     "data": {
      "text/plain": [
       "hours                 76698\n",
       "attributes            52736\n",
       "categories              209\n",
       "review_count              8\n",
       "compliment_photos         8\n",
       "compliment_writer         8\n",
       "compliment_funny          8\n",
       "compliment_cool           8\n",
       "compliment_plain          8\n",
       "compliment_note           8\n",
       "compliment_list           8\n",
       "compliment_cute           8\n",
       "name                      8\n",
       "compliment_more           8\n",
       "compliment_hot            8\n",
       "average_stars             8\n",
       "fans                      8\n",
       "friends                   8\n",
       "elite                     8\n",
       "cool_user                 8\n",
       "funny_user                8\n",
       "useful_user               8\n",
       "yelping_since             8\n",
       "compliment_profile        8\n",
       "dtype: int64"
      ]
     },
     "metadata": {},
     "output_type": "display_data"
    }
   ],
   "source": [
    "print(\"\\nNull values in Movie Data Set:\")\n",
    "null_counts = df.isnull().sum()\n",
    "display(null_counts[null_counts > 0].sort_values(ascending=False))"
   ]
  },
  {
   "cell_type": "code",
   "execution_count": 7,
   "metadata": {},
   "outputs": [],
   "source": [
    "df2 = df.dropna(subset=[\"useful_user\", \"funny_user\", \"cool_user\", \"fans\"])"
   ]
  },
  {
   "cell_type": "code",
   "execution_count": 8,
   "metadata": {},
   "outputs": [
    {
     "name": "stdout",
     "output_type": "stream",
     "text": [
      "\n",
      "Columns with more than 30% missing values:\n"
     ]
    },
    {
     "data": {
      "text/plain": [
       "Series([], dtype: float64)"
      ]
     },
     "metadata": {},
     "output_type": "display_data"
    }
   ],
   "source": [
    "print(\"\\nColumns with more than 30% missing values:\")\n",
    "null_threshold = 30\n",
    "null_percent = df.isnull().mean() * 100  # calculate & of null values\n",
    "display(null_percent[null_percent > null_threshold].sort_values(ascending=False))"
   ]
  },
  {
   "cell_type": "markdown",
   "metadata": {},
   "source": [
    "### Remove columns"
   ]
  },
  {
   "cell_type": "code",
   "execution_count": 9,
   "metadata": {},
   "outputs": [],
   "source": [
    "df3 = df2.drop(\n",
    "    columns=[\n",
    "        \"user_id\",\n",
    "        \"business_id\",\n",
    "        \"name\",\n",
    "        \"yelping_since\",\n",
    "        \"name_user\",\n",
    "        \"latitude\",\n",
    "        \"friends\",\n",
    "        \"postal_code\",\n",
    "        \"longitude\",\n",
    "        \"compliment_hot\",\n",
    "        \"compliment_more\",\n",
    "        \"compliment_profile\",\n",
    "        \"compliment_cute\",\n",
    "        \"compliment_list\",\n",
    "        \"compliment_note\",\n",
    "        \"compliment_plain\",\n",
    "        \"compliment_cool\",\n",
    "        \"compliment_funny\",\n",
    "        \"compliment_writer\",\n",
    "        \"compliment_photos\",\n",
    "        \"attributes\",\n",
    "        \"hours\",\n",
    "        \"review_count_user\",\n",
    "    ]\n",
    ")"
   ]
  },
  {
   "cell_type": "code",
   "execution_count": 10,
   "metadata": {},
   "outputs": [
    {
     "name": "stdout",
     "output_type": "stream",
     "text": [
      "<class 'pandas.core.frame.DataFrame'>\n",
      "Index: 1499992 entries, 0 to 1499999\n",
      "Data columns (total 20 columns):\n",
      " #   Column         Non-Null Count    Dtype         \n",
      "---  ------         --------------    -----         \n",
      " 0   review_id      1499992 non-null  object        \n",
      " 1   stars          1499992 non-null  int64         \n",
      " 2   useful         1499992 non-null  int64         \n",
      " 3   funny          1499992 non-null  int64         \n",
      " 4   cool           1499992 non-null  int64         \n",
      " 5   text           1499992 non-null  object        \n",
      " 6   date           1499992 non-null  datetime64[ns]\n",
      " 7   review_count   1499992 non-null  float64       \n",
      " 8   useful_user    1499992 non-null  float64       \n",
      " 9   funny_user     1499992 non-null  float64       \n",
      " 10  cool_user      1499992 non-null  float64       \n",
      " 11  elite          1499992 non-null  object        \n",
      " 12  fans           1499992 non-null  float64       \n",
      " 13  average_stars  1499992 non-null  float64       \n",
      " 14  address        1499992 non-null  object        \n",
      " 15  city           1499992 non-null  object        \n",
      " 16  state          1499992 non-null  object        \n",
      " 17  stars_user     1499992 non-null  float64       \n",
      " 18  is_open        1499992 non-null  int64         \n",
      " 19  categories     1499783 non-null  object        \n",
      "dtypes: datetime64[ns](1), float64(7), int64(5), object(7)\n",
      "memory usage: 240.3+ MB\n"
     ]
    }
   ],
   "source": [
    "df3.info()"
   ]
  },
  {
   "cell_type": "code",
   "execution_count": 11,
   "metadata": {},
   "outputs": [
    {
     "data": {
      "text/plain": [
       "(1499992, 20)"
      ]
     },
     "execution_count": 11,
     "metadata": {},
     "output_type": "execute_result"
    }
   ],
   "source": [
    "df3.shape"
   ]
  },
  {
   "cell_type": "markdown",
   "metadata": {},
   "source": [
    "### Categorical Variables"
   ]
  },
  {
   "cell_type": "code",
   "execution_count": 12,
   "metadata": {},
   "outputs": [],
   "source": [
    "cols_categoric = [\n",
    "    \"stars\",\n",
    "    \"elite\",\n",
    "    \"city\",\n",
    "    \"state\",\n",
    "]"
   ]
  },
  {
   "cell_type": "code",
   "execution_count": 13,
   "metadata": {},
   "outputs": [],
   "source": [
    "df3[cols_categoric] = df3[cols_categoric].astype(\"category\")"
   ]
  },
  {
   "cell_type": "markdown",
   "metadata": {},
   "source": [
    "- Ordinal: stars"
   ]
  },
  {
   "cell_type": "markdown",
   "metadata": {},
   "source": [
    "- Nominal: elite, city, state"
   ]
  },
  {
   "cell_type": "markdown",
   "metadata": {},
   "source": [
    "### Numerical Variables"
   ]
  },
  {
   "cell_type": "code",
   "execution_count": 14,
   "metadata": {},
   "outputs": [],
   "source": [
    "cols_numeric = [\n",
    "    \"useful\",\n",
    "    \"funny\",\n",
    "    \"cool\",\n",
    "    \"review_count\",\n",
    "    \"useful_user\",\n",
    "    \"funny_user\",\n",
    "    \"cool_user\",\n",
    "    \"fans\",\n",
    "    \"average_stars\",\n",
    "    \"stars_user\",\n",
    "]"
   ]
  },
  {
   "cell_type": "markdown",
   "metadata": {},
   "source": [
    "- Float"
   ]
  },
  {
   "cell_type": "code",
   "execution_count": 15,
   "metadata": {},
   "outputs": [],
   "source": [
    "cols_numeric_float = [\"stars_user\", \"average_stars\"]"
   ]
  },
  {
   "cell_type": "code",
   "execution_count": 16,
   "metadata": {},
   "outputs": [],
   "source": [
    "df3[cols_numeric_float] = df3[cols_numeric_float].astype(\"float\")"
   ]
  },
  {
   "cell_type": "markdown",
   "metadata": {},
   "source": [
    "- Int"
   ]
  },
  {
   "cell_type": "code",
   "execution_count": 17,
   "metadata": {},
   "outputs": [],
   "source": [
    "cols_numeric_int = [\n",
    "    \"useful\",\n",
    "    \"funny\",\n",
    "    \"cool\",\n",
    "    \"review_count\",\n",
    "    \"useful_user\",\n",
    "    \"funny_user\",\n",
    "    \"cool_user\",\n",
    "    \"fans\",\n",
    "]"
   ]
  },
  {
   "cell_type": "code",
   "execution_count": 18,
   "metadata": {
    "scrolled": true
   },
   "outputs": [],
   "source": [
    "df3[cols_numeric_int] = df3[cols_numeric_int].astype(\"int32\")"
   ]
  },
  {
   "cell_type": "markdown",
   "metadata": {},
   "source": [
    "### Boolean Variables"
   ]
  },
  {
   "cell_type": "code",
   "execution_count": 19,
   "metadata": {},
   "outputs": [],
   "source": [
    "cols_boolean = [\"is_open\"]"
   ]
  },
  {
   "cell_type": "code",
   "execution_count": 20,
   "metadata": {},
   "outputs": [],
   "source": [
    "df3[cols_boolean] = df3[cols_boolean].astype(\"bool\")"
   ]
  },
  {
   "cell_type": "markdown",
   "metadata": {},
   "source": [
    "### String Variables"
   ]
  },
  {
   "cell_type": "code",
   "execution_count": 21,
   "metadata": {},
   "outputs": [],
   "source": [
    "cols_string = [\"review_id\", \"text\", \"address\", \"categories\"]"
   ]
  },
  {
   "cell_type": "code",
   "execution_count": 22,
   "metadata": {},
   "outputs": [],
   "source": [
    "df3[cols_string] = df3[cols_string].astype(\"string\")"
   ]
  },
  {
   "cell_type": "markdown",
   "metadata": {},
   "source": [
    "### Date Variables"
   ]
  },
  {
   "cell_type": "code",
   "execution_count": 23,
   "metadata": {},
   "outputs": [],
   "source": [
    "col_date = [\"date\"]"
   ]
  },
  {
   "cell_type": "code",
   "execution_count": 24,
   "metadata": {},
   "outputs": [],
   "source": [
    "df3[col_date] = df3[col_date].astype(\"datetime64[ns]\")"
   ]
  },
  {
   "cell_type": "markdown",
   "metadata": {},
   "source": [
    "### Schema"
   ]
  },
  {
   "cell_type": "code",
   "execution_count": 25,
   "metadata": {},
   "outputs": [
    {
     "name": "stdout",
     "output_type": "stream",
     "text": [
      "<class 'pandas.core.frame.DataFrame'>\n",
      "Index: 1499992 entries, 0 to 1499999\n",
      "Data columns (total 20 columns):\n",
      " #   Column         Non-Null Count    Dtype         \n",
      "---  ------         --------------    -----         \n",
      " 0   review_id      1499992 non-null  string        \n",
      " 1   stars          1499992 non-null  category      \n",
      " 2   useful         1499992 non-null  int32         \n",
      " 3   funny          1499992 non-null  int32         \n",
      " 4   cool           1499992 non-null  int32         \n",
      " 5   text           1499992 non-null  string        \n",
      " 6   date           1499992 non-null  datetime64[ns]\n",
      " 7   review_count   1499992 non-null  int32         \n",
      " 8   useful_user    1499992 non-null  int32         \n",
      " 9   funny_user     1499992 non-null  int32         \n",
      " 10  cool_user      1499992 non-null  int32         \n",
      " 11  elite          1499992 non-null  category      \n",
      " 12  fans           1499992 non-null  int32         \n",
      " 13  average_stars  1499992 non-null  float64       \n",
      " 14  address        1499992 non-null  string        \n",
      " 15  city           1499992 non-null  category      \n",
      " 16  state          1499992 non-null  category      \n",
      " 17  stars_user     1499992 non-null  float64       \n",
      " 18  is_open        1499992 non-null  bool          \n",
      " 19  categories     1499783 non-null  string        \n",
      "dtypes: bool(1), category(4), datetime64[ns](1), float64(2), int32(8), string(4)\n",
      "memory usage: 147.4 MB\n"
     ]
    }
   ],
   "source": [
    "df3.info()"
   ]
  },
  {
   "cell_type": "code",
   "execution_count": 26,
   "metadata": {},
   "outputs": [],
   "source": [
    "import pyarrow as pa\n",
    "\n",
    "schema = pa.Schema.from_pandas(df3, preserve_index=False)"
   ]
  },
  {
   "cell_type": "code",
   "execution_count": 27,
   "metadata": {},
   "outputs": [
    {
     "data": {
      "text/plain": [
       "review_id: string\n",
       "stars: dictionary<values=int64, indices=int8, ordered=0>\n",
       "useful: int32\n",
       "funny: int32\n",
       "cool: int32\n",
       "text: string\n",
       "date: timestamp[ns]\n",
       "review_count: int32\n",
       "useful_user: int32\n",
       "funny_user: int32\n",
       "cool_user: int32\n",
       "elite: dictionary<values=string, indices=int16, ordered=0>\n",
       "fans: int32\n",
       "average_stars: double\n",
       "address: string\n",
       "city: dictionary<values=string, indices=int16, ordered=0>\n",
       "state: dictionary<values=string, indices=int8, ordered=0>\n",
       "stars_user: double\n",
       "is_open: bool\n",
       "categories: string\n",
       "-- schema metadata --\n",
       "pandas: '{\"index_columns\": [], \"column_indexes\": [], \"columns\": [{\"name\":' + 2501"
      ]
     },
     "execution_count": 27,
     "metadata": {},
     "output_type": "execute_result"
    }
   ],
   "source": [
    "schema"
   ]
  },
  {
   "cell_type": "markdown",
   "metadata": {},
   "source": [
    "## Basic Statistics"
   ]
  },
  {
   "cell_type": "code",
   "execution_count": 28,
   "metadata": {},
   "outputs": [
    {
     "data": {
      "text/html": [
       "<div>\n",
       "<style scoped>\n",
       "    .dataframe tbody tr th:only-of-type {\n",
       "        vertical-align: middle;\n",
       "    }\n",
       "\n",
       "    .dataframe tbody tr th {\n",
       "        vertical-align: top;\n",
       "    }\n",
       "\n",
       "    .dataframe thead th {\n",
       "        text-align: right;\n",
       "    }\n",
       "</style>\n",
       "<table border=\"1\" class=\"dataframe\">\n",
       "  <thead>\n",
       "    <tr style=\"text-align: right;\">\n",
       "      <th></th>\n",
       "      <th>review_id</th>\n",
       "      <th>stars</th>\n",
       "      <th>text</th>\n",
       "      <th>elite</th>\n",
       "      <th>address</th>\n",
       "      <th>city</th>\n",
       "      <th>state</th>\n",
       "      <th>categories</th>\n",
       "    </tr>\n",
       "  </thead>\n",
       "  <tbody>\n",
       "    <tr>\n",
       "      <th>count</th>\n",
       "      <td>1499992</td>\n",
       "      <td>1499992</td>\n",
       "      <td>1499992</td>\n",
       "      <td>1499992</td>\n",
       "      <td>1499992</td>\n",
       "      <td>1499992</td>\n",
       "      <td>1499992</td>\n",
       "      <td>1499783</td>\n",
       "    </tr>\n",
       "    <tr>\n",
       "      <th>unique</th>\n",
       "      <td>1499992</td>\n",
       "      <td>5</td>\n",
       "      <td>1498155</td>\n",
       "      <td>838</td>\n",
       "      <td>103378</td>\n",
       "      <td>1299</td>\n",
       "      <td>24</td>\n",
       "      <td>70431</td>\n",
       "    </tr>\n",
       "    <tr>\n",
       "      <th>top</th>\n",
       "      <td>LgfSWgq5DzgoFzNW6YwfSg</td>\n",
       "      <td>5</td>\n",
       "      <td>I love Mexican restaurants I could probably ea...</td>\n",
       "      <td></td>\n",
       "      <td></td>\n",
       "      <td>Philadelphia</td>\n",
       "      <td>PA</td>\n",
       "      <td>Restaurants, Mexican</td>\n",
       "    </tr>\n",
       "    <tr>\n",
       "      <th>freq</th>\n",
       "      <td>1</td>\n",
       "      <td>678237</td>\n",
       "      <td>7</td>\n",
       "      <td>933532</td>\n",
       "      <td>22169</td>\n",
       "      <td>176131</td>\n",
       "      <td>314382</td>\n",
       "      <td>10310</td>\n",
       "    </tr>\n",
       "  </tbody>\n",
       "</table>\n",
       "</div>"
      ],
      "text/plain": [
       "                     review_id    stars  \\\n",
       "count                  1499992  1499992   \n",
       "unique                 1499992        5   \n",
       "top     LgfSWgq5DzgoFzNW6YwfSg        5   \n",
       "freq                         1   678237   \n",
       "\n",
       "                                                     text    elite  address  \\\n",
       "count                                             1499992  1499992  1499992   \n",
       "unique                                            1498155      838   103378   \n",
       "top     I love Mexican restaurants I could probably ea...                     \n",
       "freq                                                    7   933532    22169   \n",
       "\n",
       "                city    state            categories  \n",
       "count        1499992  1499992               1499783  \n",
       "unique          1299       24                 70431  \n",
       "top     Philadelphia       PA  Restaurants, Mexican  \n",
       "freq          176131   314382                 10310  "
      ]
     },
     "execution_count": 28,
     "metadata": {},
     "output_type": "execute_result"
    }
   ],
   "source": [
    "df3.describe(include=[\"string\", \"category\"])"
   ]
  },
  {
   "cell_type": "code",
   "execution_count": 29,
   "metadata": {
    "scrolled": true
   },
   "outputs": [
    {
     "name": "stdout",
     "output_type": "stream",
     "text": [
      "\n",
      "🔍 Column analysis: useful\n",
      "--------------------------------------------------\n",
      "📊 Summary statistics:\n",
      "count    1.499992e+06\n",
      "mean     2.461755e+00\n",
      "std      4.205422e+00\n",
      "min      1.000000e+00\n",
      "25%      1.000000e+00\n",
      "50%      1.000000e+00\n",
      "75%      2.000000e+00\n",
      "max      6.170000e+02\n",
      "Name: useful, dtype: float64\n",
      "\n",
      "🔢 Unique values (198):\n",
      "[ 1  3  2  6  8  5  4 10  7 25 23 52 11 13 12 18  9 67 14 15]\n",
      "\n",
      "🔍 Column analysis: funny\n",
      "--------------------------------------------------\n",
      "📊 Summary statistics:\n",
      "count    1.499992e+06\n",
      "mean     5.350482e-01\n",
      "std      2.176572e+00\n",
      "min     -1.000000e+00\n",
      "25%      0.000000e+00\n",
      "50%      0.000000e+00\n",
      "75%      0.000000e+00\n",
      "max      7.920000e+02\n",
      "Name: funny, dtype: float64\n",
      "\n",
      "🔢 Unique values (122):\n",
      "[ 0  1  2  4  3  5  6  7 27  9 18  8 10 19 21 23 26 16 13 11]\n",
      "\n",
      "🔍 Column analysis: cool\n",
      "--------------------------------------------------\n",
      "📊 Summary statistics:\n",
      "count    1.499992e+06\n",
      "mean     1.094221e+00\n",
      "std      3.515650e+00\n",
      "min      0.000000e+00\n",
      "25%      0.000000e+00\n",
      "50%      0.000000e+00\n",
      "75%      1.000000e+00\n",
      "max      3.040000e+02\n",
      "Name: cool, dtype: float64\n",
      "\n",
      "🔢 Unique values (182):\n",
      "[ 1  0  2  5  7  4  3  6  9 25 19 54 11 10 12  8 18 14 15 28]\n",
      "\n",
      "🔍 Column analysis: review_count\n",
      "--------------------------------------------------\n",
      "📊 Summary statistics:\n",
      "count    1.499992e+06\n",
      "mean     1.686461e+02\n",
      "std      4.710485e+02\n",
      "min      1.000000e+00\n",
      "25%      9.000000e+00\n",
      "50%      3.900000e+01\n",
      "75%      1.530000e+02\n",
      "max      1.747300e+04\n",
      "Name: review_count, dtype: float64\n",
      "\n",
      "🔢 Unique values (1817):\n",
      "[  5  48  79  32 281 576  18 131  51  67 488  81 556 118   2  86 456  90\n",
      "  44 195]\n",
      "\n",
      "🔍 Column analysis: useful_user\n",
      "--------------------------------------------------\n",
      "📊 Summary statistics:\n",
      "count    1.499992e+06\n",
      "mean     7.567800e+02\n",
      "std      4.897320e+03\n",
      "min      0.000000e+00\n",
      "25%      7.000000e+00\n",
      "50%      3.600000e+01\n",
      "75%      2.110000e+02\n",
      "max      2.062960e+05\n",
      "Name: useful_user, dtype: float64\n",
      "\n",
      "🔢 Unique values (4489):\n",
      "[   4   95   66   33  952 1061   10  182   54 2057   51  559  537    0\n",
      "   44 2036  147   23   29  276]\n",
      "\n",
      "🔍 Column analysis: funny_user\n",
      "--------------------------------------------------\n",
      "📊 Summary statistics:\n",
      "count    1.499992e+06\n",
      "mean     3.095407e+02\n",
      "std      3.215000e+03\n",
      "min      0.000000e+00\n",
      "25%      1.000000e+00\n",
      "50%      6.000000e+00\n",
      "75%      4.200000e+01\n",
      "max      1.858230e+05\n",
      "Name: funny_user, dtype: float64\n",
      "\n",
      "🔢 Unique values (3006):\n",
      "[   0   13   19  452  102   10    3  544    5   63   96    2 1113    7\n",
      "   14  473  630   11   59 2755]\n",
      "\n",
      "🔍 Column analysis: cool_user\n",
      "--------------------------------------------------\n",
      "📊 Summary statistics:\n",
      "count    1.499992e+06\n",
      "mean     5.613308e+02\n",
      "std      4.333898e+03\n",
      "min      0.000000e+00\n",
      "25%      1.000000e+00\n",
      "50%      1.100000e+01\n",
      "75%      1.000000e+02\n",
      "max      1.958140e+05\n",
      "Name: cool_user, dtype: float64\n",
      "\n",
      "🔢 Unique values (3737):\n",
      "[   2    6   23   12  498  763   93   14   13 1726   15  326  342    0\n",
      " 1242   97   20   10  148   31]\n",
      "\n",
      "🔍 Column analysis: fans\n",
      "--------------------------------------------------\n",
      "📊 Summary statistics:\n",
      "count    1.499992e+06\n",
      "mean     2.158691e+01\n",
      "std      1.131580e+02\n",
      "min      0.000000e+00\n",
      "25%      0.000000e+00\n",
      "50%      1.000000e+00\n",
      "75%      9.000000e+00\n",
      "max      1.249700e+04\n",
      "Name: fans, dtype: float64\n",
      "\n",
      "🔢 Unique values (617):\n",
      "[  0   1  23  41   6   2  79   9  22  45   5  12  56 167  11 568  17 563\n",
      "  33   4]\n",
      "\n",
      "🔍 Column analysis: average_stars\n",
      "--------------------------------------------------\n",
      "📊 Summary statistics:\n",
      "count    1.499992e+06\n",
      "mean     3.724495e+00\n",
      "std      8.985252e-01\n",
      "min      1.000000e+00\n",
      "25%      3.400000e+00\n",
      "50%      3.930000e+00\n",
      "75%      4.300000e+00\n",
      "max      5.000000e+00\n",
      "Name: average_stars, dtype: float64\n",
      "\n",
      "🔢 Unique values (401):\n",
      "[4.5  2.46 3.59 4.05 4.14 4.33 4.43 3.8  4.19 4.11 4.06 4.41 4.29 4.17\n",
      " 4.4  4.53 3.68 4.48 4.15 4.24]\n",
      "\n",
      "🔍 Column analysis: stars_user\n",
      "--------------------------------------------------\n",
      "📊 Summary statistics:\n",
      "count    1.499992e+06\n",
      "mean     3.762182e+00\n",
      "std      8.171470e-01\n",
      "min      1.000000e+00\n",
      "25%      3.500000e+00\n",
      "50%      4.000000e+00\n",
      "75%      4.500000e+00\n",
      "max      5.000000e+00\n",
      "Name: stars_user, dtype: float64\n",
      "\n",
      "🔢 Unique values (9):\n",
      "[4.5 3.5 5.  4.  3.  2.5 1.5 1.  2. ]\n",
      "\n",
      "📈 Value counts:\n",
      "stars_user\n",
      "1.0     10696\n",
      "1.5     30895\n",
      "2.0     56043\n",
      "2.5     88967\n",
      "3.0    136139\n",
      "3.5    263048\n",
      "4.0    458436\n",
      "4.5    379935\n",
      "5.0     75833\n",
      "Name: count, dtype: int64\n"
     ]
    }
   ],
   "source": [
    "MAX_UNIQUE_DISPLAY = 20\n",
    "\n",
    "for column in cols_numeric:\n",
    "    print(f\"\\n🔍 Column analysis: {column}\")\n",
    "    print(\"-\" * 50)\n",
    "\n",
    "    # Step 1: Summary statistics\n",
    "    print(\"📊 Summary statistics:\")\n",
    "    print(df3[column].describe())\n",
    "\n",
    "    # Step 2: Unique values (limit if too many)\n",
    "    unique_vals = df3[column].unique()\n",
    "    print(f\"\\n🔢 Unique values ({len(unique_vals)}):\")\n",
    "    print(\n",
    "        unique_vals\n",
    "        if len(unique_vals) <= MAX_UNIQUE_DISPLAY\n",
    "        else unique_vals[:MAX_UNIQUE_DISPLAY]\n",
    "    )\n",
    "\n",
    "    # Step 3: Value counts (only if few unique values)\n",
    "    if df3[column].nunique() <= MAX_UNIQUE_DISPLAY:\n",
    "        print(\"\\n📈 Value counts:\")\n",
    "        print(df3[column].value_counts().sort_index())"
   ]
  },
  {
   "cell_type": "markdown",
   "metadata": {},
   "source": [
    "## Save reviews data intermediate"
   ]
  },
  {
   "cell_type": "code",
   "execution_count": 30,
   "metadata": {
    "scrolled": true
   },
   "outputs": [],
   "source": [
    "df3.to_parquet(\n",
    "    BASE_DIR / \"data/02_intermediate/data_message_classifier_interm.parquet\",\n",
    "    index=False,\n",
    "    schema=schema,\n",
    ")"
   ]
  }
 ],
 "metadata": {
  "kernelspec": {
   "display_name": "Python 3.11 (ml-message-classifier)",
   "language": "python",
   "name": "ml-message-classifier"
  },
  "language_info": {
   "codemirror_mode": {
    "name": "ipython",
    "version": 3
   },
   "file_extension": ".py",
   "mimetype": "text/x-python",
   "name": "python",
   "nbconvert_exporter": "python",
   "pygments_lexer": "ipython3",
   "version": "3.11.12"
  }
 },
 "nbformat": 4,
 "nbformat_minor": 4
}
