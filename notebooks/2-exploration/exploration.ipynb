{
 "cells": [
  {
   "cell_type": "markdown",
   "metadata": {},
   "source": [
    "## Title\n",
    "Data Raw Exploration\n",
    "\n",
    "### By:\n",
    "Juan Gómez\n",
    "\n",
    "### Date:\n",
    "2024-05-16\n",
    "\n",
    "### Description:\n",
    "\n",
    "This notebook explores the raw Yelp Open Dataset. It shows basic statistics, checks missing values, and looks at trends in popularity, genres, and ratings. The goal is to understand the data before building a recommendation system."
   ]
  },
  {
   "cell_type": "markdown",
   "metadata": {
    "pycharm": {
     "name": "#%% md\n"
    }
   },
   "source": [
    "## Import  libraries"
   ]
  },
  {
   "cell_type": "code",
   "execution_count": 1,
   "metadata": {
    "collapsed": false,
    "jupyter": {
     "outputs_hidden": false
    },
    "pycharm": {
     "name": "#%%\n"
    }
   },
   "outputs": [],
   "source": [
    "from pathlib import Path\n",
    "\n",
    "import pandas as pd\n",
    "import pyarrow as pa"
   ]
  },
  {
   "cell_type": "markdown",
   "metadata": {
    "pycharm": {
     "name": "#%% md\n"
    }
   },
   "source": [
    "## Load data"
   ]
  },
  {
   "cell_type": "code",
   "execution_count": 2,
   "metadata": {},
   "outputs": [],
   "source": [
    "pd.set_option(\"display.max_columns\", None)\n",
    "BASE_DIR = Path.cwd().resolve().parents[1]"
   ]
  },
  {
   "cell_type": "code",
   "execution_count": 3,
   "metadata": {
    "collapsed": false,
    "jupyter": {
     "outputs_hidden": false
    },
    "pycharm": {
     "name": "#%%\n"
    }
   },
   "outputs": [],
   "source": [
    "df = pd.read_parquet(BASE_DIR / \"data/01_raw/review_user_business_extract.parquet\")"
   ]
  },
  {
   "cell_type": "markdown",
   "metadata": {},
   "source": [
    "## Exploration"
   ]
  },
  {
   "cell_type": "code",
   "execution_count": 4,
   "metadata": {
    "pycharm": {
     "name": "#%%\n"
    },
    "scrolled": true
   },
   "outputs": [
    {
     "name": "stdout",
     "output_type": "stream",
     "text": [
      "<class 'pandas.core.frame.DataFrame'>\n",
      "RangeIndex: 1000100 entries, 0 to 1000099\n",
      "Data columns (total 43 columns):\n",
      " #   Column                 Non-Null Count    Dtype         \n",
      "---  ------                 --------------    -----         \n",
      " 0   review_id              1000100 non-null  object        \n",
      " 1   user_id                1000100 non-null  object        \n",
      " 2   business_id            1000100 non-null  object        \n",
      " 3   stars                  1000100 non-null  int64         \n",
      " 4   useful                 1000100 non-null  int64         \n",
      " 5   funny                  1000100 non-null  int64         \n",
      " 6   cool                   1000100 non-null  int64         \n",
      " 7   text                   1000100 non-null  object        \n",
      " 8   date                   1000100 non-null  datetime64[ns]\n",
      " 9   name                   1000092 non-null  object        \n",
      " 10  review_count           1000092 non-null  float64       \n",
      " 11  yelping_since          1000092 non-null  object        \n",
      " 12  useful_user            1000092 non-null  float64       \n",
      " 13  funny_user             1000092 non-null  float64       \n",
      " 14  cool_user              1000092 non-null  float64       \n",
      " 15  elite                  1000092 non-null  object        \n",
      " 16  friends                1000092 non-null  object        \n",
      " 17  fans                   1000092 non-null  float64       \n",
      " 18  average_stars          1000092 non-null  float64       \n",
      " 19  compliment_hot         1000092 non-null  float64       \n",
      " 20  compliment_more        1000092 non-null  float64       \n",
      " 21  compliment_profile     1000092 non-null  float64       \n",
      " 22  compliment_cute        1000092 non-null  float64       \n",
      " 23  compliment_list        1000092 non-null  float64       \n",
      " 24  compliment_note        1000092 non-null  float64       \n",
      " 25  compliment_plain       1000092 non-null  float64       \n",
      " 26  compliment_cool        1000092 non-null  float64       \n",
      " 27  compliment_funny       1000092 non-null  float64       \n",
      " 28  compliment_writer      1000092 non-null  float64       \n",
      " 29  compliment_photos      1000092 non-null  float64       \n",
      " 30  name_business          1000100 non-null  object        \n",
      " 31  address                1000100 non-null  object        \n",
      " 32  city                   1000100 non-null  object        \n",
      " 33  state                  1000100 non-null  object        \n",
      " 34  postal_code            1000100 non-null  object        \n",
      " 35  latitude               1000100 non-null  float64       \n",
      " 36  longitude              1000100 non-null  float64       \n",
      " 37  stars_business         1000100 non-null  float64       \n",
      " 38  review_count_business  1000100 non-null  int64         \n",
      " 39  is_open                1000100 non-null  int64         \n",
      " 40  attributes             962699 non-null   object        \n",
      " 41  categories             999964 non-null   object        \n",
      " 42  hours                  950224 non-null   object        \n",
      "dtypes: datetime64[ns](1), float64(20), int64(6), object(16)\n",
      "memory usage: 328.1+ MB\n"
     ]
    }
   ],
   "source": [
    "df.info()"
   ]
  },
  {
   "cell_type": "code",
   "execution_count": 5,
   "metadata": {
    "scrolled": true
   },
   "outputs": [
    {
     "data": {
      "text/html": [
       "<div>\n",
       "<style scoped>\n",
       "    .dataframe tbody tr th:only-of-type {\n",
       "        vertical-align: middle;\n",
       "    }\n",
       "\n",
       "    .dataframe tbody tr th {\n",
       "        vertical-align: top;\n",
       "    }\n",
       "\n",
       "    .dataframe thead th {\n",
       "        text-align: right;\n",
       "    }\n",
       "</style>\n",
       "<table border=\"1\" class=\"dataframe\">\n",
       "  <thead>\n",
       "    <tr style=\"text-align: right;\">\n",
       "      <th></th>\n",
       "      <th>review_id</th>\n",
       "      <th>user_id</th>\n",
       "      <th>business_id</th>\n",
       "      <th>stars</th>\n",
       "      <th>useful</th>\n",
       "      <th>funny</th>\n",
       "      <th>cool</th>\n",
       "      <th>text</th>\n",
       "      <th>date</th>\n",
       "      <th>name</th>\n",
       "      <th>review_count</th>\n",
       "      <th>yelping_since</th>\n",
       "      <th>useful_user</th>\n",
       "      <th>funny_user</th>\n",
       "      <th>cool_user</th>\n",
       "      <th>elite</th>\n",
       "      <th>friends</th>\n",
       "      <th>fans</th>\n",
       "      <th>average_stars</th>\n",
       "      <th>compliment_hot</th>\n",
       "      <th>compliment_more</th>\n",
       "      <th>compliment_profile</th>\n",
       "      <th>compliment_cute</th>\n",
       "      <th>compliment_list</th>\n",
       "      <th>compliment_note</th>\n",
       "      <th>compliment_plain</th>\n",
       "      <th>compliment_cool</th>\n",
       "      <th>compliment_funny</th>\n",
       "      <th>compliment_writer</th>\n",
       "      <th>compliment_photos</th>\n",
       "      <th>name_business</th>\n",
       "      <th>address</th>\n",
       "      <th>city</th>\n",
       "      <th>state</th>\n",
       "      <th>postal_code</th>\n",
       "      <th>latitude</th>\n",
       "      <th>longitude</th>\n",
       "      <th>stars_business</th>\n",
       "      <th>review_count_business</th>\n",
       "      <th>is_open</th>\n",
       "      <th>attributes</th>\n",
       "      <th>categories</th>\n",
       "      <th>hours</th>\n",
       "    </tr>\n",
       "  </thead>\n",
       "  <tbody>\n",
       "    <tr>\n",
       "      <th>193295</th>\n",
       "      <td>dlZld5VjuF3UlVf1bneHBQ</td>\n",
       "      <td>aJ-RI7oOjhZIYfEBNswUrQ</td>\n",
       "      <td>2F-TFWmAc-rkLBmK_ZoTOw</td>\n",
       "      <td>1</td>\n",
       "      <td>1</td>\n",
       "      <td>1</td>\n",
       "      <td>1</td>\n",
       "      <td>a few years back i was training here for a pos...</td>\n",
       "      <td>2021-02-28 19:37:09</td>\n",
       "      <td>Gracie</td>\n",
       "      <td>5.0</td>\n",
       "      <td>2021-01-18 02:39:17</td>\n",
       "      <td>2.0</td>\n",
       "      <td>1.0</td>\n",
       "      <td>1.0</td>\n",
       "      <td></td>\n",
       "      <td>None</td>\n",
       "      <td>0.0</td>\n",
       "      <td>4.20</td>\n",
       "      <td>0.0</td>\n",
       "      <td>0.0</td>\n",
       "      <td>0.0</td>\n",
       "      <td>0.0</td>\n",
       "      <td>0.0</td>\n",
       "      <td>1.0</td>\n",
       "      <td>0.0</td>\n",
       "      <td>0.0</td>\n",
       "      <td>0.0</td>\n",
       "      <td>0.0</td>\n",
       "      <td>0.0</td>\n",
       "      <td>Naples At The Warehouse</td>\n",
       "      <td>2 S Main St</td>\n",
       "      <td>Mullica Hill</td>\n",
       "      <td>NJ</td>\n",
       "      <td>08062</td>\n",
       "      <td>39.735601</td>\n",
       "      <td>-75.224980</td>\n",
       "      <td>3.5</td>\n",
       "      <td>95</td>\n",
       "      <td>1</td>\n",
       "      <td>{'AcceptsInsurance': None, 'AgesAllowed': None...</td>\n",
       "      <td>Italian, Sandwiches, Restaurants, Pizza</td>\n",
       "      <td>{'Friday': '10:0-23:0', 'Monday': None, 'Satur...</td>\n",
       "    </tr>\n",
       "    <tr>\n",
       "      <th>216212</th>\n",
       "      <td>VEGDz_FY9doYT1R7N48j1Q</td>\n",
       "      <td>qMWKHCNOzB6dzWiBRpr2og</td>\n",
       "      <td>c7WZXqCRHWSJWEkD6Fbswg</td>\n",
       "      <td>5</td>\n",
       "      <td>1</td>\n",
       "      <td>0</td>\n",
       "      <td>0</td>\n",
       "      <td>Great resource for those of us who love readin...</td>\n",
       "      <td>2021-01-22 01:28:29</td>\n",
       "      <td>Bob</td>\n",
       "      <td>1.0</td>\n",
       "      <td>2015-11-05 18:31:25</td>\n",
       "      <td>1.0</td>\n",
       "      <td>0.0</td>\n",
       "      <td>0.0</td>\n",
       "      <td></td>\n",
       "      <td>None</td>\n",
       "      <td>0.0</td>\n",
       "      <td>5.00</td>\n",
       "      <td>0.0</td>\n",
       "      <td>0.0</td>\n",
       "      <td>0.0</td>\n",
       "      <td>0.0</td>\n",
       "      <td>0.0</td>\n",
       "      <td>0.0</td>\n",
       "      <td>0.0</td>\n",
       "      <td>0.0</td>\n",
       "      <td>0.0</td>\n",
       "      <td>0.0</td>\n",
       "      <td>0.0</td>\n",
       "      <td>Wee Book Inn</td>\n",
       "      <td>10332 Jasper Avenue</td>\n",
       "      <td>Edmonton</td>\n",
       "      <td>AB</td>\n",
       "      <td>T5J 1Y7</td>\n",
       "      <td>53.541075</td>\n",
       "      <td>-113.498411</td>\n",
       "      <td>4.5</td>\n",
       "      <td>8</td>\n",
       "      <td>1</td>\n",
       "      <td>{'AcceptsInsurance': None, 'AgesAllowed': None...</td>\n",
       "      <td>Bookstores, Shopping, Books, Mags, Music &amp; Video</td>\n",
       "      <td>{'Friday': '9:0-0:0', 'Monday': '9:0-22:0', 'S...</td>\n",
       "    </tr>\n",
       "    <tr>\n",
       "      <th>937153</th>\n",
       "      <td>REfd8tAyY_AA812N8s0Nmw</td>\n",
       "      <td>3q2cQC60mNmSHH3LYC_j_g</td>\n",
       "      <td>tBMy2DhoMF3SbZqB-4yEtA</td>\n",
       "      <td>2</td>\n",
       "      <td>5</td>\n",
       "      <td>0</td>\n",
       "      <td>0</td>\n",
       "      <td>To qualify my review, I'll say that I shop at ...</td>\n",
       "      <td>2018-08-14 19:29:08</td>\n",
       "      <td>Aaron</td>\n",
       "      <td>237.0</td>\n",
       "      <td>2012-06-03 19:46:05</td>\n",
       "      <td>577.0</td>\n",
       "      <td>84.0</td>\n",
       "      <td>280.0</td>\n",
       "      <td>2015,2016,2017,2018,2019,20,20,2021</td>\n",
       "      <td>zdiMak6UuWRV5AlvsB8_7A, _8HnZjh_XZwQLmuCM1rNVQ...</td>\n",
       "      <td>23.0</td>\n",
       "      <td>3.91</td>\n",
       "      <td>22.0</td>\n",
       "      <td>6.0</td>\n",
       "      <td>0.0</td>\n",
       "      <td>0.0</td>\n",
       "      <td>0.0</td>\n",
       "      <td>88.0</td>\n",
       "      <td>22.0</td>\n",
       "      <td>27.0</td>\n",
       "      <td>27.0</td>\n",
       "      <td>17.0</td>\n",
       "      <td>5.0</td>\n",
       "      <td>All My Relations</td>\n",
       "      <td>7218 Rockville Rd</td>\n",
       "      <td>Indianapolis</td>\n",
       "      <td>IN</td>\n",
       "      <td>46214</td>\n",
       "      <td>39.764877</td>\n",
       "      <td>-86.287506</td>\n",
       "      <td>3.5</td>\n",
       "      <td>20</td>\n",
       "      <td>1</td>\n",
       "      <td>{'AcceptsInsurance': None, 'AgesAllowed': None...</td>\n",
       "      <td>Health &amp; Medical, Doctors, Jewelry, Naturopath...</td>\n",
       "      <td>{'Friday': '11:0-19:0', 'Monday': '11:0-19:0',...</td>\n",
       "    </tr>\n",
       "    <tr>\n",
       "      <th>336314</th>\n",
       "      <td>Wl7DSbCeIkRQyQ5XNwRBkg</td>\n",
       "      <td>e1-FrjkLIrrIueMBJwb8og</td>\n",
       "      <td>6TNz9PRdx14NgL24f880dQ</td>\n",
       "      <td>5</td>\n",
       "      <td>1</td>\n",
       "      <td>1</td>\n",
       "      <td>1</td>\n",
       "      <td>Still amazing. Props to them and the way they'...</td>\n",
       "      <td>2020-07-07 00:03:19</td>\n",
       "      <td>Carly</td>\n",
       "      <td>85.0</td>\n",
       "      <td>2019-05-01 18:33:43</td>\n",
       "      <td>99.0</td>\n",
       "      <td>35.0</td>\n",
       "      <td>80.0</td>\n",
       "      <td>2019,20,20,2021</td>\n",
       "      <td>vsYzJgUK6QV9m0bexiV2aQ, NiHBWzjE16B8hJOHyyou0g...</td>\n",
       "      <td>12.0</td>\n",
       "      <td>4.61</td>\n",
       "      <td>1.0</td>\n",
       "      <td>5.0</td>\n",
       "      <td>1.0</td>\n",
       "      <td>0.0</td>\n",
       "      <td>0.0</td>\n",
       "      <td>6.0</td>\n",
       "      <td>4.0</td>\n",
       "      <td>7.0</td>\n",
       "      <td>7.0</td>\n",
       "      <td>2.0</td>\n",
       "      <td>3.0</td>\n",
       "      <td>El Mariachi Mexican Restaurant</td>\n",
       "      <td>614 Thompson Ln</td>\n",
       "      <td>Nashville</td>\n",
       "      <td>TN</td>\n",
       "      <td>37204</td>\n",
       "      <td>36.111524</td>\n",
       "      <td>-86.753715</td>\n",
       "      <td>3.5</td>\n",
       "      <td>78</td>\n",
       "      <td>1</td>\n",
       "      <td>{'AcceptsInsurance': None, 'AgesAllowed': None...</td>\n",
       "      <td>Food, Desserts, Breakfast &amp; Brunch, Mexican, R...</td>\n",
       "      <td>{'Friday': '11:0-22:30', 'Monday': '0:0-0:0', ...</td>\n",
       "    </tr>\n",
       "    <tr>\n",
       "      <th>681053</th>\n",
       "      <td>qV7-Om9qU-Yx58sUaidWCA</td>\n",
       "      <td>xalgcjscRLNPuyaAeKNThA</td>\n",
       "      <td>a-pcOIKQTLdYsPyrDbUMhw</td>\n",
       "      <td>4</td>\n",
       "      <td>2</td>\n",
       "      <td>0</td>\n",
       "      <td>0</td>\n",
       "      <td>This restaurant is located near the Capitol. I...</td>\n",
       "      <td>2019-05-05 13:04:17</td>\n",
       "      <td>Tank</td>\n",
       "      <td>1647.0</td>\n",
       "      <td>2016-10-09 18:10:18</td>\n",
       "      <td>4223.0</td>\n",
       "      <td>228.0</td>\n",
       "      <td>2725.0</td>\n",
       "      <td>2018,2019,20,20,2021</td>\n",
       "      <td>cUTAO7xfjpRuOcXefbF2Bw, Cu6dcKerS5U4Pv47Kn6UyQ...</td>\n",
       "      <td>45.0</td>\n",
       "      <td>4.05</td>\n",
       "      <td>18.0</td>\n",
       "      <td>0.0</td>\n",
       "      <td>2.0</td>\n",
       "      <td>0.0</td>\n",
       "      <td>0.0</td>\n",
       "      <td>45.0</td>\n",
       "      <td>20.0</td>\n",
       "      <td>50.0</td>\n",
       "      <td>50.0</td>\n",
       "      <td>36.0</td>\n",
       "      <td>20.0</td>\n",
       "      <td>Lazeez</td>\n",
       "      <td>115 W Market St</td>\n",
       "      <td>Indianapolis</td>\n",
       "      <td>IN</td>\n",
       "      <td>46204</td>\n",
       "      <td>39.768473</td>\n",
       "      <td>-86.160644</td>\n",
       "      <td>3.5</td>\n",
       "      <td>121</td>\n",
       "      <td>0</td>\n",
       "      <td>{'AcceptsInsurance': None, 'AgesAllowed': None...</td>\n",
       "      <td>Salad, Restaurants, Hookah Bars, Bars, Nightli...</td>\n",
       "      <td>{'Friday': '10:30-1:0', 'Monday': '10:30-21:0'...</td>\n",
       "    </tr>\n",
       "  </tbody>\n",
       "</table>\n",
       "</div>"
      ],
      "text/plain": [
       "                     review_id                 user_id  \\\n",
       "193295  dlZld5VjuF3UlVf1bneHBQ  aJ-RI7oOjhZIYfEBNswUrQ   \n",
       "216212  VEGDz_FY9doYT1R7N48j1Q  qMWKHCNOzB6dzWiBRpr2og   \n",
       "937153  REfd8tAyY_AA812N8s0Nmw  3q2cQC60mNmSHH3LYC_j_g   \n",
       "336314  Wl7DSbCeIkRQyQ5XNwRBkg  e1-FrjkLIrrIueMBJwb8og   \n",
       "681053  qV7-Om9qU-Yx58sUaidWCA  xalgcjscRLNPuyaAeKNThA   \n",
       "\n",
       "                   business_id  stars  useful  funny  cool  \\\n",
       "193295  2F-TFWmAc-rkLBmK_ZoTOw      1       1      1     1   \n",
       "216212  c7WZXqCRHWSJWEkD6Fbswg      5       1      0     0   \n",
       "937153  tBMy2DhoMF3SbZqB-4yEtA      2       5      0     0   \n",
       "336314  6TNz9PRdx14NgL24f880dQ      5       1      1     1   \n",
       "681053  a-pcOIKQTLdYsPyrDbUMhw      4       2      0     0   \n",
       "\n",
       "                                                     text                date  \\\n",
       "193295  a few years back i was training here for a pos... 2021-02-28 19:37:09   \n",
       "216212  Great resource for those of us who love readin... 2021-01-22 01:28:29   \n",
       "937153  To qualify my review, I'll say that I shop at ... 2018-08-14 19:29:08   \n",
       "336314  Still amazing. Props to them and the way they'... 2020-07-07 00:03:19   \n",
       "681053  This restaurant is located near the Capitol. I... 2019-05-05 13:04:17   \n",
       "\n",
       "          name  review_count        yelping_since  useful_user  funny_user  \\\n",
       "193295  Gracie           5.0  2021-01-18 02:39:17          2.0         1.0   \n",
       "216212     Bob           1.0  2015-11-05 18:31:25          1.0         0.0   \n",
       "937153   Aaron         237.0  2012-06-03 19:46:05        577.0        84.0   \n",
       "336314   Carly          85.0  2019-05-01 18:33:43         99.0        35.0   \n",
       "681053    Tank        1647.0  2016-10-09 18:10:18       4223.0       228.0   \n",
       "\n",
       "        cool_user                                elite  \\\n",
       "193295        1.0                                        \n",
       "216212        0.0                                        \n",
       "937153      280.0  2015,2016,2017,2018,2019,20,20,2021   \n",
       "336314       80.0                      2019,20,20,2021   \n",
       "681053     2725.0                 2018,2019,20,20,2021   \n",
       "\n",
       "                                                  friends  fans  \\\n",
       "193295                                               None   0.0   \n",
       "216212                                               None   0.0   \n",
       "937153  zdiMak6UuWRV5AlvsB8_7A, _8HnZjh_XZwQLmuCM1rNVQ...  23.0   \n",
       "336314  vsYzJgUK6QV9m0bexiV2aQ, NiHBWzjE16B8hJOHyyou0g...  12.0   \n",
       "681053  cUTAO7xfjpRuOcXefbF2Bw, Cu6dcKerS5U4Pv47Kn6UyQ...  45.0   \n",
       "\n",
       "        average_stars  compliment_hot  compliment_more  compliment_profile  \\\n",
       "193295           4.20             0.0              0.0                 0.0   \n",
       "216212           5.00             0.0              0.0                 0.0   \n",
       "937153           3.91            22.0              6.0                 0.0   \n",
       "336314           4.61             1.0              5.0                 1.0   \n",
       "681053           4.05            18.0              0.0                 2.0   \n",
       "\n",
       "        compliment_cute  compliment_list  compliment_note  compliment_plain  \\\n",
       "193295              0.0              0.0              1.0               0.0   \n",
       "216212              0.0              0.0              0.0               0.0   \n",
       "937153              0.0              0.0             88.0              22.0   \n",
       "336314              0.0              0.0              6.0               4.0   \n",
       "681053              0.0              0.0             45.0              20.0   \n",
       "\n",
       "        compliment_cool  compliment_funny  compliment_writer  \\\n",
       "193295              0.0               0.0                0.0   \n",
       "216212              0.0               0.0                0.0   \n",
       "937153             27.0              27.0               17.0   \n",
       "336314              7.0               7.0                2.0   \n",
       "681053             50.0              50.0               36.0   \n",
       "\n",
       "        compliment_photos                   name_business  \\\n",
       "193295                0.0         Naples At The Warehouse   \n",
       "216212                0.0                    Wee Book Inn   \n",
       "937153                5.0                All My Relations   \n",
       "336314                3.0  El Mariachi Mexican Restaurant   \n",
       "681053               20.0                          Lazeez   \n",
       "\n",
       "                    address          city state postal_code   latitude  \\\n",
       "193295          2 S Main St  Mullica Hill    NJ       08062  39.735601   \n",
       "216212  10332 Jasper Avenue      Edmonton    AB     T5J 1Y7  53.541075   \n",
       "937153    7218 Rockville Rd  Indianapolis    IN       46214  39.764877   \n",
       "336314      614 Thompson Ln     Nashville    TN       37204  36.111524   \n",
       "681053      115 W Market St  Indianapolis    IN       46204  39.768473   \n",
       "\n",
       "         longitude  stars_business  review_count_business  is_open  \\\n",
       "193295  -75.224980             3.5                     95        1   \n",
       "216212 -113.498411             4.5                      8        1   \n",
       "937153  -86.287506             3.5                     20        1   \n",
       "336314  -86.753715             3.5                     78        1   \n",
       "681053  -86.160644             3.5                    121        0   \n",
       "\n",
       "                                               attributes  \\\n",
       "193295  {'AcceptsInsurance': None, 'AgesAllowed': None...   \n",
       "216212  {'AcceptsInsurance': None, 'AgesAllowed': None...   \n",
       "937153  {'AcceptsInsurance': None, 'AgesAllowed': None...   \n",
       "336314  {'AcceptsInsurance': None, 'AgesAllowed': None...   \n",
       "681053  {'AcceptsInsurance': None, 'AgesAllowed': None...   \n",
       "\n",
       "                                               categories  \\\n",
       "193295            Italian, Sandwiches, Restaurants, Pizza   \n",
       "216212   Bookstores, Shopping, Books, Mags, Music & Video   \n",
       "937153  Health & Medical, Doctors, Jewelry, Naturopath...   \n",
       "336314  Food, Desserts, Breakfast & Brunch, Mexican, R...   \n",
       "681053  Salad, Restaurants, Hookah Bars, Bars, Nightli...   \n",
       "\n",
       "                                                    hours  \n",
       "193295  {'Friday': '10:0-23:0', 'Monday': None, 'Satur...  \n",
       "216212  {'Friday': '9:0-0:0', 'Monday': '9:0-22:0', 'S...  \n",
       "937153  {'Friday': '11:0-19:0', 'Monday': '11:0-19:0',...  \n",
       "336314  {'Friday': '11:0-22:30', 'Monday': '0:0-0:0', ...  \n",
       "681053  {'Friday': '10:30-1:0', 'Monday': '10:30-21:0'...  "
      ]
     },
     "execution_count": 5,
     "metadata": {},
     "output_type": "execute_result"
    }
   ],
   "source": [
    "df.sample(5)"
   ]
  },
  {
   "cell_type": "markdown",
   "metadata": {},
   "source": [
    "### Null Values"
   ]
  },
  {
   "cell_type": "code",
   "execution_count": 6,
   "metadata": {
    "scrolled": true
   },
   "outputs": [
    {
     "name": "stdout",
     "output_type": "stream",
     "text": [
      "\n",
      "Null values in Movie Data Set:\n"
     ]
    },
    {
     "data": {
      "text/plain": [
       "hours                 49876\n",
       "attributes            37401\n",
       "categories              136\n",
       "review_count              8\n",
       "compliment_photos         8\n",
       "compliment_writer         8\n",
       "compliment_funny          8\n",
       "compliment_cool           8\n",
       "compliment_plain          8\n",
       "compliment_note           8\n",
       "compliment_list           8\n",
       "compliment_cute           8\n",
       "name                      8\n",
       "compliment_more           8\n",
       "compliment_hot            8\n",
       "average_stars             8\n",
       "fans                      8\n",
       "friends                   8\n",
       "elite                     8\n",
       "cool_user                 8\n",
       "funny_user                8\n",
       "useful_user               8\n",
       "yelping_since             8\n",
       "compliment_profile        8\n",
       "dtype: int64"
      ]
     },
     "metadata": {},
     "output_type": "display_data"
    }
   ],
   "source": [
    "print(\"\\nNull values in Movie Data Set:\")\n",
    "null_counts = df.isnull().sum()\n",
    "display(null_counts[null_counts > 0].sort_values(ascending=False))"
   ]
  },
  {
   "cell_type": "code",
   "execution_count": 7,
   "metadata": {},
   "outputs": [],
   "source": [
    "df2 = df.dropna(subset=[\"useful_user\", \"funny_user\", \"cool_user\", \"fans\"])"
   ]
  },
  {
   "cell_type": "code",
   "execution_count": 8,
   "metadata": {},
   "outputs": [
    {
     "name": "stdout",
     "output_type": "stream",
     "text": [
      "\n",
      "Columns with more than 30% missing values:\n"
     ]
    },
    {
     "data": {
      "text/plain": [
       "Series([], dtype: float64)"
      ]
     },
     "metadata": {},
     "output_type": "display_data"
    }
   ],
   "source": [
    "print(\"\\nColumns with more than 30% missing values:\")\n",
    "null_threshold = 30\n",
    "null_percent = df.isnull().mean() * 100  # calculate & of null values\n",
    "display(null_percent[null_percent > null_threshold].sort_values(ascending=False))"
   ]
  },
  {
   "cell_type": "markdown",
   "metadata": {},
   "source": [
    "### Remove columns"
   ]
  },
  {
   "cell_type": "code",
   "execution_count": 9,
   "metadata": {
    "scrolled": true
   },
   "outputs": [],
   "source": [
    "df3 = df2.drop(\n",
    "    columns=[\n",
    "        \"user_id\",\n",
    "        \"business_id\",\n",
    "        \"name\",\n",
    "        \"yelping_since\",\n",
    "        \"latitude\",\n",
    "        \"friends\",\n",
    "        \"postal_code\",\n",
    "        \"longitude\",\n",
    "        \"compliment_hot\",\n",
    "        \"compliment_more\",\n",
    "        \"compliment_profile\",\n",
    "        \"compliment_cute\",\n",
    "        \"compliment_list\",\n",
    "        \"compliment_note\",\n",
    "        \"compliment_plain\",\n",
    "        \"compliment_cool\",\n",
    "        \"compliment_funny\",\n",
    "        \"compliment_writer\",\n",
    "        \"compliment_photos\",\n",
    "        \"attributes\",\n",
    "        \"hours\",\n",
    "    ]\n",
    ")"
   ]
  },
  {
   "cell_type": "code",
   "execution_count": 10,
   "metadata": {},
   "outputs": [
    {
     "name": "stdout",
     "output_type": "stream",
     "text": [
      "<class 'pandas.core.frame.DataFrame'>\n",
      "Index: 1000092 entries, 0 to 1000099\n",
      "Data columns (total 22 columns):\n",
      " #   Column                 Non-Null Count    Dtype         \n",
      "---  ------                 --------------    -----         \n",
      " 0   review_id              1000092 non-null  object        \n",
      " 1   stars                  1000092 non-null  int64         \n",
      " 2   useful                 1000092 non-null  int64         \n",
      " 3   funny                  1000092 non-null  int64         \n",
      " 4   cool                   1000092 non-null  int64         \n",
      " 5   text                   1000092 non-null  object        \n",
      " 6   date                   1000092 non-null  datetime64[ns]\n",
      " 7   review_count           1000092 non-null  float64       \n",
      " 8   useful_user            1000092 non-null  float64       \n",
      " 9   funny_user             1000092 non-null  float64       \n",
      " 10  cool_user              1000092 non-null  float64       \n",
      " 11  elite                  1000092 non-null  object        \n",
      " 12  fans                   1000092 non-null  float64       \n",
      " 13  average_stars          1000092 non-null  float64       \n",
      " 14  name_business          1000092 non-null  object        \n",
      " 15  address                1000092 non-null  object        \n",
      " 16  city                   1000092 non-null  object        \n",
      " 17  state                  1000092 non-null  object        \n",
      " 18  stars_business         1000092 non-null  float64       \n",
      " 19  review_count_business  1000092 non-null  int64         \n",
      " 20  is_open                1000092 non-null  int64         \n",
      " 21  categories             999956 non-null   object        \n",
      "dtypes: datetime64[ns](1), float64(7), int64(6), object(8)\n",
      "memory usage: 175.5+ MB\n"
     ]
    }
   ],
   "source": [
    "df3.info()"
   ]
  },
  {
   "cell_type": "code",
   "execution_count": 11,
   "metadata": {},
   "outputs": [
    {
     "data": {
      "text/plain": [
       "(1000092, 22)"
      ]
     },
     "execution_count": 11,
     "metadata": {},
     "output_type": "execute_result"
    }
   ],
   "source": [
    "df3.shape"
   ]
  },
  {
   "cell_type": "markdown",
   "metadata": {},
   "source": [
    "### Categorical Variables"
   ]
  },
  {
   "cell_type": "code",
   "execution_count": 12,
   "metadata": {},
   "outputs": [],
   "source": [
    "cols_categoric = [\n",
    "    \"stars\",\n",
    "    \"elite\",\n",
    "    \"city\",\n",
    "    \"state\",\n",
    "]"
   ]
  },
  {
   "cell_type": "code",
   "execution_count": 13,
   "metadata": {},
   "outputs": [],
   "source": [
    "df3[cols_categoric] = df3[cols_categoric].astype(\"category\")"
   ]
  },
  {
   "cell_type": "markdown",
   "metadata": {},
   "source": [
    "- Ordinal: stars"
   ]
  },
  {
   "cell_type": "markdown",
   "metadata": {},
   "source": [
    "- Nominal: elite, city, state"
   ]
  },
  {
   "cell_type": "markdown",
   "metadata": {},
   "source": [
    "### Numerical Variables"
   ]
  },
  {
   "cell_type": "code",
   "execution_count": 14,
   "metadata": {},
   "outputs": [],
   "source": [
    "cols_numeric = [\n",
    "    \"useful\",\n",
    "    \"funny\",\n",
    "    \"cool\",\n",
    "    \"review_count\",\n",
    "    \"useful_user\",\n",
    "    \"funny_user\",\n",
    "    \"cool_user\",\n",
    "    \"fans\",\n",
    "    \"average_stars\",\n",
    "]"
   ]
  },
  {
   "cell_type": "markdown",
   "metadata": {},
   "source": [
    "- Float"
   ]
  },
  {
   "cell_type": "code",
   "execution_count": 15,
   "metadata": {},
   "outputs": [],
   "source": [
    "cols_numeric_float = [\"average_stars\"]"
   ]
  },
  {
   "cell_type": "code",
   "execution_count": 16,
   "metadata": {},
   "outputs": [],
   "source": [
    "df3[cols_numeric_float] = df3[cols_numeric_float].astype(\"float\")"
   ]
  },
  {
   "cell_type": "markdown",
   "metadata": {},
   "source": [
    "- Int"
   ]
  },
  {
   "cell_type": "code",
   "execution_count": 17,
   "metadata": {},
   "outputs": [],
   "source": [
    "cols_numeric_int = [\n",
    "    \"useful\",\n",
    "    \"funny\",\n",
    "    \"cool\",\n",
    "    \"review_count\",\n",
    "    \"useful_user\",\n",
    "    \"funny_user\",\n",
    "    \"cool_user\",\n",
    "    \"fans\",\n",
    "]"
   ]
  },
  {
   "cell_type": "code",
   "execution_count": 18,
   "metadata": {
    "scrolled": true
   },
   "outputs": [],
   "source": [
    "df3[cols_numeric_int] = df3[cols_numeric_int].astype(\"int32\")"
   ]
  },
  {
   "cell_type": "markdown",
   "metadata": {},
   "source": [
    "### Boolean Variables"
   ]
  },
  {
   "cell_type": "code",
   "execution_count": 19,
   "metadata": {},
   "outputs": [],
   "source": [
    "cols_boolean = [\"is_open\"]"
   ]
  },
  {
   "cell_type": "code",
   "execution_count": 20,
   "metadata": {},
   "outputs": [],
   "source": [
    "df3[cols_boolean] = df3[cols_boolean].astype(\"bool\")"
   ]
  },
  {
   "cell_type": "markdown",
   "metadata": {},
   "source": [
    "### String Variables"
   ]
  },
  {
   "cell_type": "code",
   "execution_count": 21,
   "metadata": {},
   "outputs": [],
   "source": [
    "cols_string = [\"review_id\", \"text\", \"address\", \"categories\"]"
   ]
  },
  {
   "cell_type": "code",
   "execution_count": 22,
   "metadata": {},
   "outputs": [],
   "source": [
    "df3[cols_string] = df3[cols_string].astype(\"object\")"
   ]
  },
  {
   "cell_type": "markdown",
   "metadata": {},
   "source": [
    "### Date Variables"
   ]
  },
  {
   "cell_type": "code",
   "execution_count": 23,
   "metadata": {},
   "outputs": [],
   "source": [
    "col_date = [\"date\"]"
   ]
  },
  {
   "cell_type": "code",
   "execution_count": 24,
   "metadata": {},
   "outputs": [],
   "source": [
    "df3[col_date] = df3[col_date].astype(\"datetime64[ns]\")"
   ]
  },
  {
   "cell_type": "markdown",
   "metadata": {},
   "source": [
    "### Schema"
   ]
  },
  {
   "cell_type": "code",
   "execution_count": 25,
   "metadata": {},
   "outputs": [
    {
     "name": "stdout",
     "output_type": "stream",
     "text": [
      "<class 'pandas.core.frame.DataFrame'>\n",
      "Index: 1000092 entries, 0 to 1000099\n",
      "Data columns (total 22 columns):\n",
      " #   Column                 Non-Null Count    Dtype         \n",
      "---  ------                 --------------    -----         \n",
      " 0   review_id              1000092 non-null  object        \n",
      " 1   stars                  1000092 non-null  category      \n",
      " 2   useful                 1000092 non-null  int32         \n",
      " 3   funny                  1000092 non-null  int32         \n",
      " 4   cool                   1000092 non-null  int32         \n",
      " 5   text                   1000092 non-null  object        \n",
      " 6   date                   1000092 non-null  datetime64[ns]\n",
      " 7   review_count           1000092 non-null  int32         \n",
      " 8   useful_user            1000092 non-null  int32         \n",
      " 9   funny_user             1000092 non-null  int32         \n",
      " 10  cool_user              1000092 non-null  int32         \n",
      " 11  elite                  1000092 non-null  category      \n",
      " 12  fans                   1000092 non-null  int32         \n",
      " 13  average_stars          1000092 non-null  float64       \n",
      " 14  name_business          1000092 non-null  object        \n",
      " 15  address                1000092 non-null  object        \n",
      " 16  city                   1000092 non-null  category      \n",
      " 17  state                  1000092 non-null  category      \n",
      " 18  stars_business         1000092 non-null  float64       \n",
      " 19  review_count_business  1000092 non-null  int64         \n",
      " 20  is_open                1000092 non-null  bool          \n",
      " 21  categories             999956 non-null   object        \n",
      "dtypes: bool(1), category(4), datetime64[ns](1), float64(2), int32(8), int64(1), object(5)\n",
      "memory usage: 113.6+ MB\n"
     ]
    }
   ],
   "source": [
    "df3.info()"
   ]
  },
  {
   "cell_type": "code",
   "execution_count": 26,
   "metadata": {},
   "outputs": [],
   "source": [
    "schema = pa.Schema.from_pandas(df3, preserve_index=False)"
   ]
  },
  {
   "cell_type": "code",
   "execution_count": 27,
   "metadata": {},
   "outputs": [
    {
     "data": {
      "text/plain": [
       "review_id: string\n",
       "stars: dictionary<values=int64, indices=int8, ordered=0>\n",
       "useful: int32\n",
       "funny: int32\n",
       "cool: int32\n",
       "text: string\n",
       "date: timestamp[ns]\n",
       "review_count: int32\n",
       "useful_user: int32\n",
       "funny_user: int32\n",
       "cool_user: int32\n",
       "elite: dictionary<values=string, indices=int16, ordered=0>\n",
       "fans: int32\n",
       "average_stars: double\n",
       "name_business: string\n",
       "address: string\n",
       "city: dictionary<values=string, indices=int16, ordered=0>\n",
       "state: dictionary<values=string, indices=int8, ordered=0>\n",
       "stars_business: double\n",
       "review_count_business: int64\n",
       "is_open: bool\n",
       "categories: string\n",
       "-- schema metadata --\n",
       "pandas: '{\"index_columns\": [], \"column_indexes\": [], \"columns\": [{\"name\":' + 2774"
      ]
     },
     "execution_count": 27,
     "metadata": {},
     "output_type": "execute_result"
    }
   ],
   "source": [
    "schema"
   ]
  },
  {
   "cell_type": "markdown",
   "metadata": {},
   "source": [
    "## Basic Statistics"
   ]
  },
  {
   "cell_type": "code",
   "execution_count": 28,
   "metadata": {},
   "outputs": [
    {
     "data": {
      "text/html": [
       "<div>\n",
       "<style scoped>\n",
       "    .dataframe tbody tr th:only-of-type {\n",
       "        vertical-align: middle;\n",
       "    }\n",
       "\n",
       "    .dataframe tbody tr th {\n",
       "        vertical-align: top;\n",
       "    }\n",
       "\n",
       "    .dataframe thead th {\n",
       "        text-align: right;\n",
       "    }\n",
       "</style>\n",
       "<table border=\"1\" class=\"dataframe\">\n",
       "  <thead>\n",
       "    <tr style=\"text-align: right;\">\n",
       "      <th></th>\n",
       "      <th>review_id</th>\n",
       "      <th>stars</th>\n",
       "      <th>text</th>\n",
       "      <th>elite</th>\n",
       "      <th>name_business</th>\n",
       "      <th>address</th>\n",
       "      <th>city</th>\n",
       "      <th>state</th>\n",
       "      <th>categories</th>\n",
       "    </tr>\n",
       "  </thead>\n",
       "  <tbody>\n",
       "    <tr>\n",
       "      <th>count</th>\n",
       "      <td>1000092</td>\n",
       "      <td>1000092</td>\n",
       "      <td>1000092</td>\n",
       "      <td>1000092</td>\n",
       "      <td>1000092</td>\n",
       "      <td>1000092</td>\n",
       "      <td>1000092</td>\n",
       "      <td>1000092</td>\n",
       "      <td>999956</td>\n",
       "    </tr>\n",
       "    <tr>\n",
       "      <th>unique</th>\n",
       "      <td>1000092</td>\n",
       "      <td>5</td>\n",
       "      <td>999102</td>\n",
       "      <td>700</td>\n",
       "      <td>79536</td>\n",
       "      <td>91369</td>\n",
       "      <td>1228</td>\n",
       "      <td>24</td>\n",
       "      <td>62454</td>\n",
       "    </tr>\n",
       "    <tr>\n",
       "      <th>top</th>\n",
       "      <td>LgfSWgq5DzgoFzNW6YwfSg</td>\n",
       "      <td>5</td>\n",
       "      <td>So they have policy changes and NEVER Let the ...</td>\n",
       "      <td></td>\n",
       "      <td>McDonald's</td>\n",
       "      <td></td>\n",
       "      <td>Philadelphia</td>\n",
       "      <td>PA</td>\n",
       "      <td>Restaurants, Mexican</td>\n",
       "    </tr>\n",
       "    <tr>\n",
       "      <th>freq</th>\n",
       "      <td>1</td>\n",
       "      <td>463862</td>\n",
       "      <td>7</td>\n",
       "      <td>610308</td>\n",
       "      <td>3022</td>\n",
       "      <td>14713</td>\n",
       "      <td>113054</td>\n",
       "      <td>200366</td>\n",
       "      <td>7277</td>\n",
       "    </tr>\n",
       "  </tbody>\n",
       "</table>\n",
       "</div>"
      ],
      "text/plain": [
       "                     review_id    stars  \\\n",
       "count                  1000092  1000092   \n",
       "unique                 1000092        5   \n",
       "top     LgfSWgq5DzgoFzNW6YwfSg        5   \n",
       "freq                         1   463862   \n",
       "\n",
       "                                                     text    elite  \\\n",
       "count                                             1000092  1000092   \n",
       "unique                                             999102      700   \n",
       "top     So they have policy changes and NEVER Let the ...            \n",
       "freq                                                    7   610308   \n",
       "\n",
       "       name_business  address          city    state            categories  \n",
       "count        1000092  1000092       1000092  1000092                999956  \n",
       "unique         79536    91369          1228       24                 62454  \n",
       "top       McDonald's           Philadelphia       PA  Restaurants, Mexican  \n",
       "freq            3022    14713        113054   200366                  7277  "
      ]
     },
     "execution_count": 28,
     "metadata": {},
     "output_type": "execute_result"
    }
   ],
   "source": [
    "df3.describe(include=[\"object\", \"category\"])"
   ]
  },
  {
   "cell_type": "code",
   "execution_count": 29,
   "metadata": {
    "scrolled": true
   },
   "outputs": [
    {
     "name": "stdout",
     "output_type": "stream",
     "text": [
      "\n",
      "🔍 Column analysis: useful\n",
      "--------------------------------------------------\n",
      "📊 Summary statistics:\n",
      "count    1.000092e+06\n",
      "mean     2.436598e+00\n",
      "std      4.411195e+00\n",
      "min      1.000000e+00\n",
      "25%      1.000000e+00\n",
      "50%      1.000000e+00\n",
      "75%      2.000000e+00\n",
      "max      5.390000e+02\n",
      "Name: useful, dtype: float64\n",
      "\n",
      "🔢 Unique values (193):\n",
      "[ 1  3  2  6  8  5  4 10  7 25 23 52 11 13 12 18  9 67 14 15]\n",
      "\n",
      "🔍 Column analysis: funny\n",
      "--------------------------------------------------\n",
      "📊 Summary statistics:\n",
      "count    1.000092e+06\n",
      "mean     5.257036e-01\n",
      "std      2.165200e+00\n",
      "min      0.000000e+00\n",
      "25%      0.000000e+00\n",
      "50%      0.000000e+00\n",
      "75%      0.000000e+00\n",
      "max      1.800000e+02\n",
      "Name: funny, dtype: float64\n",
      "\n",
      "🔢 Unique values (119):\n",
      "[ 0  1  2  4  3  5  6  7 27  9 18  8 10 19 21 23 26 16 13 11]\n",
      "\n",
      "🔍 Column analysis: cool\n",
      "--------------------------------------------------\n",
      "📊 Summary statistics:\n",
      "count    1.000092e+06\n",
      "mean     1.156940e+00\n",
      "std      3.798284e+00\n",
      "min      0.000000e+00\n",
      "25%      0.000000e+00\n",
      "50%      0.000000e+00\n",
      "75%      1.000000e+00\n",
      "max      3.040000e+02\n",
      "Name: cool, dtype: float64\n",
      "\n",
      "🔢 Unique values (181):\n",
      "[ 1  0  2  5  7  4  3  6  9 25 19 54 11 10 12  8 18 14 15 28]\n",
      "\n",
      "🔍 Column analysis: review_count\n",
      "--------------------------------------------------\n",
      "📊 Summary statistics:\n",
      "count    1.000092e+06\n",
      "mean     1.676917e+02\n",
      "std      4.745711e+02\n",
      "min      1.000000e+00\n",
      "25%      9.000000e+00\n",
      "50%      4.000000e+01\n",
      "75%      1.520000e+02\n",
      "max      1.747300e+04\n",
      "Name: review_count, dtype: float64\n",
      "\n",
      "🔢 Unique values (1723):\n",
      "[  5  48  79  32 281 576  18 131  51  67 488  81 556 118   2  86 456  90\n",
      "  44 195]\n",
      "\n",
      "🔍 Column analysis: useful_user\n",
      "--------------------------------------------------\n",
      "📊 Summary statistics:\n",
      "count    1.000092e+06\n",
      "mean     7.531326e+02\n",
      "std      4.992158e+03\n",
      "min      0.000000e+00\n",
      "25%      6.000000e+00\n",
      "50%      3.600000e+01\n",
      "75%      2.040000e+02\n",
      "max      2.062960e+05\n",
      "Name: useful_user, dtype: float64\n",
      "\n",
      "🔢 Unique values (4065):\n",
      "[   4   95   66   33  952 1061   10  182   54 2057   51  559  537    0\n",
      "   44 2036  147   23   29  276]\n",
      "\n",
      "🔍 Column analysis: funny_user\n",
      "--------------------------------------------------\n",
      "📊 Summary statistics:\n",
      "count    1.000092e+06\n",
      "mean     3.007691e+02\n",
      "std      3.163848e+03\n",
      "min      0.000000e+00\n",
      "25%      1.000000e+00\n",
      "50%      6.000000e+00\n",
      "75%      3.900000e+01\n",
      "max      1.858230e+05\n",
      "Name: funny_user, dtype: float64\n",
      "\n",
      "🔢 Unique values (2692):\n",
      "[   0   13   19  452  102   10    3  544    5   63   96    2 1113    7\n",
      "   14  473  630   11   59 2755]\n",
      "\n",
      "🔍 Column analysis: cool_user\n",
      "--------------------------------------------------\n",
      "📊 Summary statistics:\n",
      "count    1.000092e+06\n",
      "mean     5.635780e+02\n",
      "std      4.419928e+03\n",
      "min      0.000000e+00\n",
      "25%      1.000000e+00\n",
      "50%      1.100000e+01\n",
      "75%      9.900000e+01\n",
      "max      1.958140e+05\n",
      "Name: cool_user, dtype: float64\n",
      "\n",
      "🔢 Unique values (3367):\n",
      "[   2    6   23   12  498  763   93   14   13 1726   15  326  342    0\n",
      " 1242   97   20   10  148   31]\n",
      "\n",
      "🔍 Column analysis: fans\n",
      "--------------------------------------------------\n",
      "📊 Summary statistics:\n",
      "count    1.000092e+06\n",
      "mean     2.113115e+01\n",
      "std      1.136864e+02\n",
      "min      0.000000e+00\n",
      "25%      0.000000e+00\n",
      "50%      1.000000e+00\n",
      "75%      8.000000e+00\n",
      "max      1.249700e+04\n",
      "Name: fans, dtype: float64\n",
      "\n",
      "🔢 Unique values (575):\n",
      "[  0   1  23  41   6   2  79   9  22  45   5  12  56 167  11 568  17 563\n",
      "  33   4]\n",
      "\n",
      "🔍 Column analysis: average_stars\n",
      "--------------------------------------------------\n",
      "📊 Summary statistics:\n",
      "count    1.000092e+06\n",
      "mean     3.727013e+00\n",
      "std      9.201120e-01\n",
      "min      1.000000e+00\n",
      "25%      3.400000e+00\n",
      "50%      3.950000e+00\n",
      "75%      4.320000e+00\n",
      "max      5.000000e+00\n",
      "Name: average_stars, dtype: float64\n",
      "\n",
      "🔢 Unique values (400):\n",
      "[4.5  2.46 3.59 4.05 4.14 4.33 4.43 3.8  4.19 4.11 4.06 4.41 4.29 4.17\n",
      " 4.4  4.53 3.68 4.48 4.15 4.24]\n"
     ]
    }
   ],
   "source": [
    "MAX_UNIQUE_DISPLAY = 20\n",
    "\n",
    "for column in cols_numeric:\n",
    "    print(f\"\\n🔍 Column analysis: {column}\")\n",
    "    print(\"-\" * 50)\n",
    "\n",
    "    # Step 1: Summary statistics\n",
    "    print(\"📊 Summary statistics:\")\n",
    "    print(df3[column].describe())\n",
    "\n",
    "    # Step 2: Unique values (limit if too many)\n",
    "    unique_vals = df3[column].unique()\n",
    "    print(f\"\\n🔢 Unique values ({len(unique_vals)}):\")\n",
    "    print(\n",
    "        unique_vals\n",
    "        if len(unique_vals) <= MAX_UNIQUE_DISPLAY\n",
    "        else unique_vals[:MAX_UNIQUE_DISPLAY]\n",
    "    )\n",
    "\n",
    "    # Step 3: Value counts (only if few unique values)\n",
    "    if df3[column].nunique() <= MAX_UNIQUE_DISPLAY:\n",
    "        print(\"\\n📈 Value counts:\")\n",
    "        print(df3[column].value_counts().sort_index())"
   ]
  },
  {
   "cell_type": "markdown",
   "metadata": {},
   "source": [
    "# Test Data Validate"
   ]
  },
  {
   "cell_type": "code",
   "execution_count": 30,
   "metadata": {},
   "outputs": [
    {
     "name": "stdout",
     "output_type": "stream",
     "text": [
      "/Users/agomezj/Desktop/Juan-G/ml-message-classifier\n"
     ]
    }
   ],
   "source": [
    "import os\n",
    "\n",
    "os.chdir(\"/Users/agomezj/Desktop/Juan-G/ml-message-classifier/\")\n",
    "print(os.getcwd())"
   ]
  },
  {
   "cell_type": "code",
   "execution_count": 31,
   "metadata": {},
   "outputs": [],
   "source": [
    "extract = pd.read_parquet(BASE_DIR / \"data/01_raw/review_user_business_extract.parquet\")"
   ]
  },
  {
   "cell_type": "code",
   "execution_count": 32,
   "metadata": {},
   "outputs": [],
   "source": [
    "from src.pipelines.feature_pipeline.feature_pipeline import feature_pipeline"
   ]
  },
  {
   "cell_type": "code",
   "execution_count": 33,
   "metadata": {},
   "outputs": [
    {
     "name": "stderr",
     "output_type": "stream",
     "text": [
      "\u001b[32m2025-05-20 11:21:27.149\u001b[0m | \u001b[1mINFO    \u001b[0m | \u001b[36msrc.data.validate\u001b[0m:\u001b[36mtransform\u001b[0m:\u001b[36m137\u001b[0m - \u001b[1mStarting data validation process\u001b[0m\n",
      "\u001b[32m2025-05-20 11:21:27.150\u001b[0m | \u001b[1mINFO    \u001b[0m | \u001b[36msrc.data.validate\u001b[0m:\u001b[36mtransform\u001b[0m:\u001b[36m140\u001b[0m - \u001b[1mDropping unnecessary columns\u001b[0m\n",
      "\u001b[32m2025-05-20 11:21:27.445\u001b[0m | \u001b[1mINFO    \u001b[0m | \u001b[36msrc.data.validate\u001b[0m:\u001b[36mtransform\u001b[0m:\u001b[36m145\u001b[0m - \u001b[1mConverting columns to appropriate data types\u001b[0m\n",
      "\u001b[32m2025-05-20 11:21:27.446\u001b[0m | \u001b[34m\u001b[1mDEBUG   \u001b[0m | \u001b[36msrc.data.validate\u001b[0m:\u001b[36m_safe_cast\u001b[0m:\u001b[36m84\u001b[0m - \u001b[34m\u001b[1mCasting to category: ['stars', 'elite', 'city', 'state']\u001b[0m\n",
      "\u001b[32m2025-05-20 11:21:27.539\u001b[0m | \u001b[34m\u001b[1mDEBUG   \u001b[0m | \u001b[36msrc.data.validate\u001b[0m:\u001b[36m_safe_cast\u001b[0m:\u001b[36m84\u001b[0m - \u001b[34m\u001b[1mCasting to float: ['average_stars']\u001b[0m\n",
      "\u001b[32m2025-05-20 11:21:27.541\u001b[0m | \u001b[34m\u001b[1mDEBUG   \u001b[0m | \u001b[36msrc.data.validate\u001b[0m:\u001b[36m_safe_cast\u001b[0m:\u001b[36m84\u001b[0m - \u001b[34m\u001b[1mCasting to int32: ['useful', 'funny', 'cool', 'review_count', 'useful_user', 'funny_user', 'cool_user', 'fans']\u001b[0m\n",
      "\u001b[32m2025-05-20 11:21:27.558\u001b[0m | \u001b[34m\u001b[1mDEBUG   \u001b[0m | \u001b[36msrc.data.validate\u001b[0m:\u001b[36m_safe_cast\u001b[0m:\u001b[36m84\u001b[0m - \u001b[34m\u001b[1mCasting to bool: ['is_open']\u001b[0m\n",
      "\u001b[32m2025-05-20 11:21:27.560\u001b[0m | \u001b[34m\u001b[1mDEBUG   \u001b[0m | \u001b[36msrc.data.validate\u001b[0m:\u001b[36m_safe_cast\u001b[0m:\u001b[36m84\u001b[0m - \u001b[34m\u001b[1mCasting to object: ['review_id', 'text', 'address', 'categories']\u001b[0m\n",
      "\u001b[32m2025-05-20 11:21:27.719\u001b[0m | \u001b[1mINFO    \u001b[0m | \u001b[36msrc.data.validate\u001b[0m:\u001b[36mtransform\u001b[0m:\u001b[36m158\u001b[0m - \u001b[1mVerifying data types\u001b[0m\n",
      "\u001b[32m2025-05-20 11:21:27.746\u001b[0m | \u001b[1mINFO    \u001b[0m | \u001b[36msrc.data.validate\u001b[0m:\u001b[36mtransform\u001b[0m:\u001b[36m166\u001b[0m - \u001b[1mAll type verifications passed\u001b[0m\n",
      "\u001b[32m2025-05-20 11:21:27.746\u001b[0m | \u001b[1mINFO    \u001b[0m | \u001b[36msrc.data.validate\u001b[0m:\u001b[36m_save_if_needed\u001b[0m:\u001b[36m74\u001b[0m - \u001b[1mSaving validated data to /Users/agomezj/Desktop/Juan-G/ml-message-classifier/data/02_intermediate/review_user_business_validate.parquet\u001b[0m\n",
      "\u001b[32m2025-05-20 11:21:29.967\u001b[0m | \u001b[1mINFO    \u001b[0m | \u001b[36msrc.data.validate\u001b[0m:\u001b[36mtransform\u001b[0m:\u001b[36m171\u001b[0m - \u001b[1mData validation completed successfully\u001b[0m\n"
     ]
    }
   ],
   "source": [
    "validate = feature_pipeline.named_steps[\"validate\"].fit_transform(extract)"
   ]
  }
 ],
 "metadata": {
  "kernelspec": {
   "display_name": "Python 3.11 (ml-message-classifier)",
   "language": "python",
   "name": "ml-message-classifier"
  },
  "language_info": {
   "codemirror_mode": {
    "name": "ipython",
    "version": 3
   },
   "file_extension": ".py",
   "mimetype": "text/x-python",
   "name": "python",
   "nbconvert_exporter": "python",
   "pygments_lexer": "ipython3",
   "version": "3.11.12"
  }
 },
 "nbformat": 4,
 "nbformat_minor": 4
}
