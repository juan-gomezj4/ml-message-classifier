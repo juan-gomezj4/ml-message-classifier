{
 "cells": [
  {
   "cell_type": "markdown",
   "metadata": {
    "id": "EJO4nq-rjOVi"
   },
   "source": [
    "## Title\n",
    "Feature Engineering\n",
    "\n",
    "### By:\n",
    "Juan Gómez\n",
    "\n",
    "### Date:\n",
    "2024-05-16\n",
    "\n",
    "### Description:\n",
    "\n",
    "Clean and prepare message data from the Yelp dataset for the classification model. Remove duplicates, fix missing values, and keep useful columns only.\n"
   ]
  },
  {
   "cell_type": "markdown",
   "metadata": {
    "id": "YUF5E1QMjOVk",
    "pycharm": {
     "name": "#%% md\n"
    }
   },
   "source": [
    "## Import  libraries"
   ]
  },
  {
   "cell_type": "code",
   "execution_count": 42,
   "metadata": {
    "collapsed": false,
    "id": "M2QetAMAjOVk",
    "jupyter": {
     "outputs_hidden": false
    },
    "pycharm": {
     "name": "#%%\n"
    }
   },
   "outputs": [],
   "source": [
    "import pandas as pd\n",
    "import matplotlib.pyplot as plt\n",
    "from sklearn.base import BaseEstimator, TransformerMixin\n",
    "from sklearn.pipeline import Pipeline"
   ]
  },
  {
   "cell_type": "markdown",
   "metadata": {
    "id": "7U_3Omo9jOVk",
    "pycharm": {
     "name": "#%% md\n"
    }
   },
   "source": [
    "## Load data"
   ]
  },
  {
   "cell_type": "code",
   "execution_count": 2,
   "metadata": {
    "id": "LxgbCbmwjOVl"
   },
   "outputs": [],
   "source": [
    "from pathlib import Path\n",
    "\n",
    "pd.set_option(\"display.max_columns\", None)\n",
    "\n",
    "BASE_DIR = Path.cwd().resolve().parents[1]"
   ]
  },
  {
   "cell_type": "code",
   "execution_count": 3,
   "metadata": {
    "collapsed": false,
    "id": "1uqUhdiAjOVl",
    "jupyter": {
     "outputs_hidden": false
    },
    "pycharm": {
     "name": "#%%\n"
    }
   },
   "outputs": [],
   "source": [
    "df = pd.read_parquet(BASE_DIR / \"data/02_intermediate/data_message_classifier_interm.parquet\")"
   ]
  },
  {
   "cell_type": "code",
   "execution_count": 4,
   "metadata": {
    "colab": {
     "base_uri": "https://localhost:8080/",
     "height": 608
    },
    "id": "wB6XLEUAmgxy",
    "outputId": "6e4ba660-f5be-4098-d616-bcaaba52a5e4"
   },
   "outputs": [
    {
     "data": {
      "text/html": [
       "<div>\n",
       "<style scoped>\n",
       "    .dataframe tbody tr th:only-of-type {\n",
       "        vertical-align: middle;\n",
       "    }\n",
       "\n",
       "    .dataframe tbody tr th {\n",
       "        vertical-align: top;\n",
       "    }\n",
       "\n",
       "    .dataframe thead th {\n",
       "        text-align: right;\n",
       "    }\n",
       "</style>\n",
       "<table border=\"1\" class=\"dataframe\">\n",
       "  <thead>\n",
       "    <tr style=\"text-align: right;\">\n",
       "      <th></th>\n",
       "      <th>review_id</th>\n",
       "      <th>stars</th>\n",
       "      <th>useful</th>\n",
       "      <th>funny</th>\n",
       "      <th>cool</th>\n",
       "      <th>text</th>\n",
       "      <th>date</th>\n",
       "      <th>review_count</th>\n",
       "      <th>useful_user</th>\n",
       "      <th>funny_user</th>\n",
       "      <th>cool_user</th>\n",
       "      <th>elite</th>\n",
       "      <th>fans</th>\n",
       "      <th>average_stars</th>\n",
       "      <th>address</th>\n",
       "      <th>city</th>\n",
       "      <th>state</th>\n",
       "      <th>stars_user</th>\n",
       "      <th>review_count_user</th>\n",
       "      <th>is_open</th>\n",
       "      <th>categories</th>\n",
       "    </tr>\n",
       "  </thead>\n",
       "  <tbody>\n",
       "    <tr>\n",
       "      <th>867259</th>\n",
       "      <td>Rh70LeeuDKXuGmDsb7WJig</td>\n",
       "      <td>1</td>\n",
       "      <td>1</td>\n",
       "      <td>0</td>\n",
       "      <td>0</td>\n",
       "      <td>Recently, my son and his boyfriend were in tow...</td>\n",
       "      <td>2018-10-29 04:46:45</td>\n",
       "      <td>5</td>\n",
       "      <td>3</td>\n",
       "      <td>0</td>\n",
       "      <td>0</td>\n",
       "      <td></td>\n",
       "      <td>0</td>\n",
       "      <td>3.80</td>\n",
       "      <td>8110 Big Bend Blvd</td>\n",
       "      <td>Webster Groves</td>\n",
       "      <td>MO</td>\n",
       "      <td>4.0</td>\n",
       "      <td>47</td>\n",
       "      <td>True</td>\n",
       "      <td>American (New), Sandwiches, Restaurants, Burge...</td>\n",
       "    </tr>\n",
       "    <tr>\n",
       "      <th>473062</th>\n",
       "      <td>KC6sGDC4a_vRKDz9_iR2pQ</td>\n",
       "      <td>4</td>\n",
       "      <td>1</td>\n",
       "      <td>0</td>\n",
       "      <td>0</td>\n",
       "      <td>I visited Zeko's a few weeks ago and had my fi...</td>\n",
       "      <td>2019-12-08 04:40:34</td>\n",
       "      <td>-85</td>\n",
       "      <td>-15</td>\n",
       "      <td>3</td>\n",
       "      <td>-46</td>\n",
       "      <td>2019,20,20,2021</td>\n",
       "      <td>3</td>\n",
       "      <td>4.57</td>\n",
       "      <td>3609 E Busch Blvd</td>\n",
       "      <td>Tampa</td>\n",
       "      <td>FL</td>\n",
       "      <td>4.5</td>\n",
       "      <td>89</td>\n",
       "      <td>True</td>\n",
       "      <td>Restaurants, Falafel, Fast Food, Mediterranean...</td>\n",
       "    </tr>\n",
       "    <tr>\n",
       "      <th>648531</th>\n",
       "      <td>IltWA-Mykhx4HLLeTxqSZQ</td>\n",
       "      <td>1</td>\n",
       "      <td>1</td>\n",
       "      <td>0</td>\n",
       "      <td>0</td>\n",
       "      <td>Should be zero stars!! \n",
       "Do not under any circu...</td>\n",
       "      <td>2019-06-06 13:37:13</td>\n",
       "      <td>14</td>\n",
       "      <td>12</td>\n",
       "      <td>3</td>\n",
       "      <td>2</td>\n",
       "      <td></td>\n",
       "      <td>0</td>\n",
       "      <td>3.47</td>\n",
       "      <td>6744 Clayton Rd</td>\n",
       "      <td>Saint Louis</td>\n",
       "      <td>MO</td>\n",
       "      <td>4.0</td>\n",
       "      <td>5</td>\n",
       "      <td>True</td>\n",
       "      <td>Health &amp; Medical, Doctors</td>\n",
       "    </tr>\n",
       "    <tr>\n",
       "      <th>563687</th>\n",
       "      <td>TjiA8x0kQtpwn-nq1akv4A</td>\n",
       "      <td>1</td>\n",
       "      <td>2</td>\n",
       "      <td>1</td>\n",
       "      <td>0</td>\n",
       "      <td>Food:\n",
       "\n",
       "I came in at lunchtime and grabbed the ...</td>\n",
       "      <td>2019-08-27 18:58:24</td>\n",
       "      <td>-93</td>\n",
       "      <td>23</td>\n",
       "      <td>54</td>\n",
       "      <td>47</td>\n",
       "      <td>2015</td>\n",
       "      <td>1</td>\n",
       "      <td>3.41</td>\n",
       "      <td>12322 Dorsett Rd</td>\n",
       "      <td>Maryland Heights</td>\n",
       "      <td>MO</td>\n",
       "      <td>3.5</td>\n",
       "      <td>126</td>\n",
       "      <td>True</td>\n",
       "      <td>Restaurants, Indian, Pakistani, Seafood, Soup</td>\n",
       "    </tr>\n",
       "    <tr>\n",
       "      <th>338653</th>\n",
       "      <td>lHqjzKMuBsAImZsdb-I2FQ</td>\n",
       "      <td>5</td>\n",
       "      <td>1</td>\n",
       "      <td>0</td>\n",
       "      <td>1</td>\n",
       "      <td>I tried this eyebrow store and found the lady ...</td>\n",
       "      <td>2020-07-02 20:09:11</td>\n",
       "      <td>115</td>\n",
       "      <td>62</td>\n",
       "      <td>5</td>\n",
       "      <td>9</td>\n",
       "      <td></td>\n",
       "      <td>0</td>\n",
       "      <td>3.04</td>\n",
       "      <td>6970 E 22nd St, Ste 110</td>\n",
       "      <td>Tucson</td>\n",
       "      <td>AZ</td>\n",
       "      <td>5.0</td>\n",
       "      <td>21</td>\n",
       "      <td>True</td>\n",
       "      <td>Hair Removal, Threading Services, Beauty &amp; Spa...</td>\n",
       "    </tr>\n",
       "  </tbody>\n",
       "</table>\n",
       "</div>"
      ],
      "text/plain": [
       "                     review_id  stars  useful  funny  cool  \\\n",
       "867259  Rh70LeeuDKXuGmDsb7WJig      1       1      0     0   \n",
       "473062  KC6sGDC4a_vRKDz9_iR2pQ      4       1      0     0   \n",
       "648531  IltWA-Mykhx4HLLeTxqSZQ      1       1      0     0   \n",
       "563687  TjiA8x0kQtpwn-nq1akv4A      1       2      1     0   \n",
       "338653  lHqjzKMuBsAImZsdb-I2FQ      5       1      0     1   \n",
       "\n",
       "                                                     text                date  \\\n",
       "867259  Recently, my son and his boyfriend were in tow... 2018-10-29 04:46:45   \n",
       "473062  I visited Zeko's a few weeks ago and had my fi... 2019-12-08 04:40:34   \n",
       "648531  Should be zero stars!! \n",
       "Do not under any circu... 2019-06-06 13:37:13   \n",
       "563687  Food:\n",
       "\n",
       "I came in at lunchtime and grabbed the ... 2019-08-27 18:58:24   \n",
       "338653  I tried this eyebrow store and found the lady ... 2020-07-02 20:09:11   \n",
       "\n",
       "        review_count  useful_user  funny_user  cool_user            elite  \\\n",
       "867259             5            3           0          0                    \n",
       "473062           -85          -15           3        -46  2019,20,20,2021   \n",
       "648531            14           12           3          2                    \n",
       "563687           -93           23          54         47             2015   \n",
       "338653           115           62           5          9                    \n",
       "\n",
       "        fans  average_stars                  address              city state  \\\n",
       "867259     0           3.80       8110 Big Bend Blvd    Webster Groves    MO   \n",
       "473062     3           4.57        3609 E Busch Blvd             Tampa    FL   \n",
       "648531     0           3.47          6744 Clayton Rd       Saint Louis    MO   \n",
       "563687     1           3.41         12322 Dorsett Rd  Maryland Heights    MO   \n",
       "338653     0           3.04  6970 E 22nd St, Ste 110            Tucson    AZ   \n",
       "\n",
       "        stars_user  review_count_user  is_open  \\\n",
       "867259         4.0                 47     True   \n",
       "473062         4.5                 89     True   \n",
       "648531         4.0                  5     True   \n",
       "563687         3.5                126     True   \n",
       "338653         5.0                 21     True   \n",
       "\n",
       "                                               categories  \n",
       "867259  American (New), Sandwiches, Restaurants, Burge...  \n",
       "473062  Restaurants, Falafel, Fast Food, Mediterranean...  \n",
       "648531                          Health & Medical, Doctors  \n",
       "563687      Restaurants, Indian, Pakistani, Seafood, Soup  \n",
       "338653  Hair Removal, Threading Services, Beauty & Spa...  "
      ]
     },
     "execution_count": 4,
     "metadata": {},
     "output_type": "execute_result"
    }
   ],
   "source": [
    "df.sample(5)"
   ]
  },
  {
   "cell_type": "code",
   "execution_count": 5,
   "metadata": {
    "colab": {
     "base_uri": "https://localhost:8080/"
    },
    "id": "YE_zuymIoP-7",
    "outputId": "7f208ea6-c1fe-435f-fb2a-638ceb3a2185"
   },
   "outputs": [
    {
     "name": "stdout",
     "output_type": "stream",
     "text": [
      "<class 'pandas.core.frame.DataFrame'>\n",
      "RangeIndex: 1499992 entries, 0 to 1499991\n",
      "Data columns (total 21 columns):\n",
      " #   Column             Non-Null Count    Dtype         \n",
      "---  ------             --------------    -----         \n",
      " 0   review_id          1499992 non-null  string        \n",
      " 1   stars              1499992 non-null  int64         \n",
      " 2   useful             1499992 non-null  int8          \n",
      " 3   funny              1499992 non-null  int8          \n",
      " 4   cool               1499992 non-null  int8          \n",
      " 5   text               1499992 non-null  string        \n",
      " 6   date               1499992 non-null  datetime64[ns]\n",
      " 7   review_count       1499992 non-null  int8          \n",
      " 8   useful_user        1499992 non-null  int8          \n",
      " 9   funny_user         1499992 non-null  int8          \n",
      " 10  cool_user          1499992 non-null  int8          \n",
      " 11  elite              1499992 non-null  category      \n",
      " 12  fans               1499992 non-null  int8          \n",
      " 13  average_stars      1499992 non-null  float64       \n",
      " 14  address            1499992 non-null  string        \n",
      " 15  city               1499992 non-null  category      \n",
      " 16  state              1499992 non-null  category      \n",
      " 17  stars_user         1499992 non-null  float64       \n",
      " 18  review_count_user  1499992 non-null  int8          \n",
      " 19  is_open            1499992 non-null  bool          \n",
      " 20  categories         1499783 non-null  string        \n",
      "dtypes: bool(1), category(3), datetime64[ns](1), float64(2), int64(1), int8(9), string(4)\n",
      "memory usage: 113.1 MB\n"
     ]
    }
   ],
   "source": [
    "df.info()"
   ]
  },
  {
   "cell_type": "code",
   "execution_count": 6,
   "metadata": {
    "colab": {
     "base_uri": "https://localhost:8080/"
    },
    "id": "9_BCoR-1rUpb",
    "outputId": "09eb8e44-1955-416b-ea53-1a8f132d99a8"
   },
   "outputs": [
    {
     "data": {
      "text/plain": [
       "(1499992, 21)"
      ]
     },
     "execution_count": 6,
     "metadata": {},
     "output_type": "execute_result"
    }
   ],
   "source": [
    "df.shape"
   ]
  },
  {
   "cell_type": "markdown",
   "metadata": {
    "id": "Yot8MOibnA6N"
   },
   "source": [
    "# Data Preparation"
   ]
  },
  {
   "cell_type": "markdown",
   "metadata": {
    "id": "7J0vN-cjqZyW"
   },
   "source": [
    "### Type Columns"
   ]
  },
  {
   "cell_type": "code",
   "execution_count": 7,
   "metadata": {
    "id": "Emenu-qCqnxh"
   },
   "outputs": [],
   "source": [
    "cols_categoric = df.select_dtypes(include=['category']).columns.tolist()"
   ]
  },
  {
   "cell_type": "code",
   "execution_count": 8,
   "metadata": {
    "id": "ZOjD0jUFqcwu"
   },
   "outputs": [],
   "source": [
    "cols_num = df.select_dtypes(include=['int8', 'float64']).columns.tolist()"
   ]
  },
  {
   "cell_type": "code",
   "execution_count": 9,
   "metadata": {
    "id": "YRGxLSJoqtzV"
   },
   "outputs": [],
   "source": [
    "cols_boolean = df.select_dtypes(include=['bool']).columns.tolist()"
   ]
  },
  {
   "cell_type": "code",
   "execution_count": 10,
   "metadata": {
    "id": "JA-zeyD3q21v"
   },
   "outputs": [],
   "source": [
    "cols_string = df.select_dtypes(include=['string']).columns.tolist()"
   ]
  },
  {
   "cell_type": "code",
   "execution_count": 11,
   "metadata": {
    "id": "J7YkX68Kq6kQ"
   },
   "outputs": [],
   "source": [
    "col_date = df.select_dtypes(include=['datetime64[ns]']).columns.tolist()"
   ]
  },
  {
   "cell_type": "markdown",
   "metadata": {
    "id": "R5DVgGNEnR2e"
   },
   "source": [
    "### Remove duplicates"
   ]
  },
  {
   "cell_type": "code",
   "execution_count": 12,
   "metadata": {
    "id": "xsJDpNSGnSrk"
   },
   "outputs": [],
   "source": [
    "df_drop_duplicates = df.drop_duplicates(subset=[\"review_id\"])"
   ]
  },
  {
   "cell_type": "code",
   "execution_count": 13,
   "metadata": {
    "colab": {
     "base_uri": "https://localhost:8080/"
    },
    "id": "9GcC1H9km_qe",
    "outputId": "6dc6d3ac-0e6e-4cb3-936c-c4f4ef3b3752"
   },
   "outputs": [
    {
     "name": "stdout",
     "output_type": "stream",
     "text": [
      "0\n"
     ]
    }
   ],
   "source": [
    "print(df_drop_duplicates.duplicated(subset=[\"review_id\"]).sum())"
   ]
  },
  {
   "cell_type": "markdown",
   "metadata": {
    "id": "eOlCbAE_nTAj"
   },
   "source": [
    "### Missing values"
   ]
  },
  {
   "cell_type": "code",
   "execution_count": 14,
   "metadata": {
    "colab": {
     "base_uri": "https://localhost:8080/",
     "height": 774
    },
    "id": "86tvf8uBnSo2",
    "outputId": "47d37632-4c73-45a4-a88a-b9855b31abf6"
   },
   "outputs": [
    {
     "data": {
      "text/plain": [
       "review_id              0\n",
       "stars                  0\n",
       "useful                 0\n",
       "funny                  0\n",
       "cool                   0\n",
       "text                   0\n",
       "date                   0\n",
       "review_count           0\n",
       "useful_user            0\n",
       "funny_user             0\n",
       "cool_user              0\n",
       "elite                  0\n",
       "fans                   0\n",
       "average_stars          0\n",
       "address                0\n",
       "city                   0\n",
       "state                  0\n",
       "stars_user             0\n",
       "review_count_user      0\n",
       "is_open                0\n",
       "categories           209\n",
       "dtype: int64"
      ]
     },
     "execution_count": 14,
     "metadata": {},
     "output_type": "execute_result"
    }
   ],
   "source": [
    "df.isna().sum()"
   ]
  },
  {
   "cell_type": "markdown",
   "metadata": {
    "id": "cbxWhHagncci"
   },
   "source": [
    "### Handle outliers"
   ]
  },
  {
   "cell_type": "code",
   "execution_count": 15,
   "metadata": {
    "colab": {
     "base_uri": "https://localhost:8080/"
    },
    "id": "SYuhg8MInShL",
    "outputId": "14e9e93d-f60c-453c-bfd7-4181c67e437a"
   },
   "outputs": [
    {
     "name": "stdout",
     "output_type": "stream",
     "text": [
      "useful: 224934 outliers\n",
      "funny: 367903 outliers\n",
      "cool: 137473 outliers\n",
      "review_count: 233174 outliers\n",
      "useful_user: 251592 outliers\n",
      "funny_user: 304153 outliers\n",
      "cool_user: 324236 outliers\n",
      "fans: 251584 outliers\n",
      "average_stars: 105008 outliers\n",
      "stars_user: 41591 outliers\n",
      "review_count_user: 0 outliers\n"
     ]
    }
   ],
   "source": [
    "for col in cols_num:\n",
    "    q1 = df_drop_duplicates[col].quantile(0.25)\n",
    "    q3 = df_drop_duplicates[col].quantile(0.75)\n",
    "    iqr = q3 - q1\n",
    "    lower = q1 - 1.5 * iqr\n",
    "    upper = q3 + 1.5 * iqr\n",
    "    outliers = df_drop_duplicates[(df_drop_duplicates[col] < lower) | (df_drop_duplicates[col] > upper)]\n",
    "    print(f\"{col}: {len(outliers)} outliers\")"
   ]
  },
  {
   "cell_type": "code",
   "execution_count": 16,
   "metadata": {
    "colab": {
     "base_uri": "https://localhost:8080/",
     "height": 1000
    },
    "id": "VEqUEqRQpSOo",
    "outputId": "342d13fb-88fc-4b0a-a377-d17102184f32",
    "scrolled": true
   },
   "outputs": [
    {
     "data": {
      "image/png": "[encoded data removed]",
      "text/plain": [
       "<Figure size 600x400 with 1 Axes>"
      ]
     },
     "metadata": {},
     "output_type": "display_data"
    },
    {
     "data": {
      "image/png": "[encoded data removed]",
      "text/plain": [
       "<Figure size 600x400 with 1 Axes>"
      ]
     },
     "metadata": {},
     "output_type": "display_data"
    },
    {
     "data": {
      "image/png": "[encoded data removed]",
      "text/plain": [
       "<Figure size 600x400 with 1 Axes>"
      ]
     },
     "metadata": {},
     "output_type": "display_data"
    },
    {
     "data": {
      "image/png": "[encoded data removed]",
      "text/plain": [
       "<Figure size 600x400 with 1 Axes>"
      ]
     },
     "metadata": {},
     "output_type": "display_data"
    },
    {
     "data": {
      "image/png": "[encoded data removed]",
      "text/plain": [
       "<Figure size 600x400 with 1 Axes>"
      ]
     },
     "metadata": {},
     "output_type": "display_data"
    },
    {
     "data": {
      "image/png": "[encoded data removed]",
      "text/plain": [
       "<Figure size 600x400 with 1 Axes>"
      ]
     },
     "metadata": {},
     "output_type": "display_data"
    },
    {
     "data": {
      "image/png": "[encoded data removed]",
      "text/plain": [
       "<Figure size 600x400 with 1 Axes>"
      ]
     },
     "metadata": {},
     "output_type": "display_data"
    },
    {
     "data": {
      "image/png": "[encoded data removed]",
      "text/plain": [
       "<Figure size 600x400 with 1 Axes>"
      ]
     },
     "metadata": {},
     "output_type": "display_data"
    },
    {
     "data": {
      "image/png": "[encoded data removed]",
      "text/plain": [
       "<Figure size 600x400 with 1 Axes>"
      ]
     },
     "metadata": {},
     "output_type": "display_data"
    },
    {
     "data": {
      "image/png": "[encoded data removed]",
      "text/plain": [
       "<Figure size 600x400 with 1 Axes>"
      ]
     },
     "metadata": {},
     "output_type": "display_data"
    },
    {
     "data": {
      "image/png": "[encoded data removed]",
      "text/plain": [
       "<Figure size 600x400 with 1 Axes>"
      ]
     },
     "metadata": {},
     "output_type": "display_data"
    }
   ],
   "source": [
    "for col in cols_num:\n",
    "    plt.figure(figsize=(6, 4))\n",
    "    plt.boxplot(df_drop_duplicates[col].dropna(), vert=False)\n",
    "    plt.title(f'Boxplot of {col}')\n",
    "    plt.xlabel(col)\n",
    "    plt.grid(True)\n",
    "    plt.show()"
   ]
  },
  {
   "cell_type": "markdown",
   "metadata": {
    "id": "1LtaPTfFneOB"
   },
   "source": [
    "### Drop unnecessary columns"
   ]
  },
  {
   "cell_type": "code",
   "execution_count": 17,
   "metadata": {
    "colab": {
     "base_uri": "https://localhost:8080/"
    },
    "id": "Y8oKo7K0nfF8",
    "outputId": "208ade93-61b4-4a56-8ab1-f89c8b92b1cf"
   },
   "outputs": [
    {
     "name": "stdout",
     "output_type": "stream",
     "text": [
      "useful: std = 3.95, mean = 2.44, CV = 1.62\n",
      "funny: std = 2.05, mean = 0.53, CV = 3.85\n",
      "cool: std = 3.38, mean = 1.08, CV = 3.14\n",
      "review_count: std = 54.63, mean = 15.24, CV = 3.58\n",
      "useful_user: std = 53.14, mean = 13.36, CV = 3.98\n",
      "funny_user: std = 38.55, mean = 9.98, CV = 3.86\n",
      "cool_user: std = 45.72, mean = 10.26, CV = 4.45\n",
      "fans: std = 23.09, mean = 6.96, CV = 3.32\n",
      "average_stars: std = 0.90, mean = 3.72, CV = 0.24\n",
      "stars_user: std = 0.82, mean = 3.76, CV = 0.22\n",
      "review_count_user: std = 66.42, mean = 15.66, CV = 4.24\n"
     ]
    }
   ],
   "source": [
    "for col in cols_num:\n",
    "    mean = df_drop_duplicates[col].mean()\n",
    "    std = df_drop_duplicates[col].std()\n",
    "    cv = std / mean if mean != 0 else 0\n",
    "    print(f\"{col}: std = {std:.2f}, mean = {mean:.2f}, CV = {cv:.2f}\")"
   ]
  },
  {
   "cell_type": "code",
   "execution_count": 18,
   "metadata": {
    "colab": {
     "base_uri": "https://localhost:8080/"
    },
    "id": "vFWuqc5QqLjt",
    "outputId": "e356d0be-b14a-4ebb-eef3-48f04b519fe9"
   },
   "outputs": [
    {
     "name": "stdout",
     "output_type": "stream",
     "text": [
      "elite: 838 unique values\n",
      "city: 1299 unique values\n",
      "state: 24 unique values\n",
      "review_id: 1499992 unique values\n",
      "text: 1498155 unique values\n",
      "address: 103378 unique values\n",
      "categories: 70431 unique values\n"
     ]
    }
   ],
   "source": [
    "for col in cols_categoric + cols_string:\n",
    "    print(f\"{col}: {df_drop_duplicates[col].nunique()} unique values\")"
   ]
  },
  {
   "cell_type": "code",
   "execution_count": 19,
   "metadata": {},
   "outputs": [],
   "source": [
    "df2 = df_drop_duplicates.drop(columns=[\"review_id\"])"
   ]
  },
  {
   "cell_type": "markdown",
   "metadata": {
    "id": "ePVoaPlJtM2w"
   },
   "source": [
    "# Feature Engineering"
   ]
  },
  {
   "cell_type": "markdown",
   "metadata": {},
   "source": [
    "### Categorical Variables"
   ]
  },
  {
   "cell_type": "code",
   "execution_count": 20,
   "metadata": {},
   "outputs": [],
   "source": [
    "cols_categoric.append(\"stars\")\n",
    "df2[cols_categoric] = df2[cols_categoric].astype(\"category\")"
   ]
  },
  {
   "cell_type": "code",
   "execution_count": 21,
   "metadata": {},
   "outputs": [
    {
     "data": {
      "text/plain": [
       "['elite', 'city', 'state', 'stars']"
      ]
     },
     "execution_count": 21,
     "metadata": {},
     "output_type": "execute_result"
    }
   ],
   "source": [
    "cols_categoric"
   ]
  },
  {
   "cell_type": "markdown",
   "metadata": {},
   "source": [
    "#### Elite"
   ]
  },
  {
   "cell_type": "code",
   "execution_count": 22,
   "metadata": {},
   "outputs": [],
   "source": [
    "def fix_elite_format(val):\n",
    "    if pd.isna(val) or val == \"None\":\n",
    "        return None\n",
    "\n",
    "    years = {\n",
    "        \"20\" + y if len(y) == 2 and y.isdigit() else y.strip()\n",
    "        for y in val.split(\",\")\n",
    "    }\n",
    "    return \",\".join(sorted(years))"
   ]
  },
  {
   "cell_type": "code",
   "execution_count": 23,
   "metadata": {},
   "outputs": [],
   "source": [
    "df2[\"elite\"] = df2[\"elite\"].apply(fix_elite_format)"
   ]
  },
  {
   "cell_type": "code",
   "execution_count": 24,
   "metadata": {},
   "outputs": [],
   "source": [
    "df2[\"elite_count\"] = df2[\"elite\"].fillna(\"\").apply(\n",
    "    lambda x: 0 if x in [\"None\", \"\"] else len(x.split(\",\"))\n",
    ")"
   ]
  },
  {
   "cell_type": "code",
   "execution_count": 25,
   "metadata": {},
   "outputs": [],
   "source": [
    "df3 = df2.drop(columns=[\"elite\"])"
   ]
  },
  {
   "cell_type": "markdown",
   "metadata": {},
   "source": [
    "#### City"
   ]
  },
  {
   "cell_type": "code",
   "execution_count": 26,
   "metadata": {},
   "outputs": [],
   "source": [
    "city_freq = df[\"city\"].value_counts(normalize=True)\n",
    "df3[\"city_freq\"] = df3[\"city\"].map(city_freq)"
   ]
  },
  {
   "cell_type": "code",
   "execution_count": 27,
   "metadata": {},
   "outputs": [],
   "source": [
    "df4 = df3.drop(columns=[\"city\"])"
   ]
  },
  {
   "cell_type": "markdown",
   "metadata": {},
   "source": [
    "#### State"
   ]
  },
  {
   "cell_type": "code",
   "execution_count": 28,
   "metadata": {},
   "outputs": [],
   "source": [
    "state_freq = df[\"state\"].value_counts(normalize=True)\n",
    "df4[\"state_freq\"] = df4[\"state\"].map(state_freq)"
   ]
  },
  {
   "cell_type": "code",
   "execution_count": 29,
   "metadata": {},
   "outputs": [],
   "source": [
    "df5 = df4.drop(columns=[\"state\"])"
   ]
  },
  {
   "cell_type": "markdown",
   "metadata": {},
   "source": [
    "#### Stars"
   ]
  },
  {
   "cell_type": "code",
   "execution_count": null,
   "metadata": {},
   "outputs": [],
   "source": [
    "def classify_sentiment(stars):\n",
    "    if stars <= 2:\n",
    "        return 0  # negative\n",
    "    elif stars == 3:\n",
    "        return 1  # neutral\n",
    "    else:\n",
    "        return 2  # positive"
   ]
  },
  {
   "cell_type": "code",
   "execution_count": 31,
   "metadata": {},
   "outputs": [],
   "source": [
    "df5[\"target\"] = df5[\"stars\"].apply(classify_sentiment)"
   ]
  },
  {
   "cell_type": "code",
   "execution_count": 32,
   "metadata": {},
   "outputs": [],
   "source": [
    "df6 = df5.drop(columns=[\"stars\"])"
   ]
  },
  {
   "cell_type": "code",
   "execution_count": 34,
   "metadata": {},
   "outputs": [
    {
     "data": {
      "text/plain": [
       "target\n",
       "2    942408\n",
       "0    428805\n",
       "1    128779\n",
       "Name: count, dtype: int64"
      ]
     },
     "execution_count": 34,
     "metadata": {},
     "output_type": "execute_result"
    }
   ],
   "source": [
    "df6[\"target\"].value_counts()"
   ]
  },
  {
   "cell_type": "markdown",
   "metadata": {},
   "source": [
    "#### Pipeline"
   ]
  },
  {
   "cell_type": "markdown",
   "metadata": {},
   "source": [
    "- EliteCountTransformer"
   ]
  },
  {
   "cell_type": "code",
   "execution_count": 38,
   "metadata": {},
   "outputs": [],
   "source": [
    "class EliteCountTransformer(BaseEstimator, TransformerMixin):\n",
    "    def fit(self, X, y=None):\n",
    "        return self\n",
    "\n",
    "    def transform(self, X):\n",
    "        X = X.copy()\n",
    "\n",
    "        def fix_elite(val):\n",
    "            if pd.isna(val) or val == \"None\":\n",
    "                return \"\"\n",
    "            years = {\n",
    "                \"20\" + y if len(y) == 2 and y.isdigit() else y.strip()\n",
    "                for y in val.split(\",\")\n",
    "            }\n",
    "            return \",\".join(sorted(years))\n",
    "\n",
    "        X[\"elite\"] = X[\"elite\"].apply(fix_elite)\n",
    "        X[\"elite_count\"] = X[\"elite\"].apply(lambda x: 0 if x == \"\" else len(x.split(\",\")))\n",
    "        X.drop(columns=[\"elite\"], inplace=True)\n",
    "        return X"
   ]
  },
  {
   "cell_type": "markdown",
   "metadata": {},
   "source": [
    "- CityStateFreqTransformer"
   ]
  },
  {
   "cell_type": "code",
   "execution_count": 39,
   "metadata": {},
   "outputs": [],
   "source": [
    "class CityStateFreqTransformer(BaseEstimator, TransformerMixin):\n",
    "    def fit(self, X, y=None):\n",
    "        self.city_freq = X[\"city\"].value_counts(normalize=True)\n",
    "        self.state_freq = X[\"state\"].value_counts(normalize=True)\n",
    "        return self\n",
    "\n",
    "    def transform(self, X):\n",
    "        X = X.copy()\n",
    "        X[\"city_freq\"] = X[\"city\"].map(self.city_freq)\n",
    "        X[\"state_freq\"] = X[\"state\"].map(self.state_freq)\n",
    "        X.drop(columns=[\"city\", \"state\"], inplace=True)\n",
    "        return X"
   ]
  },
  {
   "cell_type": "markdown",
   "metadata": {},
   "source": [
    "- TargetFromStarsTransformer"
   ]
  },
  {
   "cell_type": "code",
   "execution_count": 40,
   "metadata": {},
   "outputs": [],
   "source": [
    "class TargetFromStarsTransformer(BaseEstimator, TransformerMixin):\n",
    "    def fit(self, X, y=None):\n",
    "        return self\n",
    "\n",
    "    def transform(self, X):\n",
    "        X = X.copy()\n",
    "\n",
    "        def classify(stars):\n",
    "            if stars <= 2:\n",
    "                return 0\n",
    "            elif stars == 3:\n",
    "                return 1\n",
    "            else:\n",
    "                return 2\n",
    "\n",
    "        X[\"target\"] = X[\"stars\"].apply(classify)\n",
    "        X.drop(columns=[\"stars\"], inplace=True)\n",
    "        return X"
   ]
  },
  {
   "cell_type": "markdown",
   "metadata": {},
   "source": [
    "- Pipeline"
   ]
  },
  {
   "cell_type": "code",
   "execution_count": 43,
   "metadata": {},
   "outputs": [],
   "source": [
    "categorical_pipe = Pipeline(\n",
    "    steps=[\n",
    "        (\"elite_count\", EliteCountTransformer()),\n",
    "        (\"freq_encode\", CityStateFreqTransformer()),\n",
    "        (\"create_target\", TargetFromStarsTransformer()),\n",
    "    ]\n",
    ")"
   ]
  },
  {
   "cell_type": "markdown",
   "metadata": {},
   "source": [
    "### Numerical Variables"
   ]
  },
  {
   "cell_type": "code",
   "execution_count": null,
   "metadata": {},
   "outputs": [],
   "source": []
  },
  {
   "cell_type": "markdown",
   "metadata": {},
   "source": [
    "### Boolean Variables"
   ]
  },
  {
   "cell_type": "code",
   "execution_count": null,
   "metadata": {},
   "outputs": [],
   "source": []
  },
  {
   "cell_type": "markdown",
   "metadata": {},
   "source": [
    "### String Variables"
   ]
  },
  {
   "cell_type": "code",
   "execution_count": null,
   "metadata": {},
   "outputs": [],
   "source": []
  },
  {
   "cell_type": "markdown",
   "metadata": {},
   "source": [
    "### Data Variables"
   ]
  },
  {
   "cell_type": "code",
   "execution_count": null,
   "metadata": {},
   "outputs": [],
   "source": []
  }
 ],
 "metadata": {
  "colab": {
   "provenance": []
  },
  "kernelspec": {
   "display_name": "Python 3.11 (ml-message-classifier)",
   "language": "python",
   "name": "ml-message-classifier"
  },
  "language_info": {
   "codemirror_mode": {
    "name": "ipython",
    "version": 3
   },
   "file_extension": ".py",
   "mimetype": "text/x-python",
   "name": "python",
   "nbconvert_exporter": "python",
   "pygments_lexer": "ipython3",
   "version": "3.11.12"
  }
 },
 "nbformat": 4,
 "nbformat_minor": 4
}
