{
 "cells": [
  {
   "cell_type": "markdown",
   "metadata": {
    "id": "EJO4nq-rjOVi"
   },
   "source": [
    "## Title\n",
    "Feature Engineering\n",
    "\n",
    "### By:\n",
    "Juan Gómez\n",
    "\n",
    "### Date:\n",
    "2024-05-16\n",
    "\n",
    "### Description:\n",
    "\n",
    "Clean and prepare message data from the Yelp dataset for the classification model. Remove duplicates, fix missing values, and keep useful columns only.\n"
   ]
  },
  {
   "cell_type": "markdown",
   "metadata": {
    "id": "YUF5E1QMjOVk",
    "pycharm": {
     "name": "#%% md\n"
    }
   },
   "source": [
    "## Import  libraries"
   ]
  },
  {
   "cell_type": "code",
   "execution_count": 1,
   "metadata": {
    "collapsed": false,
    "id": "M2QetAMAjOVk",
    "jupyter": {
     "outputs_hidden": false
    },
    "pycharm": {
     "name": "#%%\n"
    }
   },
   "outputs": [],
   "source": [
    "import matplotlib.pyplot as plt\n",
    "import pandas as pd\n",
    "from sklearn.base import BaseEstimator, TransformerMixin\n",
    "from sklearn.compose import ColumnTransformer\n",
    "from sklearn.pipeline import Pipeline"
   ]
  },
  {
   "cell_type": "markdown",
   "metadata": {
    "id": "7U_3Omo9jOVk",
    "pycharm": {
     "name": "#%% md\n"
    }
   },
   "source": [
    "## Load data"
   ]
  },
  {
   "cell_type": "code",
   "execution_count": 2,
   "metadata": {
    "id": "LxgbCbmwjOVl"
   },
   "outputs": [],
   "source": [
    "from pathlib import Path\n",
    "\n",
    "pd.set_option(\"display.max_columns\", None)\n",
    "\n",
    "BASE_DIR = Path.cwd().resolve().parents[1]"
   ]
  },
  {
   "cell_type": "code",
   "execution_count": 3,
   "metadata": {
    "collapsed": false,
    "id": "1uqUhdiAjOVl",
    "jupyter": {
     "outputs_hidden": false
    },
    "pycharm": {
     "name": "#%%\n"
    }
   },
   "outputs": [],
   "source": [
    "df = pd.read_parquet(\n",
    "    BASE_DIR / \"data/02_intermediate/data_message_classifier_interm.parquet\"\n",
    ")"
   ]
  },
  {
   "cell_type": "code",
   "execution_count": 4,
   "metadata": {
    "colab": {
     "base_uri": "https://localhost:8080/",
     "height": 608
    },
    "id": "wB6XLEUAmgxy",
    "outputId": "6e4ba660-f5be-4098-d616-bcaaba52a5e4"
   },
   "outputs": [
    {
     "data": {
      "text/html": [
       "<div>\n",
       "<style scoped>\n",
       "    .dataframe tbody tr th:only-of-type {\n",
       "        vertical-align: middle;\n",
       "    }\n",
       "\n",
       "    .dataframe tbody tr th {\n",
       "        vertical-align: top;\n",
       "    }\n",
       "\n",
       "    .dataframe thead th {\n",
       "        text-align: right;\n",
       "    }\n",
       "</style>\n",
       "<table border=\"1\" class=\"dataframe\">\n",
       "  <thead>\n",
       "    <tr style=\"text-align: right;\">\n",
       "      <th></th>\n",
       "      <th>review_id</th>\n",
       "      <th>stars</th>\n",
       "      <th>useful</th>\n",
       "      <th>funny</th>\n",
       "      <th>cool</th>\n",
       "      <th>text</th>\n",
       "      <th>date</th>\n",
       "      <th>review_count</th>\n",
       "      <th>useful_user</th>\n",
       "      <th>funny_user</th>\n",
       "      <th>cool_user</th>\n",
       "      <th>elite</th>\n",
       "      <th>fans</th>\n",
       "      <th>average_stars</th>\n",
       "      <th>address</th>\n",
       "      <th>city</th>\n",
       "      <th>state</th>\n",
       "      <th>stars_user</th>\n",
       "      <th>is_open</th>\n",
       "      <th>categories</th>\n",
       "    </tr>\n",
       "  </thead>\n",
       "  <tbody>\n",
       "    <tr>\n",
       "      <th>519617</th>\n",
       "      <td>03WBta_eSvue0tu9H1id1A</td>\n",
       "      <td>5</td>\n",
       "      <td>1</td>\n",
       "      <td>0</td>\n",
       "      <td>1</td>\n",
       "      <td>Really love this place. Been here multiple tim...</td>\n",
       "      <td>2019-10-14 03:27:04</td>\n",
       "      <td>8</td>\n",
       "      <td>11</td>\n",
       "      <td>5</td>\n",
       "      <td>4</td>\n",
       "      <td></td>\n",
       "      <td>0</td>\n",
       "      <td>4.13</td>\n",
       "      <td>1709 E Passyunk Ave</td>\n",
       "      <td>Philadelphia</td>\n",
       "      <td>PA</td>\n",
       "      <td>4.5</td>\n",
       "      <td>True</td>\n",
       "      <td>Nightlife, Bars, Restaurants, Wine Bars, Tapas...</td>\n",
       "    </tr>\n",
       "    <tr>\n",
       "      <th>890031</th>\n",
       "      <td>N70PvORXMN7dWEesA-k4dA</td>\n",
       "      <td>5</td>\n",
       "      <td>2</td>\n",
       "      <td>2</td>\n",
       "      <td>2</td>\n",
       "      <td>Stopped into this tiny shop twice over a long ...</td>\n",
       "      <td>2018-10-04 14:26:04</td>\n",
       "      <td>281</td>\n",
       "      <td>606</td>\n",
       "      <td>295</td>\n",
       "      <td>405</td>\n",
       "      <td>2015,2016,2017</td>\n",
       "      <td>21</td>\n",
       "      <td>4.00</td>\n",
       "      <td>627 St Peter St</td>\n",
       "      <td>New Orleans</td>\n",
       "      <td>LA</td>\n",
       "      <td>4.5</td>\n",
       "      <td>True</td>\n",
       "      <td>Food, Bars, Coffee &amp; Tea, Nightlife</td>\n",
       "    </tr>\n",
       "    <tr>\n",
       "      <th>439550</th>\n",
       "      <td>Mq_sFpcdNJDYKsei6l0T7A</td>\n",
       "      <td>5</td>\n",
       "      <td>1</td>\n",
       "      <td>0</td>\n",
       "      <td>0</td>\n",
       "      <td>Besides great service, that wonderful man at t...</td>\n",
       "      <td>2020-01-15 20:59:07</td>\n",
       "      <td>27</td>\n",
       "      <td>32</td>\n",
       "      <td>12</td>\n",
       "      <td>4</td>\n",
       "      <td></td>\n",
       "      <td>1</td>\n",
       "      <td>2.97</td>\n",
       "      <td>5883 Lower York Rd</td>\n",
       "      <td>Lahaska</td>\n",
       "      <td>PA</td>\n",
       "      <td>3.5</td>\n",
       "      <td>True</td>\n",
       "      <td>Hotels, Event Planning &amp; Services, Hotels &amp; Tr...</td>\n",
       "    </tr>\n",
       "    <tr>\n",
       "      <th>681313</th>\n",
       "      <td>aFZah2gfJMJP_EDzsF73yw</td>\n",
       "      <td>3</td>\n",
       "      <td>2</td>\n",
       "      <td>0</td>\n",
       "      <td>0</td>\n",
       "      <td>The decor and ambiance was pretty nice and def...</td>\n",
       "      <td>2019-05-05 02:33:28</td>\n",
       "      <td>169</td>\n",
       "      <td>108</td>\n",
       "      <td>14</td>\n",
       "      <td>39</td>\n",
       "      <td>2019,20,20,2021</td>\n",
       "      <td>2</td>\n",
       "      <td>4.24</td>\n",
       "      <td>256 E Congress St</td>\n",
       "      <td>Tucson</td>\n",
       "      <td>AZ</td>\n",
       "      <td>3.5</td>\n",
       "      <td>False</td>\n",
       "      <td>Nightlife, Bars, Mexican, Restaurants</td>\n",
       "    </tr>\n",
       "    <tr>\n",
       "      <th>1489567</th>\n",
       "      <td>8n23cAtcTmnuo8u5uvD9LQ</td>\n",
       "      <td>5</td>\n",
       "      <td>2</td>\n",
       "      <td>0</td>\n",
       "      <td>0</td>\n",
       "      <td>They have not once gotten my order wrong and t...</td>\n",
       "      <td>2017-01-25 08:39:28</td>\n",
       "      <td>94</td>\n",
       "      <td>53</td>\n",
       "      <td>16</td>\n",
       "      <td>8</td>\n",
       "      <td>2017,2018</td>\n",
       "      <td>2</td>\n",
       "      <td>4.59</td>\n",
       "      <td>3720 S Lindbergh Blvd</td>\n",
       "      <td>Sunset Hills</td>\n",
       "      <td>MO</td>\n",
       "      <td>3.5</td>\n",
       "      <td>True</td>\n",
       "      <td>Food, Juice Bars &amp; Smoothies, Health Markets, ...</td>\n",
       "    </tr>\n",
       "  </tbody>\n",
       "</table>\n",
       "</div>"
      ],
      "text/plain": [
       "                      review_id  stars  useful  funny  cool  \\\n",
       "519617   03WBta_eSvue0tu9H1id1A      5       1      0     1   \n",
       "890031   N70PvORXMN7dWEesA-k4dA      5       2      2     2   \n",
       "439550   Mq_sFpcdNJDYKsei6l0T7A      5       1      0     0   \n",
       "681313   aFZah2gfJMJP_EDzsF73yw      3       2      0     0   \n",
       "1489567  8n23cAtcTmnuo8u5uvD9LQ      5       2      0     0   \n",
       "\n",
       "                                                      text  \\\n",
       "519617   Really love this place. Been here multiple tim...   \n",
       "890031   Stopped into this tiny shop twice over a long ...   \n",
       "439550   Besides great service, that wonderful man at t...   \n",
       "681313   The decor and ambiance was pretty nice and def...   \n",
       "1489567  They have not once gotten my order wrong and t...   \n",
       "\n",
       "                       date  review_count  useful_user  funny_user  cool_user  \\\n",
       "519617  2019-10-14 03:27:04             8           11           5          4   \n",
       "890031  2018-10-04 14:26:04           281          606         295        405   \n",
       "439550  2020-01-15 20:59:07            27           32          12          4   \n",
       "681313  2019-05-05 02:33:28           169          108          14         39   \n",
       "1489567 2017-01-25 08:39:28            94           53          16          8   \n",
       "\n",
       "                   elite  fans  average_stars                address  \\\n",
       "519617                       0           4.13    1709 E Passyunk Ave   \n",
       "890031    2015,2016,2017    21           4.00        627 St Peter St   \n",
       "439550                       1           2.97     5883 Lower York Rd   \n",
       "681313   2019,20,20,2021     2           4.24      256 E Congress St   \n",
       "1489567        2017,2018     2           4.59  3720 S Lindbergh Blvd   \n",
       "\n",
       "                 city state  stars_user  is_open  \\\n",
       "519617   Philadelphia    PA         4.5     True   \n",
       "890031    New Orleans    LA         4.5     True   \n",
       "439550        Lahaska    PA         3.5     True   \n",
       "681313         Tucson    AZ         3.5    False   \n",
       "1489567  Sunset Hills    MO         3.5     True   \n",
       "\n",
       "                                                categories  \n",
       "519617   Nightlife, Bars, Restaurants, Wine Bars, Tapas...  \n",
       "890031                 Food, Bars, Coffee & Tea, Nightlife  \n",
       "439550   Hotels, Event Planning & Services, Hotels & Tr...  \n",
       "681313               Nightlife, Bars, Mexican, Restaurants  \n",
       "1489567  Food, Juice Bars & Smoothies, Health Markets, ...  "
      ]
     },
     "execution_count": 4,
     "metadata": {},
     "output_type": "execute_result"
    }
   ],
   "source": [
    "df.sample(5)"
   ]
  },
  {
   "cell_type": "code",
   "execution_count": 5,
   "metadata": {
    "colab": {
     "base_uri": "https://localhost:8080/"
    },
    "id": "YE_zuymIoP-7",
    "outputId": "7f208ea6-c1fe-435f-fb2a-638ceb3a2185"
   },
   "outputs": [
    {
     "name": "stdout",
     "output_type": "stream",
     "text": [
      "<class 'pandas.core.frame.DataFrame'>\n",
      "RangeIndex: 1499992 entries, 0 to 1499991\n",
      "Data columns (total 20 columns):\n",
      " #   Column         Non-Null Count    Dtype         \n",
      "---  ------         --------------    -----         \n",
      " 0   review_id      1499992 non-null  string        \n",
      " 1   stars          1499992 non-null  int64         \n",
      " 2   useful         1499992 non-null  int32         \n",
      " 3   funny          1499992 non-null  int32         \n",
      " 4   cool           1499992 non-null  int32         \n",
      " 5   text           1499992 non-null  string        \n",
      " 6   date           1499992 non-null  datetime64[ns]\n",
      " 7   review_count   1499992 non-null  int32         \n",
      " 8   useful_user    1499992 non-null  int32         \n",
      " 9   funny_user     1499992 non-null  int32         \n",
      " 10  cool_user      1499992 non-null  int32         \n",
      " 11  elite          1499992 non-null  category      \n",
      " 12  fans           1499992 non-null  int32         \n",
      " 13  average_stars  1499992 non-null  float64       \n",
      " 14  address        1499992 non-null  string        \n",
      " 15  city           1499992 non-null  category      \n",
      " 16  state          1499992 non-null  category      \n",
      " 17  stars_user     1499992 non-null  float64       \n",
      " 18  is_open        1499992 non-null  bool          \n",
      " 19  categories     1499783 non-null  string        \n",
      "dtypes: bool(1), category(3), datetime64[ns](1), float64(2), int32(8), int64(1), string(4)\n",
      "memory usage: 146.0 MB\n"
     ]
    }
   ],
   "source": [
    "df.info()"
   ]
  },
  {
   "cell_type": "code",
   "execution_count": 6,
   "metadata": {
    "colab": {
     "base_uri": "https://localhost:8080/"
    },
    "id": "9_BCoR-1rUpb",
    "outputId": "09eb8e44-1955-416b-ea53-1a8f132d99a8"
   },
   "outputs": [
    {
     "data": {
      "text/plain": [
       "(1499992, 20)"
      ]
     },
     "execution_count": 6,
     "metadata": {},
     "output_type": "execute_result"
    }
   ],
   "source": [
    "df.shape"
   ]
  },
  {
   "cell_type": "markdown",
   "metadata": {
    "id": "Yot8MOibnA6N"
   },
   "source": [
    "# Data Preparation"
   ]
  },
  {
   "cell_type": "markdown",
   "metadata": {
    "id": "7J0vN-cjqZyW"
   },
   "source": [
    "### Type Columns"
   ]
  },
  {
   "cell_type": "code",
   "execution_count": 7,
   "metadata": {
    "id": "Emenu-qCqnxh"
   },
   "outputs": [],
   "source": [
    "cols_categoric = df.select_dtypes(include=[\"category\"]).columns.tolist()"
   ]
  },
  {
   "cell_type": "code",
   "execution_count": 8,
   "metadata": {
    "id": "ZOjD0jUFqcwu"
   },
   "outputs": [],
   "source": [
    "cols_num = df.select_dtypes(include=[\"int32\", \"float64\"]).columns.tolist()"
   ]
  },
  {
   "cell_type": "code",
   "execution_count": 9,
   "metadata": {
    "id": "YRGxLSJoqtzV"
   },
   "outputs": [],
   "source": [
    "cols_boolean = df.select_dtypes(include=[\"bool\"]).columns.tolist()"
   ]
  },
  {
   "cell_type": "code",
   "execution_count": 10,
   "metadata": {
    "id": "JA-zeyD3q21v"
   },
   "outputs": [],
   "source": [
    "cols_string = df.select_dtypes(include=[\"string\"]).columns.tolist()"
   ]
  },
  {
   "cell_type": "code",
   "execution_count": 11,
   "metadata": {
    "id": "J7YkX68Kq6kQ"
   },
   "outputs": [],
   "source": [
    "col_date = df.select_dtypes(include=[\"datetime64[ns]\"]).columns.tolist()"
   ]
  },
  {
   "cell_type": "markdown",
   "metadata": {
    "id": "R5DVgGNEnR2e"
   },
   "source": [
    "### Remove duplicates"
   ]
  },
  {
   "cell_type": "code",
   "execution_count": 12,
   "metadata": {
    "id": "xsJDpNSGnSrk"
   },
   "outputs": [],
   "source": [
    "df_drop_duplicates = df.drop_duplicates(subset=[\"review_id\"])"
   ]
  },
  {
   "cell_type": "code",
   "execution_count": 13,
   "metadata": {
    "colab": {
     "base_uri": "https://localhost:8080/"
    },
    "id": "9GcC1H9km_qe",
    "outputId": "6dc6d3ac-0e6e-4cb3-936c-c4f4ef3b3752"
   },
   "outputs": [
    {
     "name": "stdout",
     "output_type": "stream",
     "text": [
      "0\n"
     ]
    }
   ],
   "source": [
    "print(df_drop_duplicates.duplicated(subset=[\"review_id\"]).sum())"
   ]
  },
  {
   "cell_type": "markdown",
   "metadata": {
    "id": "eOlCbAE_nTAj"
   },
   "source": [
    "### Missing values"
   ]
  },
  {
   "cell_type": "code",
   "execution_count": 14,
   "metadata": {
    "colab": {
     "base_uri": "https://localhost:8080/",
     "height": 774
    },
    "id": "86tvf8uBnSo2",
    "outputId": "47d37632-4c73-45a4-a88a-b9855b31abf6"
   },
   "outputs": [
    {
     "data": {
      "text/plain": [
       "review_id          0\n",
       "stars              0\n",
       "useful             0\n",
       "funny              0\n",
       "cool               0\n",
       "text               0\n",
       "date               0\n",
       "review_count       0\n",
       "useful_user        0\n",
       "funny_user         0\n",
       "cool_user          0\n",
       "elite              0\n",
       "fans               0\n",
       "average_stars      0\n",
       "address            0\n",
       "city               0\n",
       "state              0\n",
       "stars_user         0\n",
       "is_open            0\n",
       "categories       209\n",
       "dtype: int64"
      ]
     },
     "execution_count": 14,
     "metadata": {},
     "output_type": "execute_result"
    }
   ],
   "source": [
    "df.isna().sum()"
   ]
  },
  {
   "cell_type": "markdown",
   "metadata": {
    "id": "cbxWhHagncci"
   },
   "source": [
    "### Handle outliers"
   ]
  },
  {
   "cell_type": "code",
   "execution_count": 15,
   "metadata": {
    "colab": {
     "base_uri": "https://localhost:8080/"
    },
    "id": "SYuhg8MInShL",
    "outputId": "14e9e93d-f60c-453c-bfd7-4181c67e437a"
   },
   "outputs": [
    {
     "name": "stdout",
     "output_type": "stream",
     "text": [
      "useful: 224934 outliers\n",
      "funny: 367903 outliers\n",
      "cool: 137473 outliers\n",
      "review_count: 166743 outliers\n",
      "useful_user: 225394 outliers\n",
      "funny_user: 238980 outliers\n",
      "cool_user: 236434 outliers\n",
      "fans: 217120 outliers\n",
      "average_stars: 105008 outliers\n",
      "stars_user: 41591 outliers\n"
     ]
    }
   ],
   "source": [
    "for col in cols_num:\n",
    "    q1 = df_drop_duplicates[col].quantile(0.25)\n",
    "    q3 = df_drop_duplicates[col].quantile(0.75)\n",
    "    iqr = q3 - q1\n",
    "    lower = q1 - 1.5 * iqr\n",
    "    upper = q3 + 1.5 * iqr\n",
    "    outliers = df_drop_duplicates[\n",
    "        (df_drop_duplicates[col] < lower) | (df_drop_duplicates[col] > upper)\n",
    "    ]\n",
    "    print(f\"{col}: {len(outliers)} outliers\")"
   ]
  },
  {
   "cell_type": "code",
   "execution_count": 16,
   "metadata": {
    "colab": {
     "base_uri": "https://localhost:8080/",
     "height": 1000
    },
    "id": "VEqUEqRQpSOo",
    "outputId": "342d13fb-88fc-4b0a-a377-d17102184f32",
    "scrolled": true
   },
   "outputs": [
    {
     "data": {
      "image/png": "[encoded data removed]",
      "text/plain": [
       "<Figure size 600x400 with 1 Axes>"
      ]
     },
     "metadata": {},
     "output_type": "display_data"
    },
    {
     "data": {
      "image/png": "[encoded data removed]",
      "text/plain": [
       "<Figure size 600x400 with 1 Axes>"
      ]
     },
     "metadata": {},
     "output_type": "display_data"
    },
    {
     "data": {
      "image/png": "[encoded data removed]",
      "text/plain": [
       "<Figure size 600x400 with 1 Axes>"
      ]
     },
     "metadata": {},
     "output_type": "display_data"
    },
    {
     "data": {
      "image/png": "[encoded data removed]",
      "text/plain": [
       "<Figure size 600x400 with 1 Axes>"
      ]
     },
     "metadata": {},
     "output_type": "display_data"
    },
    {
     "data": {
      "image/png": "[encoded data removed]",
      "text/plain": [
       "<Figure size 600x400 with 1 Axes>"
      ]
     },
     "metadata": {},
     "output_type": "display_data"
    },
    {
     "data": {
      "image/png": "[encoded data removed]",
      "text/plain": [
       "<Figure size 600x400 with 1 Axes>"
      ]
     },
     "metadata": {},
     "output_type": "display_data"
    },
    {
     "data": {
      "image/png": "[encoded data removed]",
      "text/plain": [
       "<Figure size 600x400 with 1 Axes>"
      ]
     },
     "metadata": {},
     "output_type": "display_data"
    },
    {
     "data": {
      "image/png": "[encoded data removed]",
      "text/plain": [
       "<Figure size 600x400 with 1 Axes>"
      ]
     },
     "metadata": {},
     "output_type": "display_data"
    },
    {
     "data": {
      "image/png": "[encoded data removed]",
      "text/plain": [
       "<Figure size 600x400 with 1 Axes>"
      ]
     },
     "metadata": {},
     "output_type": "display_data"
    },
    {
     "data": {
      "image/png": "[encoded data removed]",
      "text/plain": [
       "<Figure size 600x400 with 1 Axes>"
      ]
     },
     "metadata": {},
     "output_type": "display_data"
    }
   ],
   "source": [
    "for col in cols_num:\n",
    "    plt.figure(figsize=(6, 4))\n",
    "    plt.boxplot(df_drop_duplicates[col].dropna(), vert=False)\n",
    "    plt.title(f\"Boxplot of {col}\")\n",
    "    plt.xlabel(col)\n",
    "    plt.grid(True)\n",
    "    plt.show()"
   ]
  },
  {
   "cell_type": "markdown",
   "metadata": {
    "id": "1LtaPTfFneOB"
   },
   "source": [
    "### Check unnecessary columns"
   ]
  },
  {
   "cell_type": "code",
   "execution_count": 17,
   "metadata": {
    "colab": {
     "base_uri": "https://localhost:8080/"
    },
    "id": "Y8oKo7K0nfF8",
    "outputId": "208ade93-61b4-4a56-8ab1-f89c8b92b1cf"
   },
   "outputs": [
    {
     "name": "stdout",
     "output_type": "stream",
     "text": [
      "useful: std = 4.21, mean = 2.46, CV = 1.71\n",
      "funny: std = 2.18, mean = 0.54, CV = 4.07\n",
      "cool: std = 3.52, mean = 1.09, CV = 3.21\n",
      "review_count: std = 471.05, mean = 168.65, CV = 2.79\n",
      "useful_user: std = 4897.32, mean = 756.78, CV = 6.47\n",
      "funny_user: std = 3215.00, mean = 309.54, CV = 10.39\n",
      "cool_user: std = 4333.90, mean = 561.33, CV = 7.72\n",
      "fans: std = 113.16, mean = 21.59, CV = 5.24\n",
      "average_stars: std = 0.90, mean = 3.72, CV = 0.24\n",
      "stars_user: std = 0.82, mean = 3.76, CV = 0.22\n"
     ]
    }
   ],
   "source": [
    "for col in cols_num:\n",
    "    mean = df_drop_duplicates[col].mean()\n",
    "    std = df_drop_duplicates[col].std()\n",
    "    cv = std / mean if mean != 0 else 0\n",
    "    print(f\"{col}: std = {std:.2f}, mean = {mean:.2f}, CV = {cv:.2f}\")"
   ]
  },
  {
   "cell_type": "code",
   "execution_count": 18,
   "metadata": {
    "colab": {
     "base_uri": "https://localhost:8080/"
    },
    "id": "vFWuqc5QqLjt",
    "outputId": "e356d0be-b14a-4ebb-eef3-48f04b519fe9"
   },
   "outputs": [
    {
     "name": "stdout",
     "output_type": "stream",
     "text": [
      "elite: 838 unique values\n",
      "city: 1299 unique values\n",
      "state: 24 unique values\n",
      "review_id: 1499992 unique values\n",
      "text: 1498155 unique values\n",
      "address: 103378 unique values\n",
      "categories: 70431 unique values\n"
     ]
    }
   ],
   "source": [
    "for col in cols_categoric + cols_string:\n",
    "    print(f\"{col}: {df_drop_duplicates[col].nunique()} unique values\")"
   ]
  },
  {
   "cell_type": "markdown",
   "metadata": {
    "id": "ePVoaPlJtM2w"
   },
   "source": [
    "# Feature Engineering"
   ]
  },
  {
   "cell_type": "code",
   "execution_count": 19,
   "metadata": {},
   "outputs": [],
   "source": [
    "df2 = df_drop_duplicates.copy()"
   ]
  },
  {
   "cell_type": "markdown",
   "metadata": {},
   "source": [
    "## Aggregate"
   ]
  },
  {
   "cell_type": "markdown",
   "metadata": {},
   "source": [
    "### Categorical Variables"
   ]
  },
  {
   "cell_type": "code",
   "execution_count": 20,
   "metadata": {},
   "outputs": [],
   "source": [
    "cols_categoric.append(\"stars\")\n",
    "df2[cols_categoric] = df2[cols_categoric].astype(\"category\")"
   ]
  },
  {
   "cell_type": "code",
   "execution_count": 21,
   "metadata": {},
   "outputs": [
    {
     "data": {
      "text/plain": [
       "['elite', 'city', 'state', 'stars']"
      ]
     },
     "execution_count": 21,
     "metadata": {},
     "output_type": "execute_result"
    }
   ],
   "source": [
    "cols_categoric"
   ]
  },
  {
   "cell_type": "markdown",
   "metadata": {},
   "source": [
    "#### Elite"
   ]
  },
  {
   "cell_type": "code",
   "execution_count": 22,
   "metadata": {},
   "outputs": [],
   "source": [
    "def fix_elite_format(val):\n",
    "    if pd.isna(val) or val == \"None\":\n",
    "        return None\n",
    "\n",
    "    years = {\n",
    "        \"20\" + y if len(y) == 2 and y.isdigit() else y.strip() for y in val.split(\",\")\n",
    "    }\n",
    "    return \",\".join(sorted(years))"
   ]
  },
  {
   "cell_type": "code",
   "execution_count": 23,
   "metadata": {},
   "outputs": [],
   "source": [
    "df2[\"elite\"] = df2[\"elite\"].apply(fix_elite_format)"
   ]
  },
  {
   "cell_type": "code",
   "execution_count": 24,
   "metadata": {},
   "outputs": [],
   "source": [
    "df2[\"elite_count\"] = (\n",
    "    df2[\"elite\"]\n",
    "    .fillna(\"\")\n",
    "    .apply(lambda x: 0 if x in [\"None\", \"\"] else len(x.split(\",\")))\n",
    ")"
   ]
  },
  {
   "cell_type": "markdown",
   "metadata": {},
   "source": [
    "#### City"
   ]
  },
  {
   "cell_type": "code",
   "execution_count": 25,
   "metadata": {},
   "outputs": [],
   "source": [
    "city_freq = df2[\"city\"].value_counts(normalize=True)\n",
    "df2[\"city_freq\"] = df2[\"city\"].map(city_freq)"
   ]
  },
  {
   "cell_type": "markdown",
   "metadata": {},
   "source": [
    "#### State"
   ]
  },
  {
   "cell_type": "code",
   "execution_count": 26,
   "metadata": {},
   "outputs": [],
   "source": [
    "state_freq = df2[\"state\"].value_counts(normalize=True)\n",
    "df2[\"state_freq\"] = df2[\"state\"].map(state_freq)"
   ]
  },
  {
   "cell_type": "markdown",
   "metadata": {},
   "source": [
    "#### Pipeline"
   ]
  },
  {
   "cell_type": "markdown",
   "metadata": {},
   "source": [
    "- EliteAggregateTransformer"
   ]
  },
  {
   "cell_type": "code",
   "execution_count": 27,
   "metadata": {},
   "outputs": [],
   "source": [
    "class EliteAggregateTransformer(BaseEstimator, TransformerMixin):\n",
    "    def fit(self, X, y=None):\n",
    "        return self\n",
    "\n",
    "    def transform(self, X):\n",
    "        X = X.copy()\n",
    "\n",
    "        def fix_elite(val):\n",
    "            if pd.isna(val) or val == \"None\":\n",
    "                return \"\"\n",
    "            years = {\n",
    "                \"20\" + y if len(y) == 2 and y.isdigit() else y.strip()\n",
    "                for y in val.split(\",\")\n",
    "            }\n",
    "            return \",\".join(sorted(years))\n",
    "\n",
    "        X[\"elite\"] = X[\"elite\"].apply(fix_elite)\n",
    "        X[\"elite_count\"] = (\n",
    "            X[\"elite\"]\n",
    "            .apply(lambda x: 0 if x == \"\" else len(x.split(\",\")))\n",
    "            .astype(\"int32\")\n",
    "        )\n",
    "        return X"
   ]
  },
  {
   "cell_type": "markdown",
   "metadata": {},
   "source": [
    "- FrequencyEncodeAggregateTransformer"
   ]
  },
  {
   "cell_type": "code",
   "execution_count": 28,
   "metadata": {},
   "outputs": [],
   "source": [
    "class FrequencyEncodeAggregateTransformer(BaseEstimator, TransformerMixin):\n",
    "    def __init__(self, columns):\n",
    "        self.columns = columns\n",
    "        self.freq_maps = {}\n",
    "\n",
    "    def fit(self, X, y=None):\n",
    "        for col in self.columns:\n",
    "            self.freq_maps[col] = X[col].value_counts(normalize=True)\n",
    "        return self\n",
    "\n",
    "    def transform(self, X):\n",
    "        X = X.copy()\n",
    "        for col in self.columns:\n",
    "            X[f\"{col}_freq\"] = X[col].map(self.freq_maps[col]).astype(\"float64\")\n",
    "        return X"
   ]
  },
  {
   "cell_type": "markdown",
   "metadata": {},
   "source": [
    "- Pipeline"
   ]
  },
  {
   "cell_type": "code",
   "execution_count": 29,
   "metadata": {},
   "outputs": [],
   "source": [
    "categorical_aggregate_pipe = Pipeline(\n",
    "    steps=[\n",
    "        (\"elite_agg\", EliteAggregateTransformer()),\n",
    "        (\n",
    "            \"freq_encode_agg\",\n",
    "            FrequencyEncodeAggregateTransformer(columns=[\"city\", \"state\"]),\n",
    "        ),\n",
    "    ]\n",
    ")"
   ]
  },
  {
   "cell_type": "markdown",
   "metadata": {},
   "source": [
    "### Numerical Variables"
   ]
  },
  {
   "cell_type": "code",
   "execution_count": 30,
   "metadata": {},
   "outputs": [
    {
     "data": {
      "text/plain": [
       "['useful',\n",
       " 'funny',\n",
       " 'cool',\n",
       " 'review_count',\n",
       " 'useful_user',\n",
       " 'funny_user',\n",
       " 'cool_user',\n",
       " 'fans',\n",
       " 'average_stars',\n",
       " 'stars_user']"
      ]
     },
     "execution_count": 30,
     "metadata": {},
     "output_type": "execute_result"
    }
   ],
   "source": [
    "cols_num"
   ]
  },
  {
   "cell_type": "markdown",
   "metadata": {},
   "source": [
    "#### Useful"
   ]
  },
  {
   "cell_type": "code",
   "execution_count": 31,
   "metadata": {},
   "outputs": [],
   "source": [
    "df2[\"is_useful\"] = df2[\"useful\"] > 0"
   ]
  },
  {
   "cell_type": "markdown",
   "metadata": {},
   "source": [
    "#### Funny"
   ]
  },
  {
   "cell_type": "code",
   "execution_count": 32,
   "metadata": {},
   "outputs": [],
   "source": [
    "df2[\"is_funny\"] = df2[\"funny\"] > 0"
   ]
  },
  {
   "cell_type": "markdown",
   "metadata": {},
   "source": [
    "#### Cool"
   ]
  },
  {
   "cell_type": "code",
   "execution_count": 33,
   "metadata": {},
   "outputs": [],
   "source": [
    "df2[\"is_cool\"] = df2[\"cool\"] > 0"
   ]
  },
  {
   "cell_type": "markdown",
   "metadata": {},
   "source": [
    "#### Review Count"
   ]
  },
  {
   "cell_type": "code",
   "execution_count": 34,
   "metadata": {},
   "outputs": [],
   "source": [
    "df2[\"reviewer_level\"] = pd.qcut(df2[\"review_count\"], q=4, labels=[0, 1, 2, 3])"
   ]
  },
  {
   "cell_type": "markdown",
   "metadata": {},
   "source": [
    "#### Useful User"
   ]
  },
  {
   "cell_type": "code",
   "execution_count": 35,
   "metadata": {},
   "outputs": [],
   "source": [
    "df2[\"useful_user_level\"] = pd.qcut(df2[\"useful_user\"], q=4, labels=[0, 1, 2, 3])"
   ]
  },
  {
   "cell_type": "markdown",
   "metadata": {},
   "source": [
    "#### Funny User"
   ]
  },
  {
   "cell_type": "code",
   "execution_count": 36,
   "metadata": {},
   "outputs": [],
   "source": [
    "df2[\"funny_user_level\"] = pd.qcut(df2[\"funny_user\"], q=4, labels=[0, 1, 2, 3])"
   ]
  },
  {
   "cell_type": "markdown",
   "metadata": {},
   "source": [
    "#### Cool User"
   ]
  },
  {
   "cell_type": "code",
   "execution_count": 37,
   "metadata": {},
   "outputs": [],
   "source": [
    "df2[\"cool_user_level\"] = pd.qcut(df2[\"cool_user\"], q=4, labels=[0, 1, 2, 3])"
   ]
  },
  {
   "cell_type": "markdown",
   "metadata": {},
   "source": [
    "#### Fans"
   ]
  },
  {
   "cell_type": "code",
   "execution_count": 38,
   "metadata": {},
   "outputs": [],
   "source": [
    "p90 = df2[\"fans\"][df2[\"fans\"] > 0].quantile(0.90)\n",
    "\n",
    "\n",
    "def map_fans_level(x):\n",
    "    if x == 0:\n",
    "        return 0\n",
    "    elif x <= p90:\n",
    "        return 1\n",
    "    else:\n",
    "        return 2\n",
    "\n",
    "\n",
    "df2[\"fans_level\"] = df2[\"fans\"].apply(map_fans_level)"
   ]
  },
  {
   "cell_type": "markdown",
   "metadata": {},
   "source": [
    "#### Pipeline"
   ]
  },
  {
   "cell_type": "markdown",
   "metadata": {},
   "source": [
    "- BinaryFlagAggregateTransformer"
   ]
  },
  {
   "cell_type": "code",
   "execution_count": 39,
   "metadata": {},
   "outputs": [],
   "source": [
    "class BinaryFlagAggregateTransformer(BaseEstimator, TransformerMixin):\n",
    "    def __init__(self, columns):\n",
    "        self.columns = columns\n",
    "\n",
    "    def fit(self, X, y=None):\n",
    "        return self\n",
    "\n",
    "    def transform(self, X):\n",
    "        X = X.copy()\n",
    "        for col in self.columns:\n",
    "            X[f\"is_{col}\"] = (X[col] > 0).astype(bool)\n",
    "        return X"
   ]
  },
  {
   "cell_type": "markdown",
   "metadata": {},
   "source": [
    "- QCutLevelAggregateTransformer"
   ]
  },
  {
   "cell_type": "code",
   "execution_count": 40,
   "metadata": {},
   "outputs": [],
   "source": [
    "class QCutLevelAggregateTransformer(BaseEstimator, TransformerMixin):\n",
    "    def __init__(self, columns, labels=[0, 1, 2, 3]):\n",
    "        self.columns = columns\n",
    "        self.labels = labels\n",
    "\n",
    "    def fit(self, X, y=None):\n",
    "        return self\n",
    "\n",
    "    def transform(self, X):\n",
    "        X = X.copy()\n",
    "        for col in self.columns:\n",
    "            X[f\"{col}_level\"] = pd.qcut(\n",
    "                X[col], q=4, labels=self.labels, duplicates=\"drop\"\n",
    "            ).astype(\"int32\")\n",
    "        return X"
   ]
  },
  {
   "cell_type": "markdown",
   "metadata": {},
   "source": [
    "- FansLevelAggregateTransformer"
   ]
  },
  {
   "cell_type": "code",
   "execution_count": 41,
   "metadata": {},
   "outputs": [],
   "source": [
    "class FansLevelAggregateTransformer(BaseEstimator, TransformerMixin):\n",
    "    def fit(self, X, y=None):\n",
    "        self.p90 = X[\"fans\"][X[\"fans\"] > 0].quantile(0.90)\n",
    "        return self\n",
    "\n",
    "    def transform(self, X):\n",
    "        X = X.copy()\n",
    "\n",
    "        def map_fans_level(x):\n",
    "            if x == 0:\n",
    "                return 0\n",
    "            elif x <= self.p90:\n",
    "                return 1\n",
    "            else:\n",
    "                return 2\n",
    "\n",
    "        X[\"fans_level\"] = X[\"fans\"].apply(map_fans_level).astype(\"int32\")\n",
    "        return X"
   ]
  },
  {
   "cell_type": "markdown",
   "metadata": {},
   "source": [
    "- Pipeline"
   ]
  },
  {
   "cell_type": "code",
   "execution_count": 42,
   "metadata": {},
   "outputs": [],
   "source": [
    "numerical_aggregate_pipe = Pipeline(\n",
    "    steps=[\n",
    "        (\n",
    "            \"binary_flags_agg\",\n",
    "            BinaryFlagAggregateTransformer(columns=[\"useful\", \"funny\", \"cool\"]),\n",
    "        ),\n",
    "        (\n",
    "            \"qcut_levels_agg\",\n",
    "            QCutLevelAggregateTransformer(\n",
    "                columns=[\"review_count\", \"useful_user\", \"funny_user\", \"cool_user\"]\n",
    "            ),\n",
    "        ),\n",
    "        (\"fans_level_agg\", FansLevelAggregateTransformer()),\n",
    "    ]\n",
    ")"
   ]
  },
  {
   "cell_type": "markdown",
   "metadata": {},
   "source": [
    "### String Variables"
   ]
  },
  {
   "cell_type": "code",
   "execution_count": null,
   "metadata": {},
   "outputs": [],
   "source": []
  },
  {
   "cell_type": "markdown",
   "metadata": {},
   "source": [
    "### Data Variables"
   ]
  },
  {
   "cell_type": "code",
   "execution_count": null,
   "metadata": {},
   "outputs": [],
   "source": []
  },
  {
   "cell_type": "code",
   "execution_count": null,
   "metadata": {},
   "outputs": [],
   "source": []
  },
  {
   "cell_type": "markdown",
   "metadata": {},
   "source": [
    "### Aggregate Pipeline"
   ]
  },
  {
   "cell_type": "code",
   "execution_count": 43,
   "metadata": {},
   "outputs": [],
   "source": [
    "aggregate_preprocessor = ColumnTransformer(\n",
    "    transformers=[\n",
    "        (\"cat_agg\", categorical_aggregate_pipe, [\"elite\", \"city\", \"state\"]),\n",
    "        (\n",
    "            \"num_agg\",\n",
    "            numerical_aggregate_pipe,\n",
    "            [\n",
    "                \"useful\",\n",
    "                \"funny\",\n",
    "                \"cool\",\n",
    "                \"review_count\",\n",
    "                \"useful_user\",\n",
    "                \"funny_user\",\n",
    "                \"cool_user\",\n",
    "                \"fans\",\n",
    "            ],\n",
    "        ),\n",
    "    ]\n",
    ")"
   ]
  },
  {
   "cell_type": "code",
   "execution_count": null,
   "metadata": {},
   "outputs": [],
   "source": []
  },
  {
   "cell_type": "markdown",
   "metadata": {},
   "source": [
    "## Compress"
   ]
  },
  {
   "cell_type": "code",
   "execution_count": 44,
   "metadata": {},
   "outputs": [],
   "source": [
    "# df2 = df_drop_duplicates.drop(columns=[\"review_id\"])"
   ]
  },
  {
   "cell_type": "code",
   "execution_count": null,
   "metadata": {},
   "outputs": [],
   "source": []
  },
  {
   "cell_type": "markdown",
   "metadata": {},
   "source": [
    "## Model-Independent Transformation"
   ]
  },
  {
   "cell_type": "code",
   "execution_count": null,
   "metadata": {},
   "outputs": [],
   "source": []
  }
 ],
 "metadata": {
  "colab": {
   "provenance": []
  },
  "kernelspec": {
   "display_name": "Python 3.11 (ml-message-classifier)",
   "language": "python",
   "name": "ml-message-classifier"
  },
  "language_info": {
   "codemirror_mode": {
    "name": "ipython",
    "version": 3
   },
   "file_extension": ".py",
   "mimetype": "text/x-python",
   "name": "python",
   "nbconvert_exporter": "python",
   "pygments_lexer": "ipython3",
   "version": "3.11.12"
  }
 },
 "nbformat": 4,
 "nbformat_minor": 4
}
