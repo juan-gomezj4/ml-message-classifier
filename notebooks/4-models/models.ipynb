{
 "cells": [
  {
   "cell_type": "markdown",
   "metadata": {
    "id": "EJO4nq-rjOVi"
   },
   "source": [
    "## Title\n",
    "Models\n",
    "\n",
    "### By:\n",
    "Juan Gómez\n",
    "\n",
    "### Date:\n",
    "2024-05-18\n",
    "\n",
    "### Description:\n",
    "\n",
    "Train and evaluate text classification models using preprocessed features. Includes data split, cross-validation, performance metrics, learning curves, scalability plots, and feature importance analysis. Final section builds the MDT and training prediction pipeline."
   ]
  },
  {
   "cell_type": "markdown",
   "metadata": {
    "id": "YUF5E1QMjOVk",
    "pycharm": {
     "name": "#%% md\n"
    }
   },
   "source": [
    "## Import  libraries"
   ]
  },
  {
   "cell_type": "code",
   "execution_count": 1,
   "metadata": {
    "collapsed": false,
    "id": "M2QetAMAjOVk",
    "jupyter": {
     "outputs_hidden": false
    },
    "pycharm": {
     "name": "#%%\n"
    },
    "scrolled": true
   },
   "outputs": [],
   "source": [
    "import json\n",
    "\n",
    "import pandas as pd\n",
    "from feature_engine.selection import (\n",
    "    DropConstantFeatures,\n",
    "    DropCorrelatedFeatures,\n",
    "    SelectBySingleFeaturePerformance,\n",
    ")\n",
    "\n",
    "# import numpy as np\n",
    "from loguru import logger\n",
    "from sklearn.base import BaseEstimator, TransformerMixin\n",
    "\n",
    "# from sklearn.compose import ColumnTransformer\n",
    "from sklearn.ensemble import RandomForestClassifier\n",
    "from sklearn.feature_selection import SequentialFeatureSelector\n",
    "from sklearn.linear_model import RidgeClassifier\n",
    "\n",
    "# from sklearn.metrics import classification_report\n",
    "# from sklearn.model_selection import train_test_split\n",
    "from sklearn.pipeline import Pipeline\n",
    "from sklearn.preprocessing import MinMaxScaler\n",
    "from xgboost import XGBClassifier"
   ]
  },
  {
   "cell_type": "markdown",
   "metadata": {
    "id": "7U_3Omo9jOVk",
    "pycharm": {
     "name": "#%% md\n"
    }
   },
   "source": [
    "## Load data"
   ]
  },
  {
   "cell_type": "code",
   "execution_count": 2,
   "metadata": {
    "id": "LxgbCbmwjOVl"
   },
   "outputs": [],
   "source": [
    "from pathlib import Path\n",
    "\n",
    "pd.set_option(\"display.max_columns\", None)\n",
    "\n",
    "BASE_DIR = Path.cwd().resolve().parents[1]"
   ]
  },
  {
   "cell_type": "code",
   "execution_count": 3,
   "metadata": {
    "collapsed": false,
    "id": "1uqUhdiAjOVl",
    "jupyter": {
     "outputs_hidden": false
    },
    "pycharm": {
     "name": "#%%\n"
    }
   },
   "outputs": [],
   "source": [
    "df = pd.read_parquet(BASE_DIR / \"data/04_feature/review_user_business_mit.parquet\")"
   ]
  },
  {
   "cell_type": "code",
   "execution_count": 4,
   "metadata": {
    "colab": {
     "base_uri": "https://localhost:8080/",
     "height": 608
    },
    "id": "wB6XLEUAmgxy",
    "outputId": "6e4ba660-f5be-4098-d616-bcaaba52a5e4"
   },
   "outputs": [
    {
     "data": {
      "text/html": [
       "<div>\n",
       "<style scoped>\n",
       "    .dataframe tbody tr th:only-of-type {\n",
       "        vertical-align: middle;\n",
       "    }\n",
       "\n",
       "    .dataframe tbody tr th {\n",
       "        vertical-align: top;\n",
       "    }\n",
       "\n",
       "    .dataframe thead th {\n",
       "        text-align: right;\n",
       "    }\n",
       "</style>\n",
       "<table border=\"1\" class=\"dataframe\">\n",
       "  <thead>\n",
       "    <tr style=\"text-align: right;\">\n",
       "      <th></th>\n",
       "      <th>stars</th>\n",
       "      <th>useful</th>\n",
       "      <th>funny</th>\n",
       "      <th>cool</th>\n",
       "      <th>review_count</th>\n",
       "      <th>stars_business</th>\n",
       "      <th>review_count_business</th>\n",
       "      <th>is_open</th>\n",
       "      <th>elite_count</th>\n",
       "      <th>city_freq</th>\n",
       "      <th>state_freq</th>\n",
       "      <th>is_useful</th>\n",
       "      <th>is_funny</th>\n",
       "      <th>is_cool</th>\n",
       "      <th>review_count_level</th>\n",
       "      <th>useful_user_level</th>\n",
       "      <th>funny_user_level</th>\n",
       "      <th>cool_user_level</th>\n",
       "      <th>fans_level</th>\n",
       "      <th>text_length</th>\n",
       "      <th>word_count</th>\n",
       "      <th>has_exclamation</th>\n",
       "      <th>main_category_group</th>\n",
       "      <th>category_count</th>\n",
       "      <th>review_year</th>\n",
       "      <th>review_month</th>\n",
       "      <th>review_dayofweek</th>\n",
       "      <th>is_weekend</th>\n",
       "      <th>review_quarter</th>\n",
       "      <th>text_length_avg_by_main_category_group</th>\n",
       "      <th>text_length_std_by_main_category_group</th>\n",
       "      <th>text_length_relative_to_avg</th>\n",
       "      <th>embedding_0</th>\n",
       "      <th>embedding_1</th>\n",
       "      <th>embedding_2</th>\n",
       "      <th>embedding_3</th>\n",
       "      <th>embedding_4</th>\n",
       "      <th>embedding_5</th>\n",
       "      <th>embedding_6</th>\n",
       "      <th>embedding_7</th>\n",
       "      <th>embedding_8</th>\n",
       "      <th>embedding_9</th>\n",
       "      <th>embedding_10</th>\n",
       "      <th>embedding_11</th>\n",
       "      <th>embedding_12</th>\n",
       "      <th>embedding_13</th>\n",
       "      <th>embedding_14</th>\n",
       "      <th>embedding_15</th>\n",
       "      <th>embedding_16</th>\n",
       "      <th>embedding_17</th>\n",
       "      <th>embedding_18</th>\n",
       "      <th>embedding_19</th>\n",
       "      <th>embedding_20</th>\n",
       "      <th>embedding_21</th>\n",
       "      <th>embedding_22</th>\n",
       "      <th>embedding_23</th>\n",
       "      <th>embedding_24</th>\n",
       "      <th>embedding_25</th>\n",
       "      <th>embedding_26</th>\n",
       "      <th>embedding_27</th>\n",
       "      <th>embedding_28</th>\n",
       "      <th>embedding_29</th>\n",
       "      <th>embedding_30</th>\n",
       "      <th>embedding_31</th>\n",
       "      <th>embedding_32</th>\n",
       "      <th>embedding_33</th>\n",
       "      <th>embedding_34</th>\n",
       "      <th>embedding_35</th>\n",
       "      <th>embedding_36</th>\n",
       "      <th>embedding_37</th>\n",
       "      <th>embedding_38</th>\n",
       "      <th>embedding_39</th>\n",
       "      <th>embedding_40</th>\n",
       "      <th>embedding_41</th>\n",
       "      <th>embedding_42</th>\n",
       "      <th>embedding_43</th>\n",
       "      <th>embedding_44</th>\n",
       "      <th>embedding_45</th>\n",
       "      <th>embedding_46</th>\n",
       "      <th>embedding_47</th>\n",
       "      <th>embedding_48</th>\n",
       "      <th>embedding_49</th>\n",
       "    </tr>\n",
       "  </thead>\n",
       "  <tbody>\n",
       "    <tr>\n",
       "      <th>276879</th>\n",
       "      <td>4</td>\n",
       "      <td>3</td>\n",
       "      <td>0</td>\n",
       "      <td>2</td>\n",
       "      <td>138</td>\n",
       "      <td>4.5</td>\n",
       "      <td>876</td>\n",
       "      <td>True</td>\n",
       "      <td>1</td>\n",
       "      <td>0.045804</td>\n",
       "      <td>0.104635</td>\n",
       "      <td>True</td>\n",
       "      <td>False</td>\n",
       "      <td>True</td>\n",
       "      <td>2</td>\n",
       "      <td>2</td>\n",
       "      <td>2</td>\n",
       "      <td>2</td>\n",
       "      <td>1</td>\n",
       "      <td>1259</td>\n",
       "      <td>244</td>\n",
       "      <td>False</td>\n",
       "      <td>restaurant</td>\n",
       "      <td>8</td>\n",
       "      <td>2011</td>\n",
       "      <td>8</td>\n",
       "      <td>6</td>\n",
       "      <td>True</td>\n",
       "      <td>3</td>\n",
       "      <td>787.809448</td>\n",
       "      <td>648.105408</td>\n",
       "      <td>471.190552</td>\n",
       "      <td>-0.086642</td>\n",
       "      <td>0.548738</td>\n",
       "      <td>-0.447316</td>\n",
       "      <td>-0.362061</td>\n",
       "      <td>-0.246907</td>\n",
       "      <td>-0.265511</td>\n",
       "      <td>0.251696</td>\n",
       "      <td>-0.286597</td>\n",
       "      <td>0.258653</td>\n",
       "      <td>-0.179034</td>\n",
       "      <td>-0.409119</td>\n",
       "      <td>-0.004234</td>\n",
       "      <td>0.083558</td>\n",
       "      <td>0.155845</td>\n",
       "      <td>0.312849</td>\n",
       "      <td>-0.035509</td>\n",
       "      <td>-1.055963</td>\n",
       "      <td>0.021025</td>\n",
       "      <td>-0.114997</td>\n",
       "      <td>-0.084123</td>\n",
       "      <td>-0.302519</td>\n",
       "      <td>-0.866283</td>\n",
       "      <td>0.088682</td>\n",
       "      <td>0.061511</td>\n",
       "      <td>0.036408</td>\n",
       "      <td>0.175465</td>\n",
       "      <td>-0.197008</td>\n",
       "      <td>-1.163870</td>\n",
       "      <td>-0.132697</td>\n",
       "      <td>-0.076242</td>\n",
       "      <td>-0.226712</td>\n",
       "      <td>-0.524034</td>\n",
       "      <td>0.067326</td>\n",
       "      <td>-0.140946</td>\n",
       "      <td>0.036013</td>\n",
       "      <td>-0.096838</td>\n",
       "      <td>0.060031</td>\n",
       "      <td>-0.073701</td>\n",
       "      <td>0.587753</td>\n",
       "      <td>-0.333731</td>\n",
       "      <td>0.134010</td>\n",
       "      <td>-0.669846</td>\n",
       "      <td>0.102267</td>\n",
       "      <td>-0.513776</td>\n",
       "      <td>0.857993</td>\n",
       "      <td>0.217370</td>\n",
       "      <td>0.237328</td>\n",
       "      <td>-0.034687</td>\n",
       "      <td>-0.319350</td>\n",
       "      <td>-0.077261</td>\n",
       "    </tr>\n",
       "    <tr>\n",
       "      <th>726737</th>\n",
       "      <td>4</td>\n",
       "      <td>1</td>\n",
       "      <td>0</td>\n",
       "      <td>0</td>\n",
       "      <td>9</td>\n",
       "      <td>4.0</td>\n",
       "      <td>38</td>\n",
       "      <td>False</td>\n",
       "      <td>1</td>\n",
       "      <td>0.090823</td>\n",
       "      <td>0.108327</td>\n",
       "      <td>True</td>\n",
       "      <td>False</td>\n",
       "      <td>False</td>\n",
       "      <td>0</td>\n",
       "      <td>0</td>\n",
       "      <td>1</td>\n",
       "      <td>1</td>\n",
       "      <td>1</td>\n",
       "      <td>440</td>\n",
       "      <td>84</td>\n",
       "      <td>False</td>\n",
       "      <td>other</td>\n",
       "      <td>6</td>\n",
       "      <td>2014</td>\n",
       "      <td>2</td>\n",
       "      <td>0</td>\n",
       "      <td>False</td>\n",
       "      <td>1</td>\n",
       "      <td>792.076538</td>\n",
       "      <td>669.525146</td>\n",
       "      <td>-352.076508</td>\n",
       "      <td>0.112549</td>\n",
       "      <td>-0.325783</td>\n",
       "      <td>0.265731</td>\n",
       "      <td>-0.138733</td>\n",
       "      <td>-0.529961</td>\n",
       "      <td>0.123427</td>\n",
       "      <td>0.188849</td>\n",
       "      <td>-0.129084</td>\n",
       "      <td>0.295666</td>\n",
       "      <td>-0.239363</td>\n",
       "      <td>-0.115312</td>\n",
       "      <td>0.111959</td>\n",
       "      <td>-0.261391</td>\n",
       "      <td>0.123911</td>\n",
       "      <td>0.313873</td>\n",
       "      <td>0.019381</td>\n",
       "      <td>-0.628802</td>\n",
       "      <td>-0.208430</td>\n",
       "      <td>0.015667</td>\n",
       "      <td>-0.260520</td>\n",
       "      <td>0.317312</td>\n",
       "      <td>-0.321672</td>\n",
       "      <td>-0.402087</td>\n",
       "      <td>-0.145037</td>\n",
       "      <td>-0.306901</td>\n",
       "      <td>0.076614</td>\n",
       "      <td>0.379208</td>\n",
       "      <td>0.059067</td>\n",
       "      <td>-0.042827</td>\n",
       "      <td>-0.604800</td>\n",
       "      <td>0.055504</td>\n",
       "      <td>-0.107125</td>\n",
       "      <td>0.353556</td>\n",
       "      <td>0.264010</td>\n",
       "      <td>0.417613</td>\n",
       "      <td>0.031565</td>\n",
       "      <td>0.350237</td>\n",
       "      <td>-0.317440</td>\n",
       "      <td>-0.007403</td>\n",
       "      <td>-0.056709</td>\n",
       "      <td>-0.141627</td>\n",
       "      <td>-0.286754</td>\n",
       "      <td>0.246001</td>\n",
       "      <td>-0.911082</td>\n",
       "      <td>-0.005330</td>\n",
       "      <td>-0.020096</td>\n",
       "      <td>0.053616</td>\n",
       "      <td>0.424937</td>\n",
       "      <td>-0.233200</td>\n",
       "      <td>-0.214634</td>\n",
       "    </tr>\n",
       "    <tr>\n",
       "      <th>102375</th>\n",
       "      <td>5</td>\n",
       "      <td>3</td>\n",
       "      <td>2</td>\n",
       "      <td>2</td>\n",
       "      <td>225</td>\n",
       "      <td>2.5</td>\n",
       "      <td>53</td>\n",
       "      <td>False</td>\n",
       "      <td>1</td>\n",
       "      <td>0.001716</td>\n",
       "      <td>0.303103</td>\n",
       "      <td>True</td>\n",
       "      <td>True</td>\n",
       "      <td>True</td>\n",
       "      <td>2</td>\n",
       "      <td>2</td>\n",
       "      <td>3</td>\n",
       "      <td>2</td>\n",
       "      <td>1</td>\n",
       "      <td>1016</td>\n",
       "      <td>183</td>\n",
       "      <td>True</td>\n",
       "      <td>restaurant</td>\n",
       "      <td>2</td>\n",
       "      <td>2010</td>\n",
       "      <td>1</td>\n",
       "      <td>0</td>\n",
       "      <td>False</td>\n",
       "      <td>1</td>\n",
       "      <td>787.809448</td>\n",
       "      <td>648.105408</td>\n",
       "      <td>228.190552</td>\n",
       "      <td>-0.197426</td>\n",
       "      <td>-0.007818</td>\n",
       "      <td>-0.080071</td>\n",
       "      <td>-0.212557</td>\n",
       "      <td>-0.345214</td>\n",
       "      <td>0.502109</td>\n",
       "      <td>0.512161</td>\n",
       "      <td>-0.150226</td>\n",
       "      <td>0.216049</td>\n",
       "      <td>-0.250523</td>\n",
       "      <td>-0.316351</td>\n",
       "      <td>0.064580</td>\n",
       "      <td>-0.071787</td>\n",
       "      <td>-0.154347</td>\n",
       "      <td>0.143049</td>\n",
       "      <td>0.030816</td>\n",
       "      <td>-0.439127</td>\n",
       "      <td>0.135091</td>\n",
       "      <td>0.306084</td>\n",
       "      <td>-0.545142</td>\n",
       "      <td>-0.199356</td>\n",
       "      <td>-0.583161</td>\n",
       "      <td>0.008489</td>\n",
       "      <td>-0.505401</td>\n",
       "      <td>0.433076</td>\n",
       "      <td>0.513912</td>\n",
       "      <td>0.639562</td>\n",
       "      <td>-0.200954</td>\n",
       "      <td>-0.360455</td>\n",
       "      <td>-0.326429</td>\n",
       "      <td>-0.624068</td>\n",
       "      <td>-0.175758</td>\n",
       "      <td>0.121777</td>\n",
       "      <td>-0.192222</td>\n",
       "      <td>0.000527</td>\n",
       "      <td>-0.411243</td>\n",
       "      <td>-0.078579</td>\n",
       "      <td>-0.262587</td>\n",
       "      <td>-0.144075</td>\n",
       "      <td>0.044677</td>\n",
       "      <td>0.199080</td>\n",
       "      <td>-0.099583</td>\n",
       "      <td>0.077884</td>\n",
       "      <td>-0.676069</td>\n",
       "      <td>-0.049472</td>\n",
       "      <td>-0.266725</td>\n",
       "      <td>0.132758</td>\n",
       "      <td>-0.269728</td>\n",
       "      <td>-0.219697</td>\n",
       "      <td>-0.267889</td>\n",
       "    </tr>\n",
       "    <tr>\n",
       "      <th>204415</th>\n",
       "      <td>4</td>\n",
       "      <td>1</td>\n",
       "      <td>3</td>\n",
       "      <td>1</td>\n",
       "      <td>12</td>\n",
       "      <td>3.0</td>\n",
       "      <td>31</td>\n",
       "      <td>True</td>\n",
       "      <td>1</td>\n",
       "      <td>0.006053</td>\n",
       "      <td>0.071378</td>\n",
       "      <td>True</td>\n",
       "      <td>True</td>\n",
       "      <td>True</td>\n",
       "      <td>0</td>\n",
       "      <td>1</td>\n",
       "      <td>2</td>\n",
       "      <td>1</td>\n",
       "      <td>1</td>\n",
       "      <td>1336</td>\n",
       "      <td>252</td>\n",
       "      <td>True</td>\n",
       "      <td>health</td>\n",
       "      <td>2</td>\n",
       "      <td>2011</td>\n",
       "      <td>2</td>\n",
       "      <td>4</td>\n",
       "      <td>False</td>\n",
       "      <td>1</td>\n",
       "      <td>816.443298</td>\n",
       "      <td>678.687256</td>\n",
       "      <td>519.556702</td>\n",
       "      <td>0.036013</td>\n",
       "      <td>0.496528</td>\n",
       "      <td>0.357140</td>\n",
       "      <td>-0.461720</td>\n",
       "      <td>-0.250481</td>\n",
       "      <td>0.075125</td>\n",
       "      <td>0.032469</td>\n",
       "      <td>0.384977</td>\n",
       "      <td>-0.022764</td>\n",
       "      <td>-0.248265</td>\n",
       "      <td>-0.025806</td>\n",
       "      <td>0.298655</td>\n",
       "      <td>0.155594</td>\n",
       "      <td>0.111343</td>\n",
       "      <td>-0.315583</td>\n",
       "      <td>-0.469604</td>\n",
       "      <td>-0.532354</td>\n",
       "      <td>0.128115</td>\n",
       "      <td>0.212272</td>\n",
       "      <td>-0.161470</td>\n",
       "      <td>-0.155819</td>\n",
       "      <td>-0.365325</td>\n",
       "      <td>-0.064302</td>\n",
       "      <td>0.294486</td>\n",
       "      <td>0.291706</td>\n",
       "      <td>0.272639</td>\n",
       "      <td>0.377103</td>\n",
       "      <td>0.089165</td>\n",
       "      <td>-0.137275</td>\n",
       "      <td>0.162457</td>\n",
       "      <td>-0.151432</td>\n",
       "      <td>-0.227157</td>\n",
       "      <td>0.158896</td>\n",
       "      <td>0.189598</td>\n",
       "      <td>0.757050</td>\n",
       "      <td>0.155915</td>\n",
       "      <td>0.811598</td>\n",
       "      <td>-0.029050</td>\n",
       "      <td>-0.013852</td>\n",
       "      <td>0.010679</td>\n",
       "      <td>0.312779</td>\n",
       "      <td>-0.229327</td>\n",
       "      <td>0.121547</td>\n",
       "      <td>-0.349078</td>\n",
       "      <td>0.531073</td>\n",
       "      <td>0.063483</td>\n",
       "      <td>-0.073898</td>\n",
       "      <td>-0.522627</td>\n",
       "      <td>-0.064847</td>\n",
       "      <td>-0.145941</td>\n",
       "    </tr>\n",
       "    <tr>\n",
       "      <th>279413</th>\n",
       "      <td>5</td>\n",
       "      <td>3</td>\n",
       "      <td>2</td>\n",
       "      <td>2</td>\n",
       "      <td>785</td>\n",
       "      <td>4.5</td>\n",
       "      <td>276</td>\n",
       "      <td>True</td>\n",
       "      <td>11</td>\n",
       "      <td>0.007711</td>\n",
       "      <td>0.053146</td>\n",
       "      <td>True</td>\n",
       "      <td>True</td>\n",
       "      <td>True</td>\n",
       "      <td>3</td>\n",
       "      <td>3</td>\n",
       "      <td>3</td>\n",
       "      <td>3</td>\n",
       "      <td>1</td>\n",
       "      <td>1789</td>\n",
       "      <td>327</td>\n",
       "      <td>True</td>\n",
       "      <td>other</td>\n",
       "      <td>3</td>\n",
       "      <td>2011</td>\n",
       "      <td>9</td>\n",
       "      <td>6</td>\n",
       "      <td>True</td>\n",
       "      <td>3</td>\n",
       "      <td>792.076538</td>\n",
       "      <td>669.525146</td>\n",
       "      <td>996.923462</td>\n",
       "      <td>-0.285691</td>\n",
       "      <td>0.029335</td>\n",
       "      <td>0.049437</td>\n",
       "      <td>-0.473171</td>\n",
       "      <td>-0.599820</td>\n",
       "      <td>0.139298</td>\n",
       "      <td>0.148277</td>\n",
       "      <td>0.038193</td>\n",
       "      <td>0.213690</td>\n",
       "      <td>-0.105916</td>\n",
       "      <td>-0.127871</td>\n",
       "      <td>0.109200</td>\n",
       "      <td>0.289235</td>\n",
       "      <td>0.157022</td>\n",
       "      <td>-0.169181</td>\n",
       "      <td>-0.371647</td>\n",
       "      <td>-0.778507</td>\n",
       "      <td>-0.193937</td>\n",
       "      <td>-0.109892</td>\n",
       "      <td>-0.488717</td>\n",
       "      <td>0.246053</td>\n",
       "      <td>0.047680</td>\n",
       "      <td>-0.373245</td>\n",
       "      <td>-0.782864</td>\n",
       "      <td>-0.209304</td>\n",
       "      <td>0.252734</td>\n",
       "      <td>0.776606</td>\n",
       "      <td>0.023087</td>\n",
       "      <td>-0.397724</td>\n",
       "      <td>-0.478292</td>\n",
       "      <td>-0.173921</td>\n",
       "      <td>-0.034099</td>\n",
       "      <td>0.944239</td>\n",
       "      <td>-0.087435</td>\n",
       "      <td>0.646218</td>\n",
       "      <td>-0.406410</td>\n",
       "      <td>0.251695</td>\n",
       "      <td>-0.087043</td>\n",
       "      <td>0.026902</td>\n",
       "      <td>-0.264051</td>\n",
       "      <td>0.464460</td>\n",
       "      <td>-0.213909</td>\n",
       "      <td>-0.026781</td>\n",
       "      <td>-0.119888</td>\n",
       "      <td>0.499420</td>\n",
       "      <td>-0.058216</td>\n",
       "      <td>0.388586</td>\n",
       "      <td>0.043326</td>\n",
       "      <td>0.080166</td>\n",
       "      <td>0.017668</td>\n",
       "    </tr>\n",
       "  </tbody>\n",
       "</table>\n",
       "</div>"
      ],
      "text/plain": [
       "        stars  useful  funny  cool  review_count  stars_business  \\\n",
       "276879      4       3      0     2           138             4.5   \n",
       "726737      4       1      0     0             9             4.0   \n",
       "102375      5       3      2     2           225             2.5   \n",
       "204415      4       1      3     1            12             3.0   \n",
       "279413      5       3      2     2           785             4.5   \n",
       "\n",
       "        review_count_business  is_open  elite_count  city_freq  state_freq  \\\n",
       "276879                    876     True            1   0.045804    0.104635   \n",
       "726737                     38    False            1   0.090823    0.108327   \n",
       "102375                     53    False            1   0.001716    0.303103   \n",
       "204415                     31     True            1   0.006053    0.071378   \n",
       "279413                    276     True           11   0.007711    0.053146   \n",
       "\n",
       "        is_useful  is_funny  is_cool  review_count_level  useful_user_level  \\\n",
       "276879       True     False     True                   2                  2   \n",
       "726737       True     False    False                   0                  0   \n",
       "102375       True      True     True                   2                  2   \n",
       "204415       True      True     True                   0                  1   \n",
       "279413       True      True     True                   3                  3   \n",
       "\n",
       "        funny_user_level  cool_user_level  fans_level  text_length  \\\n",
       "276879                 2                2           1         1259   \n",
       "726737                 1                1           1          440   \n",
       "102375                 3                2           1         1016   \n",
       "204415                 2                1           1         1336   \n",
       "279413                 3                3           1         1789   \n",
       "\n",
       "        word_count  has_exclamation main_category_group  category_count  \\\n",
       "276879         244            False          restaurant               8   \n",
       "726737          84            False               other               6   \n",
       "102375         183             True          restaurant               2   \n",
       "204415         252             True              health               2   \n",
       "279413         327             True               other               3   \n",
       "\n",
       "        review_year  review_month  review_dayofweek  is_weekend  \\\n",
       "276879         2011             8                 6        True   \n",
       "726737         2014             2                 0       False   \n",
       "102375         2010             1                 0       False   \n",
       "204415         2011             2                 4       False   \n",
       "279413         2011             9                 6        True   \n",
       "\n",
       "        review_quarter  text_length_avg_by_main_category_group  \\\n",
       "276879               3                              787.809448   \n",
       "726737               1                              792.076538   \n",
       "102375               1                              787.809448   \n",
       "204415               1                              816.443298   \n",
       "279413               3                              792.076538   \n",
       "\n",
       "        text_length_std_by_main_category_group  text_length_relative_to_avg  \\\n",
       "276879                              648.105408                   471.190552   \n",
       "726737                              669.525146                  -352.076508   \n",
       "102375                              648.105408                   228.190552   \n",
       "204415                              678.687256                   519.556702   \n",
       "279413                              669.525146                   996.923462   \n",
       "\n",
       "        embedding_0  embedding_1  embedding_2  embedding_3  embedding_4  \\\n",
       "276879    -0.086642     0.548738    -0.447316    -0.362061    -0.246907   \n",
       "726737     0.112549    -0.325783     0.265731    -0.138733    -0.529961   \n",
       "102375    -0.197426    -0.007818    -0.080071    -0.212557    -0.345214   \n",
       "204415     0.036013     0.496528     0.357140    -0.461720    -0.250481   \n",
       "279413    -0.285691     0.029335     0.049437    -0.473171    -0.599820   \n",
       "\n",
       "        embedding_5  embedding_6  embedding_7  embedding_8  embedding_9  \\\n",
       "276879    -0.265511     0.251696    -0.286597     0.258653    -0.179034   \n",
       "726737     0.123427     0.188849    -0.129084     0.295666    -0.239363   \n",
       "102375     0.502109     0.512161    -0.150226     0.216049    -0.250523   \n",
       "204415     0.075125     0.032469     0.384977    -0.022764    -0.248265   \n",
       "279413     0.139298     0.148277     0.038193     0.213690    -0.105916   \n",
       "\n",
       "        embedding_10  embedding_11  embedding_12  embedding_13  embedding_14  \\\n",
       "276879     -0.409119     -0.004234      0.083558      0.155845      0.312849   \n",
       "726737     -0.115312      0.111959     -0.261391      0.123911      0.313873   \n",
       "102375     -0.316351      0.064580     -0.071787     -0.154347      0.143049   \n",
       "204415     -0.025806      0.298655      0.155594      0.111343     -0.315583   \n",
       "279413     -0.127871      0.109200      0.289235      0.157022     -0.169181   \n",
       "\n",
       "        embedding_15  embedding_16  embedding_17  embedding_18  embedding_19  \\\n",
       "276879     -0.035509     -1.055963      0.021025     -0.114997     -0.084123   \n",
       "726737      0.019381     -0.628802     -0.208430      0.015667     -0.260520   \n",
       "102375      0.030816     -0.439127      0.135091      0.306084     -0.545142   \n",
       "204415     -0.469604     -0.532354      0.128115      0.212272     -0.161470   \n",
       "279413     -0.371647     -0.778507     -0.193937     -0.109892     -0.488717   \n",
       "\n",
       "        embedding_20  embedding_21  embedding_22  embedding_23  embedding_24  \\\n",
       "276879     -0.302519     -0.866283      0.088682      0.061511      0.036408   \n",
       "726737      0.317312     -0.321672     -0.402087     -0.145037     -0.306901   \n",
       "102375     -0.199356     -0.583161      0.008489     -0.505401      0.433076   \n",
       "204415     -0.155819     -0.365325     -0.064302      0.294486      0.291706   \n",
       "279413      0.246053      0.047680     -0.373245     -0.782864     -0.209304   \n",
       "\n",
       "        embedding_25  embedding_26  embedding_27  embedding_28  embedding_29  \\\n",
       "276879      0.175465     -0.197008     -1.163870     -0.132697     -0.076242   \n",
       "726737      0.076614      0.379208      0.059067     -0.042827     -0.604800   \n",
       "102375      0.513912      0.639562     -0.200954     -0.360455     -0.326429   \n",
       "204415      0.272639      0.377103      0.089165     -0.137275      0.162457   \n",
       "279413      0.252734      0.776606      0.023087     -0.397724     -0.478292   \n",
       "\n",
       "        embedding_30  embedding_31  embedding_32  embedding_33  embedding_34  \\\n",
       "276879     -0.226712     -0.524034      0.067326     -0.140946      0.036013   \n",
       "726737      0.055504     -0.107125      0.353556      0.264010      0.417613   \n",
       "102375     -0.624068     -0.175758      0.121777     -0.192222      0.000527   \n",
       "204415     -0.151432     -0.227157      0.158896      0.189598      0.757050   \n",
       "279413     -0.173921     -0.034099      0.944239     -0.087435      0.646218   \n",
       "\n",
       "        embedding_35  embedding_36  embedding_37  embedding_38  embedding_39  \\\n",
       "276879     -0.096838      0.060031     -0.073701      0.587753     -0.333731   \n",
       "726737      0.031565      0.350237     -0.317440     -0.007403     -0.056709   \n",
       "102375     -0.411243     -0.078579     -0.262587     -0.144075      0.044677   \n",
       "204415      0.155915      0.811598     -0.029050     -0.013852      0.010679   \n",
       "279413     -0.406410      0.251695     -0.087043      0.026902     -0.264051   \n",
       "\n",
       "        embedding_40  embedding_41  embedding_42  embedding_43  embedding_44  \\\n",
       "276879      0.134010     -0.669846      0.102267     -0.513776      0.857993   \n",
       "726737     -0.141627     -0.286754      0.246001     -0.911082     -0.005330   \n",
       "102375      0.199080     -0.099583      0.077884     -0.676069     -0.049472   \n",
       "204415      0.312779     -0.229327      0.121547     -0.349078      0.531073   \n",
       "279413      0.464460     -0.213909     -0.026781     -0.119888      0.499420   \n",
       "\n",
       "        embedding_45  embedding_46  embedding_47  embedding_48  embedding_49  \n",
       "276879      0.217370      0.237328     -0.034687     -0.319350     -0.077261  \n",
       "726737     -0.020096      0.053616      0.424937     -0.233200     -0.214634  \n",
       "102375     -0.266725      0.132758     -0.269728     -0.219697     -0.267889  \n",
       "204415      0.063483     -0.073898     -0.522627     -0.064847     -0.145941  \n",
       "279413     -0.058216      0.388586      0.043326      0.080166      0.017668  "
      ]
     },
     "execution_count": 4,
     "metadata": {},
     "output_type": "execute_result"
    }
   ],
   "source": [
    "df.sample(5)"
   ]
  },
  {
   "cell_type": "code",
   "execution_count": 5,
   "metadata": {},
   "outputs": [
    {
     "data": {
      "text/plain": [
       "float32     53\n",
       "int32       16\n",
       "bool         6\n",
       "int64        3\n",
       "float64      3\n",
       "category     1\n",
       "Name: count, dtype: int64"
      ]
     },
     "execution_count": 5,
     "metadata": {},
     "output_type": "execute_result"
    }
   ],
   "source": [
    "df.dtypes.value_counts()"
   ]
  },
  {
   "cell_type": "markdown",
   "metadata": {
    "id": "Yot8MOibnA6N"
   },
   "source": [
    "# Models"
   ]
  },
  {
   "cell_type": "markdown",
   "metadata": {},
   "source": [
    "## Create target variable"
   ]
  },
  {
   "cell_type": "markdown",
   "metadata": {},
   "source": [
    "- DropColumnsTransformer"
   ]
  },
  {
   "cell_type": "code",
   "execution_count": 7,
   "metadata": {},
   "outputs": [],
   "source": [
    "class DropColumnsTransformer(BaseEstimator, TransformerMixin):\n",
    "    def __init__(self, columns):\n",
    "        self.columns = columns\n",
    "\n",
    "    def fit(self, X, y=None):\n",
    "        return self\n",
    "\n",
    "    def transform(self, X):\n",
    "        return X.drop(columns=self.columns, errors=\"ignore\")\n",
    "\n",
    "    def set_output(self, *, transform=None):\n",
    "        return self"
   ]
  },
  {
   "cell_type": "markdown",
   "metadata": {},
   "source": [
    "- TargetFromStarsTransformer"
   ]
  },
  {
   "cell_type": "code",
   "execution_count": null,
   "metadata": {},
   "outputs": [],
   "source": [
    "class TargetFromStarsTransformer(BaseEstimator, TransformerMixin):\n",
    "    def __init__(self, column=\"remainder__stars\"):\n",
    "        self.column = column\n",
    "\n",
    "    def fit(self, X, y=None):\n",
    "        return self\n",
    "\n",
    "    def transform(self, X):\n",
    "        X = X.copy()\n",
    "        NEGATIVE_THRESHOLD = 2\n",
    "        NEUTRAL_VALUE = 3\n",
    "\n",
    "        def classify(stars):\n",
    "            if stars <= NEGATIVE_THRESHOLD:\n",
    "                return 0  # negative\n",
    "            elif stars == NEUTRAL_VALUE:\n",
    "                return 1  # neutral\n",
    "            else:\n",
    "                return 2  # positive\n",
    "\n",
    "        X[\"target\"] = X[self.column].apply(classify)\n",
    "        X.drop(columns=[self.column], inplace=True)\n",
    "        return X\n",
    "\n",
    "    def set_output(self, *, transform=None):\n",
    "        return self"
   ]
  },
  {
   "cell_type": "code",
   "execution_count": 9,
   "metadata": {},
   "outputs": [],
   "source": [
    "create_target_pipe = Pipeline(\n",
    "    [\n",
    "        (\"create_target\", TargetFromStarsTransformer(column=\"remainder__stars\")),\n",
    "        (\"drop_stars\", DropColumnsTransformer(columns=[\"remainder__stars\"])),\n",
    "    ]\n",
    ")"
   ]
  },
  {
   "cell_type": "code",
   "execution_count": 10,
   "metadata": {},
   "outputs": [],
   "source": [
    "# df_target = create_target_pipe.fit_transform(df)"
   ]
  },
  {
   "cell_type": "markdown",
   "metadata": {},
   "source": [
    "## Data Split"
   ]
  },
  {
   "cell_type": "code",
   "execution_count": null,
   "metadata": {},
   "outputs": [],
   "source": [
    "# def split_data(df, target_column=\"target\", test_size=0.2, random_state=42):\n",
    "#     y = df[target_column]\n",
    "#     X = df.drop(columns=[target_column])\n",
    "\n",
    "#     X_train, X_test, y_train, y_test = train_test_split(\n",
    "#         X, y, test_size=test_size, stratify=y, random_state=random_state\n",
    "#     )\n",
    "\n",
    "#     return (\n",
    "#         X_train.reset_index(drop=True),\n",
    "#         X_test.reset_index(drop=True),\n",
    "#         y_train.reset_index(drop=True),\n",
    "#         y_test.reset_index(drop=True),\n",
    "#     )"
   ]
  },
  {
   "cell_type": "code",
   "execution_count": 12,
   "metadata": {},
   "outputs": [],
   "source": [
    "# X_train, X_test, y_train, y_test = split_data(df_target)"
   ]
  },
  {
   "cell_type": "markdown",
   "metadata": {},
   "source": [
    "## Model-Dependent Transformation"
   ]
  },
  {
   "cell_type": "markdown",
   "metadata": {},
   "source": [
    "### Encode categorical features"
   ]
  },
  {
   "cell_type": "code",
   "execution_count": 13,
   "metadata": {},
   "outputs": [],
   "source": [
    "# def transform_with_names(pipeline, X, encode_cols):\n",
    "#     X_enc = pipeline.transform(X)\n",
    "#     onehot_cols = pipeline.named_transformers_[\"onehot\"].get_feature_names_out(encode_cols)\n",
    "#     bool_cols = pipeline.transformers_[1][2]\n",
    "#     passthrough_cols = [col for col in X.columns if col not in encode_cols + bool_cols]\n",
    "\n",
    "#     all_columns = list(onehot_cols) + bool_cols + passthrough_cols\n",
    "#     return pd.DataFrame(X_enc, columns=all_columns, index=X.index)"
   ]
  },
  {
   "cell_type": "code",
   "execution_count": 14,
   "metadata": {},
   "outputs": [],
   "source": [
    "# categorical_str_object_cols = X_train.select_dtypes(\n",
    "#     include=[\"category\", \"string\", \"object\"]\n",
    "# ).columns.tolist()\n",
    "# boolean_cols = X_train.select_dtypes(include=[\"bool\"]).columns.tolist()"
   ]
  },
  {
   "cell_type": "code",
   "execution_count": 15,
   "metadata": {},
   "outputs": [],
   "source": [
    "# # 1. Step\n",
    "# bool_to_int_transformer = FunctionTransformer(lambda X: X.astype(np.int8), validate=False)\n",
    "\n",
    "# # 2. Step\n",
    "# encoding_mdt_pipe = ColumnTransformer(\n",
    "#     transformers=[\n",
    "#         (\n",
    "#             \"onehot\",\n",
    "#             OneHotEncoder(handle_unknown=\"ignore\", sparse_output=False, drop=\"first\"),\n",
    "#             categorical_str_object_cols,\n",
    "#         ),\n",
    "#         (\"bool_int\", bool_to_int_transformer, boolean_cols),\n",
    "#     ],\n",
    "#     remainder=\"passthrough\",\n",
    "#     force_int_remainder_cols=False,\n",
    "# )"
   ]
  },
  {
   "cell_type": "markdown",
   "metadata": {},
   "source": [
    "- Encoding Test"
   ]
  },
  {
   "cell_type": "code",
   "execution_count": 16,
   "metadata": {},
   "outputs": [],
   "source": [
    "# encoding_mdt_pipe.fit(X_train)\n",
    "# X_train_encoded = transform_with_names(\n",
    "#     encoding_mdt_pipe, X_train, categorical_str_object_cols\n",
    "# )"
   ]
  },
  {
   "cell_type": "markdown",
   "metadata": {},
   "source": [
    "### Impute missing values"
   ]
  },
  {
   "cell_type": "code",
   "execution_count": 17,
   "metadata": {},
   "outputs": [],
   "source": [
    "class GroupMeanImputer(BaseEstimator, TransformerMixin):\n",
    "    def __init__(self, columns):\n",
    "        self.columns = columns\n",
    "        self.group_means_ = {}\n",
    "        self.y_ = None\n",
    "\n",
    "    def fit(self, X, y):\n",
    "        X = pd.DataFrame(X).copy()\n",
    "        self.y_ = pd.Series(y).reset_index(drop=True)\n",
    "\n",
    "        self.group_means_ = {\n",
    "            col: X[col].groupby(self.y_).mean().to_dict() for col in self.columns\n",
    "        }\n",
    "        return self\n",
    "\n",
    "    def transform(self, X):\n",
    "        X = pd.DataFrame(X).copy().reset_index(drop=True)\n",
    "        y = self.y_\n",
    "\n",
    "        for col in self.columns:\n",
    "            means = self.group_means_[col]\n",
    "            X[col] = X[col].where(~X[col].isna(), y.map(means))\n",
    "        return X\n",
    "\n",
    "    def set_output(self, *, transform=None):\n",
    "        return self"
   ]
  },
  {
   "cell_type": "code",
   "execution_count": 18,
   "metadata": {},
   "outputs": [],
   "source": [
    "def get_columns_with_na(X):\n",
    "    return X.columns[X.isnull().any()].tolist()"
   ]
  },
  {
   "cell_type": "code",
   "execution_count": 19,
   "metadata": {},
   "outputs": [],
   "source": [
    "columns_with_na = get_columns_with_na(df)\n",
    "\n",
    "impute_missing_mdt_pipe = Pipeline(\n",
    "    [(\"imputation\", GroupMeanImputer(columns=columns_with_na))]\n",
    ")"
   ]
  },
  {
   "cell_type": "markdown",
   "metadata": {},
   "source": [
    "- Impute missing values Test"
   ]
  },
  {
   "cell_type": "code",
   "execution_count": 20,
   "metadata": {},
   "outputs": [],
   "source": [
    "# X_train_imputed = impute_missing_mdt_pipe.fit_transform(X_train_encoded, y_train)"
   ]
  },
  {
   "cell_type": "markdown",
   "metadata": {},
   "source": [
    "### Scale or normalize features"
   ]
  },
  {
   "cell_type": "code",
   "execution_count": 21,
   "metadata": {},
   "outputs": [],
   "source": [
    "scaling_mdt_pipe = Pipeline([(\"minmax_scaler\", MinMaxScaler())])"
   ]
  },
  {
   "cell_type": "markdown",
   "metadata": {},
   "source": [
    "- Scale or normalize features Test"
   ]
  },
  {
   "cell_type": "code",
   "execution_count": 22,
   "metadata": {},
   "outputs": [],
   "source": [
    "# X_train_scaled1 = scaling_mdt_pipe.fit_transform(X_train_imputed)\n",
    "# X_train_scaled = pd.DataFrame(\n",
    "#     X_train_scaled1, columns=X_train_imputed.columns, index=X_train_imputed.index\n",
    "# )"
   ]
  },
  {
   "cell_type": "markdown",
   "metadata": {},
   "source": [
    "### Dimensionality reduction"
   ]
  },
  {
   "cell_type": "code",
   "execution_count": 23,
   "metadata": {},
   "outputs": [],
   "source": [
    "dimensionality_reduction_mdt_pipe = Pipeline(\n",
    "    [\n",
    "        (\"drop_constant\", DropConstantFeatures()),\n",
    "        (\"drop_correlated\", DropCorrelatedFeatures(threshold=0.9)),\n",
    "        (\n",
    "            \"target_selector\",\n",
    "            SelectBySingleFeaturePerformance(\n",
    "                estimator=RandomForestClassifier(\n",
    "                    n_estimators=50, random_state=42, n_jobs=-1\n",
    "                ),\n",
    "                scoring=\"f1_weighted\",\n",
    "                cv=3,\n",
    "                threshold=0.01,\n",
    "            ),\n",
    "        ),\n",
    "        (\n",
    "            \"sequential_selector\",\n",
    "            SequentialFeatureSelector(\n",
    "                estimator=RidgeClassifier(),\n",
    "                n_features_to_select=50,\n",
    "                direction=\"forward\",\n",
    "                n_jobs=1,\n",
    "            ),\n",
    "        ),\n",
    "    ]\n",
    ")"
   ]
  },
  {
   "cell_type": "markdown",
   "metadata": {},
   "source": [
    "- Dimensionality reduction Test"
   ]
  },
  {
   "cell_type": "code",
   "execution_count": 24,
   "metadata": {
    "scrolled": true
   },
   "outputs": [],
   "source": [
    "# X_train_reduced = dimensionality_reduction_mdt_pipe.fit_transform(\n",
    "#     X_train_scaled, y_train\n",
    "# )"
   ]
  },
  {
   "cell_type": "code",
   "execution_count": 25,
   "metadata": {},
   "outputs": [],
   "source": [
    "# X_train_reduced_df = pd.DataFrame(\n",
    "#     X_train_reduced,\n",
    "#     columns=dimensionality_reduction_mdt_pipe.named_steps[\n",
    "#         \"sequential_selector\"\n",
    "#     ].get_feature_names_out(),\n",
    "#     index=X_train_scaled.index,\n",
    "# )"
   ]
  },
  {
   "cell_type": "markdown",
   "metadata": {},
   "source": [
    "### Pipeline"
   ]
  },
  {
   "cell_type": "code",
   "execution_count": 26,
   "metadata": {},
   "outputs": [],
   "source": [
    "# mdt_preprocessor = Pipeline(\n",
    "#     steps=[\n",
    "#         (\"encoding_mdt_pipe\", encoding_mdt_pipe),\n",
    "#         (\"impute_missing_mdt_pipe\", impute_missing_mdt_pipe),\n",
    "#         (\"scaling_mdt_pipe\", scaling_mdt_pipe),\n",
    "#         (\"dimensionality_reduction_mdt_pipe\", dimensionality_reduction_mdt_pipe),\n",
    "#     ]\n",
    "# )"
   ]
  },
  {
   "cell_type": "markdown",
   "metadata": {},
   "source": [
    "## Training"
   ]
  },
  {
   "cell_type": "code",
   "execution_count": 27,
   "metadata": {},
   "outputs": [],
   "source": [
    "X_train_reduced = pd.read_parquet(BASE_DIR / \"data/05_model_input/X_train.parquet\")"
   ]
  },
  {
   "cell_type": "markdown",
   "metadata": {},
   "source": [
    "### Base model + AutoML"
   ]
  },
  {
   "cell_type": "code",
   "execution_count": 28,
   "metadata": {},
   "outputs": [],
   "source": [
    "# def summarize_classification(y_true, y_pred, model_name):\n",
    "#     return {\n",
    "#         \"model\": model_name,\n",
    "#         \"accuracy\": accuracy_score(y_true, y_pred),\n",
    "#         \"precision_macro\": precision_score(y_true, y_pred, average=\"macro\"),\n",
    "#         \"recall_macro\": recall_score(y_true, y_pred, average=\"macro\"),\n",
    "#         \"f1_macro\": f1_score(y_true, y_pred, average=\"macro\"),\n",
    "#     }"
   ]
  },
  {
   "cell_type": "code",
   "execution_count": 29,
   "metadata": {},
   "outputs": [],
   "source": [
    "# df_models = X_train_reduced.copy()\n",
    "# df_models[\"target\"] = y_train.values"
   ]
  },
  {
   "cell_type": "code",
   "execution_count": 30,
   "metadata": {},
   "outputs": [],
   "source": [
    "# X_train_cv, X_val_cv, y_train_cv, y_val_cv = split_data(df_models)"
   ]
  },
  {
   "cell_type": "code",
   "execution_count": 31,
   "metadata": {},
   "outputs": [],
   "source": [
    "# model_candidates = {\n",
    "#     \"logistic\": LogisticRegression(class_weight=\"balanced\", max_iter=1000, random_state=42),\n",
    "#     \"decision_tree\": DecisionTreeClassifier(class_weight=\"balanced\", random_state=42),\n",
    "#     \"xgboost\": XGBClassifier(\n",
    "#         objective=\"multi:softmax\",\n",
    "#         num_class=3,\n",
    "#         eval_metric=\"mlogloss\",\n",
    "#         use_label_encoder=False,\n",
    "#         random_state=42,\n",
    "#         verbosity=0,\n",
    "#     )\n",
    "# }"
   ]
  },
  {
   "cell_type": "code",
   "execution_count": 32,
   "metadata": {},
   "outputs": [],
   "source": [
    "# results = []"
   ]
  },
  {
   "cell_type": "code",
   "execution_count": 33,
   "metadata": {},
   "outputs": [],
   "source": [
    "# for name, model in model_candidates.items():\n",
    "#     model.fit(X_train_cv, y_train_cv)\n",
    "#     y_pred = model.predict(X_val_cv)\n",
    "#     results.append(summarize_classification(y_val_cv, y_pred, model_name=name))"
   ]
  },
  {
   "cell_type": "code",
   "execution_count": 34,
   "metadata": {
    "scrolled": true
   },
   "outputs": [],
   "source": [
    "# automl = AutoML()\n",
    "# automl.fit(\n",
    "#     X_train=X_train_cv, y_train=y_train_cv, task=\"classification\", time_budget=60\n",
    "# )\n",
    "# y_pred_automl = automl.predict(X_val_cv)\n",
    "# results.append(summarize_classification(y_val_cv, y_pred_automl, model_name=\"flaml\"))"
   ]
  },
  {
   "cell_type": "code",
   "execution_count": 35,
   "metadata": {},
   "outputs": [],
   "source": [
    "# results_df = pd.DataFrame(results).set_index(\"model\")\n",
    "# display(results_df.sort_values(\"f1_macro\", ascending=False))"
   ]
  },
  {
   "cell_type": "markdown",
   "metadata": {},
   "source": [
    "### Hyperparameter tuning"
   ]
  },
  {
   "cell_type": "code",
   "execution_count": 36,
   "metadata": {},
   "outputs": [],
   "source": [
    "# def fit_grid_search(model, param_grid, X, y, scoring=\"f1_macro\", cv=5, verbose=1):\n",
    "#     return GridSearchCV(\n",
    "#         estimator=model,\n",
    "#         param_grid=param_grid,\n",
    "#         scoring=scoring,\n",
    "#         cv=cv,\n",
    "#         n_jobs=-1,\n",
    "#         return_train_score=True,\n",
    "#         verbose=verbose,\n",
    "#     ).fit(X, y)"
   ]
  },
  {
   "cell_type": "code",
   "execution_count": 37,
   "metadata": {},
   "outputs": [],
   "source": [
    "# def summarize_grid_search(grid, scoring=\"f1_macro\"):\n",
    "#     print(f\"Best {scoring}: {grid.best_score_:.4f}\")\n",
    "#     print(f\"Best params: {grid.best_params_}\")"
   ]
  },
  {
   "cell_type": "code",
   "execution_count": 38,
   "metadata": {},
   "outputs": [],
   "source": [
    "# def grid_search_to_df(grid):\n",
    "#     return pd.DataFrame(grid.cv_results_).sort_values(\n",
    "#         \"mean_test_score\", ascending=False\n",
    "#     )"
   ]
  },
  {
   "cell_type": "markdown",
   "metadata": {},
   "source": [
    "- Apply Grid Search"
   ]
  },
  {
   "cell_type": "code",
   "execution_count": 39,
   "metadata": {},
   "outputs": [],
   "source": [
    "# model = XGBClassifier(\n",
    "#     objective=\"multi:softmax\",\n",
    "#     num_class=3,\n",
    "#     use_label_encoder=False,\n",
    "#     eval_metric=\"mlogloss\",\n",
    "#     random_state=42,\n",
    "#     verbosity=0,\n",
    "# )\n",
    "\n",
    "# param_grid = {\n",
    "#     \"max_depth\": [3, 5, 7],\n",
    "#     \"learning_rate\": [0.01, 0.1, 0.3],\n",
    "#     \"n_estimators\": [50, 100],\n",
    "#     \"subsample\": [0.8, 1.0],\n",
    "# }"
   ]
  },
  {
   "cell_type": "code",
   "execution_count": 40,
   "metadata": {},
   "outputs": [],
   "source": [
    "# # Step 1: training\n",
    "# grid = fit_grid_search(model, param_grid, X_train_reduced, y_train)"
   ]
  },
  {
   "cell_type": "code",
   "execution_count": 41,
   "metadata": {},
   "outputs": [],
   "source": [
    "# # Step 2: summary\n",
    "# summarize_grid_search(grid)"
   ]
  },
  {
   "cell_type": "code",
   "execution_count": 42,
   "metadata": {},
   "outputs": [],
   "source": [
    "# # Step 3: df results\n",
    "# df_grid = grid_search_to_df(grid)\n",
    "# df_grid.head(5)"
   ]
  },
  {
   "cell_type": "code",
   "execution_count": 43,
   "metadata": {},
   "outputs": [],
   "source": [
    "best_model_name_path = BASE_DIR / \"data/06_models/best_model_name.txt\"\n",
    "# with open(best_model_name_path, \"w\") as f:\n",
    "#     f.write(\"XGBClassifier\")"
   ]
  },
  {
   "cell_type": "code",
   "execution_count": 44,
   "metadata": {},
   "outputs": [],
   "source": [
    "best_params_path = BASE_DIR / \"data/06_models/best_params.json\"\n",
    "# with open(best_params_path, \"w\") as f:\n",
    "#     json.dump(grid.best_params_, f, indent=4)"
   ]
  },
  {
   "cell_type": "markdown",
   "metadata": {},
   "source": [
    "### Pipeline final training"
   ]
  },
  {
   "cell_type": "code",
   "execution_count": 45,
   "metadata": {},
   "outputs": [],
   "source": [
    "classifier_fn = best_model_name_path.read_text().strip()\n",
    "with open(best_params_path) as f:\n",
    "    best_params = json.load(f)"
   ]
  },
  {
   "cell_type": "code",
   "execution_count": 46,
   "metadata": {},
   "outputs": [],
   "source": [
    "class TrainModelTransformer(BaseEstimator, TransformerMixin):\n",
    "    def __init__(self, classifier_fn, best_params):\n",
    "        self.classifier_fn = classifier_fn\n",
    "        self.best_params = best_params\n",
    "\n",
    "    def fit(self, X, y):\n",
    "        self.model_ = self.classifier_fn(**self.best_params)\n",
    "        self.model_.fit(X, y)\n",
    "        return self\n",
    "\n",
    "    def transform(self, X):\n",
    "        return X\n",
    "\n",
    "    def set_output(self, *, transform=None):\n",
    "        return self"
   ]
  },
  {
   "cell_type": "code",
   "execution_count": 47,
   "metadata": {},
   "outputs": [],
   "source": [
    "training_preprocessor = Pipeline(\n",
    "    [\n",
    "        (\n",
    "            \"train_model\",\n",
    "            TrainModelTransformer(classifier_fn=XGBClassifier, best_params=best_params),\n",
    "        )\n",
    "    ]\n",
    ")"
   ]
  },
  {
   "cell_type": "markdown",
   "metadata": {},
   "source": [
    "- Pipeline final training Test"
   ]
  },
  {
   "cell_type": "code",
   "execution_count": 48,
   "metadata": {
    "scrolled": true
   },
   "outputs": [],
   "source": [
    "# # training_preprocessor.fit(X_train_reduced, y_train)\n",
    "# model = training_preprocessor.named_steps[\"train_model\"].model_"
   ]
  },
  {
   "cell_type": "markdown",
   "metadata": {},
   "source": [
    "## Validation"
   ]
  },
  {
   "cell_type": "markdown",
   "metadata": {},
   "source": [
    "### Pipeline"
   ]
  },
  {
   "cell_type": "code",
   "execution_count": 49,
   "metadata": {},
   "outputs": [],
   "source": [
    "# class ValidateModelTransformer(BaseEstimator, TransformerMixin):\n",
    "#     def __init__(self, model, y_true, thresholds=None):\n",
    "#         self.model = model\n",
    "#         self.y_true = y_true\n",
    "#         self.thresholds = thresholds or {\"f1_macro\": 0.6}\n",
    "\n",
    "#     def fit(self, X, y=None):\n",
    "#         y_pred = self.model.predict(X)\n",
    "#         self.report_ = classification_report(self.y_true, y_pred, output_dict=True)\n",
    "\n",
    "#         for metric, threshold in self.thresholds.items():\n",
    "#             score = self.report_[\"macro avg\"].get(metric.replace(\"_macro\", \"\"), None)\n",
    "#             if score is not None and score < threshold:\n",
    "#                 raise ValueError(f\"[FAIL] {metric}={score:.4f} < threshold={threshold}\")\n",
    "\n",
    "#         return self\n",
    "\n",
    "#     def transform(self, X):\n",
    "#         return self.model\n",
    "\n",
    "#     def set_output(self, *, transform=None):\n",
    "#         return self"
   ]
  },
  {
   "cell_type": "code",
   "execution_count": 50,
   "metadata": {},
   "outputs": [],
   "source": [
    "# validate_preprocessor = Pipeline(\n",
    "#     [\n",
    "#         (\n",
    "#             \"validate_model\",\n",
    "#             ValidateModelTransformer(\n",
    "#                 model=model,\n",
    "#                 y_true=y_test,\n",
    "#                 thresholds={\"f1_macro\": 0.6, \"recall_macro\": 0.6},\n",
    "#             ),\n",
    "#         )\n",
    "#     ]\n",
    "# )"
   ]
  },
  {
   "cell_type": "markdown",
   "metadata": {},
   "source": [
    "# Test Training"
   ]
  },
  {
   "cell_type": "code",
   "execution_count": 51,
   "metadata": {},
   "outputs": [
    {
     "name": "stdout",
     "output_type": "stream",
     "text": [
      "/Users/agomezj/Desktop/Juan-G/ml-message-classifier\n"
     ]
    }
   ],
   "source": [
    "import os\n",
    "\n",
    "os.chdir(\"/Users/agomezj/Desktop/Juan-G/ml-message-classifier/\")\n",
    "print(os.getcwd())"
   ]
  },
  {
   "cell_type": "code",
   "execution_count": 52,
   "metadata": {},
   "outputs": [],
   "source": [
    "mit = pd.read_parquet(BASE_DIR / \"data/04_feature/review_user_business_mit.parquet\")"
   ]
  },
  {
   "cell_type": "code",
   "execution_count": 54,
   "metadata": {},
   "outputs": [],
   "source": [
    "from src.model.mdt import split_data, transform_stars_to_target\n",
    "from src.model.training import TrainModelTransformer\n",
    "from src.model.validation import evaluate_and_save_model\n",
    "from src.pipelines.training_pipeline.training_pipeline import training_pipeline\n",
    "from src.utils.io_utils import save_pipeline_if_needed"
   ]
  },
  {
   "cell_type": "code",
   "execution_count": null,
   "metadata": {},
   "outputs": [
    {
     "name": "stderr",
     "output_type": "stream",
     "text": [
      "\u001b[32m2025-05-21 00:17:42.566\u001b[0m | \u001b[1mINFO    \u001b[0m | \u001b[36msrc.model.mdt\u001b[0m:\u001b[36mtransform_stars_to_target\u001b[0m:\u001b[36m37\u001b[0m - \u001b[1mTransforming stars column into target column.\u001b[0m\n"
     ]
    }
   ],
   "source": [
    "# Target\n",
    "target = transform_stars_to_target(mit, \"stars\")"
   ]
  },
  {
   "cell_type": "code",
   "execution_count": null,
   "metadata": {},
   "outputs": [
    {
     "name": "stderr",
     "output_type": "stream",
     "text": [
      "\u001b[32m2025-05-21 00:17:43.418\u001b[0m | \u001b[1mINFO    \u001b[0m | \u001b[36msrc.model.mdt\u001b[0m:\u001b[36msplit_data\u001b[0m:\u001b[36m70\u001b[0m - \u001b[1mSplitting data into train and test sets.\u001b[0m\n"
     ]
    }
   ],
   "source": [
    "# Split data\n",
    "X_train, X_test, y_train, y_test = split_data(\n",
    "    target,\n",
    "    \"target\",\n",
    "    0.2,\n",
    ")"
   ]
  },
  {
   "cell_type": "code",
   "execution_count": null,
   "metadata": {
    "scrolled": true
   },
   "outputs": [
    {
     "name": "stderr",
     "output_type": "stream",
     "text": [
      "\u001b[32m2025-05-21 00:16:44.528\u001b[0m | \u001b[1mINFO    \u001b[0m | \u001b[36msrc.model.mdt\u001b[0m:\u001b[36mfit\u001b[0m:\u001b[36m415\u001b[0m - \u001b[1mFitting MDTYelpData...\u001b[0m\n",
      "\u001b[32m2025-05-21 00:16:44.543\u001b[0m | \u001b[1mINFO    \u001b[0m | \u001b[36msrc.model.mdt\u001b[0m:\u001b[36mtransform\u001b[0m:\u001b[36m136\u001b[0m - \u001b[1mTransforming data with EncodingTransformer.\u001b[0m\n",
      "\u001b[32m2025-05-21 00:16:45.046\u001b[0m | \u001b[1mINFO    \u001b[0m | \u001b[36msrc.model.mdt\u001b[0m:\u001b[36mfit\u001b[0m:\u001b[36m182\u001b[0m - \u001b[1mFitting GroupMeanImputer.\u001b[0m\n",
      "\u001b[32m2025-05-21 00:16:45.610\u001b[0m | \u001b[1mINFO    \u001b[0m | \u001b[36msrc.model.mdt\u001b[0m:\u001b[36mtransform\u001b[0m:\u001b[36m201\u001b[0m - \u001b[1mTransforming data with GroupMeanImputer.\u001b[0m\n",
      "\u001b[32m2025-05-21 00:16:45.867\u001b[0m | \u001b[1mINFO    \u001b[0m | \u001b[36msrc.model.mdt\u001b[0m:\u001b[36mfit\u001b[0m:\u001b[36m231\u001b[0m - \u001b[1mFitting ScalerTransformer.\u001b[0m\n",
      "\u001b[32m2025-05-21 00:16:46.327\u001b[0m | \u001b[1mINFO    \u001b[0m | \u001b[36msrc.model.mdt\u001b[0m:\u001b[36mtransform\u001b[0m:\u001b[36m247\u001b[0m - \u001b[1mTransforming data with ScalerTransformer.\u001b[0m\n",
      "\u001b[32m2025-05-21 00:16:48.724\u001b[0m | \u001b[1mINFO    \u001b[0m | \u001b[36msrc.model.mdt\u001b[0m:\u001b[36mfit\u001b[0m:\u001b[36m294\u001b[0m - \u001b[1mFitting DimensionalityReducer pipeline.\u001b[0m\n"
     ]
    }
   ],
   "source": [
    "# MDT train\n",
    "X_train_mdt = training_pipeline.named_steps[\"mdt\"].fit_transform(X_train, y_train)"
   ]
  },
  {
   "cell_type": "code",
   "execution_count": null,
   "metadata": {},
   "outputs": [],
   "source": [
    "# MDT test\n",
    "X_test_mdt = training_pipeline.named_steps[\"mdt\"].transform(X_test)"
   ]
  },
  {
   "cell_type": "code",
   "execution_count": null,
   "metadata": {},
   "outputs": [],
   "source": [
    "# Save pipe MDT\n",
    "mdt = training_pipeline.named_steps[\"mdt\"]\n",
    "save_pipeline_if_needed(mdt, \"models/training_mdt_transformer.pkl\")"
   ]
  },
  {
   "cell_type": "code",
   "execution_count": null,
   "metadata": {},
   "outputs": [],
   "source": [
    "# Training\n",
    "\n",
    "# 1. Load best model and best params\n",
    "classifier_fn = best_model_name_path.read_text().strip()\n",
    "with open(best_params_path) as f:\n",
    "    best_params = json.load(f)\n",
    "\n",
    "# 2. Trainer\n",
    "trainer = TrainModelTransformer(\n",
    "    classifier_fn=classifier_fn,\n",
    "    best_params=best_params,\n",
    ")\n",
    "trainer.fit(X_train_mdt, y_train)"
   ]
  },
  {
   "cell_type": "code",
   "execution_count": null,
   "metadata": {},
   "outputs": [],
   "source": [
    "# Validator\n",
    "try:\n",
    "    evaluate_and_save_model(\n",
    "        model=training_pipeline.named_steps[\"training\"].model_,\n",
    "        X_test=X_test_mdt,\n",
    "        y_test=y_test,\n",
    "        thresholds={\"f1_macro\": 0.6, \"recall_macro\": 0.6},\n",
    "        output_path=\"models/best_model.pkl\",\n",
    "    )\n",
    "except ValueError as e:\n",
    "    logger.warning(f\"Model validation failed: {e}\")"
   ]
  }
 ],
 "metadata": {
  "colab": {
   "provenance": []
  },
  "kernelspec": {
   "display_name": "Python 3.11 (ml-message-classifier)",
   "language": "python",
   "name": "ml-message-classifier"
  },
  "language_info": {
   "codemirror_mode": {
    "name": "ipython",
    "version": 3
   },
   "file_extension": ".py",
   "mimetype": "text/x-python",
   "name": "python",
   "nbconvert_exporter": "python",
   "pygments_lexer": "ipython3",
   "version": "3.11.12"
  }
 },
 "nbformat": 4,
 "nbformat_minor": 4
}
