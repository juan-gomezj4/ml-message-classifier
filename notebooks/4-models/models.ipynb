{
 "cells": [
  {
   "cell_type": "markdown",
   "metadata": {
    "id": "EJO4nq-rjOVi"
   },
   "source": [
    "## Title\n",
    "Models\n",
    "\n",
    "### By:\n",
    "Juan Gómez\n",
    "\n",
    "### Date:\n",
    "2024-05-18\n",
    "\n",
    "### Description:\n",
    "\n",
    "Train and evaluate text classification models using preprocessed features. Includes data split, cross-validation, performance metrics, learning curves, scalability plots, and feature importance analysis. Final section builds the MDT and training prediction pipeline."
   ]
  },
  {
   "cell_type": "markdown",
   "metadata": {
    "id": "YUF5E1QMjOVk",
    "pycharm": {
     "name": "#%% md\n"
    }
   },
   "source": [
    "## Import  libraries"
   ]
  },
  {
   "cell_type": "code",
   "execution_count": null,
   "metadata": {
    "collapsed": false,
    "id": "M2QetAMAjOVk",
    "jupyter": {
     "outputs_hidden": false
    },
    "pycharm": {
     "name": "#%%\n"
    },
    "scrolled": true
   },
   "outputs": [],
   "source": [
    "import json\n",
    "\n",
    "import pandas as pd\n",
    "from feature_engine.selection import (\n",
    "    DropConstantFeatures,\n",
    "    DropCorrelatedFeatures,\n",
    "    SelectBySingleFeaturePerformance,\n",
    ")\n",
    "\n",
    "# import numpy as np\n",
    "from loguru import logger\n",
    "from sklearn.base import BaseEstimator, TransformerMixin\n",
    "\n",
    "# from sklearn.compose import ColumnTransformer\n",
    "from sklearn.ensemble import RandomForestClassifier\n",
    "from sklearn.feature_selection import SequentialFeatureSelector\n",
    "from sklearn.linear_model import RidgeClassifier\n",
    "\n",
    "# from sklearn.metrics import classification_report\n",
    "# from sklearn.model_selection import train_test_split\n",
    "from sklearn.pipeline import Pipeline\n",
    "from sklearn.preprocessing import MinMaxScaler\n",
    "from xgboost import XGBClassifier"
   ]
  },
  {
   "cell_type": "markdown",
   "metadata": {
    "id": "7U_3Omo9jOVk",
    "pycharm": {
     "name": "#%% md\n"
    }
   },
   "source": [
    "## Load data"
   ]
  },
  {
   "cell_type": "code",
   "execution_count": 2,
   "metadata": {
    "id": "LxgbCbmwjOVl"
   },
   "outputs": [],
   "source": [
    "from pathlib import Path\n",
    "\n",
    "pd.set_option(\"display.max_columns\", None)\n",
    "\n",
    "BASE_DIR = Path.cwd().resolve().parents[1]"
   ]
  },
  {
   "cell_type": "code",
   "execution_count": null,
   "metadata": {
    "collapsed": false,
    "id": "1uqUhdiAjOVl",
    "jupyter": {
     "outputs_hidden": false
    },
    "pycharm": {
     "name": "#%%\n"
    }
   },
   "outputs": [],
   "source": [
    "df = pd.read_parquet(BASE_DIR / \"data/04_feature/review_user_business_mit.parquet\")"
   ]
  },
  {
   "cell_type": "code",
   "execution_count": 34,
   "metadata": {
    "colab": {
     "base_uri": "https://localhost:8080/",
     "height": 608
    },
    "id": "wB6XLEUAmgxy",
    "outputId": "6e4ba660-f5be-4098-d616-bcaaba52a5e4"
   },
   "outputs": [
    {
     "data": {
      "text/html": [
       "<div>\n",
       "<style scoped>\n",
       "    .dataframe tbody tr th:only-of-type {\n",
       "        vertical-align: middle;\n",
       "    }\n",
       "\n",
       "    .dataframe tbody tr th {\n",
       "        vertical-align: top;\n",
       "    }\n",
       "\n",
       "    .dataframe thead th {\n",
       "        text-align: right;\n",
       "    }\n",
       "</style>\n",
       "<table border=\"1\" class=\"dataframe\">\n",
       "  <thead>\n",
       "    <tr style=\"text-align: right;\">\n",
       "      <th></th>\n",
       "      <th>stars</th>\n",
       "      <th>useful</th>\n",
       "      <th>funny</th>\n",
       "      <th>cool</th>\n",
       "      <th>review_count</th>\n",
       "      <th>stars_business</th>\n",
       "      <th>review_count_business</th>\n",
       "      <th>is_open</th>\n",
       "      <th>elite_count</th>\n",
       "      <th>city_freq</th>\n",
       "      <th>state_freq</th>\n",
       "      <th>is_useful</th>\n",
       "      <th>is_funny</th>\n",
       "      <th>is_cool</th>\n",
       "      <th>review_count_level</th>\n",
       "      <th>useful_user_level</th>\n",
       "      <th>funny_user_level</th>\n",
       "      <th>cool_user_level</th>\n",
       "      <th>fans_level</th>\n",
       "      <th>text_length</th>\n",
       "      <th>word_count</th>\n",
       "      <th>has_exclamation</th>\n",
       "      <th>main_category_group</th>\n",
       "      <th>category_count</th>\n",
       "      <th>review_year</th>\n",
       "      <th>review_month</th>\n",
       "      <th>review_dayofweek</th>\n",
       "      <th>is_weekend</th>\n",
       "      <th>review_quarter</th>\n",
       "      <th>text_length_avg_by_main_category_group</th>\n",
       "      <th>text_length_std_by_main_category_group</th>\n",
       "      <th>text_length_relative_to_avg</th>\n",
       "      <th>embedding_0</th>\n",
       "      <th>embedding_1</th>\n",
       "      <th>embedding_2</th>\n",
       "      <th>embedding_3</th>\n",
       "      <th>embedding_4</th>\n",
       "      <th>embedding_5</th>\n",
       "      <th>embedding_6</th>\n",
       "      <th>embedding_7</th>\n",
       "      <th>embedding_8</th>\n",
       "      <th>embedding_9</th>\n",
       "      <th>embedding_10</th>\n",
       "      <th>embedding_11</th>\n",
       "      <th>embedding_12</th>\n",
       "      <th>embedding_13</th>\n",
       "      <th>embedding_14</th>\n",
       "      <th>embedding_15</th>\n",
       "      <th>embedding_16</th>\n",
       "      <th>embedding_17</th>\n",
       "      <th>embedding_18</th>\n",
       "      <th>embedding_19</th>\n",
       "      <th>embedding_20</th>\n",
       "      <th>embedding_21</th>\n",
       "      <th>embedding_22</th>\n",
       "      <th>embedding_23</th>\n",
       "      <th>embedding_24</th>\n",
       "      <th>embedding_25</th>\n",
       "      <th>embedding_26</th>\n",
       "      <th>embedding_27</th>\n",
       "      <th>embedding_28</th>\n",
       "      <th>embedding_29</th>\n",
       "      <th>embedding_30</th>\n",
       "      <th>embedding_31</th>\n",
       "      <th>embedding_32</th>\n",
       "      <th>embedding_33</th>\n",
       "      <th>embedding_34</th>\n",
       "      <th>embedding_35</th>\n",
       "      <th>embedding_36</th>\n",
       "      <th>embedding_37</th>\n",
       "      <th>embedding_38</th>\n",
       "      <th>embedding_39</th>\n",
       "      <th>embedding_40</th>\n",
       "      <th>embedding_41</th>\n",
       "      <th>embedding_42</th>\n",
       "      <th>embedding_43</th>\n",
       "      <th>embedding_44</th>\n",
       "      <th>embedding_45</th>\n",
       "      <th>embedding_46</th>\n",
       "      <th>embedding_47</th>\n",
       "      <th>embedding_48</th>\n",
       "      <th>embedding_49</th>\n",
       "    </tr>\n",
       "  </thead>\n",
       "  <tbody>\n",
       "    <tr>\n",
       "      <th>906192</th>\n",
       "      <td>5</td>\n",
       "      <td>3</td>\n",
       "      <td>0</td>\n",
       "      <td>0</td>\n",
       "      <td>128</td>\n",
       "      <td>4.0</td>\n",
       "      <td>191</td>\n",
       "      <td>True</td>\n",
       "      <td>1</td>\n",
       "      <td>0.003982</td>\n",
       "      <td>0.183707</td>\n",
       "      <td>True</td>\n",
       "      <td>False</td>\n",
       "      <td>False</td>\n",
       "      <td>2</td>\n",
       "      <td>2</td>\n",
       "      <td>2</td>\n",
       "      <td>2</td>\n",
       "      <td>1</td>\n",
       "      <td>640</td>\n",
       "      <td>116</td>\n",
       "      <td>False</td>\n",
       "      <td>restaurant</td>\n",
       "      <td>4</td>\n",
       "      <td>2018</td>\n",
       "      <td>9</td>\n",
       "      <td>6</td>\n",
       "      <td>True</td>\n",
       "      <td>3</td>\n",
       "      <td>639.953857</td>\n",
       "      <td>532.740662</td>\n",
       "      <td>0.046122</td>\n",
       "      <td>0.074751</td>\n",
       "      <td>0.697482</td>\n",
       "      <td>0.311859</td>\n",
       "      <td>-0.521046</td>\n",
       "      <td>-0.194581</td>\n",
       "      <td>0.276390</td>\n",
       "      <td>1.111978</td>\n",
       "      <td>-0.147634</td>\n",
       "      <td>0.095341</td>\n",
       "      <td>0.155567</td>\n",
       "      <td>-0.119884</td>\n",
       "      <td>0.032590</td>\n",
       "      <td>-0.178728</td>\n",
       "      <td>0.004451</td>\n",
       "      <td>-0.036841</td>\n",
       "      <td>-0.095693</td>\n",
       "      <td>0.110060</td>\n",
       "      <td>-0.160406</td>\n",
       "      <td>0.525937</td>\n",
       "      <td>-0.692520</td>\n",
       "      <td>-0.190859</td>\n",
       "      <td>-0.493326</td>\n",
       "      <td>-0.428122</td>\n",
       "      <td>-0.642687</td>\n",
       "      <td>-0.268597</td>\n",
       "      <td>-0.088210</td>\n",
       "      <td>0.689469</td>\n",
       "      <td>-0.948733</td>\n",
       "      <td>-0.344062</td>\n",
       "      <td>-0.419753</td>\n",
       "      <td>-0.429531</td>\n",
       "      <td>-0.379099</td>\n",
       "      <td>0.349651</td>\n",
       "      <td>-0.350816</td>\n",
       "      <td>1.238890</td>\n",
       "      <td>-0.083041</td>\n",
       "      <td>0.483351</td>\n",
       "      <td>-0.161838</td>\n",
       "      <td>-0.053674</td>\n",
       "      <td>-0.307265</td>\n",
       "      <td>0.418604</td>\n",
       "      <td>-0.268050</td>\n",
       "      <td>0.342727</td>\n",
       "      <td>-0.739480</td>\n",
       "      <td>0.501753</td>\n",
       "      <td>0.179687</td>\n",
       "      <td>-0.268822</td>\n",
       "      <td>-0.393494</td>\n",
       "      <td>0.105226</td>\n",
       "      <td>-0.363393</td>\n",
       "    </tr>\n",
       "    <tr>\n",
       "      <th>969799</th>\n",
       "      <td>2</td>\n",
       "      <td>1</td>\n",
       "      <td>0</td>\n",
       "      <td>0</td>\n",
       "      <td>10</td>\n",
       "      <td>4.0</td>\n",
       "      <td>32</td>\n",
       "      <td>True</td>\n",
       "      <td>1</td>\n",
       "      <td>0.000827</td>\n",
       "      <td>0.055804</td>\n",
       "      <td>True</td>\n",
       "      <td>False</td>\n",
       "      <td>False</td>\n",
       "      <td>1</td>\n",
       "      <td>0</td>\n",
       "      <td>0</td>\n",
       "      <td>0</td>\n",
       "      <td>0</td>\n",
       "      <td>500</td>\n",
       "      <td>94</td>\n",
       "      <td>False</td>\n",
       "      <td>restaurant</td>\n",
       "      <td>9</td>\n",
       "      <td>2018</td>\n",
       "      <td>7</td>\n",
       "      <td>6</td>\n",
       "      <td>True</td>\n",
       "      <td>3</td>\n",
       "      <td>639.953857</td>\n",
       "      <td>532.740662</td>\n",
       "      <td>-139.953873</td>\n",
       "      <td>-0.309841</td>\n",
       "      <td>0.013298</td>\n",
       "      <td>-0.250818</td>\n",
       "      <td>-0.633023</td>\n",
       "      <td>-0.232362</td>\n",
       "      <td>-0.385450</td>\n",
       "      <td>-0.096385</td>\n",
       "      <td>-0.176210</td>\n",
       "      <td>0.351112</td>\n",
       "      <td>-0.429787</td>\n",
       "      <td>-0.885585</td>\n",
       "      <td>-0.095075</td>\n",
       "      <td>0.033912</td>\n",
       "      <td>-0.037212</td>\n",
       "      <td>-0.017246</td>\n",
       "      <td>-0.861292</td>\n",
       "      <td>0.838786</td>\n",
       "      <td>0.306541</td>\n",
       "      <td>-0.116945</td>\n",
       "      <td>-0.129314</td>\n",
       "      <td>0.615652</td>\n",
       "      <td>-0.030124</td>\n",
       "      <td>0.086850</td>\n",
       "      <td>-0.703382</td>\n",
       "      <td>-0.152619</td>\n",
       "      <td>-0.470992</td>\n",
       "      <td>0.209329</td>\n",
       "      <td>-0.168802</td>\n",
       "      <td>-0.195786</td>\n",
       "      <td>-0.126982</td>\n",
       "      <td>-0.498650</td>\n",
       "      <td>-0.387894</td>\n",
       "      <td>-0.086217</td>\n",
       "      <td>-0.441568</td>\n",
       "      <td>-0.275358</td>\n",
       "      <td>0.394184</td>\n",
       "      <td>0.471450</td>\n",
       "      <td>0.041419</td>\n",
       "      <td>-0.425344</td>\n",
       "      <td>-0.377018</td>\n",
       "      <td>-0.024423</td>\n",
       "      <td>-0.222443</td>\n",
       "      <td>0.771572</td>\n",
       "      <td>0.197692</td>\n",
       "      <td>-0.046282</td>\n",
       "      <td>0.164182</td>\n",
       "      <td>-0.172464</td>\n",
       "      <td>0.574928</td>\n",
       "      <td>-0.097091</td>\n",
       "      <td>0.159368</td>\n",
       "    </tr>\n",
       "    <tr>\n",
       "      <th>247608</th>\n",
       "      <td>4</td>\n",
       "      <td>2</td>\n",
       "      <td>0</td>\n",
       "      <td>1</td>\n",
       "      <td>303</td>\n",
       "      <td>5.0</td>\n",
       "      <td>17</td>\n",
       "      <td>False</td>\n",
       "      <td>4</td>\n",
       "      <td>0.015494</td>\n",
       "      <td>0.024722</td>\n",
       "      <td>True</td>\n",
       "      <td>False</td>\n",
       "      <td>True</td>\n",
       "      <td>3</td>\n",
       "      <td>3</td>\n",
       "      <td>3</td>\n",
       "      <td>3</td>\n",
       "      <td>1</td>\n",
       "      <td>582</td>\n",
       "      <td>105</td>\n",
       "      <td>False</td>\n",
       "      <td>restaurant</td>\n",
       "      <td>7</td>\n",
       "      <td>2020</td>\n",
       "      <td>11</td>\n",
       "      <td>6</td>\n",
       "      <td>True</td>\n",
       "      <td>4</td>\n",
       "      <td>639.953857</td>\n",
       "      <td>532.740662</td>\n",
       "      <td>-57.953876</td>\n",
       "      <td>0.271569</td>\n",
       "      <td>0.263023</td>\n",
       "      <td>0.357767</td>\n",
       "      <td>0.102872</td>\n",
       "      <td>-0.509560</td>\n",
       "      <td>-0.177065</td>\n",
       "      <td>0.356231</td>\n",
       "      <td>0.419663</td>\n",
       "      <td>0.179826</td>\n",
       "      <td>-0.436309</td>\n",
       "      <td>-0.249501</td>\n",
       "      <td>0.029521</td>\n",
       "      <td>0.357507</td>\n",
       "      <td>0.057207</td>\n",
       "      <td>0.428971</td>\n",
       "      <td>0.366414</td>\n",
       "      <td>-0.302327</td>\n",
       "      <td>-0.399496</td>\n",
       "      <td>0.056481</td>\n",
       "      <td>-0.275047</td>\n",
       "      <td>-0.211334</td>\n",
       "      <td>-0.502862</td>\n",
       "      <td>-0.251838</td>\n",
       "      <td>-0.165914</td>\n",
       "      <td>0.260661</td>\n",
       "      <td>0.021342</td>\n",
       "      <td>-0.383204</td>\n",
       "      <td>-0.035808</td>\n",
       "      <td>0.288589</td>\n",
       "      <td>0.187426</td>\n",
       "      <td>-0.404876</td>\n",
       "      <td>-0.140675</td>\n",
       "      <td>0.010602</td>\n",
       "      <td>-0.412050</td>\n",
       "      <td>0.420503</td>\n",
       "      <td>-0.099117</td>\n",
       "      <td>0.256436</td>\n",
       "      <td>0.006359</td>\n",
       "      <td>-0.174492</td>\n",
       "      <td>0.135159</td>\n",
       "      <td>0.304199</td>\n",
       "      <td>-0.062886</td>\n",
       "      <td>-0.103389</td>\n",
       "      <td>-0.019600</td>\n",
       "      <td>0.382529</td>\n",
       "      <td>0.111698</td>\n",
       "      <td>0.431777</td>\n",
       "      <td>-0.012114</td>\n",
       "      <td>0.278075</td>\n",
       "      <td>-0.338858</td>\n",
       "    </tr>\n",
       "    <tr>\n",
       "      <th>520898</th>\n",
       "      <td>5</td>\n",
       "      <td>1</td>\n",
       "      <td>0</td>\n",
       "      <td>1</td>\n",
       "      <td>67</td>\n",
       "      <td>4.5</td>\n",
       "      <td>440</td>\n",
       "      <td>True</td>\n",
       "      <td>3</td>\n",
       "      <td>0.075552</td>\n",
       "      <td>0.183707</td>\n",
       "      <td>True</td>\n",
       "      <td>False</td>\n",
       "      <td>True</td>\n",
       "      <td>2</td>\n",
       "      <td>2</td>\n",
       "      <td>2</td>\n",
       "      <td>2</td>\n",
       "      <td>1</td>\n",
       "      <td>937</td>\n",
       "      <td>189</td>\n",
       "      <td>True</td>\n",
       "      <td>restaurant</td>\n",
       "      <td>9</td>\n",
       "      <td>2019</td>\n",
       "      <td>10</td>\n",
       "      <td>6</td>\n",
       "      <td>True</td>\n",
       "      <td>4</td>\n",
       "      <td>639.953857</td>\n",
       "      <td>532.740662</td>\n",
       "      <td>297.046112</td>\n",
       "      <td>0.054394</td>\n",
       "      <td>-0.207005</td>\n",
       "      <td>-0.023298</td>\n",
       "      <td>-0.272494</td>\n",
       "      <td>0.064919</td>\n",
       "      <td>0.525586</td>\n",
       "      <td>0.410752</td>\n",
       "      <td>0.551149</td>\n",
       "      <td>-0.189903</td>\n",
       "      <td>-0.251472</td>\n",
       "      <td>0.019422</td>\n",
       "      <td>0.256978</td>\n",
       "      <td>-0.225388</td>\n",
       "      <td>0.400441</td>\n",
       "      <td>0.244852</td>\n",
       "      <td>-0.037545</td>\n",
       "      <td>0.016607</td>\n",
       "      <td>-0.098814</td>\n",
       "      <td>-0.460489</td>\n",
       "      <td>0.329163</td>\n",
       "      <td>-0.389842</td>\n",
       "      <td>-0.422076</td>\n",
       "      <td>0.164976</td>\n",
       "      <td>-0.166697</td>\n",
       "      <td>0.114561</td>\n",
       "      <td>0.398865</td>\n",
       "      <td>0.150982</td>\n",
       "      <td>0.093891</td>\n",
       "      <td>-0.292486</td>\n",
       "      <td>0.224881</td>\n",
       "      <td>0.266993</td>\n",
       "      <td>-0.765948</td>\n",
       "      <td>0.301625</td>\n",
       "      <td>-0.092466</td>\n",
       "      <td>-0.425389</td>\n",
       "      <td>-0.462293</td>\n",
       "      <td>-0.271333</td>\n",
       "      <td>-0.037687</td>\n",
       "      <td>-0.010957</td>\n",
       "      <td>0.489599</td>\n",
       "      <td>0.280509</td>\n",
       "      <td>-0.112499</td>\n",
       "      <td>0.582281</td>\n",
       "      <td>-0.548356</td>\n",
       "      <td>0.135585</td>\n",
       "      <td>-0.657420</td>\n",
       "      <td>0.177071</td>\n",
       "      <td>-0.132898</td>\n",
       "      <td>0.144698</td>\n",
       "      <td>-0.462859</td>\n",
       "    </tr>\n",
       "    <tr>\n",
       "      <th>935593</th>\n",
       "      <td>1</td>\n",
       "      <td>1</td>\n",
       "      <td>0</td>\n",
       "      <td>0</td>\n",
       "      <td>7</td>\n",
       "      <td>4.0</td>\n",
       "      <td>15</td>\n",
       "      <td>True</td>\n",
       "      <td>1</td>\n",
       "      <td>0.113044</td>\n",
       "      <td>0.200348</td>\n",
       "      <td>True</td>\n",
       "      <td>False</td>\n",
       "      <td>False</td>\n",
       "      <td>0</td>\n",
       "      <td>0</td>\n",
       "      <td>0</td>\n",
       "      <td>0</td>\n",
       "      <td>0</td>\n",
       "      <td>409</td>\n",
       "      <td>76</td>\n",
       "      <td>False</td>\n",
       "      <td>other</td>\n",
       "      <td>3</td>\n",
       "      <td>2018</td>\n",
       "      <td>8</td>\n",
       "      <td>3</td>\n",
       "      <td>False</td>\n",
       "      <td>3</td>\n",
       "      <td>745.191589</td>\n",
       "      <td>676.977234</td>\n",
       "      <td>-336.191589</td>\n",
       "      <td>-0.014251</td>\n",
       "      <td>-0.015865</td>\n",
       "      <td>0.354668</td>\n",
       "      <td>-0.333855</td>\n",
       "      <td>0.467439</td>\n",
       "      <td>-0.694590</td>\n",
       "      <td>-0.584475</td>\n",
       "      <td>-0.187144</td>\n",
       "      <td>-0.139864</td>\n",
       "      <td>0.032662</td>\n",
       "      <td>0.089488</td>\n",
       "      <td>-0.271280</td>\n",
       "      <td>0.075375</td>\n",
       "      <td>-0.064606</td>\n",
       "      <td>-0.450472</td>\n",
       "      <td>0.160301</td>\n",
       "      <td>0.441326</td>\n",
       "      <td>0.194780</td>\n",
       "      <td>-0.101216</td>\n",
       "      <td>-0.555794</td>\n",
       "      <td>0.022764</td>\n",
       "      <td>0.520888</td>\n",
       "      <td>-0.000100</td>\n",
       "      <td>0.284979</td>\n",
       "      <td>0.199642</td>\n",
       "      <td>0.565771</td>\n",
       "      <td>0.186059</td>\n",
       "      <td>0.527476</td>\n",
       "      <td>-0.003421</td>\n",
       "      <td>-0.176821</td>\n",
       "      <td>0.016447</td>\n",
       "      <td>0.160458</td>\n",
       "      <td>-0.041687</td>\n",
       "      <td>0.516288</td>\n",
       "      <td>-0.294658</td>\n",
       "      <td>0.355451</td>\n",
       "      <td>1.119640</td>\n",
       "      <td>-0.269397</td>\n",
       "      <td>-0.120379</td>\n",
       "      <td>0.361275</td>\n",
       "      <td>0.050111</td>\n",
       "      <td>0.136124</td>\n",
       "      <td>0.151970</td>\n",
       "      <td>-0.226470</td>\n",
       "      <td>-0.032981</td>\n",
       "      <td>-0.171146</td>\n",
       "      <td>-0.093916</td>\n",
       "      <td>-0.340528</td>\n",
       "      <td>-0.219574</td>\n",
       "      <td>-0.477737</td>\n",
       "    </tr>\n",
       "  </tbody>\n",
       "</table>\n",
       "</div>"
      ],
      "text/plain": [
       "        stars  useful  funny  cool  review_count  stars_business  \\\n",
       "906192      5       3      0     0           128             4.0   \n",
       "969799      2       1      0     0            10             4.0   \n",
       "247608      4       2      0     1           303             5.0   \n",
       "520898      5       1      0     1            67             4.5   \n",
       "935593      1       1      0     0             7             4.0   \n",
       "\n",
       "        review_count_business  is_open  elite_count  city_freq  state_freq  \\\n",
       "906192                    191     True            1   0.003982    0.183707   \n",
       "969799                     32     True            1   0.000827    0.055804   \n",
       "247608                     17    False            4   0.015494    0.024722   \n",
       "520898                    440     True            3   0.075552    0.183707   \n",
       "935593                     15     True            1   0.113044    0.200348   \n",
       "\n",
       "        is_useful  is_funny  is_cool  review_count_level  useful_user_level  \\\n",
       "906192       True     False    False                   2                  2   \n",
       "969799       True     False    False                   1                  0   \n",
       "247608       True     False     True                   3                  3   \n",
       "520898       True     False     True                   2                  2   \n",
       "935593       True     False    False                   0                  0   \n",
       "\n",
       "        funny_user_level  cool_user_level  fans_level  text_length  \\\n",
       "906192                 2                2           1          640   \n",
       "969799                 0                0           0          500   \n",
       "247608                 3                3           1          582   \n",
       "520898                 2                2           1          937   \n",
       "935593                 0                0           0          409   \n",
       "\n",
       "        word_count  has_exclamation main_category_group  category_count  \\\n",
       "906192         116            False          restaurant               4   \n",
       "969799          94            False          restaurant               9   \n",
       "247608         105            False          restaurant               7   \n",
       "520898         189             True          restaurant               9   \n",
       "935593          76            False               other               3   \n",
       "\n",
       "        review_year  review_month  review_dayofweek  is_weekend  \\\n",
       "906192         2018             9                 6        True   \n",
       "969799         2018             7                 6        True   \n",
       "247608         2020            11                 6        True   \n",
       "520898         2019            10                 6        True   \n",
       "935593         2018             8                 3       False   \n",
       "\n",
       "        review_quarter  text_length_avg_by_main_category_group  \\\n",
       "906192               3                              639.953857   \n",
       "969799               3                              639.953857   \n",
       "247608               4                              639.953857   \n",
       "520898               4                              639.953857   \n",
       "935593               3                              745.191589   \n",
       "\n",
       "        text_length_std_by_main_category_group  text_length_relative_to_avg  \\\n",
       "906192                              532.740662                     0.046122   \n",
       "969799                              532.740662                  -139.953873   \n",
       "247608                              532.740662                   -57.953876   \n",
       "520898                              532.740662                   297.046112   \n",
       "935593                              676.977234                  -336.191589   \n",
       "\n",
       "        embedding_0  embedding_1  embedding_2  embedding_3  embedding_4  \\\n",
       "906192     0.074751     0.697482     0.311859    -0.521046    -0.194581   \n",
       "969799    -0.309841     0.013298    -0.250818    -0.633023    -0.232362   \n",
       "247608     0.271569     0.263023     0.357767     0.102872    -0.509560   \n",
       "520898     0.054394    -0.207005    -0.023298    -0.272494     0.064919   \n",
       "935593    -0.014251    -0.015865     0.354668    -0.333855     0.467439   \n",
       "\n",
       "        embedding_5  embedding_6  embedding_7  embedding_8  embedding_9  \\\n",
       "906192     0.276390     1.111978    -0.147634     0.095341     0.155567   \n",
       "969799    -0.385450    -0.096385    -0.176210     0.351112    -0.429787   \n",
       "247608    -0.177065     0.356231     0.419663     0.179826    -0.436309   \n",
       "520898     0.525586     0.410752     0.551149    -0.189903    -0.251472   \n",
       "935593    -0.694590    -0.584475    -0.187144    -0.139864     0.032662   \n",
       "\n",
       "        embedding_10  embedding_11  embedding_12  embedding_13  embedding_14  \\\n",
       "906192     -0.119884      0.032590     -0.178728      0.004451     -0.036841   \n",
       "969799     -0.885585     -0.095075      0.033912     -0.037212     -0.017246   \n",
       "247608     -0.249501      0.029521      0.357507      0.057207      0.428971   \n",
       "520898      0.019422      0.256978     -0.225388      0.400441      0.244852   \n",
       "935593      0.089488     -0.271280      0.075375     -0.064606     -0.450472   \n",
       "\n",
       "        embedding_15  embedding_16  embedding_17  embedding_18  embedding_19  \\\n",
       "906192     -0.095693      0.110060     -0.160406      0.525937     -0.692520   \n",
       "969799     -0.861292      0.838786      0.306541     -0.116945     -0.129314   \n",
       "247608      0.366414     -0.302327     -0.399496      0.056481     -0.275047   \n",
       "520898     -0.037545      0.016607     -0.098814     -0.460489      0.329163   \n",
       "935593      0.160301      0.441326      0.194780     -0.101216     -0.555794   \n",
       "\n",
       "        embedding_20  embedding_21  embedding_22  embedding_23  embedding_24  \\\n",
       "906192     -0.190859     -0.493326     -0.428122     -0.642687     -0.268597   \n",
       "969799      0.615652     -0.030124      0.086850     -0.703382     -0.152619   \n",
       "247608     -0.211334     -0.502862     -0.251838     -0.165914      0.260661   \n",
       "520898     -0.389842     -0.422076      0.164976     -0.166697      0.114561   \n",
       "935593      0.022764      0.520888     -0.000100      0.284979      0.199642   \n",
       "\n",
       "        embedding_25  embedding_26  embedding_27  embedding_28  embedding_29  \\\n",
       "906192     -0.088210      0.689469     -0.948733     -0.344062     -0.419753   \n",
       "969799     -0.470992      0.209329     -0.168802     -0.195786     -0.126982   \n",
       "247608      0.021342     -0.383204     -0.035808      0.288589      0.187426   \n",
       "520898      0.398865      0.150982      0.093891     -0.292486      0.224881   \n",
       "935593      0.565771      0.186059      0.527476     -0.003421     -0.176821   \n",
       "\n",
       "        embedding_30  embedding_31  embedding_32  embedding_33  embedding_34  \\\n",
       "906192     -0.429531     -0.379099      0.349651     -0.350816      1.238890   \n",
       "969799     -0.498650     -0.387894     -0.086217     -0.441568     -0.275358   \n",
       "247608     -0.404876     -0.140675      0.010602     -0.412050      0.420503   \n",
       "520898      0.266993     -0.765948      0.301625     -0.092466     -0.425389   \n",
       "935593      0.016447      0.160458     -0.041687      0.516288     -0.294658   \n",
       "\n",
       "        embedding_35  embedding_36  embedding_37  embedding_38  embedding_39  \\\n",
       "906192     -0.083041      0.483351     -0.161838     -0.053674     -0.307265   \n",
       "969799      0.394184      0.471450      0.041419     -0.425344     -0.377018   \n",
       "247608     -0.099117      0.256436      0.006359     -0.174492      0.135159   \n",
       "520898     -0.462293     -0.271333     -0.037687     -0.010957      0.489599   \n",
       "935593      0.355451      1.119640     -0.269397     -0.120379      0.361275   \n",
       "\n",
       "        embedding_40  embedding_41  embedding_42  embedding_43  embedding_44  \\\n",
       "906192      0.418604     -0.268050      0.342727     -0.739480      0.501753   \n",
       "969799     -0.024423     -0.222443      0.771572      0.197692     -0.046282   \n",
       "247608      0.304199     -0.062886     -0.103389     -0.019600      0.382529   \n",
       "520898      0.280509     -0.112499      0.582281     -0.548356      0.135585   \n",
       "935593      0.050111      0.136124      0.151970     -0.226470     -0.032981   \n",
       "\n",
       "        embedding_45  embedding_46  embedding_47  embedding_48  embedding_49  \n",
       "906192      0.179687     -0.268822     -0.393494      0.105226     -0.363393  \n",
       "969799      0.164182     -0.172464      0.574928     -0.097091      0.159368  \n",
       "247608      0.111698      0.431777     -0.012114      0.278075     -0.338858  \n",
       "520898     -0.657420      0.177071     -0.132898      0.144698     -0.462859  \n",
       "935593     -0.171146     -0.093916     -0.340528     -0.219574     -0.477737  "
      ]
     },
     "execution_count": 34,
     "metadata": {},
     "output_type": "execute_result"
    }
   ],
   "source": [
    "df.sample(5)"
   ]
  },
  {
   "cell_type": "code",
   "execution_count": 6,
   "metadata": {},
   "outputs": [
    {
     "data": {
      "text/plain": [
       "float32           53\n",
       "int32             20\n",
       "object             6\n",
       "bool               6\n",
       "float64            4\n",
       "int64              3\n",
       "datetime64[ns]     1\n",
       "category           1\n",
       "category           1\n",
       "category           1\n",
       "Name: count, dtype: int64"
      ]
     },
     "execution_count": 6,
     "metadata": {},
     "output_type": "execute_result"
    }
   ],
   "source": [
    "df.dtypes.value_counts()"
   ]
  },
  {
   "cell_type": "markdown",
   "metadata": {
    "id": "Yot8MOibnA6N"
   },
   "source": [
    "# Models"
   ]
  },
  {
   "cell_type": "markdown",
   "metadata": {},
   "source": [
    "## Create target variable"
   ]
  },
  {
   "cell_type": "markdown",
   "metadata": {},
   "source": [
    "- DropColumnsTransformer"
   ]
  },
  {
   "cell_type": "code",
   "execution_count": 7,
   "metadata": {},
   "outputs": [],
   "source": [
    "class DropColumnsTransformer(BaseEstimator, TransformerMixin):\n",
    "    def __init__(self, columns):\n",
    "        self.columns = columns\n",
    "\n",
    "    def fit(self, X, y=None):\n",
    "        return self\n",
    "\n",
    "    def transform(self, X):\n",
    "        return X.drop(columns=self.columns, errors=\"ignore\")\n",
    "\n",
    "    def set_output(self, *, transform=None):\n",
    "        return self"
   ]
  },
  {
   "cell_type": "markdown",
   "metadata": {},
   "source": [
    "- TargetFromStarsTransformer"
   ]
  },
  {
   "cell_type": "code",
   "execution_count": 8,
   "metadata": {},
   "outputs": [],
   "source": [
    "class TargetFromStarsTransformer(BaseEstimator, TransformerMixin):\n",
    "    def __init__(self, column=\"remainder__stars\"):\n",
    "        self.column = column\n",
    "\n",
    "    def fit(self, X, y=None):\n",
    "        return self\n",
    "\n",
    "    def transform(self, X):\n",
    "        X = X.copy()\n",
    "\n",
    "        def classify(stars):\n",
    "            if stars <= 2:\n",
    "                return 0  # negative\n",
    "            elif stars == 3:\n",
    "                return 1  # neutral\n",
    "            else:\n",
    "                return 2  # positive\n",
    "\n",
    "        X[\"target\"] = X[self.column].apply(classify)\n",
    "        X.drop(columns=[self.column], inplace=True)\n",
    "        return X\n",
    "\n",
    "    def set_output(self, *, transform=None):\n",
    "        return self"
   ]
  },
  {
   "cell_type": "code",
   "execution_count": 9,
   "metadata": {},
   "outputs": [],
   "source": [
    "create_target_pipe = Pipeline(\n",
    "    [\n",
    "        (\"create_target\", TargetFromStarsTransformer(column=\"remainder__stars\")),\n",
    "        (\"drop_stars\", DropColumnsTransformer(columns=[\"remainder__stars\"])),\n",
    "    ]\n",
    ")"
   ]
  },
  {
   "cell_type": "code",
   "execution_count": 10,
   "metadata": {},
   "outputs": [],
   "source": [
    "# df_target = create_target_pipe.fit_transform(df)"
   ]
  },
  {
   "cell_type": "markdown",
   "metadata": {},
   "source": [
    "## Data Split"
   ]
  },
  {
   "cell_type": "code",
   "execution_count": null,
   "metadata": {},
   "outputs": [],
   "source": [
    "# def split_data(df, target_column=\"target\", test_size=0.2, random_state=42):\n",
    "#     y = df[target_column]\n",
    "#     X = df.drop(columns=[target_column])\n",
    "\n",
    "#     X_train, X_test, y_train, y_test = train_test_split(\n",
    "#         X, y, test_size=test_size, stratify=y, random_state=random_state\n",
    "#     )\n",
    "\n",
    "#     return (\n",
    "#         X_train.reset_index(drop=True),\n",
    "#         X_test.reset_index(drop=True),\n",
    "#         y_train.reset_index(drop=True),\n",
    "#         y_test.reset_index(drop=True),\n",
    "#     )"
   ]
  },
  {
   "cell_type": "code",
   "execution_count": 12,
   "metadata": {},
   "outputs": [],
   "source": [
    "# X_train, X_test, y_train, y_test = split_data(df_target)"
   ]
  },
  {
   "cell_type": "markdown",
   "metadata": {},
   "source": [
    "## Model-Dependent Transformation"
   ]
  },
  {
   "cell_type": "markdown",
   "metadata": {},
   "source": [
    "### Encode categorical features"
   ]
  },
  {
   "cell_type": "code",
   "execution_count": 13,
   "metadata": {},
   "outputs": [],
   "source": [
    "# def transform_with_names(pipeline, X, encode_cols):\n",
    "#     X_enc = pipeline.transform(X)\n",
    "#     onehot_cols = pipeline.named_transformers_[\"onehot\"].get_feature_names_out(encode_cols)\n",
    "#     bool_cols = pipeline.transformers_[1][2]\n",
    "#     passthrough_cols = [col for col in X.columns if col not in encode_cols + bool_cols]\n",
    "\n",
    "#     all_columns = list(onehot_cols) + bool_cols + passthrough_cols\n",
    "#     return pd.DataFrame(X_enc, columns=all_columns, index=X.index)"
   ]
  },
  {
   "cell_type": "code",
   "execution_count": 14,
   "metadata": {},
   "outputs": [],
   "source": [
    "# categorical_str_object_cols = X_train.select_dtypes(\n",
    "#     include=[\"category\", \"string\", \"object\"]\n",
    "# ).columns.tolist()\n",
    "# boolean_cols = X_train.select_dtypes(include=[\"bool\"]).columns.tolist()"
   ]
  },
  {
   "cell_type": "code",
   "execution_count": 15,
   "metadata": {},
   "outputs": [],
   "source": [
    "# # 1. Step\n",
    "# bool_to_int_transformer = FunctionTransformer(lambda X: X.astype(np.int8), validate=False)\n",
    "\n",
    "# # 2. Step\n",
    "# encoding_mdt_pipe = ColumnTransformer(\n",
    "#     transformers=[\n",
    "#         (\n",
    "#             \"onehot\",\n",
    "#             OneHotEncoder(handle_unknown=\"ignore\", sparse_output=False, drop=\"first\"),\n",
    "#             categorical_str_object_cols,\n",
    "#         ),\n",
    "#         (\"bool_int\", bool_to_int_transformer, boolean_cols),\n",
    "#     ],\n",
    "#     remainder=\"passthrough\",\n",
    "#     force_int_remainder_cols=False,\n",
    "# )"
   ]
  },
  {
   "cell_type": "markdown",
   "metadata": {},
   "source": [
    "- Encoding Test"
   ]
  },
  {
   "cell_type": "code",
   "execution_count": 16,
   "metadata": {},
   "outputs": [],
   "source": [
    "# encoding_mdt_pipe.fit(X_train)\n",
    "# X_train_encoded = transform_with_names(\n",
    "#     encoding_mdt_pipe, X_train, categorical_str_object_cols\n",
    "# )"
   ]
  },
  {
   "cell_type": "markdown",
   "metadata": {},
   "source": [
    "### Impute missing values"
   ]
  },
  {
   "cell_type": "code",
   "execution_count": 17,
   "metadata": {},
   "outputs": [],
   "source": [
    "class GroupMeanImputer(BaseEstimator, TransformerMixin):\n",
    "    def __init__(self, columns):\n",
    "        self.columns = columns\n",
    "        self.group_means_ = {}\n",
    "        self.y_ = None\n",
    "\n",
    "    def fit(self, X, y):\n",
    "        X = pd.DataFrame(X).copy()\n",
    "        self.y_ = pd.Series(y).reset_index(drop=True)\n",
    "\n",
    "        self.group_means_ = {col: X[col].groupby(self.y_).mean().to_dict() for col in self.columns}\n",
    "        return self\n",
    "\n",
    "    def transform(self, X):\n",
    "        X = pd.DataFrame(X).copy().reset_index(drop=True)\n",
    "        y = self.y_\n",
    "\n",
    "        for col in self.columns:\n",
    "            means = self.group_means_[col]\n",
    "            X[col] = X[col].where(~X[col].isna(), y.map(means))\n",
    "        return X\n",
    "\n",
    "    def set_output(self, *, transform=None):\n",
    "        return self"
   ]
  },
  {
   "cell_type": "code",
   "execution_count": 18,
   "metadata": {},
   "outputs": [],
   "source": [
    "def get_columns_with_na(X):\n",
    "    return X.columns[X.isnull().any()].tolist()"
   ]
  },
  {
   "cell_type": "code",
   "execution_count": 19,
   "metadata": {},
   "outputs": [],
   "source": [
    "columns_with_na = get_columns_with_na(df)\n",
    "\n",
    "impute_missing_mdt_pipe = Pipeline([(\"imputation\", GroupMeanImputer(columns=columns_with_na))])"
   ]
  },
  {
   "cell_type": "markdown",
   "metadata": {},
   "source": [
    "- Impute missing values Test"
   ]
  },
  {
   "cell_type": "code",
   "execution_count": 20,
   "metadata": {},
   "outputs": [],
   "source": [
    "# X_train_imputed = impute_missing_mdt_pipe.fit_transform(X_train_encoded, y_train)"
   ]
  },
  {
   "cell_type": "markdown",
   "metadata": {},
   "source": [
    "### Scale or normalize features"
   ]
  },
  {
   "cell_type": "code",
   "execution_count": 21,
   "metadata": {},
   "outputs": [],
   "source": [
    "scaling_mdt_pipe = Pipeline([(\"minmax_scaler\", MinMaxScaler())])"
   ]
  },
  {
   "cell_type": "markdown",
   "metadata": {},
   "source": [
    "- Scale or normalize features Test"
   ]
  },
  {
   "cell_type": "code",
   "execution_count": 22,
   "metadata": {},
   "outputs": [],
   "source": [
    "# X_train_scaled1 = scaling_mdt_pipe.fit_transform(X_train_imputed)\n",
    "# X_train_scaled = pd.DataFrame(\n",
    "#     X_train_scaled1, columns=X_train_imputed.columns, index=X_train_imputed.index\n",
    "# )"
   ]
  },
  {
   "cell_type": "markdown",
   "metadata": {},
   "source": [
    "### Dimensionality reduction"
   ]
  },
  {
   "cell_type": "code",
   "execution_count": 23,
   "metadata": {},
   "outputs": [],
   "source": [
    "dimensionality_reduction_mdt_pipe = Pipeline(\n",
    "    [\n",
    "        (\"drop_constant\", DropConstantFeatures()),\n",
    "        (\"drop_correlated\", DropCorrelatedFeatures(threshold=0.9)),\n",
    "        (\n",
    "            \"target_selector\",\n",
    "            SelectBySingleFeaturePerformance(\n",
    "                estimator=RandomForestClassifier(n_estimators=50, random_state=42, n_jobs=-1),\n",
    "                scoring=\"f1_weighted\",\n",
    "                cv=3,\n",
    "                threshold=0.01,\n",
    "            ),\n",
    "        ),\n",
    "        (\n",
    "            \"sequential_selector\",\n",
    "            SequentialFeatureSelector(\n",
    "                estimator=RidgeClassifier(),\n",
    "                n_features_to_select=50,\n",
    "                direction=\"forward\",\n",
    "                n_jobs=1,\n",
    "            ),\n",
    "        ),\n",
    "    ]\n",
    ")"
   ]
  },
  {
   "cell_type": "markdown",
   "metadata": {},
   "source": [
    "- Dimensionality reduction Test"
   ]
  },
  {
   "cell_type": "code",
   "execution_count": 24,
   "metadata": {
    "scrolled": true
   },
   "outputs": [],
   "source": [
    "# X_train_reduced = dimensionality_reduction_mdt_pipe.fit_transform(\n",
    "#     X_train_scaled, y_train\n",
    "# )"
   ]
  },
  {
   "cell_type": "code",
   "execution_count": 25,
   "metadata": {},
   "outputs": [],
   "source": [
    "# X_train_reduced_df = pd.DataFrame(\n",
    "#     X_train_reduced,\n",
    "#     columns=dimensionality_reduction_mdt_pipe.named_steps[\n",
    "#         \"sequential_selector\"\n",
    "#     ].get_feature_names_out(),\n",
    "#     index=X_train_scaled.index,\n",
    "# )"
   ]
  },
  {
   "cell_type": "markdown",
   "metadata": {},
   "source": [
    "### Pipeline"
   ]
  },
  {
   "cell_type": "code",
   "execution_count": 26,
   "metadata": {},
   "outputs": [],
   "source": [
    "# mdt_preprocessor = Pipeline(\n",
    "#     steps=[\n",
    "#         (\"encoding_mdt_pipe\", encoding_mdt_pipe),\n",
    "#         (\"impute_missing_mdt_pipe\", impute_missing_mdt_pipe),\n",
    "#         (\"scaling_mdt_pipe\", scaling_mdt_pipe),\n",
    "#         (\"dimensionality_reduction_mdt_pipe\", dimensionality_reduction_mdt_pipe),\n",
    "#     ]\n",
    "# )"
   ]
  },
  {
   "cell_type": "markdown",
   "metadata": {},
   "source": [
    "## Training"
   ]
  },
  {
   "cell_type": "code",
   "execution_count": 27,
   "metadata": {},
   "outputs": [],
   "source": [
    "X_train_reduced = pd.read_parquet(BASE_DIR / \"data/05_model_input/X_train.parquet\")"
   ]
  },
  {
   "cell_type": "markdown",
   "metadata": {},
   "source": [
    "### Base model + AutoML"
   ]
  },
  {
   "cell_type": "code",
   "execution_count": 28,
   "metadata": {},
   "outputs": [],
   "source": [
    "# def summarize_classification(y_true, y_pred, model_name):\n",
    "#     return {\n",
    "#         \"model\": model_name,\n",
    "#         \"accuracy\": accuracy_score(y_true, y_pred),\n",
    "#         \"precision_macro\": precision_score(y_true, y_pred, average=\"macro\"),\n",
    "#         \"recall_macro\": recall_score(y_true, y_pred, average=\"macro\"),\n",
    "#         \"f1_macro\": f1_score(y_true, y_pred, average=\"macro\"),\n",
    "#     }"
   ]
  },
  {
   "cell_type": "code",
   "execution_count": 29,
   "metadata": {},
   "outputs": [],
   "source": [
    "# df_models = X_train_reduced.copy()\n",
    "# df_models[\"target\"] = y_train.values"
   ]
  },
  {
   "cell_type": "code",
   "execution_count": 30,
   "metadata": {},
   "outputs": [],
   "source": [
    "# X_train_cv, X_val_cv, y_train_cv, y_val_cv = split_data(df_models)"
   ]
  },
  {
   "cell_type": "code",
   "execution_count": 31,
   "metadata": {},
   "outputs": [],
   "source": [
    "# model_candidates = {\n",
    "#     \"logistic\": LogisticRegression(class_weight=\"balanced\", max_iter=1000, random_state=42),\n",
    "#     \"decision_tree\": DecisionTreeClassifier(class_weight=\"balanced\", random_state=42),\n",
    "#     \"xgboost\": XGBClassifier(\n",
    "#         objective=\"multi:softmax\",\n",
    "#         num_class=3,\n",
    "#         eval_metric=\"mlogloss\",\n",
    "#         use_label_encoder=False,\n",
    "#         random_state=42,\n",
    "#         verbosity=0,\n",
    "#     )\n",
    "# }"
   ]
  },
  {
   "cell_type": "code",
   "execution_count": 32,
   "metadata": {},
   "outputs": [],
   "source": [
    "# results = []"
   ]
  },
  {
   "cell_type": "code",
   "execution_count": 33,
   "metadata": {},
   "outputs": [],
   "source": [
    "# for name, model in model_candidates.items():\n",
    "#     model.fit(X_train_cv, y_train_cv)\n",
    "#     y_pred = model.predict(X_val_cv)\n",
    "#     results.append(summarize_classification(y_val_cv, y_pred, model_name=name))"
   ]
  },
  {
   "cell_type": "code",
   "execution_count": 34,
   "metadata": {
    "scrolled": true
   },
   "outputs": [],
   "source": [
    "# automl = AutoML()\n",
    "# automl.fit(\n",
    "#     X_train=X_train_cv, y_train=y_train_cv, task=\"classification\", time_budget=60\n",
    "# )\n",
    "# y_pred_automl = automl.predict(X_val_cv)\n",
    "# results.append(summarize_classification(y_val_cv, y_pred_automl, model_name=\"flaml\"))"
   ]
  },
  {
   "cell_type": "code",
   "execution_count": 35,
   "metadata": {},
   "outputs": [],
   "source": [
    "# results_df = pd.DataFrame(results).set_index(\"model\")\n",
    "# display(results_df.sort_values(\"f1_macro\", ascending=False))"
   ]
  },
  {
   "cell_type": "markdown",
   "metadata": {},
   "source": [
    "### Hyperparameter tuning"
   ]
  },
  {
   "cell_type": "code",
   "execution_count": 36,
   "metadata": {},
   "outputs": [],
   "source": [
    "# def fit_grid_search(model, param_grid, X, y, scoring=\"f1_macro\", cv=5, verbose=1):\n",
    "#     return GridSearchCV(\n",
    "#         estimator=model,\n",
    "#         param_grid=param_grid,\n",
    "#         scoring=scoring,\n",
    "#         cv=cv,\n",
    "#         n_jobs=-1,\n",
    "#         return_train_score=True,\n",
    "#         verbose=verbose,\n",
    "#     ).fit(X, y)"
   ]
  },
  {
   "cell_type": "code",
   "execution_count": 37,
   "metadata": {},
   "outputs": [],
   "source": [
    "# def summarize_grid_search(grid, scoring=\"f1_macro\"):\n",
    "#     print(f\"Best {scoring}: {grid.best_score_:.4f}\")\n",
    "#     print(f\"Best params: {grid.best_params_}\")"
   ]
  },
  {
   "cell_type": "code",
   "execution_count": 38,
   "metadata": {},
   "outputs": [],
   "source": [
    "# def grid_search_to_df(grid):\n",
    "#     return pd.DataFrame(grid.cv_results_).sort_values(\n",
    "#         \"mean_test_score\", ascending=False\n",
    "#     )"
   ]
  },
  {
   "cell_type": "markdown",
   "metadata": {},
   "source": [
    "- Apply Grid Search"
   ]
  },
  {
   "cell_type": "code",
   "execution_count": 39,
   "metadata": {},
   "outputs": [],
   "source": [
    "# model = XGBClassifier(\n",
    "#     objective=\"multi:softmax\",\n",
    "#     num_class=3,\n",
    "#     use_label_encoder=False,\n",
    "#     eval_metric=\"mlogloss\",\n",
    "#     random_state=42,\n",
    "#     verbosity=0,\n",
    "# )\n",
    "\n",
    "# param_grid = {\n",
    "#     \"max_depth\": [3, 5, 7],\n",
    "#     \"learning_rate\": [0.01, 0.1, 0.3],\n",
    "#     \"n_estimators\": [50, 100],\n",
    "#     \"subsample\": [0.8, 1.0],\n",
    "# }"
   ]
  },
  {
   "cell_type": "code",
   "execution_count": 40,
   "metadata": {},
   "outputs": [],
   "source": [
    "# # Step 1: training\n",
    "# grid = fit_grid_search(model, param_grid, X_train_reduced, y_train)"
   ]
  },
  {
   "cell_type": "code",
   "execution_count": 41,
   "metadata": {},
   "outputs": [],
   "source": [
    "# # Step 2: summary\n",
    "# summarize_grid_search(grid)"
   ]
  },
  {
   "cell_type": "code",
   "execution_count": 42,
   "metadata": {},
   "outputs": [],
   "source": [
    "# # Step 3: df results\n",
    "# df_grid = grid_search_to_df(grid)\n",
    "# df_grid.head(5)"
   ]
  },
  {
   "cell_type": "code",
   "execution_count": 43,
   "metadata": {},
   "outputs": [],
   "source": [
    "best_model_name_path = BASE_DIR / \"data/06_models/best_model_name.txt\"\n",
    "# with open(best_model_name_path, \"w\") as f:\n",
    "#     f.write(\"XGBClassifier\")"
   ]
  },
  {
   "cell_type": "code",
   "execution_count": 44,
   "metadata": {},
   "outputs": [],
   "source": [
    "best_params_path = BASE_DIR / \"data/06_models/best_params.json\"\n",
    "# with open(best_params_path, \"w\") as f:\n",
    "#     json.dump(grid.best_params_, f, indent=4)"
   ]
  },
  {
   "cell_type": "markdown",
   "metadata": {},
   "source": [
    "### Pipeline final training"
   ]
  },
  {
   "cell_type": "code",
   "execution_count": 45,
   "metadata": {},
   "outputs": [],
   "source": [
    "classifier_fn = best_model_name_path.read_text().strip()\n",
    "with open(best_params_path) as f:\n",
    "    best_params = json.load(f)"
   ]
  },
  {
   "cell_type": "code",
   "execution_count": 46,
   "metadata": {},
   "outputs": [],
   "source": [
    "class TrainModelTransformer(BaseEstimator, TransformerMixin):\n",
    "    def __init__(self, classifier_fn, best_params):\n",
    "        self.classifier_fn = classifier_fn\n",
    "        self.best_params = best_params\n",
    "\n",
    "    def fit(self, X, y):\n",
    "        self.model_ = self.classifier_fn(**self.best_params)\n",
    "        self.model_.fit(X, y)\n",
    "        return self\n",
    "\n",
    "    def transform(self, X):\n",
    "        return X\n",
    "\n",
    "    def set_output(self, *, transform=None):\n",
    "        return self"
   ]
  },
  {
   "cell_type": "code",
   "execution_count": 47,
   "metadata": {},
   "outputs": [],
   "source": [
    "training_preprocessor = Pipeline(\n",
    "    [\n",
    "        (\n",
    "            \"train_model\",\n",
    "            TrainModelTransformer(classifier_fn=XGBClassifier, best_params=best_params),\n",
    "        )\n",
    "    ]\n",
    ")"
   ]
  },
  {
   "cell_type": "markdown",
   "metadata": {},
   "source": [
    "- Pipeline final training Test"
   ]
  },
  {
   "cell_type": "code",
   "execution_count": 48,
   "metadata": {
    "scrolled": true
   },
   "outputs": [],
   "source": [
    "# # training_preprocessor.fit(X_train_reduced, y_train)\n",
    "# model = training_preprocessor.named_steps[\"train_model\"].model_"
   ]
  },
  {
   "cell_type": "markdown",
   "metadata": {},
   "source": [
    "## Validation"
   ]
  },
  {
   "cell_type": "markdown",
   "metadata": {},
   "source": [
    "### Pipeline"
   ]
  },
  {
   "cell_type": "code",
   "execution_count": 49,
   "metadata": {},
   "outputs": [],
   "source": [
    "# class ValidateModelTransformer(BaseEstimator, TransformerMixin):\n",
    "#     def __init__(self, model, y_true, thresholds=None):\n",
    "#         self.model = model\n",
    "#         self.y_true = y_true\n",
    "#         self.thresholds = thresholds or {\"f1_macro\": 0.6}\n",
    "\n",
    "#     def fit(self, X, y=None):\n",
    "#         y_pred = self.model.predict(X)\n",
    "#         self.report_ = classification_report(self.y_true, y_pred, output_dict=True)\n",
    "\n",
    "#         for metric, threshold in self.thresholds.items():\n",
    "#             score = self.report_[\"macro avg\"].get(metric.replace(\"_macro\", \"\"), None)\n",
    "#             if score is not None and score < threshold:\n",
    "#                 raise ValueError(f\"[FAIL] {metric}={score:.4f} < threshold={threshold}\")\n",
    "\n",
    "#         return self\n",
    "\n",
    "#     def transform(self, X):\n",
    "#         return self.model\n",
    "\n",
    "#     def set_output(self, *, transform=None):\n",
    "#         return self"
   ]
  },
  {
   "cell_type": "code",
   "execution_count": 50,
   "metadata": {},
   "outputs": [],
   "source": [
    "# validate_preprocessor = Pipeline(\n",
    "#     [\n",
    "#         (\n",
    "#             \"validate_model\",\n",
    "#             ValidateModelTransformer(\n",
    "#                 model=model,\n",
    "#                 y_true=y_test,\n",
    "#                 thresholds={\"f1_macro\": 0.6, \"recall_macro\": 0.6},\n",
    "#             ),\n",
    "#         )\n",
    "#     ]\n",
    "# )"
   ]
  },
  {
   "cell_type": "markdown",
   "metadata": {},
   "source": [
    "# Test Training"
   ]
  },
  {
   "cell_type": "code",
   "execution_count": 51,
   "metadata": {},
   "outputs": [
    {
     "name": "stdout",
     "output_type": "stream",
     "text": [
      "/Users/agomezj/Desktop/Juan-G/ml-message-classifier\n"
     ]
    }
   ],
   "source": [
    "import os\n",
    "\n",
    "os.chdir(\"/Users/agomezj/Desktop/Juan-G/ml-message-classifier/\")\n",
    "print(os.getcwd())"
   ]
  },
  {
   "cell_type": "code",
   "execution_count": 52,
   "metadata": {},
   "outputs": [],
   "source": [
    "mit = pd.read_parquet(BASE_DIR / \"data/04_feature/review_user_business_mit.parquet\")"
   ]
  },
  {
   "cell_type": "code",
   "execution_count": 54,
   "metadata": {},
   "outputs": [],
   "source": [
    "from src.model.mdt import split_data, transform_stars_to_target\n",
    "from src.model.training import TrainModelTransformer\n",
    "from src.model.validation import evaluate_and_save_model\n",
    "from src.pipelines.training_pipeline.training_pipeline import training_pipeline\n",
    "from src.utils.io_utils import save_pipeline_if_needed"
   ]
  },
  {
   "cell_type": "code",
   "execution_count": null,
   "metadata": {},
   "outputs": [
    {
     "name": "stderr",
     "output_type": "stream",
     "text": [
      "\u001b[32m2025-05-21 00:17:42.566\u001b[0m | \u001b[1mINFO    \u001b[0m | \u001b[36msrc.model.mdt\u001b[0m:\u001b[36mtransform_stars_to_target\u001b[0m:\u001b[36m37\u001b[0m - \u001b[1mTransforming stars column into target column.\u001b[0m\n"
     ]
    }
   ],
   "source": [
    "# Target\n",
    "target = transform_stars_to_target(mit, \"stars\")"
   ]
  },
  {
   "cell_type": "code",
   "execution_count": null,
   "metadata": {},
   "outputs": [
    {
     "name": "stderr",
     "output_type": "stream",
     "text": [
      "\u001b[32m2025-05-21 00:17:43.418\u001b[0m | \u001b[1mINFO    \u001b[0m | \u001b[36msrc.model.mdt\u001b[0m:\u001b[36msplit_data\u001b[0m:\u001b[36m70\u001b[0m - \u001b[1mSplitting data into train and test sets.\u001b[0m\n"
     ]
    }
   ],
   "source": [
    "# Split data\n",
    "X_train, X_test, y_train, y_test = split_data(\n",
    "    target,\n",
    "    \"target\",\n",
    "    0.2,\n",
    ")"
   ]
  },
  {
   "cell_type": "code",
   "execution_count": null,
   "metadata": {
    "scrolled": true
   },
   "outputs": [
    {
     "name": "stderr",
     "output_type": "stream",
     "text": [
      "\u001b[32m2025-05-21 00:16:44.528\u001b[0m | \u001b[1mINFO    \u001b[0m | \u001b[36msrc.model.mdt\u001b[0m:\u001b[36mfit\u001b[0m:\u001b[36m415\u001b[0m - \u001b[1mFitting MDTYelpData...\u001b[0m\n",
      "\u001b[32m2025-05-21 00:16:44.543\u001b[0m | \u001b[1mINFO    \u001b[0m | \u001b[36msrc.model.mdt\u001b[0m:\u001b[36mtransform\u001b[0m:\u001b[36m136\u001b[0m - \u001b[1mTransforming data with EncodingTransformer.\u001b[0m\n",
      "\u001b[32m2025-05-21 00:16:45.046\u001b[0m | \u001b[1mINFO    \u001b[0m | \u001b[36msrc.model.mdt\u001b[0m:\u001b[36mfit\u001b[0m:\u001b[36m182\u001b[0m - \u001b[1mFitting GroupMeanImputer.\u001b[0m\n",
      "\u001b[32m2025-05-21 00:16:45.610\u001b[0m | \u001b[1mINFO    \u001b[0m | \u001b[36msrc.model.mdt\u001b[0m:\u001b[36mtransform\u001b[0m:\u001b[36m201\u001b[0m - \u001b[1mTransforming data with GroupMeanImputer.\u001b[0m\n",
      "\u001b[32m2025-05-21 00:16:45.867\u001b[0m | \u001b[1mINFO    \u001b[0m | \u001b[36msrc.model.mdt\u001b[0m:\u001b[36mfit\u001b[0m:\u001b[36m231\u001b[0m - \u001b[1mFitting ScalerTransformer.\u001b[0m\n",
      "\u001b[32m2025-05-21 00:16:46.327\u001b[0m | \u001b[1mINFO    \u001b[0m | \u001b[36msrc.model.mdt\u001b[0m:\u001b[36mtransform\u001b[0m:\u001b[36m247\u001b[0m - \u001b[1mTransforming data with ScalerTransformer.\u001b[0m\n",
      "\u001b[32m2025-05-21 00:16:48.724\u001b[0m | \u001b[1mINFO    \u001b[0m | \u001b[36msrc.model.mdt\u001b[0m:\u001b[36mfit\u001b[0m:\u001b[36m294\u001b[0m - \u001b[1mFitting DimensionalityReducer pipeline.\u001b[0m\n"
     ]
    }
   ],
   "source": [
    "# MDT train\n",
    "X_train_mdt = training_pipeline.named_steps[\"mdt\"].fit_transform(X_train, y_train)"
   ]
  },
  {
   "cell_type": "code",
   "execution_count": null,
   "metadata": {},
   "outputs": [],
   "source": [
    "# MDT test\n",
    "X_test_mdt = training_pipeline.named_steps[\"mdt\"].transform(X_test)"
   ]
  },
  {
   "cell_type": "code",
   "execution_count": null,
   "metadata": {},
   "outputs": [],
   "source": [
    "# Save pipe MDT\n",
    "mdt = training_pipeline.named_steps[\"mdt\"]\n",
    "save_pipeline_if_needed(mdt, \"models/training_mdt_transformer.pkl\")"
   ]
  },
  {
   "cell_type": "code",
   "execution_count": null,
   "metadata": {},
   "outputs": [],
   "source": [
    "# Training\n",
    "\n",
    "# 1. Load best model and best params\n",
    "classifier_fn = best_model_name_path.read_text().strip()\n",
    "with open(best_params_path) as f:\n",
    "    best_params = json.load(f)\n",
    "\n",
    "# 2. Trainer\n",
    "trainer = TrainModelTransformer(\n",
    "    classifier_fn=classifier_fn,\n",
    "    best_params=best_params,\n",
    ")\n",
    "trainer.fit(X_train_mdt, y_train)"
   ]
  },
  {
   "cell_type": "code",
   "execution_count": null,
   "metadata": {},
   "outputs": [],
   "source": [
    "# Validator\n",
    "try:\n",
    "    evaluate_and_save_model(\n",
    "        model=training_pipeline.named_steps[\"training\"].model_,\n",
    "        X_test=X_test_mdt,\n",
    "        y_test=y_test,\n",
    "        thresholds={\"f1_macro\": 0.6, \"recall_macro\": 0.6},\n",
    "        output_path=\"models/best_model.pkl\",\n",
    "    )\n",
    "except ValueError as e:\n",
    "    logger.warning(f\"Model validation failed: {e}\")"
   ]
  }
 ],
 "metadata": {
  "colab": {
   "provenance": []
  },
  "kernelspec": {
   "display_name": "Python 3.11 (ml-message-classifier)",
   "language": "python",
   "name": "ml-message-classifier"
  },
  "language_info": {
   "codemirror_mode": {
    "name": "ipython",
    "version": 3
   },
   "file_extension": ".py",
   "mimetype": "text/x-python",
   "name": "python",
   "nbconvert_exporter": "python",
   "pygments_lexer": "ipython3",
   "version": "3.11.12"
  }
 },
 "nbformat": 4,
 "nbformat_minor": 4
}
